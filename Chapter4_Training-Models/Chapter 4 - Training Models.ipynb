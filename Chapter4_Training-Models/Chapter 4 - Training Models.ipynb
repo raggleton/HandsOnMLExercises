{
 "cells": [
  {
   "cell_type": "markdown",
   "id": "hydraulic-medication",
   "metadata": {},
   "source": [
    "# Linear Regression with normal equation & SVD"
   ]
  },
  {
   "cell_type": "markdown",
   "id": "lucky-protein",
   "metadata": {},
   "source": [
    "Basic formula for $n$ features with $\\theta_i$ model parameters:\n",
    "\n",
    "\\begin{equation}\n",
    "\\hat{y} = \\theta_0 + \\theta_1 x_1 + \\theta_2 x_2 + \\cdots + \\theta_n x_n = \\vec{\\theta} \\cdot \\vec{x}\n",
    "\\end{equation}\n",
    "\n",
    "Actually, we should write our data as a matrix, since there are $m$ data points (targets), each with $n$ features:\n",
    "\n",
    "\\begin{equation}\n",
    "\\vec{\\hat{y}} = \\mathbf{X}\\vec{\\theta}\n",
    "\\end{equation}\n",
    "\n",
    "Where $\\vec{y}$ is a column vector with $m$ rows, $\\mathbf{X}$ is a $m \\times n$ matrix of data points, and $\\vec{\\theta}$ is a $n$-row column matrix of parameters.\n",
    "\n",
    "We can write the mean squared error as:\n",
    "\n",
    "\\begin{equation}\n",
    "\\text{MSE} = \\frac{1}{m} \\sum_{i=1}^{m} \\left(\\vec{\\theta}^T\\vec{x}^{(i)} - y^{(i)} \\right)^2 = \\|\\mathbf{X}\\vec{\\theta} - \\vec{y}\\|^2\n",
    "\\end{equation}\n",
    "\n",
    "where $\\vec{y}$ are the true/target values.\n",
    "\n",
    "This can be solved exactly using the **normal equation**:\n",
    "\n",
    "\\begin{equation}\n",
    "\\vec{\\hat{\\theta}} = (\\mathbf{X}^T\\mathbf{X})^{-1} \\mathbf{X}^T \\vec{y}\n",
    "\\end{equation}"
   ]
  },
  {
   "cell_type": "code",
   "execution_count": 1,
   "id": "demographic-airline",
   "metadata": {
    "ExecuteTime": {
     "end_time": "2021-02-24T13:28:01.195924Z",
     "start_time": "2021-02-24T13:27:59.660382Z"
    }
   },
   "outputs": [],
   "source": [
    "import numpy as np\n",
    "import matplotlib as mpl\n",
    "import matplotlib.pyplot as plt\n",
    "\n",
    "%matplotlib inline\n",
    "\n",
    "mpl.rcParams['font.size'] = 14\n",
    "mpl.rcParams['figure.figsize'] = (10, 8)\n"
   ]
  },
  {
   "cell_type": "code",
   "execution_count": 13,
   "id": "automatic-casting",
   "metadata": {
    "ExecuteTime": {
     "end_time": "2021-02-24T13:28:04.767850Z",
     "start_time": "2021-02-24T13:28:04.761409Z"
    }
   },
   "outputs": [],
   "source": [
    "# generate random data\n",
    "X = 2 * np.random.rand(100, 1)\n",
    "y = 4 + 3*X + np.random.randn(100, 1)"
   ]
  },
  {
   "cell_type": "code",
   "execution_count": 5,
   "id": "normal-carry",
   "metadata": {
    "ExecuteTime": {
     "end_time": "2021-02-23T18:00:47.117602Z",
     "start_time": "2021-02-23T18:00:47.103640Z"
    }
   },
   "outputs": [],
   "source": [
    "# add bias term (x_0 = 1)\n",
    "X_b = np.c_[np.ones((100, 1)), X]\n",
    "# do normal equation solution to get parameters\n",
    "theta_best = np.linalg.inv(X_b.T @ X_b) @ X_b.T @ y"
   ]
  },
  {
   "cell_type": "code",
   "execution_count": 6,
   "id": "nasty-fundamentals",
   "metadata": {
    "ExecuteTime": {
     "end_time": "2021-02-23T18:00:47.134855Z",
     "start_time": "2021-02-23T18:00:47.122200Z"
    }
   },
   "outputs": [
    {
     "data": {
      "text/plain": [
       "array([[4.31157576],\n",
       "       [2.63170094]])"
      ]
     },
     "execution_count": 6,
     "metadata": {},
     "output_type": "execute_result"
    }
   ],
   "source": [
    "theta_best"
   ]
  },
  {
   "cell_type": "markdown",
   "id": "invalid-choice",
   "metadata": {},
   "source": [
    "This is very close to our true values of [4, 3]! We can draw a line of best fit using these predictions"
   ]
  },
  {
   "cell_type": "code",
   "execution_count": 7,
   "id": "early-dimension",
   "metadata": {
    "ExecuteTime": {
     "end_time": "2021-02-23T18:00:47.777919Z",
     "start_time": "2021-02-23T18:00:47.138340Z"
    }
   },
   "outputs": [
    {
     "name": "stdout",
     "output_type": "stream",
     "text": [
      "[4.31157576 9.57497764]\n"
     ]
    },
    {
     "data": {
      "image/png": "[encoded data removed]",
      "text/plain": [
       "<Figure size 720x576 with 1 Axes>"
      ]
     },
     "metadata": {
      "needs_background": "light"
     },
     "output_type": "display_data"
    }
   ],
   "source": [
    "plt.scatter(X, y)\n",
    "plt.xlabel('x1');\n",
    "plt.xlabel('y');\n",
    "\n",
    "X_new = np.array([[0], [2]])\n",
    "X_new_b = np.c_[np.ones((2, 1)), np.array([[0], [2]])]\n",
    "y_predict = X_new_b @ theta_best\n",
    "print(y_predict.flatten())\n",
    "plt.plot(X_new, y_predict, 'r-', label='Normal solution')\n",
    "plt.legend();"
   ]
  },
  {
   "cell_type": "code",
   "execution_count": 2,
   "id": "continental-retro",
   "metadata": {
    "ExecuteTime": {
     "end_time": "2021-02-24T13:28:03.204955Z",
     "start_time": "2021-02-24T13:28:01.206543Z"
    }
   },
   "outputs": [],
   "source": [
    "# We can also do this using scikit-learn linear regression\n",
    "from sklearn.linear_model import LinearRegression"
   ]
  },
  {
   "cell_type": "code",
   "execution_count": 9,
   "id": "naughty-acquisition",
   "metadata": {
    "ExecuteTime": {
     "end_time": "2021-02-23T18:00:49.320104Z",
     "start_time": "2021-02-23T18:00:49.297495Z"
    }
   },
   "outputs": [
    {
     "data": {
      "text/plain": [
       "LinearRegression()"
      ]
     },
     "execution_count": 9,
     "metadata": {},
     "output_type": "execute_result"
    }
   ],
   "source": [
    "lin_reg = LinearRegression()\n",
    "lin_reg.fit(X, y) # nb don't need to pad with 1s ourself"
   ]
  },
  {
   "cell_type": "code",
   "execution_count": 10,
   "id": "continent-pressure",
   "metadata": {
    "ExecuteTime": {
     "end_time": "2021-02-23T18:00:49.360844Z",
     "start_time": "2021-02-23T18:00:49.339831Z"
    }
   },
   "outputs": [
    {
     "data": {
      "text/plain": [
       "(array([4.31157576]), array([[2.63170094]]))"
      ]
     },
     "execution_count": 10,
     "metadata": {},
     "output_type": "execute_result"
    }
   ],
   "source": [
    "lin_reg.intercept_, lin_reg.coef_"
   ]
  },
  {
   "cell_type": "code",
   "execution_count": 11,
   "id": "threaded-conspiracy",
   "metadata": {
    "ExecuteTime": {
     "end_time": "2021-02-23T18:00:49.416750Z",
     "start_time": "2021-02-23T18:00:49.386756Z"
    }
   },
   "outputs": [
    {
     "data": {
      "text/plain": [
       "array([[4.31157576],\n",
       "       [9.57497764]])"
      ]
     },
     "execution_count": 11,
     "metadata": {},
     "output_type": "execute_result"
    }
   ],
   "source": [
    "lin_reg.predict(X_new)"
   ]
  },
  {
   "cell_type": "markdown",
   "id": "established-penetration",
   "metadata": {},
   "source": [
    "NB it does least squares internally from `scipy.linalg.lstsq()`. This solves for $\\vec{\\theta}$ using the pseudoinverse: $\\vec{\\theta} = \\mathbf{X}^{+} \\vec{y}$, where $\\mathbf{X}^+$ is the pseudoinverse, calculated using **singular value decomposition (SVD)**.\n",
    "\n",
    "SVD decomposes $\\mathbf{X}$ into $\\mathbf{U} \\mathbf{\\Sigma} \\mathbf{V}^T$.\n",
    "\n",
    "We can then calculate the pseudoinverse as $\\mathbf{X}^+ = \\mathbf{V} \\mathbf{\\Sigma}^+ \\mathbf{U}^T$.\n",
    "\n",
    "$\\mathbf{\\Sigma}^+$ is calculated from $\\mathbf{\\Sigma}$ by setting very small values less than a threshold to 0, and then replacing all leftover values by their inverse. This makes it very efficient. It also allows for a non-invertible matrix to be inverted, e.g. if singular, or $m<n$, or when features are redundant/degenerate, which may not be possible in the normal equation.\n"
   ]
  },
  {
   "cell_type": "markdown",
   "id": "novel-illustration",
   "metadata": {},
   "source": [
    "Complexity:\n",
    "\n",
    "- **Normal equation**: requires computing inverse of $\\mathbf{X}^T \\mathbf{X}$, which is a $(n+1)\\times(n+1)$ matrix ($n$ = # of features). Scales a $\\mathcal{O} (n^{2.4 - 3})$, depending on the implementation, i.e. doubling # of features increases time by $\\times \\sim 5.3 - 8$\n",
    "\n",
    "- **SVD**: scales as $\\mathcal{O}(n^2)$, i.e. doubling $n$ increases time by $\\times 4$\n",
    "\n",
    "Both are slow when $n$ v.large (e.g 1E5).\n",
    "\n",
    "Both are **linear** w.r.t number of samples, $m$, so happy to handle large samples (so long as fits memory). (\\mathbf{X} is $m \\times n$, so doesn't care about $m$ so much)"
   ]
  },
  {
   "cell_type": "markdown",
   "id": "governmental-bones",
   "metadata": {},
   "source": [
    "# Gradient Descent"
   ]
  },
  {
   "cell_type": "markdown",
   "id": "short-palestine",
   "metadata": {},
   "source": [
    "**Gradient descent**: _generic_ optimisation algorithm to find optimum solution to a problem, updating parameters in order to minimise some cost function, by taking \"steps\" towards the solution, based on the local gradient at a given point in parameter space.\n",
    "\n",
    "- Start with **random initialisation** of parameters $\\vec{\\theta}$\n",
    "\n",
    "- Measure local gradient of cost function wrt $\\vec{\\theta}$\n",
    "\n",
    "- Take a step using the gradient\n",
    "\n",
    "- Repeat until **convergence**\n",
    "\n",
    "**Learning rate**: hyperparameter controlling how big a \"step\" to update $\\vec{\\theta}$ each time.\n",
    "\n",
    "- Too small: can take a long time to converge to minimum; can also get stuck in local minimum and not global minimum\n",
    "\n",
    "- Too big: can jump out of minimum, or even enlarge cost function, causing a divergence\n",
    "\n",
    "MSE for Linear regression is a **convex function**: the line segment joining any 2 points on curve is always above the curve itself - implies **no local minima**, just one global minimum.\n",
    "\n",
    "It also has a continuous gradient function.\n",
    "\n",
    "Convex function + continuous gradient = GD guaranteed to approach arbitrarily close to global minimum (provided enough time and small enough learning rate).\n",
    "\n",
    "\n",
    "**Feature scaling**: better to standardise scale of features prior to GD - can take much longer to converge otherwise, since it can be otherwise led astray by an artificially larger gradient.\n",
    "\n",
    "\n",
    "How to calculate GD on a dataset?:\n",
    "\n",
    "- **Batch GD**: entire dataset each time - can be slow when dataset large, can't do out-of-core\n",
    "- **Stochastic GD**: random entry from dataset each time - fast but erratic, can be hard to converge at minimum\n",
    "- **Mini-batch GD**: use random smaller set of full training data each time (a _mini-batch_) = performance boost over stochastic GD, less erratic. Can handle out-of-core, and large $m$"
   ]
  },
  {
   "cell_type": "markdown",
   "id": "genuine-retreat",
   "metadata": {},
   "source": [
    "## Batch Gradient Descent"
   ]
  },
  {
   "cell_type": "markdown",
   "id": "similar-chester",
   "metadata": {},
   "source": [
    "Requires partial derivatives:\n",
    "\n",
    "\\begin{equation}\n",
    "\\nabla_{\\vec{\\theta}} \\text{MSE} =  \\frac{2}{m}\\mathbf{X}^T(\\mathbf{X} \\vec{\\theta} - \\vec{y})\n",
    "\\end{equation}\n",
    "\n",
    "Uses entire dataset (\"batch\"); can be slow on large sets.\n",
    "Scales well with number of features.\n",
    "\n",
    "Can update params: $\\vec{\\theta} \\to \\vec{\\theta} - \\eta \\nabla_{\\vec{\\theta}}\\text{MSE}$, where $\\eta$ is the learning rate. Optimise using e.g. GridSearch\n",
    "\n",
    "Can also stop GD when gradient becomes tiny, i.e. norm $< \\epsilon$ (the tolerance).\n",
    "\n",
    "Rate of converge inversely proportional to tolerance\n",
    "\n",
    "NB terminology not clear - in some places \"batch\" is subset of full training dataset?"
   ]
  },
  {
   "cell_type": "markdown",
   "id": "included-division",
   "metadata": {},
   "source": [
    "## Stochastic Gradient Descent"
   ]
  },
  {
   "cell_type": "markdown",
   "id": "established-squad",
   "metadata": {},
   "source": [
    "Batch GD requires whole dataset\n",
    "\n",
    "Stochastic GD uses a random instance in the training set - only need to calculate gradient for that one instance.\n",
    "\n",
    "Good: faster, can use large training sets out-of-core; erraticness good to help jump out of local minima\n",
    "\n",
    "Bad: stochastic, so more erratic; can be hard to converge\n",
    "\n",
    "To help convergence: decreasing learning rate with # steps taken - **simulated annealing** - determined by **learning schedule**.\n",
    "\n",
    "**Epoch** each time we get through all $m$ training samples in the dataset. May require multiple epochs.\n",
    "\n",
    "**Randomness** when picking samples required - otherwise might optimise for one type of data, then another - hard to converge.\n",
    "\n",
    "Use `sklearn.linear_model.SGDRegressor`"
   ]
  },
  {
   "cell_type": "markdown",
   "id": "textile-century",
   "metadata": {},
   "source": [
    "## Mini-batch Gradient Descent"
   ]
  },
  {
   "cell_type": "markdown",
   "id": "unauthorized-inspiration",
   "metadata": {},
   "source": [
    "Compute gradients on small random subsets of the training dataset = \"mini-batch\"\n",
    "\n",
    "Good: performance boost over stochastic GD from optimised matrix operations on GPUs; less erratic than SGD\n",
    "\n",
    "Bad: still needs a learning schedule\n",
    "\n",
    "NB Mini-batch GD with batch size = 1 is just SGD!\n",
    "\n",
    "How to do in sklearn?? `SGDRegressor` is just for 1 sample in a batch"
   ]
  },
  {
   "cell_type": "markdown",
   "id": "bright-registrar",
   "metadata": {},
   "source": [
    "# Polynomial regression"
   ]
  },
  {
   "cell_type": "markdown",
   "id": "painful-subscription",
   "metadata": {},
   "source": [
    "Higher order terms than linear regression:\n",
    "\n",
    "\\begin{equation}\n",
    "\\hat{y} = \\theta_0 + \\theta_1 x + \\theta_2 x^2 + \\cdots + \\theta_n x^n\n",
    "\\end{equation}\n",
    "\n",
    "Essentially a linear regression with features $x$, $x^2$, ..., $x^n$"
   ]
  },
  {
   "cell_type": "code",
   "execution_count": 14,
   "id": "fleet-specific",
   "metadata": {
    "ExecuteTime": {
     "end_time": "2021-02-24T13:02:22.725242Z",
     "start_time": "2021-02-24T13:02:22.718449Z"
    }
   },
   "outputs": [],
   "source": [
    "# dummy dataset with quadratic dependence + noise\n",
    "m = 100\n",
    "X = 6* np.random.rand(m, 1) - 3\n",
    "y = 0.5 * X**2 + X + 2 + np.random.randn(m, 1)"
   ]
  },
  {
   "cell_type": "code",
   "execution_count": 3,
   "id": "technological-ultimate",
   "metadata": {
    "ExecuteTime": {
     "end_time": "2021-02-24T13:28:03.229066Z",
     "start_time": "2021-02-24T13:28:03.215626Z"
    }
   },
   "outputs": [],
   "source": [
    "# generate polynomial features from our data\n",
    "from sklearn.preprocessing import PolynomialFeatures"
   ]
  },
  {
   "cell_type": "code",
   "execution_count": 129,
   "id": "egyptian-anderson",
   "metadata": {
    "ExecuteTime": {
     "end_time": "2021-02-24T10:04:17.247800Z",
     "start_time": "2021-02-24T10:04:17.241783Z"
    }
   },
   "outputs": [],
   "source": [
    "poly_features = PolynomialFeatures(degree=2, include_bias=False)\n",
    "X_poly = poly_features.fit_transform(X)"
   ]
  },
  {
   "cell_type": "code",
   "execution_count": 130,
   "id": "forward-chart",
   "metadata": {
    "ExecuteTime": {
     "end_time": "2021-02-24T10:04:17.570836Z",
     "start_time": "2021-02-24T10:04:17.562718Z"
    }
   },
   "outputs": [
    {
     "data": {
      "text/plain": [
       "LinearRegression()"
      ]
     },
     "execution_count": 130,
     "metadata": {},
     "output_type": "execute_result"
    }
   ],
   "source": [
    "# Can now do linear regression on polynomial features:\n",
    "lin_reg = LinearRegression()\n",
    "lin_reg.fit(X_poly, y)"
   ]
  },
  {
   "cell_type": "code",
   "execution_count": 131,
   "id": "dangerous-facing",
   "metadata": {
    "ExecuteTime": {
     "end_time": "2021-02-24T10:04:17.798472Z",
     "start_time": "2021-02-24T10:04:17.777680Z"
    }
   },
   "outputs": [
    {
     "data": {
      "text/plain": [
       "(array([2.13990612]), array([[0.96436775, 0.47028299]]))"
      ]
     },
     "execution_count": 131,
     "metadata": {},
     "output_type": "execute_result"
    }
   ],
   "source": [
    "lin_reg.intercept_, lin_reg.coef_"
   ]
  },
  {
   "cell_type": "markdown",
   "id": "fuzzy-miller",
   "metadata": {},
   "source": [
    "So pretty close to our intercept of 2, and coefficients 1, 0.5"
   ]
  },
  {
   "cell_type": "code",
   "execution_count": 132,
   "id": "sustainable-auditor",
   "metadata": {
    "ExecuteTime": {
     "end_time": "2021-02-24T10:04:18.133856Z",
     "start_time": "2021-02-24T10:04:18.129142Z"
    }
   },
   "outputs": [],
   "source": [
    "X_line = np.arange(-3, 3.1, 0.1).reshape(-1, 1) # only order-1 terms\n",
    "# need the poly_features.transform to generate the higher order terms, to then pass into linear regression\n",
    "y_line = lin_reg.predict(poly_features.transform(X_line)) "
   ]
  },
  {
   "cell_type": "code",
   "execution_count": 133,
   "id": "suited-prayer",
   "metadata": {
    "ExecuteTime": {
     "end_time": "2021-02-24T10:04:19.743403Z",
     "start_time": "2021-02-24T10:04:19.449379Z"
    },
    "scrolled": false
   },
   "outputs": [
    {
     "data": {
      "text/plain": [
       "(-0.5, 12.0)"
      ]
     },
     "execution_count": 133,
     "metadata": {},
     "output_type": "execute_result"
    },
    {
     "data": {
      "image/png": "[encoded data removed]",
      "text/plain": [
       "<Figure size 720x576 with 1 Axes>"
      ]
     },
     "metadata": {
      "needs_background": "light"
     },
     "output_type": "display_data"
    }
   ],
   "source": [
    "plt.scatter(X, y)\n",
    "plt.plot(X_line, y_line, 'r-', label='Polynomial regression')\n",
    "plt.xlabel('x')\n",
    "plt.ylabel('y')\n",
    "plt.legend();\n",
    "plt.ylim(-0.5, 12)"
   ]
  },
  {
   "cell_type": "markdown",
   "id": "entire-prefix",
   "metadata": {},
   "source": [
    "NB `Polynomial Features` will also generate all cross-terms as well: e.g. if you have features a, b, it will generate for `degree=3`: $a^3$, $b^3$, $ab^2$, $a^2b$, $ab$\n",
    "\n",
    "Watch out for large number of features - creates $(n+d)! / d!n!$ extra features for degree $d$ with $n$ original features"
   ]
  },
  {
   "cell_type": "markdown",
   "id": "military-fifty",
   "metadata": {},
   "source": [
    "# Learning curves"
   ]
  },
  {
   "cell_type": "markdown",
   "id": "loose-vessel",
   "metadata": {},
   "source": [
    "How to tell if overfitting when fitting polynomials?\n",
    "\n",
    "Already used cross-validation to test when training models.\n",
    "\n",
    "Can also use **learning curves**: performance of the training & validation sets as a function of the training iteration / set size.\n"
   ]
  },
  {
   "cell_type": "code",
   "execution_count": 4,
   "id": "major-valuable",
   "metadata": {
    "ExecuteTime": {
     "end_time": "2021-02-24T13:28:03.247271Z",
     "start_time": "2021-02-24T13:28:03.234935Z"
    }
   },
   "outputs": [],
   "source": [
    "from sklearn.metrics import mean_squared_error\n",
    "from sklearn.model_selection import train_test_split"
   ]
  },
  {
   "cell_type": "code",
   "execution_count": 135,
   "id": "fallen-arena",
   "metadata": {
    "ExecuteTime": {
     "end_time": "2021-02-24T10:04:24.304661Z",
     "start_time": "2021-02-24T10:04:24.294294Z"
    }
   },
   "outputs": [],
   "source": [
    "def plot_learning_curves(model, X, y):\n",
    "    X_train, X_val, y_train, y_val = train_test_split(X, y, test_size=0.2)\n",
    "    train_errors, val_errors = [], []\n",
    "    for m in range(1, len(X_train)):\n",
    "        model.fit(X_train[:m], y_train[:m])\n",
    "        y_train_predict = model.predict(X_train[:m])\n",
    "        y_val_predict = model.predict(X_val)\n",
    "        train_errors.append(mean_squared_error(y_train[:m], y_train_predict))\n",
    "        val_errors.append(mean_squared_error(y_val, y_val_predict))\n",
    "    plt.plot(np.sqrt(train_errors), 'r-+', linewidth=2, label='train')\n",
    "    plt.plot(np.sqrt(val_errors), 'b-', linewidth=2, label='val')\n",
    "    plt.legend()\n",
    "    plt.xlabel('Training set size')\n",
    "    plt.ylabel('RMSE')\n",
    "    plt.ylim(0, 3);"
   ]
  },
  {
   "cell_type": "markdown",
   "id": "physical-karen",
   "metadata": {},
   "source": [
    "## Underfitting (linear regression on a quadratic curve)"
   ]
  },
  {
   "cell_type": "code",
   "execution_count": 136,
   "id": "stable-calgary",
   "metadata": {
    "ExecuteTime": {
     "end_time": "2021-02-24T10:04:25.221324Z",
     "start_time": "2021-02-24T10:04:24.626061Z"
    }
   },
   "outputs": [
    {
     "data": {
      "image/png": "[encoded data removed]",
      "text/plain": [
       "<Figure size 720x576 with 1 Axes>"
      ]
     },
     "metadata": {
      "needs_background": "light"
     },
     "output_type": "display_data"
    }
   ],
   "source": [
    "lin_reg = LinearRegression()\n",
    "plot_learning_curves(lin_reg, X, y)"
   ]
  },
  {
   "cell_type": "code",
   "execution_count": 5,
   "id": "casual-account",
   "metadata": {
    "ExecuteTime": {
     "end_time": "2021-02-24T13:28:03.331477Z",
     "start_time": "2021-02-24T13:28:03.301085Z"
    }
   },
   "outputs": [],
   "source": [
    "from textwrap import wrap, fill"
   ]
  },
  {
   "cell_type": "code",
   "execution_count": 223,
   "id": "systematic-fence",
   "metadata": {
    "ExecuteTime": {
     "end_time": "2021-02-24T11:15:58.343033Z",
     "start_time": "2021-02-24T11:15:58.337898Z"
    }
   },
   "outputs": [],
   "source": [
    "def lin_reg_str(lin_reg):\n",
    "    coefs = lin_reg.coef_[0]\n",
    "    intercept = \"%.2g\" % lin_reg.intercept_[0]\n",
    "    orders = ['%.2g$x^{%d}$' % (coefs[i-1], i) for i in range(1, len(coefs)+1)]\n",
    "    # use textwrap to wrap legend text\n",
    "    return fill(' + '.join([intercept, *orders]), 50)"
   ]
  },
  {
   "cell_type": "code",
   "execution_count": 205,
   "id": "grave-terrorist",
   "metadata": {
    "ExecuteTime": {
     "end_time": "2021-02-24T10:38:30.837894Z",
     "start_time": "2021-02-24T10:38:30.489793Z"
    }
   },
   "outputs": [
    {
     "data": {
      "text/plain": [
       "(-5.0, 15.0)"
      ]
     },
     "execution_count": 205,
     "metadata": {},
     "output_type": "execute_result"
    },
    {
     "data": {
      "image/png": "[encoded data removed]",
      "text/plain": [
       "<Figure size 720x576 with 1 Axes>"
      ]
     },
     "metadata": {
      "needs_background": "light"
     },
     "output_type": "display_data"
    }
   ],
   "source": [
    "plt.scatter(X, y)\n",
    "y_line = lin_reg.predict(X_line)\n",
    "lin_str = lin_reg_str(lin_reg)\n",
    "plt.plot(X_line, y_line, 'r-', label=lin_str)\n",
    "plt.xlabel('x')\n",
    "plt.ylabel('y')\n",
    "plt.legend();\n",
    "plt.ylim(-5, 15)"
   ]
  },
  {
   "cell_type": "markdown",
   "id": "prostate-cigarette",
   "metadata": {},
   "source": [
    "Once the training set hits ~10-20 elements, its performance plateaus, so adding more data doesn't help. (We know we have the wrong model, so it can only do so well before it becomes limited)\n",
    "\n",
    "The validation set ends up plateauing as well, at a similar value. For small numbers, the validation set error is huge, while the training set error is ~0 (it can afford to fit ~exactly to the training set, and can't generalise at all)"
   ]
  },
  {
   "cell_type": "markdown",
   "id": "assured-culture",
   "metadata": {},
   "source": [
    "## Overfitting (10th order polynomial on quadratic curve)"
   ]
  },
  {
   "cell_type": "code",
   "execution_count": 6,
   "id": "dependent-practice",
   "metadata": {
    "ExecuteTime": {
     "end_time": "2021-02-24T13:28:03.400310Z",
     "start_time": "2021-02-24T13:28:03.362646Z"
    }
   },
   "outputs": [],
   "source": [
    "from sklearn.pipeline import Pipeline"
   ]
  },
  {
   "cell_type": "code",
   "execution_count": 206,
   "id": "moved-collins",
   "metadata": {
    "ExecuteTime": {
     "end_time": "2021-02-24T10:38:33.227814Z",
     "start_time": "2021-02-24T10:38:32.720322Z"
    }
   },
   "outputs": [
    {
     "data": {
      "image/png": "[encoded data removed]",
      "text/plain": [
       "<Figure size 720x576 with 1 Axes>"
      ]
     },
     "metadata": {
      "needs_background": "light"
     },
     "output_type": "display_data"
    }
   ],
   "source": [
    "polynomial_regression = Pipeline([\n",
    "    ('poly_features', PolynomialFeatures(degree=10, include_bias=False)),\n",
    "    ('lin_reg', LinearRegression()),\n",
    "])\n",
    "\n",
    "plot_learning_curves(polynomial_regression, X, y)"
   ]
  },
  {
   "cell_type": "code",
   "execution_count": 225,
   "id": "metropolitan-yukon",
   "metadata": {
    "ExecuteTime": {
     "end_time": "2021-02-24T11:16:04.547169Z",
     "start_time": "2021-02-24T11:16:04.072974Z"
    }
   },
   "outputs": [
    {
     "data": {
      "text/plain": [
       "(-5.0, 15.0)"
      ]
     },
     "execution_count": 225,
     "metadata": {},
     "output_type": "execute_result"
    },
    {
     "data": {
      "image/png": "[encoded data removed]",
      "text/plain": [
       "<Figure size 720x576 with 1 Axes>"
      ]
     },
     "metadata": {
      "needs_background": "light"
     },
     "output_type": "display_data"
    }
   ],
   "source": [
    "plt.scatter(X, y)\n",
    "y_line = polynomial_regression.predict(X_line)\n",
    "poly_str = lin_reg_str(polynomial_regression.named_steps['lin_reg'])\n",
    "plt.plot(X_line, y_line, 'r-', label=poly_str)\n",
    "plt.xlabel('x')\n",
    "plt.ylabel('y')\n",
    "plt.legend();\n",
    "plt.ylim(-5, 15)"
   ]
  },
  {
   "cell_type": "markdown",
   "id": "molecular-tongue",
   "metadata": {},
   "source": [
    "Now, the error is much smaller than in the underfitting case.\n",
    "\n",
    "There is also a big gap between curves - this indicates that the model has \"learnt\" the training set well, but generalises poorly to the validation set.\n",
    "\n",
    "One way to improve this is to increase the training set size until the validation set error becomes the same as the training set (i.e. the model has learnt enough to generalise)"
   ]
  },
  {
   "cell_type": "markdown",
   "id": "forbidden-enhancement",
   "metadata": {},
   "source": [
    "## The correct model"
   ]
  },
  {
   "cell_type": "code",
   "execution_count": 184,
   "id": "acceptable-introduction",
   "metadata": {
    "ExecuteTime": {
     "end_time": "2021-02-24T10:14:50.289445Z",
     "start_time": "2021-02-24T10:14:49.696126Z"
    }
   },
   "outputs": [
    {
     "data": {
      "image/png": "[encoded data removed]",
      "text/plain": [
       "<Figure size 720x576 with 1 Axes>"
      ]
     },
     "metadata": {
      "needs_background": "light"
     },
     "output_type": "display_data"
    }
   ],
   "source": [
    "quadtratic_regression = Pipeline([\n",
    "    ('poly_features', PolynomialFeatures(degree=2, include_bias=False)),\n",
    "    ('lin_reg', LinearRegression()),\n",
    "])\n",
    "\n",
    "plot_learning_curves(quadtratic_regression, X, y)"
   ]
  },
  {
   "cell_type": "markdown",
   "id": "visible-rental",
   "metadata": {},
   "source": [
    "Now we can see that the training and validation errors both plateau at similar values, but with an overall smaller error than in the linear (underfitting) case.\n",
    "\n",
    "For comparison, here's a cubic model:"
   ]
  },
  {
   "cell_type": "code",
   "execution_count": 210,
   "id": "rocky-attitude",
   "metadata": {
    "ExecuteTime": {
     "end_time": "2021-02-24T10:38:58.993745Z",
     "start_time": "2021-02-24T10:38:58.496136Z"
    }
   },
   "outputs": [
    {
     "data": {
      "image/png": "[encoded data removed]",
      "text/plain": [
       "<Figure size 720x576 with 1 Axes>"
      ]
     },
     "metadata": {
      "needs_background": "light"
     },
     "output_type": "display_data"
    }
   ],
   "source": [
    "cubic_regression = Pipeline([\n",
    "    ('poly_features', PolynomialFeatures(degree=3, include_bias=False)),\n",
    "    ('lin_reg', LinearRegression()),\n",
    "])\n",
    "\n",
    "plot_learning_curves(cubic_regression, X, y)"
   ]
  },
  {
   "cell_type": "code",
   "execution_count": 224,
   "id": "original-character",
   "metadata": {
    "ExecuteTime": {
     "end_time": "2021-02-24T11:16:00.872738Z",
     "start_time": "2021-02-24T11:16:00.527198Z"
    }
   },
   "outputs": [
    {
     "data": {
      "text/plain": [
       "(-5.0, 15.0)"
      ]
     },
     "execution_count": 224,
     "metadata": {},
     "output_type": "execute_result"
    },
    {
     "data": {
      "image/png": "[encoded data removed]",
      "text/plain": [
       "<Figure size 720x576 with 1 Axes>"
      ]
     },
     "metadata": {
      "needs_background": "light"
     },
     "output_type": "display_data"
    }
   ],
   "source": [
    "plt.scatter(X, y)\n",
    "y_line = cubic_regression.predict(X_line)\n",
    "poly_str = lin_reg_str(cubic_regression.named_steps['lin_reg'])\n",
    "plt.plot(X_line, y_line, 'r-', label=poly_str)\n",
    "plt.xlabel('x')\n",
    "plt.ylabel('y')\n",
    "plt.legend();\n",
    "plt.ylim(-5, 15)"
   ]
  },
  {
   "cell_type": "markdown",
   "id": "conscious-jumping",
   "metadata": {},
   "source": [
    "We note here that the cubic model actually doesn't do too badly! Its learning curves are v.similar to the quadratic case. However, looking at the coefficients, it is apparent that it is not really using the cubic term, and the quadratic terms are very similar to the quadratic model - we have a redundant model parameter that can be pruned away."
   ]
  },
  {
   "cell_type": "markdown",
   "id": "recognized-algebra",
   "metadata": {},
   "source": [
    "# Bias - Variance trade-off"
   ]
  },
  {
   "cell_type": "markdown",
   "id": "historic-study",
   "metadata": {},
   "source": [
    "**Bias**\n",
    "\n",
    "- Due to wrong assumptions: e.g. that the data is linear when it is actually quadratic.\n",
    "\n",
    "- High bias leads to **underfitting** training data (large RMSEs for both training & validation)\n",
    "\n",
    "**Variance**:\n",
    "\n",
    "- Due to model's sensitivity to small variations in training data\n",
    "\n",
    "- E.g. in high-order polynomial, can have high variance, get **overfitting** of training data\n",
    "\n",
    "- Small RMSE for training data, large for validation\n",
    "\n",
    "**Irreducible error**:\n",
    "\n",
    "- Due to inherent noise in data - required cleaning up input data\n",
    "\n",
    "Increasing a model's complexity will increase its variance, whilst reducing its bias.\n",
    "Similarly, decreasing its complexity will reduce variance, but increase its bias.\n",
    "\n",
    "Can't magically reduce both."
   ]
  },
  {
   "cell_type": "markdown",
   "id": "faced-england",
   "metadata": {},
   "source": [
    "# Regularization"
   ]
  },
  {
   "cell_type": "markdown",
   "id": "vietnamese-natural",
   "metadata": {},
   "source": [
    "Regularization: reduce overfitting by constraining degrees of freedom (e.g. removing higher order polynomial terms)\n",
    "\n",
    "3 methods:\n",
    "\n",
    "- **Ridge regression**: $\\ell_2$ regularization (Tikhonov reg.)\n",
    "- **Lasso regression**: $\\ell_1$ regularization\n",
    "- **Elastic Net**: combined $\\ell_1 + \\ell_2$ regularization\n",
    "\n",
    "**Important**: must standard scale features first, since these do depend on relative scale of features.\n",
    "\n",
    "Lasso and Elastic Net can remove redundant features, but Ridge can't.\n",
    "\n",
    "Can also do **early stopping** as a form of regularization"
   ]
  },
  {
   "cell_type": "markdown",
   "id": "present-channel",
   "metadata": {},
   "source": [
    "## Ridge Regression"
   ]
  },
  {
   "cell_type": "markdown",
   "id": "elegant-ticket",
   "metadata": {},
   "source": [
    "Add in regularization term using $\\ell_2$ norm to cost function **only during training**:\n",
    "\n",
    "\\begin{equation}\n",
    "\\alpha \\sum_{i=1}^n\\theta_i^2 = \\alpha \\|\\vec{w} \\|_2\n",
    "\\end{equation}\n",
    "\n",
    "This forces the model to keep the parameters small. Hyperparameter $\\alpha$ control regularization strength.\n",
    "\n",
    "Note that we define $\\vec{w}$ as $\\theta_{1...n}$, i.e. removing bias term.\n",
    "\n",
    "Total cost function for training is:\n",
    "\n",
    "\\begin{equation}\n",
    "J(\\vec{\\theta}) = \\text{MSE}(\\vec{\\theta}) + \\alpha \\|\\vec{w}\\|_2\n",
    "\\end{equation}\n",
    "\n",
    "NB cost function for training can be different to measuring performance on test data - $J$ should have optimisation-friendly derivatives, while the performance measure should reflect the final objective\n",
    "\n",
    "e.g. classifiers trained using **log loss** since it's continuous & differentiable, but final performance evaluated using precision/recall\n",
    "\n",
    "Ridge regression solution can either be calculated analytically, or by GD.\n",
    "\n",
    "Closed-form solution:\n",
    "\n",
    "\\begin{equation}\n",
    "\\hat{\\vec{\\theta}} = (\\mathbf{X}^T\\mathbf{X} + \\alpha \\mathbf{A})^{-1} \\mathbf{X}^T \\vec{y}\n",
    "\\end{equation}\n",
    "\n",
    "where $\\mathbf{A}$ is $\\mathbb{1}_{n+1}$ but with $\\mathbf{A}_{00} = 0$ (corresponding to the bias term)."
   ]
  },
  {
   "cell_type": "markdown",
   "id": "original-blair",
   "metadata": {},
   "source": [
    "Do ridge regression with closed-form solution:"
   ]
  },
  {
   "cell_type": "code",
   "execution_count": 7,
   "id": "valuable-devon",
   "metadata": {
    "ExecuteTime": {
     "end_time": "2021-02-24T13:28:03.424490Z",
     "start_time": "2021-02-24T13:28:03.411969Z"
    }
   },
   "outputs": [],
   "source": [
    "from sklearn.linear_model import Ridge"
   ]
  },
  {
   "cell_type": "code",
   "execution_count": 293,
   "id": "soviet-tanzania",
   "metadata": {
    "ExecuteTime": {
     "end_time": "2021-02-24T11:55:54.476526Z",
     "start_time": "2021-02-24T11:55:54.464957Z"
    }
   },
   "outputs": [
    {
     "data": {
      "text/plain": [
       "array([[4.78311124]])"
      ]
     },
     "execution_count": 293,
     "metadata": {},
     "output_type": "execute_result"
    }
   ],
   "source": [
    "ridge_reg = Ridge(alpha=1, solver='cholesky')\n",
    "# can also use 'sag' solver to use Stochastic Average GD,\n",
    "# see https://www.cs.ubc.ca/~schmidtm/Documents/2014_Google_SAG.pdf\n",
    "ridge_reg.fit(X, y)\n",
    "ridge_reg.predict([[1.5]])"
   ]
  },
  {
   "cell_type": "markdown",
   "id": "fundamental-battlefield",
   "metadata": {},
   "source": [
    "Do with SGD:"
   ]
  },
  {
   "cell_type": "code",
   "execution_count": 8,
   "id": "charming-pickup",
   "metadata": {
    "ExecuteTime": {
     "end_time": "2021-02-24T13:28:03.446418Z",
     "start_time": "2021-02-24T13:28:03.432192Z"
    }
   },
   "outputs": [],
   "source": [
    "from sklearn.linear_model import SGDRegressor"
   ]
  },
  {
   "cell_type": "code",
   "execution_count": 292,
   "id": "clean-analysis",
   "metadata": {
    "ExecuteTime": {
     "end_time": "2021-02-24T11:55:51.933139Z",
     "start_time": "2021-02-24T11:55:51.923263Z"
    }
   },
   "outputs": [
    {
     "data": {
      "text/plain": [
       "array([4.76026999])"
      ]
     },
     "execution_count": 292,
     "metadata": {},
     "output_type": "execute_result"
    }
   ],
   "source": [
    "sgd_reg = SGDRegressor(penalty='l2')\n",
    "sgd_reg.fit(X, y.ravel())\n",
    "sgd_reg.predict([[1.5]])"
   ]
  },
  {
   "cell_type": "markdown",
   "id": "published-steel",
   "metadata": {},
   "source": [
    "## Lasso Regression"
   ]
  },
  {
   "cell_type": "markdown",
   "id": "pressing-killer",
   "metadata": {},
   "source": [
    "Lasso = Least Absolute Shrinkage and Selection Operator regression\n",
    "\n",
    "Uses $\\ell_1$ norm instead in cost function:\n",
    "\n",
    "\n",
    "\\begin{equation}\n",
    "J(\\vec{\\theta}) = \\text{MSE}(\\vec{\\theta}) + \\alpha \\|\\vec{w}\\|_1\n",
    "\\end{equation}\n",
    "\n",
    "One difference wrt Ridge is that Lasso **can set weights of least important features to 0** - performs feature selection, output a **sparse model**.\n",
    "\n",
    "This is because the gradient vector of the $\\ell_1$ penalty term will direct the parameter vector towards an axis first if that parameter is small, and then move along it towards the origin; whereas for $\\ell_2$ the gradient vector points towards the origin, and thus will reduce multiple parameters, but not setting the smallest to 0.\n",
    "\n",
    "We can show contours of the pure regularization terms in a 2D parameter space, to show how the gradient influences the GD steps: we start at teh red dot, and the yellow arrows show the gradient from the $\\ell_i$ norm\n",
    "\n",
    "(In reality, when combined with the MSE, this will muddy the contours, but the general idea remains the same - the final set of parameters will lie on the line represented by yellow arrows)\n",
    "\n",
    "**But** Lasso may behave erratically when number of features > number of training samples, or when severe correlation among features"
   ]
  },
  {
   "cell_type": "code",
   "execution_count": 9,
   "id": "attached-commerce",
   "metadata": {
    "ExecuteTime": {
     "end_time": "2021-02-24T13:28:03.478636Z",
     "start_time": "2021-02-24T13:28:03.452366Z"
    }
   },
   "outputs": [],
   "source": [
    "from mpl_toolkits.axes_grid1 import make_axes_locatable\n",
    "\n",
    "def colorbar(mappable):\n",
    "    # handy function to stop colorbar squishing aspect ratio\n",
    "    # taken from https://joseph-long.com/writing/colorbars/\n",
    "    last_axes = plt.gca()\n",
    "    ax = mappable.axes\n",
    "    fig = ax.figure\n",
    "    divider = make_axes_locatable(ax)\n",
    "    cax = divider.append_axes(\"right\", size=\"5%\", pad=0.1)\n",
    "    cbar = fig.colorbar(mappable, cax=cax)\n",
    "    plt.sca(last_axes)\n",
    "    return cbar"
   ]
  },
  {
   "cell_type": "code",
   "execution_count": 289,
   "id": "automatic-mountain",
   "metadata": {
    "ExecuteTime": {
     "end_time": "2021-02-24T11:55:34.210406Z",
     "start_time": "2021-02-24T11:55:33.315491Z"
    }
   },
   "outputs": [
    {
     "data": {
      "image/png": "[encoded data removed]",
      "text/plain": [
       "<Figure size 864x432 with 3 Axes>"
      ]
     },
     "metadata": {
      "needs_background": "light"
     },
     "output_type": "display_data"
    }
   ],
   "source": [
    "fig, ax = plt.subplots(nrows=1, ncols=2, figsize=(12, 6))\n",
    "x_g = np.linspace(-1, 2, 50)\n",
    "y_g = np.linspace(-1, 2, 50)\n",
    "X_g, Y_g = np.meshgrid(x, y)  # builds two-dimensional grids from one-dimensional arrays\n",
    "# print(X.shape)\n",
    "# print(X)\n",
    "\n",
    "Z_1 = np.abs(X_g)+np.abs(Y_g) # calc l_1 norm\n",
    "ax[0].contourf(X_g, Y_g, Z_1)\n",
    "ax[0].set_xlabel(r'$\\theta_1$')\n",
    "ax[0].set_ylabel(r'$\\theta_2$')\n",
    "ax[0].set_title(r'$\\ell_1$' + ' norm')\n",
    "ax[0].grid()\n",
    "ax[0].plot([1.5], [0.5], 'ro', markersize=10)\n",
    "ax[0].arrow(1.5, 0.5, dx=-0.5, dy=-0.5, \n",
    "            width=0.01, head_width=0.1, color='yellow', \n",
    "            length_includes_head=True)\n",
    "ax[0].arrow(1, 0, dx=-1, dy=-0, \n",
    "            width=0.01, head_width=0.1, color='yellow', \n",
    "            length_includes_head=True)\n",
    "\n",
    "Z_2 = np.hypot(X_g, Y_g) # calc l_2 norm\n",
    "cset2 = ax[1].contourf(X_g, Y_g, Z_2)\n",
    "ax[1].set_xlabel(r'$\\theta_1$')\n",
    "ax[1].set_ylabel(r'$\\theta_2$')\n",
    "ax[1].set_title(r'$\\ell_2$' + ' norm')\n",
    "ax[1].grid()\n",
    "ax[1].plot([1.5], [0.5], 'ro', markersize=10)\n",
    "ax[1].arrow(1.5, 0.5, dx=-1.5, dy=-0.5, \n",
    "            width=0.01, head_width=0.1, color='yellow', \n",
    "            length_includes_head=True)\n",
    "\n",
    "cbar = colorbar(cset2);\n",
    "cbar.set_label(r'$\\ell_i$ norm')\n",
    "plt.tight_layout()"
   ]
  },
  {
   "cell_type": "code",
   "execution_count": 10,
   "id": "conservative-invalid",
   "metadata": {
    "ExecuteTime": {
     "end_time": "2021-02-24T13:28:03.486113Z",
     "start_time": "2021-02-24T13:28:03.481016Z"
    }
   },
   "outputs": [],
   "source": [
    "from sklearn.linear_model import Lasso"
   ]
  },
  {
   "cell_type": "code",
   "execution_count": 291,
   "id": "empirical-assets",
   "metadata": {
    "ExecuteTime": {
     "end_time": "2021-02-24T11:55:47.108318Z",
     "start_time": "2021-02-24T11:55:47.100880Z"
    }
   },
   "outputs": [
    {
     "data": {
      "text/plain": [
       "array([4.73311569])"
      ]
     },
     "execution_count": 291,
     "metadata": {},
     "output_type": "execute_result"
    }
   ],
   "source": [
    "lasso_reg = Lasso(alpha=0.1) # or use SGDRegressor(penalty='l1')\n",
    "lasso_reg.fit(X, y)\n",
    "lasso_reg.predict([[1.5]])"
   ]
  },
  {
   "cell_type": "markdown",
   "id": "empty-rough",
   "metadata": {},
   "source": [
    "## Elastic Net"
   ]
  },
  {
   "cell_type": "markdown",
   "id": "aggressive-elizabeth",
   "metadata": {},
   "source": [
    "Mixture of Lasso and Ridge regression, extra hyperparemeter $r \\in [0, 1]$ to control mixture:\n",
    "\n",
    "\\begin{equation}\n",
    "J(\\vec{\\theta}) = \\text{MSE} + r \\alpha \\|\\vec{w}\\|_1 + \\frac{1-r}{2}\\alpha \\|\\vec{w}\\|_2\n",
    "\\end{equation}\n",
    "\n",
    "Prefer elastic net over pure Lasso to avoid erratic behaviour if # features > # samples, or strongly correlated features"
   ]
  },
  {
   "cell_type": "code",
   "execution_count": 11,
   "id": "mighty-variety",
   "metadata": {
    "ExecuteTime": {
     "end_time": "2021-02-24T13:28:03.498069Z",
     "start_time": "2021-02-24T13:28:03.493105Z"
    }
   },
   "outputs": [],
   "source": [
    "from sklearn.linear_model import ElasticNet"
   ]
  },
  {
   "cell_type": "code",
   "execution_count": 15,
   "id": "creative-peter",
   "metadata": {
    "ExecuteTime": {
     "end_time": "2021-02-24T13:02:27.245722Z",
     "start_time": "2021-02-24T13:02:27.227678Z"
    }
   },
   "outputs": [
    {
     "data": {
      "text/plain": [
       "array([4.6382302])"
      ]
     },
     "execution_count": 15,
     "metadata": {},
     "output_type": "execute_result"
    }
   ],
   "source": [
    "elastic_net = ElasticNet(alpha=0.1, l1_ratio=0.5)\n",
    "elastic_net.fit(X, y)\n",
    "elastic_net.predict([[1.5]])"
   ]
  },
  {
   "cell_type": "markdown",
   "id": "professional-milwaukee",
   "metadata": {},
   "source": [
    "## Early Stopping"
   ]
  },
  {
   "cell_type": "markdown",
   "id": "familiar-funds",
   "metadata": {},
   "source": [
    "Stop training once validation error hits minimum - if you do more training, may overfit to training sample, and validation error will then increase again.\n",
    "\n",
    "With GD, can be noisy - hard to tell if minimum. Instead stop once validation error been > minimum for N interations, then roll back model to minimum."
   ]
  },
  {
   "cell_type": "markdown",
   "id": "temporal-income",
   "metadata": {},
   "source": [
    "# Logisitic Regression"
   ]
  },
  {
   "cell_type": "markdown",
   "id": "pretty-preliminary",
   "metadata": {},
   "source": [
    "Form of regression useful for classification - for estimating probabilities.\n",
    "\n",
    "Basically applies logistic function to linear regression model.\n",
    "\n",
    "\\begin{equation}\n",
    "\\hat{p} = \\sigma(\\vec{\\theta}\\cdot\\vec{x})\n",
    "\\end{equation}\n",
    "\n",
    "where $\\sigma(t)$ is the sigmoid function:\n",
    "\n",
    "\\begin{equation}\n",
    "\\sigma(t) = \\frac{1}{1 + \\exp(-t)}\n",
    "\\end{equation}\n",
    "\n",
    "which plateaus in $\\lim_{t \\to \\inf} \\sigma(t) = 1$, and in $\\lim_{t \\to -\\inf} \\sigma(t) = 0$. This makes it useful for probabilities.\n",
    "\n",
    "Once we have a probability, we can make a classification, based on $\\hat{p} > 0.5$.\n",
    "\n",
    "NB $t$ called _logit_: logit(p) = $\\log(p / (1-p))$ is inverse of logistic function. It is also called log-odds, since log of ratio between probability of +ve class and probability of -ve class."
   ]
  },
  {
   "cell_type": "code",
   "execution_count": 12,
   "id": "stone-shuttle",
   "metadata": {
    "ExecuteTime": {
     "end_time": "2021-02-24T13:28:03.518110Z",
     "start_time": "2021-02-24T13:28:03.501958Z"
    }
   },
   "outputs": [],
   "source": [
    "from scipy.special import expit"
   ]
  },
  {
   "cell_type": "code",
   "execution_count": 304,
   "id": "indian-contributor",
   "metadata": {
    "ExecuteTime": {
     "end_time": "2021-02-24T12:26:27.374086Z",
     "start_time": "2021-02-24T12:26:26.978809Z"
    }
   },
   "outputs": [
    {
     "data": {
      "image/png": "[encoded data removed]",
      "text/plain": [
       "<Figure size 720x576 with 1 Axes>"
      ]
     },
     "metadata": {
      "needs_background": "light"
     },
     "output_type": "display_data"
    }
   ],
   "source": [
    "x_sig = np.linspace(-10, 10, 50)\n",
    "# y_sig = expit(x_sig)\n",
    "y_sig = 1. / (1 + np.exp(-x_sig))\n",
    "plt.plot(x_sig, y_sig)\n",
    "plt.xlabel('t')\n",
    "plt.ylabel(r'$\\sigma(t)$')\n",
    "plt.grid();"
   ]
  },
  {
   "cell_type": "markdown",
   "id": "boxed-struggle",
   "metadata": {},
   "source": [
    "## Training & Cost Function"
   ]
  },
  {
   "cell_type": "markdown",
   "id": "tested-thompson",
   "metadata": {},
   "source": [
    "The cost function should be large when the class is incorrect:\n",
    "\n",
    "\\begin{equation}\n",
    "-\\log(\\hat{p}) \\text{ if y = 1}\\\\\n",
    "-\\log(1-\\hat{p}) \\text{ if y = 0}\n",
    "\\end{equation}\n",
    "\n",
    "$\\log(t)$ becomes large as $t \\to 0$, so the cost will be large if a positive case is classified as a negative ($\\hat{p} \\to 0$), and similarly a negative case classified as a positive ($\\hat{p} \\to 1$). These costs are visualised below:"
   ]
  },
  {
   "cell_type": "code",
   "execution_count": 21,
   "id": "political-planner",
   "metadata": {
    "ExecuteTime": {
     "end_time": "2021-02-24T14:15:30.487799Z",
     "start_time": "2021-02-24T14:15:29.946781Z"
    }
   },
   "outputs": [
    {
     "data": {
      "image/png": "[encoded data removed]",
      "text/plain": [
       "<Figure size 864x432 with 2 Axes>"
      ]
     },
     "metadata": {
      "needs_background": "light"
     },
     "output_type": "display_data"
    }
   ],
   "source": [
    "fig, ax = plt.subplots(ncols=2, figsize=(12, 6))\n",
    "x_log = np.linspace(1E-6, 1-1E-6, 50)\n",
    "ax[0].plot(x_log, -np.log(x_log))\n",
    "ax[0].set_xlabel('$\\hat{p}$')\n",
    "ax[0].set_ylabel('$-\\log(\\hat{p})$')\n",
    "ax[0].set_title('Positive class y=1')\n",
    "\n",
    "ax[1].plot(x_log, -np.log(1-x_log))\n",
    "ax[1].set_xlabel('$\\hat{p}$')\n",
    "ax[1].set_ylabel('$-\\log(1-\\hat{p})$')\n",
    "ax[1].set_title('Negative class y=0');"
   ]
  },
  {
   "cell_type": "markdown",
   "id": "associate-class",
   "metadata": {},
   "source": [
    "The cost function over whole set is then the average of these: (the $y^{(i)}$ and $1-y$ here ensure that we get the correct term, depending on the true class)\n",
    "\n",
    "This is the **log loss**\n",
    "\n",
    "\\begin{equation}\n",
    "J = - \\frac{1}{m} \\sum_{i=1}^m \\left[y^{(i)}\\log(\\hat{p}^{(i)}) + (1-y^{(i)})\\log(1-\\hat{p}^{(i)}) \\right]\n",
    "\\end{equation}\n",
    "\n",
    "**NB** Can also see it as the log of the product of probabilities, i.e. log-likelihood. Since we basically have $\\log (\\text{prob of thing}^{\\text{N occurences}}) = N \\log p$ \n",
    "\n",
    "**NB** why not RMSE? Not convex.\n",
    "\n",
    "**But** no closed-form solution - no version of the Normal equation.\n",
    "\n",
    "**Good**: is convex: can use GD\n",
    "\n",
    "Derivative:\n",
    "\n",
    "\\begin{equation}\n",
    "\\frac{\\partial J}{\\partial \\theta_j} = \\frac{1}{m} \\sum_{i=1}^m \\left(\\sigma(\\vec{\\theta}\\cdot\\vec{x}^{(i)}) - y^{(i)} \\right) x_j^{(i)}\n",
    "\\end{equation}\n",
    "\n",
    "NB similar to that of linear regression, but with $\\sigma(\\vec{\\theta}\\cdot\\vec{x}^{(i)})$ instead of $\\vec{\\theta}\\cdot\\vec{x}^{(i)}$.\n",
    "Essentially, for each instance we compute prediction error, and multiply by jth feature value."
   ]
  },
  {
   "cell_type": "markdown",
   "id": "recognized-delivery",
   "metadata": {},
   "source": [
    "## Decision boundaries"
   ]
  },
  {
   "cell_type": "markdown",
   "id": "indie-marijuana",
   "metadata": {},
   "source": [
    "Test logistic regression on Iris dataset"
   ]
  },
  {
   "cell_type": "code",
   "execution_count": 22,
   "id": "julian-oasis",
   "metadata": {
    "ExecuteTime": {
     "end_time": "2021-02-24T14:24:37.163577Z",
     "start_time": "2021-02-24T14:24:36.972900Z"
    }
   },
   "outputs": [],
   "source": [
    "from sklearn import datasets"
   ]
  },
  {
   "cell_type": "code",
   "execution_count": 23,
   "id": "anticipated-projection",
   "metadata": {
    "ExecuteTime": {
     "end_time": "2021-02-24T14:24:49.763900Z",
     "start_time": "2021-02-24T14:24:49.750924Z"
    }
   },
   "outputs": [
    {
     "data": {
      "text/plain": [
       "['data',\n",
       " 'target',\n",
       " 'frame',\n",
       " 'target_names',\n",
       " 'DESCR',\n",
       " 'feature_names',\n",
       " 'filename']"
      ]
     },
     "execution_count": 23,
     "metadata": {},
     "output_type": "execute_result"
    }
   ],
   "source": [
    "iris = datasets.load_iris()\n",
    "list(iris.keys())"
   ]
  },
  {
   "cell_type": "code",
   "execution_count": 60,
   "id": "correct-sunset",
   "metadata": {
    "ExecuteTime": {
     "end_time": "2021-02-24T14:39:03.139419Z",
     "start_time": "2021-02-24T14:39:03.134671Z"
    },
    "scrolled": false
   },
   "outputs": [
    {
     "name": "stdout",
     "output_type": "stream",
     "text": [
      ".. _iris_dataset:\n",
      "\n",
      "Iris plants dataset\n",
      "--------------------\n",
      "\n",
      "**Data Set Characteristics:**\n",
      "\n",
      "    :Number of Instances: 150 (50 in each of three classes)\n",
      "    :Number of Attributes: 4 numeric, predictive attributes and the class\n",
      "    :Attribute Information:\n",
      "        - sepal length in cm\n",
      "        - sepal width in cm\n",
      "        - petal length in cm\n",
      "        - petal width in cm\n",
      "        - class:\n",
      "                - Iris-Setosa\n",
      "                - Iris-Versicolour\n",
      "                - Iris-Virginica\n",
      "                \n",
      "    :Summary Statistics:\n",
      "\n",
      "    ============== ==== ==== ======= ===== ====================\n",
      "                    Min  Max   Mean    SD   Class Correlation\n",
      "    ============== ==== ==== ======= ===== ====================\n",
      "    sepal length:   4.3  7.9   5.84   0.83    0.7826\n",
      "    sepal width:    2.0  4.4   3.05   0.43   -0.4194\n",
      "    petal length:   1.0  6.9   3.76   1.76    0.9490  (high!)\n",
      "    petal width:    0.1  2.5   1.20   0.76    0.9565  (high!)\n",
      "    ============== ==== ==== ======= ===== ====================\n",
      "\n",
      "    :Missing Attribute Values: None\n",
      "    :Class Distribution: 33.3% for each of 3 classes.\n",
      "    :Creator: R.A. Fisher\n",
      "    :Donor: Michael Marshall (MARSHALL%PLU@io.arc.nasa.gov)\n",
      "    :Date: July, 1988\n",
      "\n",
      "The famous Iris database, first used by Sir R.A. Fisher. The dataset is taken\n",
      "from Fisher's paper. Note that it's the same as in R, but not as in the UCI\n",
      "Machine Learning Repository, which has two wrong data points.\n",
      "\n",
      "This is perhaps the best known database to be found in the\n",
      "pattern recognition literature.  Fisher's paper is a classic in the field and\n",
      "is referenced frequently to this day.  (See Duda & Hart, for example.)  The\n",
      "data set contains 3 classes of 50 instances each, where each class refers to a\n",
      "type of iris plant.  One class is linearly separable from the other 2; the\n",
      "latter are NOT linearly separable from each other.\n",
      "\n",
      ".. topic:: References\n",
      "\n",
      "   - Fisher, R.A. \"The use of multiple measurements in taxonomic problems\"\n",
      "     Annual Eugenics, 7, Part II, 179-188 (1936); also in \"Contributions to\n",
      "     Mathematical Statistics\" (John Wiley, NY, 1950).\n",
      "   - Duda, R.O., & Hart, P.E. (1973) Pattern Classification and Scene Analysis.\n",
      "     (Q327.D83) John Wiley & Sons.  ISBN 0-471-22361-1.  See page 218.\n",
      "   - Dasarathy, B.V. (1980) \"Nosing Around the Neighborhood: A New System\n",
      "     Structure and Classification Rule for Recognition in Partially Exposed\n",
      "     Environments\".  IEEE Transactions on Pattern Analysis and Machine\n",
      "     Intelligence, Vol. PAMI-2, No. 1, 67-71.\n",
      "   - Gates, G.W. (1972) \"The Reduced Nearest Neighbor Rule\".  IEEE Transactions\n",
      "     on Information Theory, May 1972, 431-433.\n",
      "   - See also: 1988 MLC Proceedings, 54-64.  Cheeseman et al\"s AUTOCLASS II\n",
      "     conceptual clustering system finds 3 classes in the data.\n",
      "   - Many, many more ...\n"
     ]
    }
   ],
   "source": [
    "print(iris['DESCR'])"
   ]
  },
  {
   "cell_type": "code",
   "execution_count": 99,
   "id": "sufficient-corrections",
   "metadata": {
    "ExecuteTime": {
     "end_time": "2021-02-24T16:28:26.260629Z",
     "start_time": "2021-02-24T16:28:26.251788Z"
    }
   },
   "outputs": [
    {
     "data": {
      "text/plain": [
       "array(['setosa', 'versicolor', 'virginica'], dtype='<U10')"
      ]
     },
     "execution_count": 99,
     "metadata": {},
     "output_type": "execute_result"
    }
   ],
   "source": [
    "iris['target_names']"
   ]
  },
  {
   "cell_type": "code",
   "execution_count": 57,
   "id": "invalid-sheffield",
   "metadata": {
    "ExecuteTime": {
     "end_time": "2021-02-24T14:37:51.506830Z",
     "start_time": "2021-02-24T14:37:51.502347Z"
    },
    "scrolled": true
   },
   "outputs": [
    {
     "name": "stdout",
     "output_type": "stream",
     "text": [
      "['sepal length (cm)', 'sepal width (cm)', 'petal length (cm)', 'petal width (cm)']\n"
     ]
    }
   ],
   "source": [
    "print(iris['feature_names'])"
   ]
  },
  {
   "cell_type": "code",
   "execution_count": 28,
   "id": "active-sleeping",
   "metadata": {
    "ExecuteTime": {
     "end_time": "2021-02-24T14:25:47.629296Z",
     "start_time": "2021-02-24T14:25:47.623383Z"
    }
   },
   "outputs": [
    {
     "data": {
      "text/plain": [
       "(150, 4)"
      ]
     },
     "execution_count": 28,
     "metadata": {},
     "output_type": "execute_result"
    }
   ],
   "source": [
    "iris['data'].shape"
   ]
  },
  {
   "cell_type": "code",
   "execution_count": 25,
   "id": "signed-captain",
   "metadata": {
    "ExecuteTime": {
     "end_time": "2021-02-24T14:25:32.602759Z",
     "start_time": "2021-02-24T14:25:32.598924Z"
    }
   },
   "outputs": [],
   "source": [
    "X = iris['data'][:, 3:] # only select the petal width feature\n",
    "y = (iris['target'] == 2).astype(np.int8) # only want Iris virginica as positive class, everythign else 0"
   ]
  },
  {
   "cell_type": "code",
   "execution_count": 29,
   "id": "eleven-stability",
   "metadata": {
    "ExecuteTime": {
     "end_time": "2021-02-24T14:26:34.848654Z",
     "start_time": "2021-02-24T14:26:34.845357Z"
    }
   },
   "outputs": [],
   "source": [
    "from sklearn.linear_model import LogisticRegression"
   ]
  },
  {
   "cell_type": "code",
   "execution_count": 30,
   "id": "solved-details",
   "metadata": {
    "ExecuteTime": {
     "end_time": "2021-02-24T14:26:46.143898Z",
     "start_time": "2021-02-24T14:26:46.089275Z"
    }
   },
   "outputs": [
    {
     "data": {
      "text/plain": [
       "LogisticRegression()"
      ]
     },
     "execution_count": 30,
     "metadata": {},
     "output_type": "execute_result"
    }
   ],
   "source": [
    "log_reg = LogisticRegression()\n",
    "log_reg.fit(X, y)"
   ]
  },
  {
   "cell_type": "code",
   "execution_count": 90,
   "id": "multiple-portal",
   "metadata": {
    "ExecuteTime": {
     "end_time": "2021-02-24T15:04:53.981194Z",
     "start_time": "2021-02-24T15:04:53.974787Z"
    }
   },
   "outputs": [
    {
     "data": {
      "text/plain": [
       "(array([-7.1947083]), array([[4.3330846]]))"
      ]
     },
     "execution_count": 90,
     "metadata": {},
     "output_type": "execute_result"
    }
   ],
   "source": [
    "log_reg.intercept_, log_reg.coef_"
   ]
  },
  {
   "cell_type": "code",
   "execution_count": 52,
   "id": "amino-eagle",
   "metadata": {
    "ExecuteTime": {
     "end_time": "2021-02-24T14:35:45.976903Z",
     "start_time": "2021-02-24T14:35:45.534136Z"
    }
   },
   "outputs": [
    {
     "data": {
      "image/png": "[encoded data removed]",
      "text/plain": [
       "<Figure size 720x576 with 1 Axes>"
      ]
     },
     "metadata": {
      "needs_background": "light"
     },
     "output_type": "display_data"
    }
   ],
   "source": [
    "# Look at the probabilities it predicted based on petal width\n",
    "X_new = np.linspace(0, 3, 1000).reshape(-1, 1)\n",
    "y_proba = log_reg.predict_proba(X_new)\n",
    "plt.plot(X_new, y_proba[:, 1], 'g-', label='Iris virginica') # predict_prob outputs a probability for each class, hence [:,1] here\n",
    "plt.plot(X_new, y_proba[:, 0], 'b--', label='Not Iris virginica')\n",
    "plt.legend()\n",
    "plt.scatter(X[y==1].ravel(), y[y==1], marker='d', c='green')\n",
    "plt.scatter(X[y==0].ravel(), y[y==0], marker='o', c='blue')\n",
    "plt.xlabel('Petal width [cm]')\n",
    "plt.ylabel('Probability');"
   ]
  },
  {
   "cell_type": "markdown",
   "id": "logical-space",
   "metadata": {
    "ExecuteTime": {
     "end_time": "2021-02-24T14:32:48.337846Z",
     "start_time": "2021-02-24T14:32:48.332421Z"
    }
   },
   "source": [
    "Can see that the values are not cleanly separable: there is a region of values where they overlap. The actual decision boundary is at ~ 1.6cm - but the model just returns the class of whichever class has the larger probability."
   ]
  },
  {
   "cell_type": "code",
   "execution_count": 53,
   "id": "spare-wonder",
   "metadata": {
    "ExecuteTime": {
     "end_time": "2021-02-24T14:36:59.842123Z",
     "start_time": "2021-02-24T14:36:59.834458Z"
    }
   },
   "outputs": [
    {
     "data": {
      "text/plain": [
       "array([0, 1], dtype=int8)"
      ]
     },
     "execution_count": 53,
     "metadata": {},
     "output_type": "execute_result"
    }
   ],
   "source": [
    "log_reg.predict([[1.5], [1.7]])"
   ]
  },
  {
   "cell_type": "code",
   "execution_count": 58,
   "id": "competent-thumb",
   "metadata": {
    "ExecuteTime": {
     "end_time": "2021-02-24T14:38:01.358020Z",
     "start_time": "2021-02-24T14:38:01.354251Z"
    }
   },
   "outputs": [],
   "source": [
    "# Do the same, but for 2 features\n",
    "X = iris['data'][:, 2:] # only select the petal legnth & width\n",
    "y = (iris['target'] == 2).astype(np.int8) # only want Iris virginica as positive class, everythign else 0"
   ]
  },
  {
   "cell_type": "code",
   "execution_count": 59,
   "id": "architectural-conservation",
   "metadata": {
    "ExecuteTime": {
     "end_time": "2021-02-24T14:38:15.016059Z",
     "start_time": "2021-02-24T14:38:14.992913Z"
    }
   },
   "outputs": [
    {
     "data": {
      "text/plain": [
       "LogisticRegression()"
      ]
     },
     "execution_count": 59,
     "metadata": {},
     "output_type": "execute_result"
    }
   ],
   "source": [
    "log_reg_2d = LogisticRegression()\n",
    "log_reg_2d.fit(X, y)"
   ]
  },
  {
   "cell_type": "code",
   "execution_count": 83,
   "id": "composed-beauty",
   "metadata": {
    "ExecuteTime": {
     "end_time": "2021-02-24T14:50:35.167748Z",
     "start_time": "2021-02-24T14:50:35.107175Z"
    }
   },
   "outputs": [],
   "source": [
    "# Look at the probabilities it predicted based on petal width & length\n",
    "x1_new = np.linspace(0, 8, 1000)\n",
    "x2_new = np.linspace(0, 3, 1000)\n",
    "\n",
    "X_1, X_2 = np.meshgrid(x1_new, x2_new)  # builds two-dimensional grids from one-dimensional arrays\n",
    "y_proba = log_reg_2d.predict_proba(np.c_[X_1.reshape(-1, 1), X_2.reshape(-1, 1)]) # need to reshape meshgrids into 2-column array for predictions..."
   ]
  },
  {
   "cell_type": "code",
   "execution_count": 88,
   "id": "unlikely-cookie",
   "metadata": {
    "ExecuteTime": {
     "end_time": "2021-02-24T14:53:29.893835Z",
     "start_time": "2021-02-24T14:53:29.417682Z"
    }
   },
   "outputs": [
    {
     "data": {
      "image/png": "[encoded data removed]",
      "text/plain": [
       "<Figure size 720x576 with 1 Axes>"
      ]
     },
     "metadata": {
      "needs_background": "light"
     },
     "output_type": "display_data"
    }
   ],
   "source": [
    "cnt = plt.contour(X_1, X_2, y_proba[:,1:].reshape(X_1.shape), # ...then we reshape back to match meshgrid for plt.contour\n",
    "                  levels=[0.05, 0.25, 0.5, 0.75, 0.95], cmap='cool')\n",
    "plt.clabel(cnt, inline=1)\n",
    "plt.scatter(X[y==1, 0], X[y==1, 1], marker='d', c='green', label='Iris virginica')\n",
    "plt.scatter(X[y==0, 0], X[y==0, 1], marker='o', c='blue', label='Not iris virginica')\n",
    "plt.xlabel('Petal length [cm]')\n",
    "plt.ylabel('Petal width [cm]');\n",
    "plt.legend();"
   ]
  },
  {
   "cell_type": "markdown",
   "id": "fresh-kuwait",
   "metadata": {},
   "source": [
    "NB in sklearn, LogisticRegression already has ridge regression: instead of $\\alpha$, it is controlled by $C = 1/\\alpha$."
   ]
  },
  {
   "cell_type": "markdown",
   "id": "portable-neighbor",
   "metadata": {},
   "source": [
    "We can also find the decision boundary line:\n",
    "\n",
    "\\begin{equation}\n",
    "\\hat{p} = 0.5 = \\frac{1}{1+\\exp(-\\hat{y})} \\to \\hat{y} = 0.\n",
    "\\end{equation}\n",
    "\n",
    "Then we simply have to solve the linear regression for 2D case:\n",
    "\\begin{equation}\n",
    "\\vec{\\theta}\\cdot\\vec{x}  = 0 \\\\\n",
    "\\to \\\\\n",
    "x_2 = -\\frac{\\theta_1}{\\theta_2} x_1 - \\frac{b}{\\theta_2}\n",
    "\\end{equation}\n",
    "\n",
    "to get into the form $y=mx + c$"
   ]
  },
  {
   "cell_type": "markdown",
   "id": "identified-jones",
   "metadata": {},
   "source": [
    "## Softmax regression - logistic regression for multiple classes"
   ]
  },
  {
   "cell_type": "markdown",
   "id": "independent-annex",
   "metadata": {},
   "source": [
    "No need to multiple binary classifiers to generalise to multiple classes: can generalise to **softmax regression** or **multinomial logistic regression**.\n",
    "\n",
    "For a given instance $\\vec{x}$, compute score $s_k(\\vec{x})$ for each class $k$, with its own set of parameters $\\theta^{(k)}$:\n",
    "\n",
    "\\begin{equation}\n",
    "s_k(\\vec{x}) = \\vec{\\theta}^{(k)}\\cdot \\vec{x}\n",
    "\\end{equation}\n",
    "\n",
    "N.B. $\\theta$ can be stored in one parameter matrix, $\\mathbf{\\Theta}$, where each row corresponds to a class.\n",
    "\n",
    "Once $s_k$ has been computed for a given instance $\\vec{x}$, we can estimate the probability $\\hat{p}$ that the instance belongs to class $k$ using the **softmax function**:\n",
    "\n",
    "\\begin{equation}\n",
    "\\hat{p}_k = \\sigma(\\vec{s}(\\vec{x}))_k = \\frac{\\exp(s_k(\\vec{x}))}{\\sum_{j=1}^{K} \\exp(s_j(\\vec{x}))}\n",
    "\\end{equation}\n",
    "\n",
    "i.e. calculate the exponential of every score, and normalising them. Scores called **logits** or **log-odds** (altho techincally unnormalised log-odds).\n",
    "\n",
    "- Sum in denominator runs over all $K$ classes.\n",
    "\n",
    "- $\\vec{s}(\\vec{x})$ is the vector of scores for each class, for a given instance $\\vec{x}$.\n",
    "\n",
    "- $\\sigma(\\vec{s}(\\vec{x}))$ is the estimated probability that the instance $\\vec{x}$ belongs to the class $k$, gen the scores of each class for that instance.\n",
    "\n",
    "The classifier then predicts the class with the largest probability (so while it **is multiclass**, it is **not multioutput**)."
   ]
  },
  {
   "cell_type": "markdown",
   "id": "computational-principle",
   "metadata": {},
   "source": [
    "### Cross-entropy cost function"
   ]
  },
  {
   "cell_type": "markdown",
   "id": "sunset-thought",
   "metadata": {},
   "source": [
    "Use **cross-entropy** as cost function:\n",
    "\n",
    "\\begin{equation}\n",
    "J(\\mathbf{\\Theta}) = -\\frac{1}{m}\\sum_{i=1}^m \\sum_{k=1}^K y_k^{(i)} \\log(\\hat{p}^{(i)}_k)\n",
    "\\end{equation}\n",
    "\n",
    "where $y_k^{(i)}$ is the target probability that instance $i$ belongs to class $k$. Generally 1 or 0.\n",
    "\n",
    "When $K=2$, same as logistic regression cost function.\n",
    "\n",
    "Cross-entropy is the average number of bits you need to send information about something, given some prior assumptions you make about it.\n",
    "\n",
    "i.e. how many bits does it take to transform your assumed distribution $q$ into the distribution $p$: \n",
    "\\begin{equation}\n",
    "H(p, q) = - \\sum_x p(x) \\log q(x) \\text{ [discrete version]} = - \\mathrm{E}_p[\\log q(x)]\n",
    "\\end{equation}\n",
    "\n",
    "where $\\mathrm{E}_p[\\log q(x)]$ is the expected value of $\\log q(x)$ wrt p.\n",
    "\n",
    "To make the \"transformation cost\" bit more clear, we can also rewrite $H(p, q)$ as entropy of $p$ ($H(p)$) plus some extra part: the **Kullback-Leibler Divergence**, $D_{KL}$:\n",
    "\\begin{equation}\n",
    "H(p, q) = H(p) + D_{KL} (p||q) \\\\\n",
    "D_{KL} (p||q) = \\sum p \\log \\left( \\frac{p}{q} \\right)\n",
    "\\end{equation}\n",
    "\n",
    "Note - **not symmetric for** $p \\Leftrightarrow q$\n",
    "\n",
    "**Cross-entropy is log-likelihood**: assume we have outcomes $i$ with probability $q_i$, while the frequency of the outcome is $p_i$ in the training set, with $N$ events total. Then the total likelihood is:\n",
    "\\begin{equation}\n",
    "\\mathcal{L} = \\prod_i q_i^{Np_i} = \\prod_i (\\text{probability of outcome i})^{\\text{number of times i occurs}}\n",
    "\\end{equation}\n",
    "\n",
    "then the log-likelihood is\n",
    "\\begin{equation}\n",
    "\\log(\\mathcal{L}) = \\sum_i Np_i \\log(q_i)\n",
    "\\end{equation}\n",
    "\n",
    "and we can see that the averaged negative log-likelihood is just $H$:\n",
    "\\begin{equation}\n",
    "-\\frac{1}{N}\\log(\\mathcal{L}) = -\\sum_i p_i \\log(q_i) = H(p, q)\n",
    "\\end{equation}\n",
    "\n",
    "The gradient of cross-entropy is:\n",
    "\\begin{equation}\n",
    "\\nabla_{\\vec{\\theta}} J(\\mathbf{\\Theta}) = \\frac{1}{m} \\sum_{i=1}^m \\left( \\hat{p}_k^{(i)} - y_k^{(i)} \\right) \\vec{x}^{(i)}\n",
    "\\end{equation}\n",
    "\n",
    "which can then be used with GD"
   ]
  },
  {
   "cell_type": "markdown",
   "id": "sharp-documentary",
   "metadata": {},
   "source": [
    "## Softmax on Iris"
   ]
  },
  {
   "cell_type": "markdown",
   "id": "secure-space",
   "metadata": {},
   "source": [
    "sklearn uses OvR in `LogisticRegression` by default; to use softmax, add `multi_class=\"multinomial\"` to ctor, and specify a solver (`lbfgs`). It also uses $\\ell_2$ regularisation by default, controlled by `C` parameter (inverse strength)"
   ]
  },
  {
   "cell_type": "code",
   "execution_count": 91,
   "id": "deluxe-green",
   "metadata": {
    "ExecuteTime": {
     "end_time": "2021-02-24T16:25:18.322234Z",
     "start_time": "2021-02-24T16:25:18.280188Z"
    }
   },
   "outputs": [],
   "source": [
    "X = iris['data'][:, (2, 3)]  # petal length, width\n",
    "y = iris['target']"
   ]
  },
  {
   "cell_type": "code",
   "execution_count": 92,
   "id": "flying-green",
   "metadata": {
    "ExecuteTime": {
     "end_time": "2021-02-24T16:25:47.615972Z",
     "start_time": "2021-02-24T16:25:47.428078Z"
    }
   },
   "outputs": [
    {
     "data": {
      "text/plain": [
       "LogisticRegression(C=10, multi_class='multinomial')"
      ]
     },
     "execution_count": 92,
     "metadata": {},
     "output_type": "execute_result"
    }
   ],
   "source": [
    "softmax_reg = LogisticRegression(multi_class='multinomial', solver='lbfgs', C=10)\n",
    "softmax_reg.fit(X,y)"
   ]
  },
  {
   "cell_type": "code",
   "execution_count": 93,
   "id": "joined-pressing",
   "metadata": {
    "ExecuteTime": {
     "end_time": "2021-02-24T16:25:58.002868Z",
     "start_time": "2021-02-24T16:25:57.989640Z"
    }
   },
   "outputs": [
    {
     "data": {
      "text/plain": [
       "array([2])"
      ]
     },
     "execution_count": 93,
     "metadata": {},
     "output_type": "execute_result"
    }
   ],
   "source": [
    "softmax_reg.predict([[5, 2]])"
   ]
  },
  {
   "cell_type": "code",
   "execution_count": 94,
   "id": "greenhouse-transcript",
   "metadata": {
    "ExecuteTime": {
     "end_time": "2021-02-24T16:26:07.317218Z",
     "start_time": "2021-02-24T16:26:07.308391Z"
    }
   },
   "outputs": [
    {
     "data": {
      "text/plain": [
       "array([0, 1, 2])"
      ]
     },
     "execution_count": 94,
     "metadata": {},
     "output_type": "execute_result"
    }
   ],
   "source": [
    "softmax_reg.classes_"
   ]
  },
  {
   "cell_type": "code",
   "execution_count": 95,
   "id": "muslim-pavilion",
   "metadata": {
    "ExecuteTime": {
     "end_time": "2021-02-24T16:26:23.800196Z",
     "start_time": "2021-02-24T16:26:23.782484Z"
    }
   },
   "outputs": [
    {
     "data": {
      "text/plain": [
       "array([[6.38014896e-07, 5.74929995e-02, 9.42506362e-01]])"
      ]
     },
     "execution_count": 95,
     "metadata": {},
     "output_type": "execute_result"
    }
   ],
   "source": [
    "softmax_reg.predict_proba([[5, 2]])"
   ]
  },
  {
   "cell_type": "code",
   "execution_count": 104,
   "id": "cellular-advocate",
   "metadata": {
    "ExecuteTime": {
     "end_time": "2021-02-24T16:32:36.676707Z",
     "start_time": "2021-02-24T16:32:36.343114Z"
    }
   },
   "outputs": [],
   "source": [
    "# Look at the probabilities it predicted based on petal width & length\n",
    "x1_new = np.linspace(0, 8, 1000)\n",
    "x2_new = np.linspace(0, 3, 1000)\n",
    "\n",
    "X_1, X_2 = np.meshgrid(x1_new, x2_new)  # builds two-dimensional grids from one-dimensional arrays\n",
    "y_proba = softmax_reg.predict_proba(np.c_[X_1.reshape(-1, 1), X_2.reshape(-1, 1)]) # need to reshape meshgrids into 2-column array for predictions...\n",
    "y_predict = softmax_reg.predict(np.c_[X_1.reshape(-1, 1), X_2.reshape(-1, 1)]) # need to reshape meshgrids into 2-column array for predictions..."
   ]
  },
  {
   "cell_type": "code",
   "execution_count": 115,
   "id": "postal-victory",
   "metadata": {
    "ExecuteTime": {
     "end_time": "2021-02-24T16:34:49.069840Z",
     "start_time": "2021-02-24T16:34:48.383255Z"
    }
   },
   "outputs": [
    {
     "data": {
      "image/png": "[encoded data removed]",
      "text/plain": [
       "<Figure size 720x576 with 1 Axes>"
      ]
     },
     "metadata": {
      "needs_background": "light"
     },
     "output_type": "display_data"
    }
   ],
   "source": [
    "plt.contourf(X_1, X_2, y_predict.reshape(X_1.shape), cmap='Blues')\n",
    "cnt = plt.contour(X_1, X_2, y_proba[:,1:2].reshape(X_1.shape), # ...then we reshape back to match meshgrid for plt.contour\n",
    "                  levels=[0.25, 0.5, 0.75], cmap='brg')\n",
    "plt.clabel(cnt, inline=1)\n",
    "plt.scatter(X[y==2, 0], X[y==2, 1], marker='d', c='red', label=iris['target_names'][2])\n",
    "plt.scatter(X[y==1, 0], X[y==1, 1], marker='d', c='green', label=iris['target_names'][1])\n",
    "plt.scatter(X[y==0, 0], X[y==0, 1], marker='o', c='blue', label=iris['target_names'][0])\n",
    "plt.xlabel('Petal length [cm]')\n",
    "plt.ylabel('Petal width [cm]');\n",
    "plt.legend();"
   ]
  },
  {
   "cell_type": "markdown",
   "id": "possible-journalist",
   "metadata": {},
   "source": [
    "We can now see the decision boundary & probability line between classes.\n",
    "\n",
    "**Decision boundaries between classes is linear**."
   ]
  },
  {
   "cell_type": "markdown",
   "id": "finished-burner",
   "metadata": {},
   "source": [
    "# Exercises"
   ]
  },
  {
   "cell_type": "markdown",
   "id": "environmental-blend",
   "metadata": {},
   "source": [
    "### 1. Which LR training algo if you have millions of features?"
   ]
  },
  {
   "cell_type": "markdown",
   "id": "hungry-decrease",
   "metadata": {},
   "source": [
    "Stochastic or Mini-batch gradient descent. Not SVD or normal equation - too large for memory."
   ]
  },
  {
   "cell_type": "markdown",
   "id": "communist-oliver",
   "metadata": {},
   "source": [
    "### 2. Features have different scales - which algos might suffer? How to fix this?"
   ]
  },
  {
   "cell_type": "markdown",
   "id": "knowing-value",
   "metadata": {},
   "source": [
    "Gradient descent will look like a long bowl, and will take a while to converge to minimum. Regularisation methods also assume similar scales among features.\n",
    "\n",
    "Use StandardScaler to scale prior to fitting.\n",
    "\n",
    "Normal equation & SVD don't care about scales."
   ]
  },
  {
   "cell_type": "markdown",
   "id": "opening-tokyo",
   "metadata": {},
   "source": [
    "### 3. Can GD get stuck in minimum with Logistic regression model?"
   ]
  },
  {
   "cell_type": "markdown",
   "id": "pointed-dominican",
   "metadata": {},
   "source": [
    "No, it's a convex cost function"
   ]
  },
  {
   "cell_type": "markdown",
   "id": "developmental-seven",
   "metadata": {},
   "source": [
    "### 4. Do all GD algos converge to the same result (if left long enough)?"
   ]
  },
  {
   "cell_type": "markdown",
   "id": "beneficial-nursing",
   "metadata": {},
   "source": [
    "In theory, all should head towards the same minimum provided learning rate not too high, and cost function convex.\n",
    "Not necessarily - stochastic GD will keep flitting about. Need to reduce learning rate as it converges towards a solution."
   ]
  },
  {
   "cell_type": "markdown",
   "id": "common-charleston",
   "metadata": {},
   "source": [
    "### 5. Use batch GD, but validation error increases with every epoch - why? How to fix?"
   ]
  },
  {
   "cell_type": "markdown",
   "id": "herbal-contrary",
   "metadata": {},
   "source": [
    "If training error _not_ increasing, then model is overfitting to training data and not generalising well. (or you screwed up training & validation datasets so that the latter isn't similar to the former)\n",
    "\n",
    "If training model also increasing, then learning rate too high - starting to diverge."
   ]
  },
  {
   "cell_type": "markdown",
   "id": "virtual-baker",
   "metadata": {},
   "source": [
    "### 6. Should you stop mini-batch GD once validation error goes up?"
   ]
  },
  {
   "cell_type": "markdown",
   "id": "sophisticated-choir",
   "metadata": {},
   "source": [
    "Not necessarily - somewhat stochastic, so require it to go up consistently for N > 1 iterations, then stop it."
   ]
  },
  {
   "cell_type": "markdown",
   "id": "urban-cooperative",
   "metadata": {},
   "source": [
    "### 7. Which GD algo reaches near optimum solution fastest? Which converges?"
   ]
  },
  {
   "cell_type": "markdown",
   "id": "through-portuguese",
   "metadata": {},
   "source": [
    "Mini-batch and stochastic GD will reach it first as only need a few instances, not whole dataset. But harder to converge due to stochastic nature. Solve by reducing learning rate with # steps."
   ]
  },
  {
   "cell_type": "markdown",
   "id": "nutritional-bikini",
   "metadata": {},
   "source": [
    "### 8. Using polynomial regression - but large diff between training error & validation error. Why? How to solve?"
   ]
  },
  {
   "cell_type": "markdown",
   "id": "conscious-slide",
   "metadata": {},
   "source": [
    "Probably overfitting to training set, not generalising to validation set.\n",
    "\n",
    "Solve by:\n",
    "\n",
    "- reducing model complexity (reduce degree)\n",
    "- regularise with ridge/lasso\n",
    "- increase training dataset size"
   ]
  },
  {
   "cell_type": "markdown",
   "id": "parental-cabin",
   "metadata": {},
   "source": [
    "### 9. Using ridge regression - training error ~ validation err, but both high. Is this high bias or high variance? Increase $\\alpha$ or reduce it?"
   ]
  },
  {
   "cell_type": "markdown",
   "id": "adjacent-verse",
   "metadata": {},
   "source": [
    "High bias - probably underfitting. Reduce $\\alpha$ to reduce regularisation effect, allow more complexity."
   ]
  },
  {
   "cell_type": "markdown",
   "id": "auburn-teach",
   "metadata": {},
   "source": [
    "### 10. Why would you use ridge regression vs linear? Lasso vs ridge? Elastic net vs lasso?"
   ]
  },
  {
   "cell_type": "markdown",
   "id": "czech-market",
   "metadata": {},
   "source": [
    "Ridge vs linear:\n",
    "\n",
    "- to ensure model doesn't overfit, performs better\n",
    "\n",
    "Lasso vs ridge:\n",
    "\n",
    "- Lasso can remove redundant parameters - gives sparse model\n",
    "\n",
    "Elastic net vs lasso:\n",
    "\n",
    "- Elastic net behaves better if # features > # samples, or correlated features"
   ]
  },
  {
   "cell_type": "markdown",
   "id": "reasonable-deficit",
   "metadata": {},
   "source": [
    "### 11. Classify pictures as outdoor/indoor and day/night. Use 2 Logisitic regressions? Or one softmax classifier?"
   ]
  },
  {
   "cell_type": "markdown",
   "id": "recognized-bathroom",
   "metadata": {},
   "source": [
    "Use 2 Logisitic regressions, since not exclusive classes, i.e. totally separate things to classify. Softmax only good for multiclass classifier, for mutually exclusive classes."
   ]
  },
  {
   "cell_type": "markdown",
   "id": "optimum-karaoke",
   "metadata": {},
   "source": [
    "### 12. Do batch GD with early stopping for Softmax without sklearn"
   ]
  },
  {
   "cell_type": "code",
   "execution_count": 118,
   "id": "statutory-middle",
   "metadata": {
    "ExecuteTime": {
     "end_time": "2021-02-24T17:08:22.695127Z",
     "start_time": "2021-02-24T17:08:22.671997Z"
    }
   },
   "outputs": [],
   "source": [
    "X = iris['data'][:, (2, 3)]  # petal length, width\n",
    "y = iris['target']"
   ]
  },
  {
   "cell_type": "code",
   "execution_count": 121,
   "id": "sufficient-matrix",
   "metadata": {
    "ExecuteTime": {
     "end_time": "2021-02-24T17:09:10.315972Z",
     "start_time": "2021-02-24T17:09:10.305386Z"
    }
   },
   "outputs": [
    {
     "data": {
      "text/plain": [
       "array([50, 50, 50])"
      ]
     },
     "execution_count": 121,
     "metadata": {},
     "output_type": "execute_result"
    }
   ],
   "source": [
    "np.bincount(y)"
   ]
  },
  {
   "cell_type": "code",
   "execution_count": 273,
   "id": "excellent-projection",
   "metadata": {
    "ExecuteTime": {
     "end_time": "2021-02-24T18:13:12.293686Z",
     "start_time": "2021-02-24T18:13:12.287526Z"
    }
   },
   "outputs": [],
   "source": [
    "np.random.seed(2042)"
   ]
  },
  {
   "cell_type": "code",
   "execution_count": 179,
   "id": "adaptive-cattle",
   "metadata": {
    "ExecuteTime": {
     "end_time": "2021-02-24T17:38:08.220976Z",
     "start_time": "2021-02-24T17:38:08.216138Z"
    }
   },
   "outputs": [],
   "source": [
    "# Add a bias term\n",
    "X_with_bias = np.c_[np.ones([len(X), 1]), X]"
   ]
  },
  {
   "cell_type": "markdown",
   "id": "educated-savings",
   "metadata": {},
   "source": [
    "We need training & validation sets in order to do early stopping."
   ]
  },
  {
   "cell_type": "code",
   "execution_count": 274,
   "id": "terminal-accident",
   "metadata": {
    "ExecuteTime": {
     "end_time": "2021-02-24T18:13:16.371666Z",
     "start_time": "2021-02-24T18:13:16.365955Z"
    }
   },
   "outputs": [],
   "source": [
    "def my_test_train_split(X, y, test_factor):\n",
    "    # TODO we should make sure we split per class, to avoid ruining fractions?\n",
    "    N = len(X)\n",
    "    N_training = int(N * (1-test_factor))\n",
    "    rand_ind = np.random.permutation(N)\n",
    "    X_shuffled = X[rand_ind,:]\n",
    "    y_shuffled = y[rand_ind]\n",
    "    X_train = X_shuffled[:N_training, :]\n",
    "    X_test = X_shuffled[N_training:, :]\n",
    "    y_train = y_shuffled[:N_training]\n",
    "    y_test = y_shuffled[N_training:]\n",
    "    return X_train, X_test, y_train, y_test"
   ]
  },
  {
   "cell_type": "code",
   "execution_count": 322,
   "id": "developed-still",
   "metadata": {
    "ExecuteTime": {
     "end_time": "2021-02-24T18:24:01.741541Z",
     "start_time": "2021-02-24T18:24:01.734754Z"
    }
   },
   "outputs": [
    {
     "name": "stdout",
     "output_type": "stream",
     "text": [
      "(120, 3) (30, 3) (120,) (30,)\n"
     ]
    }
   ],
   "source": [
    "X_train, X_test, y_train, y_test = my_test_train_split(X_with_bias, y, 0.2)\n",
    "print(X_train.shape, X_test.shape, y_train.shape, y_test.shape)"
   ]
  },
  {
   "cell_type": "markdown",
   "id": "superior-prophet",
   "metadata": {},
   "source": [
    "We also need to convert our class categories into one-hot encoding, so we can have a probability per class:"
   ]
  },
  {
   "cell_type": "code",
   "execution_count": 323,
   "id": "vocal-moldova",
   "metadata": {
    "ExecuteTime": {
     "end_time": "2021-02-24T18:24:03.032319Z",
     "start_time": "2021-02-24T18:24:03.027575Z"
    }
   },
   "outputs": [],
   "source": [
    "def convert_to_one_hot(y):\n",
    "    unique_vals = np.unique(y)\n",
    "    result = np.zeros((len(y), len(unique_vals)))\n",
    "    result[np.arange(len(y)), y] = 1  # why arange needed? why doesnt : work?\n",
    "    return result"
   ]
  },
  {
   "cell_type": "code",
   "execution_count": 324,
   "id": "stopped-cisco",
   "metadata": {
    "ExecuteTime": {
     "end_time": "2021-02-24T18:24:03.243690Z",
     "start_time": "2021-02-24T18:24:03.239540Z"
    }
   },
   "outputs": [],
   "source": [
    "y_train_one_hot = convert_to_one_hot(y_train)\n",
    "y_test_one_hot = convert_to_one_hot(y_test)"
   ]
  },
  {
   "cell_type": "code",
   "execution_count": 325,
   "id": "large-frost",
   "metadata": {
    "ExecuteTime": {
     "end_time": "2021-02-24T18:24:03.447067Z",
     "start_time": "2021-02-24T18:24:03.439070Z"
    }
   },
   "outputs": [
    {
     "data": {
      "text/plain": [
       "array([[1., 0., 0.],\n",
       "       [1., 0., 0.],\n",
       "       [0., 0., 1.],\n",
       "       [0., 0., 1.],\n",
       "       [0., 0., 1.],\n",
       "       [0., 0., 1.],\n",
       "       [0., 0., 1.],\n",
       "       [0., 1., 0.],\n",
       "       [0., 1., 0.],\n",
       "       [0., 1., 0.]])"
      ]
     },
     "execution_count": 325,
     "metadata": {},
     "output_type": "execute_result"
    }
   ],
   "source": [
    "y_train_one_hot[:10]"
   ]
  },
  {
   "cell_type": "code",
   "execution_count": 326,
   "id": "unsigned-control",
   "metadata": {
    "ExecuteTime": {
     "end_time": "2021-02-24T18:24:03.637086Z",
     "start_time": "2021-02-24T18:24:03.633108Z"
    }
   },
   "outputs": [],
   "source": [
    "def softmax(scores):\n",
    "    exp_scores = np.exp(scores)\n",
    "    return exp_scores / exp_scores.sum(axis=1, keepdims=True) # keep dims to keep shape to divide properly"
   ]
  },
  {
   "cell_type": "code",
   "execution_count": 371,
   "id": "economic-andorra",
   "metadata": {
    "ExecuteTime": {
     "end_time": "2021-02-24T18:28:39.533318Z",
     "start_time": "2021-02-24T18:28:36.920656Z"
    }
   },
   "outputs": [
    {
     "name": "stdout",
     "output_type": "stream",
     "text": [
      "n_features 3 n_classes 3 n_samples 120\n",
      "(120, 3)\n",
      "theta (3, 3)\n",
      "starting theta [[ 0.46624682 -1.32861607 -0.61815701]\n",
      " [ 0.43324777 -0.71465491 -0.50059806]\n",
      " [-0.3425436   0.89463347  1.49876834]]\n",
      "stopping at 16408\n",
      "best theta [[ 3.74411703 -0.03487873 -5.18976456]\n",
      " [-1.09121336  0.11892999  0.97228337]\n",
      " [-0.43857015 -0.13446195  0.5730321 ]]\n",
      "best epoch 16407\n",
      "best score 0.5027738389207119\n"
     ]
    }
   ],
   "source": [
    "# batch GD\n",
    "eta = 0.1  # learning rate\n",
    "n_iterations = 100000\n",
    "\n",
    "n_features = X_train.shape[1]\n",
    "n_classes = y_train_one_hot.shape[1]\n",
    "n_samples = X_train.shape[0]\n",
    "print('n_features', n_features, 'n_classes', n_classes, 'n_samples', n_samples)\n",
    "print(X_train.shape)\n",
    "theta = np.random.randn(n_features, n_classes) # include bias term\n",
    "print('theta', theta.shape)\n",
    "print('starting theta', theta)\n",
    "\n",
    "# regularisation strength\n",
    "alpha = 0.1\n",
    "\n",
    "# for early stopping\n",
    "best_theta = theta\n",
    "best_score = np.inf\n",
    "best_epoch = -1\n",
    "\n",
    "for iteration in range(n_iterations):\n",
    "    # calc score\n",
    "    scores = X_train @ theta # scores is a n_samples x n_classes matrix\n",
    "    y_proba = softmax(scores) # yproba is a n_samples x n_classes matrix\n",
    "    \n",
    "    # cross entropy cost function\n",
    "    cross_entropy = -np.mean(np.sum(y_train_one_hot * np.log(y_proba + 1E-7), axis=1)) # axis=1 to sum over classes, mean will sum over rows. add 1E-7 to avoid log(0)\n",
    "    l2_loss = 0.5 * np.sum(np.square(theta[1:]))\n",
    "    \n",
    "    j = cross_entropy + alpha*l2_loss\n",
    "    \n",
    "    # calc gradient, also include regularisation term (that excludes bias, 1st row)\n",
    "    gradients = ((X_train.T @ (y_proba - y_train_one_hot)) / n_samples) +  np.r_[np.zeros([1, n_classes]), alpha * theta[1:]]\n",
    "#     print(gradients.shape)\n",
    "\n",
    "    # update theta\n",
    "    theta = theta - eta * gradients\n",
    "\n",
    "    if j < best_score:\n",
    "        best_score = j\n",
    "        best_theta = np.copy(theta)\n",
    "        best_epoch = iteration\n",
    "    else:\n",
    "        print('stopping at', iteration)\n",
    "        break\n",
    "#     print(iteration, theta, j)\n",
    "\n",
    "print('best theta', best_theta)\n",
    "print('best epoch', best_epoch)\n",
    "print('best score', best_score)"
   ]
  },
  {
   "cell_type": "markdown",
   "id": "little-tournament",
   "metadata": {},
   "source": [
    "We can test our model on the test set:"
   ]
  },
  {
   "cell_type": "code",
   "execution_count": 372,
   "id": "decimal-recipe",
   "metadata": {
    "ExecuteTime": {
     "end_time": "2021-02-24T18:28:39.542072Z",
     "start_time": "2021-02-24T18:28:39.536843Z"
    }
   },
   "outputs": [],
   "source": [
    "scores = X_test @ best_theta\n",
    "y_test_proba = softmax(scores)\n",
    "y_predict = np.argmax(y_test_proba, axis=1) # convert probabilities into predictions"
   ]
  },
  {
   "cell_type": "code",
   "execution_count": 373,
   "id": "talented-brass",
   "metadata": {
    "ExecuteTime": {
     "end_time": "2021-02-24T18:28:39.552810Z",
     "start_time": "2021-02-24T18:28:39.546274Z"
    }
   },
   "outputs": [
    {
     "data": {
      "text/plain": [
       "1.0"
      ]
     },
     "execution_count": 373,
     "metadata": {},
     "output_type": "execute_result"
    }
   ],
   "source": [
    "accuracy_score = np.mean(y_predict == y_test)\n",
    "accuracy_score"
   ]
  },
  {
   "cell_type": "markdown",
   "id": "structured-planet",
   "metadata": {},
   "source": [
    "Impressive accuracy! Probably from being so small?\n",
    "\n",
    "Plot decision boundaries:"
   ]
  },
  {
   "cell_type": "code",
   "execution_count": 374,
   "id": "instructional-sweden",
   "metadata": {
    "ExecuteTime": {
     "end_time": "2021-02-24T18:28:39.596057Z",
     "start_time": "2021-02-24T18:28:39.556010Z"
    }
   },
   "outputs": [],
   "source": [
    "x1_new = np.linspace(0, 8, 1000)\n",
    "x2_new = np.linspace(0, 3, 1000)\n",
    "\n",
    "X_1, X_2 = np.meshgrid(x1_new, x2_new)  # builds two-dimensional grids from one-dimensional arrays\n",
    "X_1_flat = X_1.ravel()\n",
    "X_2_flat = X_2.ravel()\n",
    "X_contour = np.c_[np.ones_like(X_1_flat), X_1_flat, X_2_flat] # add bias term, convert to format we expect of (m * n)"
   ]
  },
  {
   "cell_type": "code",
   "execution_count": 375,
   "id": "flying-birmingham",
   "metadata": {
    "ExecuteTime": {
     "end_time": "2021-02-24T18:28:39.714547Z",
     "start_time": "2021-02-24T18:28:39.600428Z"
    }
   },
   "outputs": [],
   "source": [
    "logits = X_contour @ best_theta\n",
    "y_proba = softmax(logits)\n",
    "y_predicts = np.argmax(y_proba, axis=1)"
   ]
  },
  {
   "cell_type": "code",
   "execution_count": 376,
   "id": "bigger-white",
   "metadata": {
    "ExecuteTime": {
     "end_time": "2021-02-24T18:28:40.508850Z",
     "start_time": "2021-02-24T18:28:39.718092Z"
    }
   },
   "outputs": [
    {
     "data": {
      "image/png": "[encoded data removed]",
      "text/plain": [
       "<Figure size 720x576 with 1 Axes>"
      ]
     },
     "metadata": {
      "needs_background": "light"
     },
     "output_type": "display_data"
    }
   ],
   "source": [
    "plt.contourf(X_1, X_2, y_predicts.reshape(X_1.shape), cmap='Blues')\n",
    "cnt = plt.contour(X_1, X_2, y_proba[:,1].reshape(X_1.shape), # ...then we reshape back to match meshgrid for plt.contour\n",
    "                  levels=[0.25, 0.5, 0.75], cmap='brg')\n",
    "plt.clabel(cnt, inline=1)\n",
    "plt.scatter(X[y==2, 0], X[y==2, 1], marker='d', c='red', label=iris['target_names'][2])\n",
    "plt.scatter(X[y==1, 0], X[y==1, 1], marker='d', c='green', label=iris['target_names'][1])\n",
    "plt.scatter(X[y==0, 0], X[y==0, 1], marker='o', c='blue', label=iris['target_names'][0])\n",
    "plt.xlabel('Petal length [cm]')\n",
    "plt.ylabel('Petal width [cm]');\n",
    "plt.legend();"
   ]
  },
  {
   "cell_type": "markdown",
   "id": "polar-edition",
   "metadata": {},
   "source": [
    "Yay it looks reasonable!"
   ]
  },
  {
   "cell_type": "code",
   "execution_count": null,
   "id": "rural-divide",
   "metadata": {},
   "outputs": [],
   "source": []
  }
 ],
 "metadata": {
  "kernelspec": {
   "display_name": "handsonml",
   "language": "python",
   "name": "handsonml"
  },
  "language_info": {
   "codemirror_mode": {
    "name": "ipython",
    "version": 3
   },
   "file_extension": ".py",
   "mimetype": "text/x-python",
   "name": "python",
   "nbconvert_exporter": "python",
   "pygments_lexer": "ipython3",
   "version": "3.7.5"
  },
  "toc": {
   "base_numbering": 1,
   "nav_menu": {
    "height": "386.997px",
    "width": "356.997px"
   },
   "number_sections": true,
   "sideBar": true,
   "skip_h1_title": false,
   "title_cell": "Table of Contents",
   "title_sidebar": "Contents",
   "toc_cell": false,
   "toc_position": {
    "height": "calc(100% - 180px)",
    "left": "10px",
    "top": "150px",
    "width": "276.441px"
   },
   "toc_section_display": true,
   "toc_window_display": false
  }
 },
 "nbformat": 4,
 "nbformat_minor": 5
}
