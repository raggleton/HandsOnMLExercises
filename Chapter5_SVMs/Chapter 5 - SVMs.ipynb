{
 "cells": [
  {
   "cell_type": "markdown",
   "id": "central-group",
   "metadata": {},
   "source": [
    "**SVM** = support vector machine"
   ]
  },
  {
   "cell_type": "markdown",
   "id": "turned-barrel",
   "metadata": {},
   "source": [
    "# Linear SVM classification"
   ]
  },
  {
   "cell_type": "markdown",
   "id": "outer-composite",
   "metadata": {},
   "source": [
    "**Linearly separable** classes : can be easily defined/separated with a straight line/plane in parameter space\n",
    "\n",
    "**Large margin classification**: fitting widest possible \"street\" (i.e. gap parallel to decision boundary, the ) between classes to define decision boundary.\n",
    "\n",
    " > a good separation is achieved by the hyper-plane that has the largest distance to the nearest training data points of any class (so-called functional margin)\n",
    "\n",
    "**Support vectors**: instances in data that fully define (\"support\") the decision boundary - all other instances are not used\n",
    "\n",
    "NB SVMs are **scale-dependent**: the widest possible margin boundary depends on the relative scale of each parameter, e.g. if one parameters scale >> others, the margin will be vertical in that axis\n",
    "\n",
    "**Hard margin classification**: all instances must be off the street (not in the margin), and on the correct side of the decision boundary. Is sensitive to outliers, and only works when linearly separable.\n",
    "\n",
    "**Soft margin classification**: allow for instances to be \"in\" the street (in the margin), or on the wrong side of the decision boundary = **margin violations**\n",
    "\n",
    "\n",
    "In sklearn, `C` parameter controls how many margin violations are acceptable: smaller `C` = more violations.\n",
    "\n",
    "NB `LinearSVC` can be much faster than `SVC(kernel='linear')`"
   ]
  },
  {
   "cell_type": "code",
   "execution_count": 1,
   "id": "expressed-movie",
   "metadata": {
    "ExecuteTime": {
     "end_time": "2021-03-01T12:08:36.948608Z",
     "start_time": "2021-03-01T12:08:36.347910Z"
    }
   },
   "outputs": [],
   "source": [
    "import numpy as np\n",
    "import matplotlib as mpl\n",
    "import matplotlib.pyplot as plt\n",
    "%matplotlib inline\n",
    "mpl.rcParams['font.size'] = 14\n",
    "mpl.rcParams['figure.figsize'] = (10, 8)"
   ]
  },
  {
   "cell_type": "code",
   "execution_count": 2,
   "id": "dental-configuration",
   "metadata": {
    "ExecuteTime": {
     "end_time": "2021-03-01T12:08:38.309680Z",
     "start_time": "2021-03-01T12:08:36.951150Z"
    }
   },
   "outputs": [],
   "source": [
    "from sklearn import datasets\n",
    "from sklearn.pipeline import Pipeline\n",
    "from sklearn.preprocessing import StandardScaler\n",
    "from sklearn.svm import LinearSVC"
   ]
  },
  {
   "cell_type": "code",
   "execution_count": 4,
   "id": "sophisticated-nicholas",
   "metadata": {
    "ExecuteTime": {
     "end_time": "2021-02-25T10:19:01.489855Z",
     "start_time": "2021-02-25T10:19:01.472407Z"
    }
   },
   "outputs": [],
   "source": [
    "iris = datasets.load_iris()\n",
    "X = iris['data'][:, (2, 3)] # only use peta length, width\n",
    "y = (iris['target'] == 2).astype(np.float64) # whether Iris virginica or not"
   ]
  },
  {
   "cell_type": "code",
   "execution_count": 24,
   "id": "civic-robert",
   "metadata": {
    "ExecuteTime": {
     "end_time": "2021-02-25T10:57:57.999337Z",
     "start_time": "2021-02-25T10:57:57.980868Z"
    }
   },
   "outputs": [
    {
     "data": {
      "text/plain": [
       "Pipeline(steps=[('scaler', StandardScaler()),\n",
       "                ('linear_svc', LinearSVC(C=1, loss='hinge'))])"
      ]
     },
     "execution_count": 24,
     "metadata": {},
     "output_type": "execute_result"
    }
   ],
   "source": [
    "svm_clf = Pipeline([\n",
    "    ('scaler', StandardScaler()),\n",
    "    ('linear_svc', LinearSVC(C=1, loss='hinge'))\n",
    "])\n",
    "\n",
    "svm_clf.fit(X, y)"
   ]
  },
  {
   "cell_type": "code",
   "execution_count": 25,
   "id": "voluntary-giant",
   "metadata": {
    "ExecuteTime": {
     "end_time": "2021-02-25T10:57:58.299207Z",
     "start_time": "2021-02-25T10:57:58.290275Z"
    }
   },
   "outputs": [
    {
     "data": {
      "text/plain": [
       "array([1.])"
      ]
     },
     "execution_count": 25,
     "metadata": {},
     "output_type": "execute_result"
    }
   ],
   "source": [
    "svm_clf.predict([[5.5, 1.7]])"
   ]
  },
  {
   "cell_type": "markdown",
   "id": "placed-vegetable",
   "metadata": {},
   "source": [
    "**NB** unlike logistic regression, SVMs don't output class probabilities, only class predictions."
   ]
  },
  {
   "cell_type": "code",
   "execution_count": null,
   "id": "partial-socket",
   "metadata": {},
   "outputs": [],
   "source": [
    "# Instead of LienarSVC can also do:\n",
    "SVC(kernel='linear', C=1)\n",
    "# or\n",
    "SGDClassifier(loss='hinge', alpha=1/(m*C))\n",
    "# SGD doesn't converge as fast as SVM but can do out-of-core training or online classification"
   ]
  },
  {
   "cell_type": "markdown",
   "id": "continental-medicaid",
   "metadata": {},
   "source": [
    "**NB** LinearSVC also regularises bias term - need to **center** training data by subtracting mean (already done in StandardScaler)."
   ]
  },
  {
   "cell_type": "code",
   "execution_count": 276,
   "id": "subsequent-pricing",
   "metadata": {
    "ExecuteTime": {
     "end_time": "2021-02-27T10:09:49.154783Z",
     "start_time": "2021-02-27T10:09:49.146610Z"
    }
   },
   "outputs": [],
   "source": [
    "def draw_decision_boundary(pipeline, x_min, x_max, *plot_args, **plot_kwargs):\n",
    "    # in the 2D plane, the boundary is a straight line\n",
    "    # at the decision boundary, theta*x + b = 0\n",
    "    # so y = -(theta1/theta2)x - (b/theta2)\n",
    "    # but this is all complicated by scaling, which we have to \"undo\"\n",
    "    # to get back into unscaled space\n",
    "    scaler = pipeline.steps[0][1]\n",
    "    mean1, mean2 = scaler.mean_\n",
    "    sigma1, sigma2 = scaler.scale_\n",
    "    \n",
    "    # scaled variables passed to svm are\n",
    "    # x' = (x - mean) / (scale)\n",
    "    svm = pipeline.steps[1][1]\n",
    "    theta = svm.coef_[0]\n",
    "    theta1, theta2 = theta\n",
    "    intercept = svm.intercept_[0]\n",
    "\n",
    "    x = np.linspace(x_min, x_max, 50)\n",
    "    \n",
    "    m = -(theta1 * sigma2) / (theta2 * sigma1)\n",
    "    c = mean2 + (sigma2 * theta1 * mean1) / (sigma1 * theta2) - (intercept * sigma2 / theta2)\n",
    "    \n",
    "    y = m*x +c\n",
    "\n",
    "    plt.plot(x, y, *plot_args, **plot_kwargs)"
   ]
  },
  {
   "cell_type": "code",
   "execution_count": 29,
   "id": "legislative-bouquet",
   "metadata": {
    "ExecuteTime": {
     "end_time": "2021-02-25T11:03:00.083468Z",
     "start_time": "2021-02-25T11:03:00.073964Z"
    }
   },
   "outputs": [
    {
     "data": {
      "text/plain": [
       "[('scaler', StandardScaler()), ('linear_svc', LinearSVC(C=1, loss='hinge'))]"
      ]
     },
     "execution_count": 29,
     "metadata": {},
     "output_type": "execute_result"
    }
   ],
   "source": [
    "svm_clf.steps"
   ]
  },
  {
   "cell_type": "code",
   "execution_count": 35,
   "id": "stupid-visiting",
   "metadata": {
    "ExecuteTime": {
     "end_time": "2021-02-25T11:08:31.548068Z",
     "start_time": "2021-02-25T11:08:31.144390Z"
    }
   },
   "outputs": [
    {
     "data": {
      "image/png": "[encoded data removed]",
      "text/plain": [
       "<Figure size 720x576 with 1 Axes>"
      ]
     },
     "metadata": {
      "needs_background": "light"
     },
     "output_type": "display_data"
    }
   ],
   "source": [
    "fig, ax = plt.subplots(ncols=1, nrows=1)\n",
    "ax.scatter(X[y==1, 0], X[y==1, 1], label='iris virginica')\n",
    "ax.scatter(X[y==0, 0], X[y==0, 1], marker='s', label='not iris virginica')\n",
    "svm = svm_clf.named_steps['linear_svc']\n",
    "# draw decision boundary\n",
    "x_min, x_max = 1, 7\n",
    "draw_decision_boundary(svm_clf, x_min, x_max)\n",
    "# highlight support vectors isn't possible for LinearSVC, unlike normal SVC?!\n",
    "plt.xlim(x_min, x_max)\n",
    "plt.legend();"
   ]
  },
  {
   "cell_type": "markdown",
   "id": "cordless-sense",
   "metadata": {},
   "source": [
    "# Nonlinear SVM classification"
   ]
  },
  {
   "cell_type": "markdown",
   "id": "alone-costume",
   "metadata": {},
   "source": [
    "Most datasets aren't linearly separable - better to add more features, e.g. polynomial ones. Can turn datasets into linearly separable ones\n",
    "\n",
    "Test on \"moons\" dataset - 2 interleaving half circles"
   ]
  },
  {
   "cell_type": "code",
   "execution_count": 3,
   "id": "valid-speaker",
   "metadata": {
    "ExecuteTime": {
     "end_time": "2021-03-01T12:08:38.317472Z",
     "start_time": "2021-03-01T12:08:38.313308Z"
    }
   },
   "outputs": [],
   "source": [
    "from sklearn.datasets import make_moons\n",
    "from sklearn.pipeline import Pipeline\n",
    "from sklearn.preprocessing import PolynomialFeatures"
   ]
  },
  {
   "cell_type": "code",
   "execution_count": 102,
   "id": "former-orange",
   "metadata": {
    "ExecuteTime": {
     "end_time": "2021-02-25T12:51:09.747188Z",
     "start_time": "2021-02-25T12:51:09.742485Z"
    }
   },
   "outputs": [],
   "source": [
    "X, y = make_moons(n_samples=100, noise=0.15)"
   ]
  },
  {
   "cell_type": "code",
   "execution_count": 117,
   "id": "utility-tradition",
   "metadata": {
    "ExecuteTime": {
     "end_time": "2021-02-25T12:51:46.226311Z",
     "start_time": "2021-02-25T12:51:46.221945Z"
    }
   },
   "outputs": [],
   "source": [
    "polynomial_svm_clf = Pipeline([\n",
    "    ('poly_features', PolynomialFeatures(degree=3)),\n",
    "    ('scaler', StandardScaler()),\n",
    "    ('svm_clf', LinearSVC(C=10, loss='hinge'))\n",
    "])"
   ]
  },
  {
   "cell_type": "code",
   "execution_count": 118,
   "id": "understood-federal",
   "metadata": {
    "ExecuteTime": {
     "end_time": "2021-02-25T12:51:46.683057Z",
     "start_time": "2021-02-25T12:51:46.676849Z"
    }
   },
   "outputs": [
    {
     "data": {
      "text/plain": [
       "(100, 2)"
      ]
     },
     "execution_count": 118,
     "metadata": {},
     "output_type": "execute_result"
    }
   ],
   "source": [
    "X.shape"
   ]
  },
  {
   "cell_type": "code",
   "execution_count": 119,
   "id": "productive-consensus",
   "metadata": {
    "ExecuteTime": {
     "end_time": "2021-02-25T12:51:46.854505Z",
     "start_time": "2021-02-25T12:51:46.846279Z"
    }
   },
   "outputs": [
    {
     "data": {
      "text/plain": [
       "(100,)"
      ]
     },
     "execution_count": 119,
     "metadata": {},
     "output_type": "execute_result"
    }
   ],
   "source": [
    "y.shape"
   ]
  },
  {
   "cell_type": "code",
   "execution_count": 120,
   "id": "growing-savings",
   "metadata": {
    "ExecuteTime": {
     "end_time": "2021-02-25T12:51:47.007082Z",
     "start_time": "2021-02-25T12:51:46.991052Z"
    }
   },
   "outputs": [
    {
     "data": {
      "text/plain": [
       "Pipeline(steps=[('poly_features', PolynomialFeatures(degree=3)),\n",
       "                ('scaler', StandardScaler()),\n",
       "                ('svm_clf', LinearSVC(C=10, loss='hinge'))])"
      ]
     },
     "execution_count": 120,
     "metadata": {},
     "output_type": "execute_result"
    }
   ],
   "source": [
    "polynomial_svm_clf.fit(X, y)"
   ]
  },
  {
   "cell_type": "code",
   "execution_count": 131,
   "id": "military-links",
   "metadata": {
    "ExecuteTime": {
     "end_time": "2021-02-25T12:58:22.098071Z",
     "start_time": "2021-02-25T12:58:22.087891Z"
    }
   },
   "outputs": [],
   "source": [
    "def draw_moon_classification(clf, title):\n",
    "    # draw decision areas by using contours\n",
    "    x1 = np.linspace(-1.5, 2.5, 100)\n",
    "    x2 = np.linspace(-1, 1.25, 100)\n",
    "    X1, X2 = np.meshgrid(x1, x2)\n",
    "    y_predict = clf.predict(np.c_[X1.reshape(-1, 1), X2.reshape(-1, 1)])\n",
    "    y_predict = y_predict.reshape(X1.shape)\n",
    "    \n",
    "    plt.contourf(X1, X2, y_predict, cmap='Pastel2')\n",
    "    plt.scatter(X[y==0, 0], X[y==0, 1], c='b', marker='s', label='y=0')\n",
    "    plt.scatter(X[y==1, 0], X[y==1, 1], c='r', marker='o', label='y=1')\n",
    "    plt.legend();\n",
    "    plt.xlabel('$x_1$');\n",
    "    plt.ylabel('$x_2$');\n",
    "    plt.suptitle(title)"
   ]
  },
  {
   "cell_type": "code",
   "execution_count": 132,
   "id": "protecting-buying",
   "metadata": {
    "ExecuteTime": {
     "end_time": "2021-02-25T12:58:30.499843Z",
     "start_time": "2021-02-25T12:58:30.087721Z"
    }
   },
   "outputs": [
    {
     "data": {
      "image/png": "[encoded data removed]",
      "text/plain": [
       "<Figure size 720x576 with 1 Axes>"
      ]
     },
     "metadata": {
      "needs_background": "light"
     },
     "output_type": "display_data"
    }
   ],
   "source": [
    "draw_moon_classification(polynomial_svm_clf, \"d=3, C=10 SVC\")"
   ]
  },
  {
   "cell_type": "markdown",
   "id": "collect-magic",
   "metadata": {},
   "source": [
    "So degree 3 features make it _almost_ linearly separable (depending on exactly what random moon data you get). Trying higher order polynomials doesn't seem to improve the boundary, whilst a degree 2 polynomial underfits.\n",
    "\n",
    "For comparison, here's a linear SVC:"
   ]
  },
  {
   "cell_type": "code",
   "execution_count": 109,
   "id": "secondary-johnson",
   "metadata": {
    "ExecuteTime": {
     "end_time": "2021-02-25T12:51:12.654769Z",
     "start_time": "2021-02-25T12:51:12.638485Z"
    }
   },
   "outputs": [
    {
     "data": {
      "text/plain": [
       "Pipeline(steps=[('scaler', StandardScaler()),\n",
       "                ('svm_clf', LinearSVC(C=10, loss='hinge'))])"
      ]
     },
     "execution_count": 109,
     "metadata": {},
     "output_type": "execute_result"
    }
   ],
   "source": [
    "linear_svm_clf = Pipeline([\n",
    "    ('scaler', StandardScaler()),\n",
    "    ('svm_clf', LinearSVC(C=10, loss='hinge'))\n",
    "])\n",
    "linear_svm_clf.fit(X, y)"
   ]
  },
  {
   "cell_type": "code",
   "execution_count": 133,
   "id": "proud-indonesia",
   "metadata": {
    "ExecuteTime": {
     "end_time": "2021-02-25T12:58:48.004265Z",
     "start_time": "2021-02-25T12:58:47.599501Z"
    }
   },
   "outputs": [
    {
     "data": {
      "image/png": "[encoded data removed]",
      "text/plain": [
       "<Figure size 720x576 with 1 Axes>"
      ]
     },
     "metadata": {
      "needs_background": "light"
     },
     "output_type": "display_data"
    }
   ],
   "source": [
    "draw_moon_classification(linear_svm_clf, \"linear (d=1), C=10 SVC\");"
   ]
  },
  {
   "cell_type": "markdown",
   "id": "enabling-cartoon",
   "metadata": {},
   "source": [
    "Since it's linear, it clearly has a hard time."
   ]
  },
  {
   "cell_type": "markdown",
   "id": "connected-torture",
   "metadata": {},
   "source": [
    "## Polynomial Kernel"
   ]
  },
  {
   "cell_type": "markdown",
   "id": "plastic-blowing",
   "metadata": {},
   "source": [
    "Downside to the above:\n",
    "\n",
    "- cannot handle very complex datasets\n",
    "- large degree = huge number of features - too slow\n",
    "\n",
    "Instead can use **kernel trick** - as if you added polynomial features, but don't have to actually add them TODO: clarify what this means\n",
    "\n",
    "Avoids # of features explosion.\n",
    "\n",
    "`coef0` param: (known as $r$ in equations) how much to weight higher-order terms vs lower-orders"
   ]
  },
  {
   "cell_type": "code",
   "execution_count": 4,
   "id": "induced-receptor",
   "metadata": {
    "ExecuteTime": {
     "end_time": "2021-03-01T12:08:38.326044Z",
     "start_time": "2021-03-01T12:08:38.321556Z"
    }
   },
   "outputs": [],
   "source": [
    "from sklearn.svm import SVC"
   ]
  },
  {
   "cell_type": "code",
   "execution_count": 137,
   "id": "aware-airline",
   "metadata": {
    "ExecuteTime": {
     "end_time": "2021-02-25T12:59:56.445086Z",
     "start_time": "2021-02-25T12:59:56.431357Z"
    }
   },
   "outputs": [
    {
     "data": {
      "text/plain": [
       "Pipeline(steps=[('scaler', StandardScaler()),\n",
       "                ('svm_clf', SVC(C=5, coef0=1, kernel='poly'))])"
      ]
     },
     "execution_count": 137,
     "metadata": {},
     "output_type": "execute_result"
    }
   ],
   "source": [
    "poly_kernel_svm_clf = Pipeline([\n",
    "    ('scaler', StandardScaler()),\n",
    "    ('svm_clf', SVC(kernel='poly', degree=3, coef0=1, C=5))\n",
    "])\n",
    "poly_kernel_svm_clf.fit(X, y)"
   ]
  },
  {
   "cell_type": "code",
   "execution_count": 138,
   "id": "sustained-imperial",
   "metadata": {
    "ExecuteTime": {
     "end_time": "2021-02-25T12:59:58.147802Z",
     "start_time": "2021-02-25T12:59:57.753244Z"
    }
   },
   "outputs": [
    {
     "data": {
      "image/png": "[encoded data removed]",
      "text/plain": [
       "<Figure size 720x576 with 1 Axes>"
      ]
     },
     "metadata": {
      "needs_background": "light"
     },
     "output_type": "display_data"
    }
   ],
   "source": [
    "draw_moon_classification(poly_kernel_svm_clf, 'd=3, r=1, C=5 poly')"
   ]
  },
  {
   "cell_type": "markdown",
   "id": "fewer-protein",
   "metadata": {},
   "source": [
    "This looks similar to our earlier attempt when manually adding polynomial features.\n",
    "\n",
    "We can also try a ridiculous degree to see it overfitting, reducing the regularisation strength to show it more clearly:"
   ]
  },
  {
   "cell_type": "code",
   "execution_count": 163,
   "id": "homeless-dating",
   "metadata": {
    "ExecuteTime": {
     "end_time": "2021-02-25T13:08:20.375920Z",
     "start_time": "2021-02-25T13:08:19.974823Z"
    }
   },
   "outputs": [
    {
     "data": {
      "image/png": "[encoded data removed]",
      "text/plain": [
       "<Figure size 720x576 with 1 Axes>"
      ]
     },
     "metadata": {
      "needs_background": "light"
     },
     "output_type": "display_data"
    }
   ],
   "source": [
    "poly_kernel_svm_clf = Pipeline([\n",
    "    ('scaler', StandardScaler()),\n",
    "    ('svm_clf', SVC(kernel='poly', degree=20, coef0=1, C=50))\n",
    "])\n",
    "poly_kernel_svm_clf.fit(X, y)\n",
    "\n",
    "draw_moon_classification(poly_kernel_svm_clf, 'd=20, r=1, C=50 poly')"
   ]
  },
  {
   "cell_type": "markdown",
   "id": "attached-holiday",
   "metadata": {},
   "source": [
    "## Similarity Features"
   ]
  },
  {
   "cell_type": "markdown",
   "id": "sophisticated-ribbon",
   "metadata": {},
   "source": [
    "Add features using a **similarity function** - how close each data point is to a particular **landmark**.\n",
    "\n",
    "Define a Gaussian similarity function - **radial basis function (RBF)**:\n",
    "\n",
    "\\begin{equation}\n",
    "\\phi(\\vec{x}, \\ell) = \\exp \\left( -\\gamma \\| \\vec{x}-\\ell \\|^2 \\right)\n",
    "\\end{equation}\n",
    "\n",
    "**Increasing** $\\gamma$ makes the distribution **narrower**, so each instance has a **smaller zone of influence**, making the decision boundary more irregular.\n",
    "\n",
    "The distances to the landmarks can then be used in feature space, and certain combinations may become linearly separable.\n",
    "\n",
    "Most comprehensive way is to add each dataset point as a landmark - but then you end up with $m \\times m$ training data - can be huge."
   ]
  },
  {
   "cell_type": "markdown",
   "id": "checked-marsh",
   "metadata": {},
   "source": [
    "## Gaussian RBF kernel"
   ]
  },
  {
   "cell_type": "markdown",
   "id": "removed-monitoring",
   "metadata": {},
   "source": [
    "Can do **kernel trick** - use RBF kernel, without any need to explicitly create such a large dataset:"
   ]
  },
  {
   "cell_type": "code",
   "execution_count": 168,
   "id": "herbal-liberty",
   "metadata": {
    "ExecuteTime": {
     "end_time": "2021-02-25T14:18:27.367435Z",
     "start_time": "2021-02-25T14:18:27.352809Z"
    }
   },
   "outputs": [
    {
     "data": {
      "text/plain": [
       "Pipeline(steps=[('scaler', StandardScaler()),\n",
       "                ('svm_clf', SVC(C=0.001, gamma=0.1))])"
      ]
     },
     "execution_count": 168,
     "metadata": {},
     "output_type": "execute_result"
    }
   ],
   "source": [
    "rbf_kernel_svm_clf_small_g_small_c = Pipeline([\n",
    "    ('scaler', StandardScaler()),\n",
    "    ('svm_clf', SVC(kernel='rbf', gamma=0.1, C=0.001))\n",
    "])\n",
    "rbf_kernel_svm_clf_small_g_small_c.fit(X, y)"
   ]
  },
  {
   "cell_type": "code",
   "execution_count": 175,
   "id": "dangerous-program",
   "metadata": {
    "ExecuteTime": {
     "end_time": "2021-02-25T14:20:33.209157Z",
     "start_time": "2021-02-25T14:20:32.628511Z"
    },
    "scrolled": false
   },
   "outputs": [
    {
     "data": {
      "image/png": "[encoded data removed]",
      "text/plain": [
       "<Figure size 720x576 with 1 Axes>"
      ]
     },
     "metadata": {
      "needs_background": "light"
     },
     "output_type": "display_data"
    }
   ],
   "source": [
    "draw_moon_classification(rbf_kernel_svm_clf_small_g_small_c, '$\\gamma=0.1$, C=0.001 RBF')"
   ]
  },
  {
   "cell_type": "markdown",
   "id": "aware-cambodia",
   "metadata": {},
   "source": [
    "Small gamma and C basically turns it into a linear SVC."
   ]
  },
  {
   "cell_type": "code",
   "execution_count": 167,
   "id": "refined-failure",
   "metadata": {
    "ExecuteTime": {
     "end_time": "2021-02-25T14:18:22.894053Z",
     "start_time": "2021-02-25T14:18:22.881062Z"
    }
   },
   "outputs": [
    {
     "data": {
      "text/plain": [
       "Pipeline(steps=[('scaler', StandardScaler()),\n",
       "                ('svm_clf', SVC(C=1000, gamma=0.1))])"
      ]
     },
     "execution_count": 167,
     "metadata": {},
     "output_type": "execute_result"
    }
   ],
   "source": [
    "rbf_kernel_svm_clf_small_g_large_c = Pipeline([\n",
    "    ('scaler', StandardScaler()),\n",
    "    ('svm_clf', SVC(kernel='rbf', gamma=0.1, C=1000))\n",
    "])\n",
    "rbf_kernel_svm_clf_small_g_large_c.fit(X, y)"
   ]
  },
  {
   "cell_type": "code",
   "execution_count": 176,
   "id": "deadly-bride",
   "metadata": {
    "ExecuteTime": {
     "end_time": "2021-02-25T14:20:47.663218Z",
     "start_time": "2021-02-25T14:20:47.207920Z"
    },
    "scrolled": false
   },
   "outputs": [
    {
     "data": {
      "image/png": "[encoded data removed]",
      "text/plain": [
       "<Figure size 720x576 with 1 Axes>"
      ]
     },
     "metadata": {
      "needs_background": "light"
     },
     "output_type": "display_data"
    }
   ],
   "source": [
    "draw_moon_classification(rbf_kernel_svm_clf_small_g_large_c, '$\\gamma=0.1$, C=1000 RBF')"
   ]
  },
  {
   "cell_type": "code",
   "execution_count": 171,
   "id": "about-darkness",
   "metadata": {
    "ExecuteTime": {
     "end_time": "2021-02-25T14:19:03.226611Z",
     "start_time": "2021-02-25T14:19:03.213123Z"
    }
   },
   "outputs": [
    {
     "data": {
      "text/plain": [
       "Pipeline(steps=[('scaler', StandardScaler()),\n",
       "                ('svm_clf', SVC(C=0.001, gamma=5))])"
      ]
     },
     "execution_count": 171,
     "metadata": {},
     "output_type": "execute_result"
    }
   ],
   "source": [
    "rbf_kernel_svm_clf_large_g_small_c = Pipeline([\n",
    "    ('scaler', StandardScaler()),\n",
    "    ('svm_clf', SVC(kernel='rbf', gamma=5, C=0.001))\n",
    "])\n",
    "rbf_kernel_svm_clf_large_g_small_c.fit(X, y)"
   ]
  },
  {
   "cell_type": "code",
   "execution_count": 177,
   "id": "civilian-story",
   "metadata": {
    "ExecuteTime": {
     "end_time": "2021-02-25T14:21:13.619592Z",
     "start_time": "2021-02-25T14:21:13.039603Z"
    },
    "scrolled": false
   },
   "outputs": [
    {
     "data": {
      "image/png": "[encoded data removed]",
      "text/plain": [
       "<Figure size 720x576 with 1 Axes>"
      ]
     },
     "metadata": {
      "needs_background": "light"
     },
     "output_type": "display_data"
    }
   ],
   "source": [
    "draw_moon_classification(rbf_kernel_svm_clf_large_g_small_c, '$\\gamma=5$, C=0.001 RBF')"
   ]
  },
  {
   "cell_type": "code",
   "execution_count": 169,
   "id": "voluntary-effects",
   "metadata": {
    "ExecuteTime": {
     "end_time": "2021-02-25T14:18:44.261849Z",
     "start_time": "2021-02-25T14:18:44.249367Z"
    }
   },
   "outputs": [
    {
     "data": {
      "text/plain": [
       "Pipeline(steps=[('scaler', StandardScaler()),\n",
       "                ('svm_clf', SVC(C=1000, gamma=5))])"
      ]
     },
     "execution_count": 169,
     "metadata": {},
     "output_type": "execute_result"
    }
   ],
   "source": [
    "rbf_kernel_svm_clf_large_g_large_c = Pipeline([\n",
    "    ('scaler', StandardScaler()),\n",
    "    ('svm_clf', SVC(kernel='rbf', gamma=5, C=1000))\n",
    "])\n",
    "rbf_kernel_svm_clf_large_g_large_c.fit(X, y)"
   ]
  },
  {
   "cell_type": "code",
   "execution_count": 178,
   "id": "familiar-intelligence",
   "metadata": {
    "ExecuteTime": {
     "end_time": "2021-02-25T14:21:26.433262Z",
     "start_time": "2021-02-25T14:21:25.871650Z"
    },
    "scrolled": false
   },
   "outputs": [
    {
     "data": {
      "image/png": "[encoded data removed]",
      "text/plain": [
       "<Figure size 720x576 with 1 Axes>"
      ]
     },
     "metadata": {
      "needs_background": "light"
     },
     "output_type": "display_data"
    }
   ],
   "source": [
    "draw_moon_classification(rbf_kernel_svm_clf_large_g_large_c, '$\\gamma=5$, C=1000 RBF')"
   ]
  },
  {
   "cell_type": "markdown",
   "id": "pediatric-december",
   "metadata": {},
   "source": [
    "- Increasing $\\gamma$ makes the decision boundary stick more closely to the data points - could end up overfitting; small $\\gamma$ makes a slower-changing boundary - could end up underfitting\n",
    "\n",
    "- Increasing $C$ _decreases_ regularisation, making the boundary more irrelgular"
   ]
  },
  {
   "cell_type": "markdown",
   "id": "seventh-celebration",
   "metadata": {},
   "source": [
    "## Computational Complexity"
   ]
  },
  {
   "cell_type": "markdown",
   "id": "upset-trouble",
   "metadata": {},
   "source": [
    "`LinearSVC` based on `liblinear` library - optimised algo, but doesn't do kernel trick. Scales linearly $\\sim m, \\sim n$.\n",
    "\n",
    "`SVC` class based on `libsvm` library - can do kernel trick. Scales as $\\mathcal{O}(m^2 \\times n)$ to $\\mathcal{O}(m^3 \\times n)$ - slow when # samples is large (e.g. few 100K). Scales well with # features, esp. when sparse.\n",
    "\n",
    "For comparison, `SGDClassifier` scales as $\\mathcal{O}(m \\times n)$. Doesn't do kernel trick, but unlike others can do out-of-core support."
   ]
  },
  {
   "cell_type": "markdown",
   "id": "veterinary-proof",
   "metadata": {},
   "source": [
    "# SVM Regression"
   ]
  },
  {
   "cell_type": "markdown",
   "id": "understood-lebanon",
   "metadata": {},
   "source": [
    "To use SVM for regression, **reverse the objective** - try to fit **as many instances as possible on the street** (while limiting margin violations).\n",
    "\n",
    "Street width controlled by hyperparameter $\\epsilon$. If adding more training instances does not affect the model predictions, then it is **$\\epsilon$-insensitive**."
   ]
  },
  {
   "cell_type": "code",
   "execution_count": 5,
   "id": "looking-pittsburgh",
   "metadata": {
    "ExecuteTime": {
     "end_time": "2021-03-01T12:08:38.334709Z",
     "start_time": "2021-03-01T12:08:38.329614Z"
    }
   },
   "outputs": [],
   "source": [
    "from sklearn.svm import LinearSVR"
   ]
  },
  {
   "cell_type": "code",
   "execution_count": 187,
   "id": "automotive-video",
   "metadata": {
    "ExecuteTime": {
     "end_time": "2021-02-25T15:21:50.222896Z",
     "start_time": "2021-02-25T15:21:50.196784Z"
    }
   },
   "outputs": [],
   "source": [
    "?np.random.rand"
   ]
  },
  {
   "cell_type": "code",
   "execution_count": 207,
   "id": "emerging-shipping",
   "metadata": {
    "ExecuteTime": {
     "end_time": "2021-02-25T15:40:25.844195Z",
     "start_time": "2021-02-25T15:40:25.839801Z"
    }
   },
   "outputs": [],
   "source": [
    "# generate some dummy data:\n",
    "m = 50\n",
    "X = 2 * np.random.rand(m, 1) - 1  # generate between -1 and 1\n",
    "y = 4 + 3*X + np.random.rand(m, 1) - 0.5"
   ]
  },
  {
   "cell_type": "code",
   "execution_count": 208,
   "id": "accredited-monitor",
   "metadata": {
    "ExecuteTime": {
     "end_time": "2021-02-25T15:40:26.161595Z",
     "start_time": "2021-02-25T15:40:26.154622Z"
    }
   },
   "outputs": [
    {
     "data": {
      "text/plain": [
       "LinearSVR(epsilon=1.5)"
      ]
     },
     "execution_count": 208,
     "metadata": {},
     "output_type": "execute_result"
    }
   ],
   "source": [
    "linear_svr = LinearSVR(epsilon=1.5)\n",
    "linear_svr.fit(X, y.ravel())  # for some reason it wants a row vector for y instead of column"
   ]
  },
  {
   "cell_type": "code",
   "execution_count": 209,
   "id": "broke-receptor",
   "metadata": {
    "ExecuteTime": {
     "end_time": "2021-02-25T15:40:26.845463Z",
     "start_time": "2021-02-25T15:40:26.488229Z"
    }
   },
   "outputs": [
    {
     "data": {
      "text/plain": [
       "<matplotlib.collections.PathCollection at 0x1263fc750>"
      ]
     },
     "execution_count": 209,
     "metadata": {},
     "output_type": "execute_result"
    },
    {
     "data": {
      "image/png": "[encoded data removed]",
      "text/plain": [
       "<Figure size 720x576 with 1 Axes>"
      ]
     },
     "metadata": {
      "needs_background": "light"
     },
     "output_type": "display_data"
    }
   ],
   "source": [
    "plt.scatter(X, y)\n",
    "x = np.linspace(-1, 1, 100).reshape(-1, 1)\n",
    "y_svr = linear_svr.predict(x)\n",
    "y_svr2 = linear_svr.predict(X)\n",
    "plt.plot(x, y_svr, 'k-')\n",
    "plt.scatter(X, y_svr2)"
   ]
  },
  {
   "cell_type": "markdown",
   "id": "addressed-hacker",
   "metadata": {},
   "source": [
    "Can also do kernel version using `SVR` class:"
   ]
  },
  {
   "cell_type": "code",
   "execution_count": 6,
   "id": "exterior-capture",
   "metadata": {
    "ExecuteTime": {
     "end_time": "2021-03-01T12:08:38.341842Z",
     "start_time": "2021-03-01T12:08:38.338326Z"
    }
   },
   "outputs": [],
   "source": [
    "from sklearn.svm import SVR"
   ]
  },
  {
   "cell_type": "code",
   "execution_count": 199,
   "id": "intellectual-ebony",
   "metadata": {
    "ExecuteTime": {
     "end_time": "2021-02-25T15:26:49.341365Z",
     "start_time": "2021-02-25T15:26:49.333964Z"
    }
   },
   "outputs": [
    {
     "data": {
      "text/plain": [
       "SVR(C=100, degree=2, kernel='poly')"
      ]
     },
     "execution_count": 199,
     "metadata": {},
     "output_type": "execute_result"
    }
   ],
   "source": [
    "svm_poly_reg = SVR(kernel='poly', degree=2, C=100, epsilon=0.1)\n",
    "svm_poly_reg.fit(X, y.ravel())"
   ]
  },
  {
   "cell_type": "code",
   "execution_count": 200,
   "id": "arranged-client",
   "metadata": {
    "ExecuteTime": {
     "end_time": "2021-02-25T15:26:59.007854Z",
     "start_time": "2021-02-25T15:26:58.994454Z"
    }
   },
   "outputs": [
    {
     "ename": "AttributeError",
     "evalue": "coef_ is only available when using a linear kernel",
     "output_type": "error",
     "traceback": [
      "\u001b[0;31m---------------------------------------------------------------------------\u001b[0m",
      "\u001b[0;31mAttributeError\u001b[0m                            Traceback (most recent call last)",
      "\u001b[0;32m<ipython-input-200-e22e5c3f7d54>\u001b[0m in \u001b[0;36m<module>\u001b[0;34m\u001b[0m\n\u001b[0;32m----> 1\u001b[0;31m \u001b[0msvm_poly_reg\u001b[0m\u001b[0;34m.\u001b[0m\u001b[0mcoef_\u001b[0m\u001b[0;34m\u001b[0m\u001b[0;34m\u001b[0m\u001b[0m\n\u001b[0m",
      "\u001b[0;32m~/.virtualenvs/handsonml/lib/python3.7/site-packages/sklearn/svm/_base.py\u001b[0m in \u001b[0;36mcoef_\u001b[0;34m(self)\u001b[0m\n\u001b[1;32m    499\u001b[0m     \u001b[0;32mdef\u001b[0m \u001b[0mcoef_\u001b[0m\u001b[0;34m(\u001b[0m\u001b[0mself\u001b[0m\u001b[0;34m)\u001b[0m\u001b[0;34m:\u001b[0m\u001b[0;34m\u001b[0m\u001b[0;34m\u001b[0m\u001b[0m\n\u001b[1;32m    500\u001b[0m         \u001b[0;32mif\u001b[0m \u001b[0mself\u001b[0m\u001b[0;34m.\u001b[0m\u001b[0mkernel\u001b[0m \u001b[0;34m!=\u001b[0m \u001b[0;34m'linear'\u001b[0m\u001b[0;34m:\u001b[0m\u001b[0;34m\u001b[0m\u001b[0;34m\u001b[0m\u001b[0m\n\u001b[0;32m--> 501\u001b[0;31m             raise AttributeError('coef_ is only available when using a '\n\u001b[0m\u001b[1;32m    502\u001b[0m                                  'linear kernel')\n\u001b[1;32m    503\u001b[0m \u001b[0;34m\u001b[0m\u001b[0m\n",
      "\u001b[0;31mAttributeError\u001b[0m: coef_ is only available when using a linear kernel"
     ]
    }
   ],
   "source": [
    "svm_poly_reg.coef_"
   ]
  },
  {
   "cell_type": "markdown",
   "id": "purple-entrepreneur",
   "metadata": {},
   "source": [
    "# The Maths of SVMs"
   ]
  },
  {
   "cell_type": "markdown",
   "id": "general-lucas",
   "metadata": {},
   "source": [
    "Bias term = $b$\n",
    "Feature weights = $\\vec{w}$\n",
    "\n",
    "No bias feature added to input feature vectors.\n",
    "\n",
    "Linear SVM: Predict class of new instance $\\vec{x}$ by computing decision function $h = \\vec{w} \\cdot \\vec{x} + b = w_1 x_1 + \\cdots + w_n x_n + b$. If $>0$, predicted class $\\hat{y} = 1$, else 0.\n",
    "\n",
    "\\begin{equation}\n",
    "\\hat{y} = \n",
    "\\begin{cases}\n",
    "    0 \\text{ if } \\vec{w} \\cdot \\vec{x} + b <0 \\\\\n",
    "    1 \\text{ if } \\vec{w} \\cdot \\vec{x} + b \\geq 0\n",
    "\\end{cases}\n",
    "\\end{equation}\n",
    "\n",
    "For $n=2$, can think of decision function as plane in 3D with z axis $h = \\vec{w} \\cdot \\vec{x} + b$, and decision boundary is where it intersects the horizontal plane $h=0$.\n",
    "\n",
    "Generally, if $n$ features, then $h$ is a $n$-dim hyperplane, and decision boundary a $(n-1)$-dim hyperplane.\n",
    "\n",
    "The \"street\" margins are where the plane intersects $h = \\pm 1$.\n",
    "\n",
    "Note that the shallower the intersection of the plane, the wider the street.\n",
    "\n",
    "The gradient of the plane is controlled by $\\vec{w}$, e.g. in one dimension, the street edges are determined by $w x = \\pm1 \\to x = \\pm 1/w$. So the width of the street is inversely proportional to $w$, more specifically $\\|\\vec{w}\\|$.\n",
    "\n",
    "So to find the widest street (i.e. best separation between classes), we want to minimize $\\|\\vec{w}\\|$. (Actually, easier to minimise $\\| \\vec{w} \\|^2$, while $\\| \\vec{w} \\|$ isn't differentiable at $\\vec{w} = 0$.)\n",
    "\n",
    "**Hard margin**: We can also specify that, for a hard margin, we require $h > 1$ for all $y =1$, and $h < -1$ for all $y=0$ instances (i.e. **all outside the street**). Defining $t^{(i)} = -1$ for $y^{(i)}=0$ and $t^{(i)} = 1$ for $y^{(i)}=1$, we can express this as $t^{(i)} h^{(i)} = t^{(i)} (\\vec{w}\\cdot\\vec{x}^{(i)} + b) \\geq 1~\\forall~i$.\n",
    "\n",
    "\\begin{equation}\n",
    "\\text{Minimise: } \\| \\vec{w} \\|^2 \\text{ wrt } \\vec{w}, b\\\\\n",
    "\\text{Subject to: } t^{(i)} h^{(i)} = t^{(i)} (\\vec{w}\\cdot\\vec{x}^{(i)} + b) \\geq 1~\\forall~i\n",
    "\\end{equation}\n",
    "\n",
    "This is our **primal problem**.\n",
    "\n",
    "**Soft margin**: introduce **slack variable** $\\zeta^{(i)} \\geq 0$ for each instance (turns inequality into equality): measures how much that instance is allowed to violate the margin - narrower street means less violations. This is in conflict with minimising $\\| \\vec{w} \\|^2$. $C$ hyperparameter governs trade-off between 2 objectives: we now have the objective \n",
    "\\begin{equation}\n",
    "\\text{Minimise: } \\| \\vec{w} \\|^2 + C \\sum_{i1}^m \\zeta^{(i)}  \\text{ wrt } \\vec{w}, b, \\zeta\\\\\n",
    "\\text{Subject to: } t^{(i)} h^{(i)} = t^{(i)} (\\vec{w}\\cdot\\vec{x}^{(i)} + b) \\geq 1 - \\zeta^{(i)} ~\\forall~i \\text{ with } \\zeta^{(i)} \\geq 0\n",
    "\\end{equation}"
   ]
  },
  {
   "cell_type": "markdown",
   "id": "prerequisite-ocean",
   "metadata": {},
   "source": [
    "Both of these are **convex quadratic optimisation problems** - **quadratic programming** (QP) problems.\n",
    "\n",
    "QP problems have the general form:\n",
    "\\begin{equation}\n",
    "\\text{Minimise: } \\vec{p}^T \\mathbf{H} \\vec{p} + \\vec{f}^T \\vec{p}  \\text{ wrt } \\vec{p}\\\\\n",
    "\\text{Subject to: } \\mathbf{A}\\vec{p} \\leq \\vec{p}\n",
    "\\end{equation}"
   ]
  },
  {
   "cell_type": "markdown",
   "id": "saving-directive",
   "metadata": {},
   "source": [
    "So be able to use the kernel trick, instead of the above **primal problem**, we use the **dual problem** - related but different. Since SVM problem is convex, and its inequality constraints are convex and continuously differentiable, in this case the dual solution is **exactly** the primal solution (NB not in general, generally only lower bound!)\n",
    "\n",
    "The dual problem is **faster to solve** if $m < n$, and allows for the kernel trick.\n",
    "\n",
    "The SVM objective in dual form is:\n",
    "\n",
    "\\begin{equation}\n",
    "\\text{minimise } \\frac{1}{2} \\sum_{i=1}^m \\sum_{j=1}^m \\alpha^{(i)} \\alpha^{(j)} t^{(i)} t^{(j)} \\vec{x}^{(i)} \\vec{x}^{(j)} = \\sum_{i=1}^m \\alpha^{(i)}  \\text{ wrt } \\vec{\\alpha} \\\\\n",
    "\\text{subject to } \\alpha^{(i)} \\geq 0~\\forall~i=1, \\ldots, m \\text{ and } \\sum_{i=1}^m \\alpha^{(i)} t^{(i)} = 0\n",
    "\\end{equation}\n",
    "\n",
    "Solving this gives $\\hat{\\vec{\\alpha}}$, which can then be converted back to $\\vec{w}, b$:\n",
    "\n",
    "\\begin{equation}\n",
    "\\hat{\\vec{w}} = \\sum_{i=1}^m \\hat{\\alpha}^{(i)} t^{(i)} \\vec{x}^{(i)} \\\\\n",
    "\\hat{b} = \\frac{1}{n_s} \\sum_{i=1}^m \\left( t^{(i)} - \\hat{\\vec{w}}^T\\vec{x}^{(i)} \\right) \\text{ when } \\hat{\\alpha}^{(i)} > 0\n",
    "\\end{equation}\n",
    "\n",
    "where $n_s$ is # of support vectors."
   ]
  },
  {
   "cell_type": "markdown",
   "id": "subject-spyware",
   "metadata": {},
   "source": [
    "## Kernel trick"
   ]
  },
  {
   "cell_type": "markdown",
   "id": "floral-advancement",
   "metadata": {},
   "source": [
    "If we wanted to apply a 2nd order polynomial mapping, we would have:\n",
    "\n",
    "\\begin{equation}\n",
    "\\phi(\\vec{x}) = \\phi \\left(\\pmatrix{x_1 \\\\ x_2} \\right) = \\pmatrix{x_1^2 \\\\ \\sqrt{2} x_1 x_2 \\\\ x_2^2}\n",
    "\\end{equation}\n",
    "\n",
    "which maps from $\\mathbb{R}_{2} \\to \\mathbb{R}_{3}$ vector.\n",
    "\n",
    "We can apply the same transformation to vectors $\\vec{a}, \\vec{b}$, and take their dot product.\n",
    "\n",
    "\\begin{equation}\n",
    "\\phi(\\vec{a}) \\cdot \\phi(\\vec{b}) = \\pmatrix{a_1^2 \\\\ \\sqrt{2} a_1 a_2 \\\\ a_2^2}^T \\pmatrix{b_1^2 \\\\ \\sqrt{2} b_1 b_2 \\\\ b_2^2} = a_1^2 b_1^2 + 2a_1b_1a_2b_2 + a_2^2b_2^2 = (a_1b_1 + a_2b_2)^2 = (\\vec{a} \\cdot  \\vec{b})^2\n",
    "\\end{equation}\n",
    "\n",
    "So the dot product of the transformed vectors is equal to the square of the dot product of the original vectors.\n",
    "\n",
    "Crucially, if $\\phi$ is applied to the training data, then the dual problem already contains the term $\\phi(\\vec{x}^{(i)}) \\cdot \\phi(\\vec{x}^{(j)})$. Which means we can use the above trick, replacing all dot products by their square - so we don't have to manually pre-calculate all the squares on the training data."
   ]
  },
  {
   "cell_type": "markdown",
   "id": "minus-effects",
   "metadata": {},
   "source": [
    "More generally, we define a **kernel** $K(\\vec{a}, \\vec{b})$ as a function capable of computing the dot product $\\phi(\\vec{a}) \\cdot \\phi(\\vec{b})$ only using the original vectors $\\vec{a}, \\vec{b}$, **without** computing the transformations $\\phi(\\vec{x}), \\phi(\\vec{b})$ explicitly.\n",
    "\n",
    "Some kernels:\n",
    "\n",
    "- Linear: $K = \\vec{a}\\cdot\\vec{b}$\n",
    "- Polynomial: $K = (\\gamma\\vec{a}\\cdot\\vec{b} + r)^d$\n",
    "- Gaussian RBF: $K = -\\exp(-\\gamma \\| \\vec{a} - \\vec{b} \\| ^2)$\n",
    "- Sigmoid: $K = \\tanh(\\gamma\\vec{a}\\cdot\\vec{b} + r)$\n"
   ]
  },
  {
   "cell_type": "markdown",
   "id": "turkish-hearts",
   "metadata": {},
   "source": [
    "An additional twist in the kernel trick: the dual problem will still contain terms $\\phi(\\vec{x}^{(i)})$, which may be huge and uncomputable. So how can we determine $\\hat{\\vec{w}}$ and make predictions?\n",
    "\n",
    "To make predictions, we can plug the formula for $\\hat{\\vec{w}}$ into the decision function, and we only end up with dot products between input vectors, which solves that uncomputable issue:\n",
    "\n",
    "\n",
    "\\begin{equation}\n",
    "h(\\phi(\\vec{x}^{(n)})) = \\hat{\\vec{w}}^T \\phi(\\vec{x}^{(n)}) + \\hat{b} \\\\\n",
    "= \\left( \\sum_{i=1}^m \\hat{\\alpha}^{(i)} t^{(i)} \\phi(\\vec{x}^{(i)}) \\right)^T \\phi(\\vec{x}^{(n)}) + \\hat{b} \\\\\n",
    "= \\sum_{i=1}^m \\hat{\\alpha}^{(i)} t^{(i)} \\left( \\phi(\\vec{x}^{(i)})^T \\phi(\\vec{x}^{(n)}) \\right) + \\hat{b} \\\\\n",
    "= \\sum_{i=1}^m \\hat{\\alpha}^{(i)} t^{(i)} K\\left(\\vec{x}^{(i)}, \\vec{x}^{(n)} \\right) + \\hat{b} \\text{ for } \\alpha^{(i)} > 0\n",
    "\\end{equation}\n",
    "\n",
    "Now, $\\alpha^{(i)} \\neq 0 $ only for support vectors, so we only need dot product of new instances $\\vec{x}^{(n)}$ with the support vector, not the whole training set.\n",
    "\n",
    "A similar trick can be used to calculate the bias term."
   ]
  },
  {
   "cell_type": "markdown",
   "id": "parliamentary-peter",
   "metadata": {},
   "source": [
    "# Online SVMs"
   ]
  },
  {
   "cell_type": "markdown",
   "id": "legal-bryan",
   "metadata": {},
   "source": [
    "Online learning = learning incrementally, as new data arrives.\n",
    "\n",
    "For linear SVMs: can use SGD with modified cost function (but converges much more slowly than QP):\n",
    "\n",
    "\\begin{equation}\n",
    "J(\\vec{w}, b) = \\frac{1}{2} \\vec{w}\\cdot\\vec{w} + C\\sum_{i=1}^m \\max(0, 1-t^{(i)}(\\vec{w}\\cdot\\vec{x}^{(i)} + b))\n",
    "\\end{equation}\n",
    "\n",
    "where the function $\\max(0, 1-t)$ is the **hinge loss function**. \n",
    "\n",
    "The first term in $J$ will try and reduce $\\vec{w}$, causing a larger margin.\n",
    "\n",
    "The second term accounts for margin violations - 0 if on correct side, but linearly proportional to the distance if on wrong side."
   ]
  },
  {
   "cell_type": "markdown",
   "id": "aggressive-functionality",
   "metadata": {},
   "source": [
    "# Multiclass classification"
   ]
  },
  {
   "cell_type": "markdown",
   "id": "congressional-fluid",
   "metadata": {},
   "source": [
    "Let's try a simple 3-class problem. By default, SVC uses a OvO system, therefore needing 3 * (3-1) / 2 = 3 classifiers.\n",
    "\n",
    "However, `LinearSVC` uses a OvR system by default, therefore needing 3 classifiers.\n",
    "\n",
    "We'll also ensure that our classes aren't easily linearly separable - let there be some inevitable margin violations to compare the classifiers:"
   ]
  },
  {
   "cell_type": "code",
   "execution_count": 7,
   "id": "heavy-concord",
   "metadata": {
    "ExecuteTime": {
     "end_time": "2021-03-01T12:08:38.349226Z",
     "start_time": "2021-03-01T12:08:38.344628Z"
    }
   },
   "outputs": [],
   "source": [
    "from sklearn.datasets import make_classification"
   ]
  },
  {
   "cell_type": "code",
   "execution_count": 331,
   "id": "advisory-secondary",
   "metadata": {
    "ExecuteTime": {
     "end_time": "2021-03-01T11:06:17.138711Z",
     "start_time": "2021-03-01T11:06:17.132016Z"
    }
   },
   "outputs": [],
   "source": [
    "X, y = make_classification(n_samples=100, n_features=2, n_redundant=0, n_repeated=0, \n",
    "                           n_classes=3, class_sep=2, n_clusters_per_class=1)"
   ]
  },
  {
   "cell_type": "code",
   "execution_count": 332,
   "id": "stupid-roman",
   "metadata": {
    "ExecuteTime": {
     "end_time": "2021-03-01T11:06:17.970687Z",
     "start_time": "2021-03-01T11:06:17.707634Z"
    }
   },
   "outputs": [
    {
     "data": {
      "text/plain": [
       "[<matplotlib.lines.Line2D at 0x12b054350>]"
      ]
     },
     "execution_count": 332,
     "metadata": {},
     "output_type": "execute_result"
    },
    {
     "data": {
      "image/png": "[encoded data removed]",
      "text/plain": [
       "<Figure size 720x576 with 1 Axes>"
      ]
     },
     "metadata": {
      "needs_background": "light"
     },
     "output_type": "display_data"
    }
   ],
   "source": [
    "plt.plot(X[y==0][:,0], X[y==0][:,1], 'bd')\n",
    "plt.plot(X[y==1][:,0], X[y==1][:,1], 'gs')\n",
    "plt.plot(X[y==2][:,0], X[y==2][:,1], 'ro')"
   ]
  },
  {
   "cell_type": "code",
   "execution_count": 333,
   "id": "complimentary-snapshot",
   "metadata": {
    "ExecuteTime": {
     "end_time": "2021-03-01T11:06:18.577555Z",
     "start_time": "2021-03-01T11:06:18.570604Z"
    }
   },
   "outputs": [],
   "source": [
    "def draw_decision_regions(clf, x1_min, x1_max, x2_min, x2_max):\n",
    "    x1 = np.linspace(x1_min, x1_max, 100)\n",
    "    x2 = np.linspace(x2_min, x2_max, 100)\n",
    "    X1, X2 = np.meshgrid(x1, x2) # for 2D feature space\n",
    "    y_pred = clf.predict(np.c_[X1.reshape(-1, 1), X2.reshape(-1, 1)])\n",
    "    plt.contourf(X1, X2, y_pred.reshape(X1.shape), cmap='Pastel2')"
   ]
  },
  {
   "cell_type": "code",
   "execution_count": 334,
   "id": "precious-disease",
   "metadata": {
    "ExecuteTime": {
     "end_time": "2021-03-01T11:06:19.212783Z",
     "start_time": "2021-03-01T11:06:18.908154Z"
    }
   },
   "outputs": [
    {
     "data": {
      "image/png": "[encoded data removed]",
      "text/plain": [
       "<Figure size 720x576 with 1 Axes>"
      ]
     },
     "metadata": {
      "needs_background": "light"
     },
     "output_type": "display_data"
    }
   ],
   "source": [
    "svc_clf = Pipeline([\n",
    "    ('scaler', StandardScaler()),\n",
    "    ('clf', LinearSVC(C=1, loss='hinge'))\n",
    "])\n",
    "linear_svc_clf.fit(X, y)\n",
    "plt.plot(X[y==0][:,0], X[y==0][:,1], 'bd')\n",
    "plt.plot(X[y==1][:,0], X[y==1][:,1], 'gs')\n",
    "plt.plot(X[y==2][:,0], X[y==2][:,1], 'ro')\n",
    "x1_min = X[:, 0].min() - 0.5\n",
    "x1_max = X[:, 0].max() + 0.5\n",
    "x2_min = X[:, 1].min() - 0.5\n",
    "x2_max = X[:, 1].max() + 0.5\n",
    "draw_decision_regions(linear_svc_clf, x1_min, x1_max, x2_min, x2_max)\n",
    "plt.title(\"Linear SVC\");"
   ]
  },
  {
   "cell_type": "code",
   "execution_count": 335,
   "id": "developing-judge",
   "metadata": {
    "ExecuteTime": {
     "end_time": "2021-03-01T11:06:19.682162Z",
     "start_time": "2021-03-01T11:06:19.374450Z"
    }
   },
   "outputs": [
    {
     "data": {
      "image/png": "[encoded data removed]",
      "text/plain": [
       "<Figure size 720x576 with 1 Axes>"
      ]
     },
     "metadata": {
      "needs_background": "light"
     },
     "output_type": "display_data"
    }
   ],
   "source": [
    "svc_lin_clf = Pipeline([\n",
    "    ('scaler', StandardScaler()),\n",
    "    ('clf', SVC(kernel='linear', C=1))\n",
    "])\n",
    "svc_lin_clf.fit(X, y)\n",
    "plt.plot(X[y==0][:,0], X[y==0][:,1], 'bd')\n",
    "plt.plot(X[y==1][:,0], X[y==1][:,1], 'gs')\n",
    "plt.plot(X[y==2][:,0], X[y==2][:,1], 'ro')\n",
    "x1_min = X[:, 0].min() - 0.5\n",
    "x1_max = X[:, 0].max() + 0.5\n",
    "x2_min = X[:, 1].min() - 0.5\n",
    "x2_max = X[:, 1].max() + 0.5\n",
    "draw_decision_regions(svc_lin_clf, x1_min, x1_max, x2_min, x2_max)\n",
    "plt.title(\"SVC linear kernel\");"
   ]
  },
  {
   "cell_type": "code",
   "execution_count": 341,
   "id": "generic-entertainment",
   "metadata": {
    "ExecuteTime": {
     "end_time": "2021-03-01T11:08:43.555700Z",
     "start_time": "2021-03-01T11:08:43.086480Z"
    }
   },
   "outputs": [
    {
     "data": {
      "image/png": "[encoded data removed]",
      "text/plain": [
       "<Figure size 720x576 with 1 Axes>"
      ]
     },
     "metadata": {
      "needs_background": "light"
     },
     "output_type": "display_data"
    }
   ],
   "source": [
    "gaus_svc_clf = Pipeline([\n",
    "    ('scaler', StandardScaler()),\n",
    "    ('clf', SVC(kernel='rbf', C=1, gamma=0.01))\n",
    "])\n",
    "gaus_svc_clf.fit(X, y)\n",
    "plt.plot(X[y==0][:,0], X[y==0][:,1], 'bd')\n",
    "plt.plot(X[y==1][:,0], X[y==1][:,1], 'gs')\n",
    "plt.plot(X[y==2][:,0], X[y==2][:,1], 'ro')\n",
    "draw_decision_regions(gaus_svc_clf, x1_min, x1_max, x2_min, x2_max)\n",
    "plt.title(\"RBF SVC\");"
   ]
  },
  {
   "cell_type": "markdown",
   "id": "finnish-million",
   "metadata": {},
   "source": [
    "We can now see some very different decision boundaries between all 3: especially in the region (0, -1)."
   ]
  },
  {
   "cell_type": "markdown",
   "id": "conditional-margin",
   "metadata": {},
   "source": [
    "# Exercises"
   ]
  },
  {
   "cell_type": "markdown",
   "id": "threaded-poultry",
   "metadata": {},
   "source": [
    "## 1. Fundamental idea behind SVMs?"
   ]
  },
  {
   "cell_type": "markdown",
   "id": "indian-method",
   "metadata": {},
   "source": [
    "Fit the widest possible \"street\" between classes, i.e. the largest margin around a decision boundary, whilst minimising the magnitude & number of \"violations\""
   ]
  },
  {
   "cell_type": "markdown",
   "id": "shaped-dress",
   "metadata": {},
   "source": [
    "## 2. What is a support vector?"
   ]
  },
  {
   "cell_type": "markdown",
   "id": "atomic-howard",
   "metadata": {},
   "source": [
    "The set of data points (subset of full dataset) that fully determine the boundary & its margins."
   ]
  },
  {
   "cell_type": "markdown",
   "id": "bored-underground",
   "metadata": {},
   "source": [
    "## 3. Why scale inputs?"
   ]
  },
  {
   "cell_type": "markdown",
   "id": "expired-hormone",
   "metadata": {},
   "source": [
    "Since SVM tries to find the largest margin, smaller unscaled inputs will be ignored in favour of the larger scale inputs."
   ]
  },
  {
   "cell_type": "markdown",
   "id": "chemical-publisher",
   "metadata": {},
   "source": [
    "## 4. Can an SVM output a confidence score? A probability?"
   ]
  },
  {
   "cell_type": "markdown",
   "id": "regular-notebook",
   "metadata": {},
   "source": [
    "You can get a distance between a point and the margin, as a pseudo confidence score.\n",
    "\n",
    "SVC doesn't give a probability. To get a probability, you can also fit a SVR, to then get a probability."
   ]
  },
  {
   "cell_type": "markdown",
   "id": "printable-hormone",
   "metadata": {},
   "source": [
    "## 5. Primal or dual form of the SVM problem to train a model w/1M instances, 100s of features?"
   ]
  },
  {
   "cell_type": "markdown",
   "id": "simple-suicide",
   "metadata": {},
   "source": [
    "(Only for linear - kernel can only use dual form)\n",
    "\n",
    "Primal form: $\\mathcal{O}(m)$\n",
    "\n",
    "Dual form: $\\mathcal{O}(m^2) - (m^3)$\n",
    "\n",
    "so for 1M instances, use primal form."
   ]
  },
  {
   "cell_type": "markdown",
   "id": "attended-sleeping",
   "metadata": {},
   "source": [
    "## 6. Underfitting with RBF kernel, how to modify gamma? C?"
   ]
  },
  {
   "cell_type": "markdown",
   "id": "characteristic-exemption",
   "metadata": {},
   "source": [
    "Increase $\\gamma$ to improve model. Can also increase C."
   ]
  },
  {
   "cell_type": "markdown",
   "id": "otherwise-springer",
   "metadata": {},
   "source": [
    "## 7. How to set QP params to solve soft margin linear SVM using generic QP solver?"
   ]
  },
  {
   "cell_type": "markdown",
   "id": "exclusive-horizon",
   "metadata": {},
   "source": [
    "## 8. Train LinearSVC on linearly separable dataset, repeat with SVC & SGDClassifier - try to get same result."
   ]
  },
  {
   "cell_type": "code",
   "execution_count": 8,
   "id": "floating-pulse",
   "metadata": {
    "ExecuteTime": {
     "end_time": "2021-03-01T12:08:38.357774Z",
     "start_time": "2021-03-01T12:08:38.352861Z"
    }
   },
   "outputs": [],
   "source": [
    "from sklearn.datasets import make_classification"
   ]
  },
  {
   "cell_type": "code",
   "execution_count": 309,
   "id": "bearing-pacific",
   "metadata": {
    "ExecuteTime": {
     "end_time": "2021-03-01T11:01:27.217283Z",
     "start_time": "2021-03-01T11:01:27.209827Z"
    }
   },
   "outputs": [],
   "source": [
    "X, y = make_classification(n_samples=100, n_features=2, n_redundant=0, n_repeated=0, \n",
    "                           class_sep=3, n_clusters_per_class=1)"
   ]
  },
  {
   "cell_type": "code",
   "execution_count": 310,
   "id": "aggregate-functionality",
   "metadata": {
    "ExecuteTime": {
     "end_time": "2021-03-01T11:01:27.548939Z",
     "start_time": "2021-03-01T11:01:27.541515Z"
    }
   },
   "outputs": [
    {
     "data": {
      "text/plain": [
       "(100, 2)"
      ]
     },
     "execution_count": 310,
     "metadata": {},
     "output_type": "execute_result"
    }
   ],
   "source": [
    "X.shape"
   ]
  },
  {
   "cell_type": "code",
   "execution_count": 311,
   "id": "sealed-ancient",
   "metadata": {
    "ExecuteTime": {
     "end_time": "2021-03-01T11:01:27.931095Z",
     "start_time": "2021-03-01T11:01:27.725757Z"
    }
   },
   "outputs": [
    {
     "data": {
      "text/plain": [
       "[<matplotlib.lines.Line2D at 0x12b345050>]"
      ]
     },
     "execution_count": 311,
     "metadata": {},
     "output_type": "execute_result"
    },
    {
     "data": {
      "image/png": "[encoded data removed]",
      "text/plain": [
       "<Figure size 720x576 with 1 Axes>"
      ]
     },
     "metadata": {
      "needs_background": "light"
     },
     "output_type": "display_data"
    }
   ],
   "source": [
    "plt.plot(X[y==0][:,0], X[y==0][:,1], 'bd')\n",
    "plt.plot(X[y==1][:,0], X[y==1][:,1], 'gs')"
   ]
  },
  {
   "cell_type": "code",
   "execution_count": 317,
   "id": "solar-forwarding",
   "metadata": {
    "ExecuteTime": {
     "end_time": "2021-03-01T11:01:50.472004Z",
     "start_time": "2021-03-01T11:01:50.180818Z"
    }
   },
   "outputs": [
    {
     "name": "stdout",
     "output_type": "stream",
     "text": [
      "[-0.03479501] [[ 0.16588482 -1.983252  ]]\n"
     ]
    },
    {
     "data": {
      "image/png": "[encoded data removed]",
      "text/plain": [
       "<Figure size 720x576 with 1 Axes>"
      ]
     },
     "metadata": {
      "needs_background": "light"
     },
     "output_type": "display_data"
    }
   ],
   "source": [
    "linear_svc_clf = Pipeline([\n",
    "    ('scaler', StandardScaler()),\n",
    "    ('clf', LinearSVC(C=1, loss='hinge'))\n",
    "])\n",
    "linear_svc_clf.fit(X, y)\n",
    "print(linear_svc_clf.named_steps['clf'].intercept_, linear_svc_clf.named_steps['clf'].coef_)\n",
    "plt.plot(X[y==0][:,0], X[y==0][:,1], 'bd')\n",
    "plt.plot(X[y==1][:,0], X[y==1][:,1], 'gs')\n",
    "x1_min = X[:, 0].min() - 0.5\n",
    "x1_max = X[:, 0].max() + 0.5\n",
    "x2_min = X[:, 1].min() - 0.5\n",
    "x2_max = X[:, 1].max() + 0.5\n",
    "draw_decision_regions(linear_svc_clf, x1_min, x1_max, x2_min, x2_max)\n",
    "plt.title(\"Linear SVC\");"
   ]
  },
  {
   "cell_type": "code",
   "execution_count": 318,
   "id": "future-saudi",
   "metadata": {
    "ExecuteTime": {
     "end_time": "2021-03-01T11:01:50.909230Z",
     "start_time": "2021-03-01T11:01:50.568384Z"
    }
   },
   "outputs": [
    {
     "name": "stdout",
     "output_type": "stream",
     "text": [
      "[-0.03459801] [[ 0.16577978 -1.98350012]]\n"
     ]
    },
    {
     "data": {
      "image/png": "[encoded data removed]",
      "text/plain": [
       "<Figure size 720x576 with 1 Axes>"
      ]
     },
     "metadata": {
      "needs_background": "light"
     },
     "output_type": "display_data"
    }
   ],
   "source": [
    "svc_lin_clf = Pipeline([\n",
    "    ('scaler', StandardScaler()),\n",
    "    ('clf', SVC(kernel='linear', C=1))\n",
    "])\n",
    "svc_lin_clf.fit(X, y)\n",
    "print(svc_lin_clf.named_steps['clf'].intercept_, svc_lin_clf.named_steps['clf'].coef_)\n",
    "plt.plot(X[y==0][:,0], X[y==0][:,1], 'bd')\n",
    "plt.plot(X[y==1][:,0], X[y==1][:,1], 'gs')\n",
    "draw_decision_regions(svc_lin_clf, x1_min, x1_max, x2_min, x2_max)\n",
    "plt.title(\"SVC linear kernel\");"
   ]
  },
  {
   "cell_type": "markdown",
   "id": "declared-satisfaction",
   "metadata": {},
   "source": [
    "So LinearSVC and SVC with linear kernel give v.v.close results."
   ]
  },
  {
   "cell_type": "code",
   "execution_count": 9,
   "id": "exotic-shoulder",
   "metadata": {
    "ExecuteTime": {
     "end_time": "2021-03-01T12:08:38.366504Z",
     "start_time": "2021-03-01T12:08:38.361371Z"
    }
   },
   "outputs": [],
   "source": [
    "from sklearn.linear_model import SGDClassifier"
   ]
  },
  {
   "cell_type": "code",
   "execution_count": 320,
   "id": "dominican-transportation",
   "metadata": {
    "ExecuteTime": {
     "end_time": "2021-03-01T11:01:54.728168Z",
     "start_time": "2021-03-01T11:01:54.492907Z"
    }
   },
   "outputs": [
    {
     "name": "stdout",
     "output_type": "stream",
     "text": [
      "[0.05197653] [[ 0.32316681 -2.17232161]]\n"
     ]
    },
    {
     "data": {
      "image/png": "[encoded data removed]",
      "text/plain": [
       "<Figure size 720x576 with 1 Axes>"
      ]
     },
     "metadata": {
      "needs_background": "light"
     },
     "output_type": "display_data"
    }
   ],
   "source": [
    "sgd_lin_clf = Pipeline([\n",
    "    ('scaler', StandardScaler()),\n",
    "    ('clf', SGDClassifier(loss='hinge', alpha=1./(1.*len(y)), penalty='l2'))  # alpha = 1/(C*m)\n",
    "])\n",
    "sgd_lin_clf.fit(X, y)\n",
    "print(sgd_lin_clf.named_steps['clf'].intercept_, sgd_lin_clf.named_steps['clf'].coef_)\n",
    "plt.plot(X[y==0][:,0], X[y==0][:,1], 'bd')\n",
    "plt.plot(X[y==1][:,0], X[y==1][:,1], 'gs')\n",
    "draw_decision_regions(sgd_lin_clf, x1_min, x1_max, x2_min, x2_max)\n",
    "plt.title(\"SGD\");"
   ]
  },
  {
   "cell_type": "markdown",
   "id": "indirect-guitar",
   "metadata": {},
   "source": [
    "`SGDClassifier` isn't quite close as the others"
   ]
  },
  {
   "cell_type": "code",
   "execution_count": 322,
   "id": "respected-wilderness",
   "metadata": {
    "ExecuteTime": {
     "end_time": "2021-03-01T11:02:18.218927Z",
     "start_time": "2021-03-01T11:02:17.913206Z"
    }
   },
   "outputs": [
    {
     "data": {
      "image/png": "[encoded data removed]",
      "text/plain": [
       "<Figure size 720x576 with 1 Axes>"
      ]
     },
     "metadata": {
      "needs_background": "light"
     },
     "output_type": "display_data"
    }
   ],
   "source": [
    "plt.plot(X[y==0][:,0], X[y==0][:,1], 'bd')\n",
    "plt.plot(X[y==1][:,0], X[y==1][:,1], 'gs')\n",
    "draw_decision_boundary(linear_svc_clf, x1_min, x1_max, 'k-', label='LinearSVC')\n",
    "draw_decision_boundary(svc_lin_clf, x1_min, x1_max,  'r--', label='SVC, linear kernel')\n",
    "draw_decision_boundary(sgd_lin_clf, x1_min, x1_max, 'g.', label='SGD')\n",
    "# plt.title(\"Linear SVC\");\n",
    "plt.legend();"
   ]
  },
  {
   "cell_type": "markdown",
   "id": "three-theater",
   "metadata": {},
   "source": [
    "## 9. Train SVM on MNIST, use OvR"
   ]
  },
  {
   "cell_type": "markdown",
   "id": "productive-index",
   "metadata": {},
   "source": [
    "Train SVM on MNIST. Use OvR. Use small validations sets to tune hyperparameters.\n",
    "\n",
    "See also the guide from libsvm: https://www.csie.ntu.edu.tw/~cjlin/papers/guide/guide.pdf"
   ]
  },
  {
   "cell_type": "code",
   "execution_count": 10,
   "id": "accessible-proportion",
   "metadata": {
    "ExecuteTime": {
     "end_time": "2021-03-01T12:09:50.789293Z",
     "start_time": "2021-03-01T12:08:38.370577Z"
    }
   },
   "outputs": [],
   "source": [
    "from sklearn.datasets import fetch_openml\n",
    "mnist = fetch_openml('mnist_784', version=1, cache=True)"
   ]
  },
  {
   "cell_type": "code",
   "execution_count": 12,
   "id": "universal-antarctica",
   "metadata": {
    "ExecuteTime": {
     "end_time": "2021-03-01T12:09:50.835953Z",
     "start_time": "2021-03-01T12:09:50.813905Z"
    }
   },
   "outputs": [],
   "source": [
    "X = mnist[\"data\"]\n",
    "y = mnist[\"target\"].astype(np.uint8)\n",
    "\n",
    "X_train = X[:60000]\n",
    "y_train = y[:60000]\n",
    "X_test = X[60000:]\n",
    "y_test = y[60000:]"
   ]
  },
  {
   "cell_type": "code",
   "execution_count": 13,
   "id": "fatty-peter",
   "metadata": {
    "ExecuteTime": {
     "end_time": "2021-03-01T11:32:40.284104Z",
     "start_time": "2021-03-01T11:28:49.633294Z"
    }
   },
   "outputs": [
    {
     "name": "stdout",
     "output_type": "stream",
     "text": [
      "[LibLinear]"
     ]
    },
    {
     "name": "stderr",
     "output_type": "stream",
     "text": [
      "/Users/robin/.virtualenvs/handsonml/lib/python3.7/site-packages/sklearn/svm/_base.py:986: ConvergenceWarning: Liblinear failed to converge, increase the number of iterations.\n",
      "  \"the number of iterations.\", ConvergenceWarning)\n"
     ]
    },
    {
     "data": {
      "text/plain": [
       "LinearSVC(C=1, loss='hinge', random_state=42, verbose=1)"
      ]
     },
     "execution_count": 13,
     "metadata": {},
     "output_type": "execute_result"
    }
   ],
   "source": [
    "# Use LinearSVC as it defaults to OvR\n",
    "# This will take a while\n",
    "# Note that verbosity messages will be printed to **terminal** not here\n",
    "lin_clf = LinearSVC(C=1, loss='hinge', random_state=42, verbose=1)\n",
    "lin_clf.fit(X_train, y_train)"
   ]
  },
  {
   "cell_type": "code",
   "execution_count": 11,
   "id": "centered-military",
   "metadata": {
    "ExecuteTime": {
     "end_time": "2021-03-01T12:09:50.808904Z",
     "start_time": "2021-03-01T12:09:50.796594Z"
    }
   },
   "outputs": [],
   "source": [
    "from sklearn.metrics import accuracy_score"
   ]
  },
  {
   "cell_type": "code",
   "execution_count": 15,
   "id": "seven-aggregate",
   "metadata": {
    "ExecuteTime": {
     "end_time": "2021-03-01T11:36:05.562600Z",
     "start_time": "2021-03-01T11:36:04.828342Z"
    }
   },
   "outputs": [
    {
     "data": {
      "text/plain": [
       "0.8931166666666667"
      ]
     },
     "execution_count": 15,
     "metadata": {},
     "output_type": "execute_result"
    }
   ],
   "source": [
    "y_train_predict = lin_clf.predict(X_train)\n",
    "accuracy_score(y_train_predict, y_train)"
   ]
  },
  {
   "cell_type": "markdown",
   "id": "separated-street",
   "metadata": {},
   "source": [
    "So 89% accuracy (on training set), which can definitely be improved upon (our K-nearest neighbors classifier achieved 97% accuracy on its training & test scores)\n",
    "\n",
    "Do we need to use StandardScaler, even though all pixels are normalised to [0, 255]?"
   ]
  },
  {
   "cell_type": "code",
   "execution_count": 17,
   "id": "mysterious-deposit",
   "metadata": {
    "ExecuteTime": {
     "end_time": "2021-03-01T11:46:44.150253Z",
     "start_time": "2021-03-01T11:36:30.842538Z"
    }
   },
   "outputs": [
    {
     "name": "stderr",
     "output_type": "stream",
     "text": [
      "/Users/robin/.virtualenvs/handsonml/lib/python3.7/site-packages/sklearn/svm/_base.py:986: ConvergenceWarning: Liblinear failed to converge, increase the number of iterations.\n",
      "  \"the number of iterations.\", ConvergenceWarning)\n"
     ]
    },
    {
     "data": {
      "text/plain": [
       "Pipeline(steps=[('scaler', StandardScaler()),\n",
       "                ('clf', LinearSVC(C=1, loss='hinge', random_state=42))])"
      ]
     },
     "execution_count": 17,
     "metadata": {},
     "output_type": "execute_result"
    }
   ],
   "source": [
    "linear_svc_mnist_clf = Pipeline([\n",
    "    ('scaler', StandardScaler()),\n",
    "    ('clf', LinearSVC(C=1, loss='hinge', random_state=42))\n",
    "])\n",
    "linear_svc_mnist_clf.fit(X_train, y_train)"
   ]
  },
  {
   "cell_type": "code",
   "execution_count": 20,
   "id": "previous-horizontal",
   "metadata": {
    "ExecuteTime": {
     "end_time": "2021-03-01T11:47:41.222531Z",
     "start_time": "2021-03-01T11:47:40.223935Z"
    }
   },
   "outputs": [
    {
     "data": {
      "text/plain": [
       "0.9278833333333333"
      ]
     },
     "execution_count": 20,
     "metadata": {},
     "output_type": "execute_result"
    }
   ],
   "source": [
    "y_train_predict = linear_svc_mnist_clf.predict(X_train)\n",
    "accuracy_score(y_train_predict, y_train)"
   ]
  },
  {
   "cell_type": "markdown",
   "id": "packed-identity",
   "metadata": {},
   "source": [
    "So scaling **does** make a difference - here raising accuracy from 89% to 93%. But the Linear kernel is probably holding us back. So we should try a different kernel, e.g. RBF."
   ]
  },
  {
   "cell_type": "code",
   "execution_count": 13,
   "id": "fifth-karaoke",
   "metadata": {
    "ExecuteTime": {
     "end_time": "2021-03-01T12:17:56.018871Z",
     "start_time": "2021-03-01T12:09:50.840671Z"
    }
   },
   "outputs": [
    {
     "data": {
      "text/plain": [
       "Pipeline(steps=[('scaler', StandardScaler()),\n",
       "                ('clf', SVC(C=1, random_state=42))])"
      ]
     },
     "execution_count": 13,
     "metadata": {},
     "output_type": "execute_result"
    }
   ],
   "source": [
    "rbf_svc_mnist_clf = Pipeline([\n",
    "    ('scaler', StandardScaler()),\n",
    "    ('clf', SVC(kernel='rbf', C=1, gamma='scale', random_state=42))\n",
    "])\n",
    "rbf_svc_mnist_clf.fit(X_train, y_train)"
   ]
  },
  {
   "cell_type": "code",
   "execution_count": 14,
   "id": "convenient-services",
   "metadata": {
    "ExecuteTime": {
     "end_time": "2021-03-01T12:33:41.054780Z",
     "start_time": "2021-03-01T12:17:56.024331Z"
    }
   },
   "outputs": [
    {
     "data": {
      "text/plain": [
       "0.9866333333333334"
      ]
     },
     "execution_count": 14,
     "metadata": {},
     "output_type": "execute_result"
    }
   ],
   "source": [
    "y_train_predict = rbf_svc_mnist_clf.predict(X_train)\n",
    "accuracy_score(y_train_predict, y_train)"
   ]
  },
  {
   "cell_type": "markdown",
   "id": "prostate-yesterday",
   "metadata": {},
   "source": [
    "Takes forever (why?), but Yay much better! Even without optimising C, gamma. Even better than K nearest neighbors"
   ]
  },
  {
   "cell_type": "code",
   "execution_count": 15,
   "id": "respective-concord",
   "metadata": {
    "ExecuteTime": {
     "end_time": "2021-03-01T12:38:54.902490Z",
     "start_time": "2021-03-01T12:36:21.289120Z"
    }
   },
   "outputs": [
    {
     "data": {
      "text/plain": [
       "0.966"
      ]
     },
     "execution_count": 15,
     "metadata": {},
     "output_type": "execute_result"
    }
   ],
   "source": [
    "y_test_predict = rbf_svc_mnist_clf.predict(X_test)\n",
    "accuracy_score(y_test_predict, y_test)"
   ]
  },
  {
   "cell_type": "markdown",
   "id": "junior-oasis",
   "metadata": {},
   "source": [
    "So close to 97% accuracy on the test set."
   ]
  },
  {
   "cell_type": "markdown",
   "id": "pleasant-jaguar",
   "metadata": {},
   "source": [
    "We could do a grid or random search as well to find a better C, gamma. But this would take forever..."
   ]
  },
  {
   "cell_type": "markdown",
   "id": "comfortable-companion",
   "metadata": {},
   "source": [
    "## 10. Train SVR on California housing dataset"
   ]
  },
  {
   "cell_type": "code",
   "execution_count": 21,
   "id": "judicial-french",
   "metadata": {
    "ExecuteTime": {
     "end_time": "2021-03-01T13:16:34.740648Z",
     "start_time": "2021-03-01T13:16:34.721262Z"
    }
   },
   "outputs": [],
   "source": [
    "from sklearn.datasets import fetch_california_housing"
   ]
  },
  {
   "cell_type": "code",
   "execution_count": 22,
   "id": "cleared-windows",
   "metadata": {
    "ExecuteTime": {
     "end_time": "2021-03-01T13:16:49.729391Z",
     "start_time": "2021-03-01T13:16:46.900954Z"
    }
   },
   "outputs": [],
   "source": [
    "housing = fetch_california_housing()\n",
    "X_housing = housing[\"data\"]\n",
    "y_housing = housing[\"target\"]"
   ]
  },
  {
   "cell_type": "code",
   "execution_count": 23,
   "id": "fleet-worship",
   "metadata": {
    "ExecuteTime": {
     "end_time": "2021-03-01T13:16:53.960562Z",
     "start_time": "2021-03-01T13:16:53.949603Z"
    }
   },
   "outputs": [],
   "source": [
    "from sklearn.model_selection import train_test_split"
   ]
  },
  {
   "cell_type": "markdown",
   "id": "rural-tamil",
   "metadata": {},
   "source": [
    "Note that this isn't the best way to split it - in Chapter 2 we saw that really we need to maintain the same split by income categories to do it fairly."
   ]
  },
  {
   "cell_type": "code",
   "execution_count": 24,
   "id": "formal-green",
   "metadata": {
    "ExecuteTime": {
     "end_time": "2021-03-01T13:17:26.017347Z",
     "start_time": "2021-03-01T13:17:25.996303Z"
    }
   },
   "outputs": [],
   "source": [
    "X_housing_train, X_housing_test, y_housing_train, y_housing_test = train_test_split(X_housing, y_housing, test_size=0.2, random_state=42)"
   ]
  },
  {
   "cell_type": "code",
   "execution_count": 25,
   "id": "rolled-deadline",
   "metadata": {
    "ExecuteTime": {
     "end_time": "2021-03-01T13:17:31.981552Z",
     "start_time": "2021-03-01T13:17:31.972293Z"
    }
   },
   "outputs": [
    {
     "data": {
      "text/plain": [
       "(16512, 8)"
      ]
     },
     "execution_count": 25,
     "metadata": {},
     "output_type": "execute_result"
    }
   ],
   "source": [
    "X_housing_train.shape"
   ]
  },
  {
   "cell_type": "code",
   "execution_count": 26,
   "id": "comparable-continent",
   "metadata": {
    "ExecuteTime": {
     "end_time": "2021-03-01T13:17:42.565174Z",
     "start_time": "2021-03-01T13:17:42.559260Z"
    }
   },
   "outputs": [
    {
     "data": {
      "text/plain": [
       "(16512,)"
      ]
     },
     "execution_count": 26,
     "metadata": {},
     "output_type": "execute_result"
    }
   ],
   "source": [
    "y_housing_train.shape"
   ]
  },
  {
   "cell_type": "markdown",
   "id": "cutting-seattle",
   "metadata": {},
   "source": [
    "We'll try a simple linear SVR first to get a baseline performance. We definitely need to scale our features first."
   ]
  },
  {
   "cell_type": "code",
   "execution_count": 31,
   "id": "about-conservative",
   "metadata": {
    "ExecuteTime": {
     "end_time": "2021-03-01T13:21:12.120063Z",
     "start_time": "2021-03-01T13:21:06.730494Z"
    }
   },
   "outputs": [
    {
     "name": "stdout",
     "output_type": "stream",
     "text": [
      "[LibLinear]"
     ]
    },
    {
     "data": {
      "text/plain": [
       "Pipeline(steps=[('scaler', StandardScaler()),\n",
       "                ('svr',\n",
       "                 LinearSVR(C=1, max_iter=3000, random_state=42, verbose=1))])"
      ]
     },
     "execution_count": 31,
     "metadata": {},
     "output_type": "execute_result"
    }
   ],
   "source": [
    "lin_svr = Pipeline([\n",
    "    ('scaler', StandardScaler()),\n",
    "    ('svr', LinearSVR(C=1, dual=True, verbose=1, max_iter=3000, random_state=42)),\n",
    "])\n",
    "lin_svr.fit(X_housing_train, y_housing_train)"
   ]
  },
  {
   "cell_type": "code",
   "execution_count": 32,
   "id": "independent-hometown",
   "metadata": {
    "ExecuteTime": {
     "end_time": "2021-03-01T13:21:35.919749Z",
     "start_time": "2021-03-01T13:21:35.913793Z"
    }
   },
   "outputs": [],
   "source": [
    "from sklearn.metrics import mean_absolute_error, mean_squared_error"
   ]
  },
  {
   "cell_type": "code",
   "execution_count": 44,
   "id": "successful-shaft",
   "metadata": {
    "ExecuteTime": {
     "end_time": "2021-03-01T13:27:48.326799Z",
     "start_time": "2021-03-01T13:27:48.315540Z"
    }
   },
   "outputs": [
    {
     "name": "stdout",
     "output_type": "stream",
     "text": [
      "RMSE: 0.979565447829459\n",
      "MAE: 0.5111192378159244\n"
     ]
    }
   ],
   "source": [
    "y_housing_train_predict = lin_svr.predict(X_housing_train)\n",
    "print(\"RMSE:\", np.sqrt(mean_squared_error(y_housing_train_predict, y_housing_train)))\n",
    "print(\"MAE:\", mean_absolute_error(y_housing_train_predict, y_housing_train))"
   ]
  },
  {
   "cell_type": "markdown",
   "id": "hybrid-walker",
   "metadata": {},
   "source": [
    "Note that this is the median house value in 100K\\\\$. So we have a RMSE of 98,000\\\\$, which is large."
   ]
  },
  {
   "cell_type": "code",
   "execution_count": 35,
   "id": "medical-prairie",
   "metadata": {
    "ExecuteTime": {
     "end_time": "2021-03-01T13:24:23.505676Z",
     "start_time": "2021-03-01T13:24:23.497750Z"
    }
   },
   "outputs": [
    {
     "data": {
      "text/plain": [
       "array([1.90423626e+00, 1.26021177e+01, 2.38730258e+00, 4.33201426e-01,\n",
       "       1.13702195e+03, 1.15783935e+01, 2.13660060e+00, 2.00559281e+00])"
      ]
     },
     "execution_count": 35,
     "metadata": {},
     "output_type": "execute_result"
    }
   ],
   "source": [
    "lin_svr.named_steps['scaler'].scale_"
   ]
  },
  {
   "cell_type": "markdown",
   "id": "sophisticated-exhaust",
   "metadata": {},
   "source": [
    "Let's instead try a RBF kernel:"
   ]
  },
  {
   "cell_type": "code",
   "execution_count": 46,
   "id": "perfect-mission",
   "metadata": {
    "ExecuteTime": {
     "end_time": "2021-03-01T13:31:19.185735Z",
     "start_time": "2021-03-01T13:31:04.220881Z"
    }
   },
   "outputs": [
    {
     "name": "stdout",
     "output_type": "stream",
     "text": [
      "[LibSVM]"
     ]
    },
    {
     "data": {
      "text/plain": [
       "Pipeline(steps=[('scaler', StandardScaler()), ('svr', SVR(C=1, verbose=1))])"
      ]
     },
     "execution_count": 46,
     "metadata": {},
     "output_type": "execute_result"
    }
   ],
   "source": [
    "rbf_svr = Pipeline([\n",
    "    ('scaler', StandardScaler()),\n",
    "    ('svr', SVR(kernel='rbf', gamma='scale', C=1, verbose=1)),\n",
    "])\n",
    "rbf_svr.fit(X_housing_train, y_housing_train)"
   ]
  },
  {
   "cell_type": "code",
   "execution_count": 47,
   "id": "white-momentum",
   "metadata": {
    "ExecuteTime": {
     "end_time": "2021-03-01T13:31:58.021466Z",
     "start_time": "2021-03-01T13:31:24.589641Z"
    }
   },
   "outputs": [
    {
     "name": "stdout",
     "output_type": "stream",
     "text": [
      "RMSE: 0.5797673265358964\n",
      "MAE: 0.38311919249736526\n"
     ]
    }
   ],
   "source": [
    "y_housing_train_predict = rbf_svr.predict(X_housing_train)\n",
    "print(\"RMSE:\", np.sqrt(mean_squared_error(y_housing_train_predict, y_housing_train)))\n",
    "print(\"MAE:\", mean_absolute_error(y_housing_train_predict, y_housing_train))"
   ]
  },
  {
   "cell_type": "markdown",
   "id": "ready-china",
   "metadata": {},
   "source": [
    "So already better, even without optimising C, gamma. Let's try it on the test set:"
   ]
  },
  {
   "cell_type": "code",
   "execution_count": 48,
   "id": "demographic-cambodia",
   "metadata": {
    "ExecuteTime": {
     "end_time": "2021-03-01T13:33:16.498461Z",
     "start_time": "2021-03-01T13:33:08.989855Z"
    }
   },
   "outputs": [
    {
     "name": "stdout",
     "output_type": "stream",
     "text": [
      "RMSE: 0.5974969813107396\n",
      "MAE: 0.39859828301457556\n"
     ]
    }
   ],
   "source": [
    "y_housing_test_predict = rbf_svr.predict(X_housing_test)\n",
    "print(\"RMSE:\", np.sqrt(mean_squared_error(y_housing_test_predict, y_housing_test)))\n",
    "print(\"MAE:\", mean_absolute_error(y_housing_test_predict, y_housing_test))"
   ]
  },
  {
   "cell_type": "markdown",
   "id": "happy-anime",
   "metadata": {},
   "source": [
    "So decent performance on the test set as well. Our random forest model had a RMSE of about 53K."
   ]
  }
 ],
 "metadata": {
  "kernelspec": {
   "display_name": "handsonml",
   "language": "python",
   "name": "handsonml"
  },
  "language_info": {
   "codemirror_mode": {
    "name": "ipython",
    "version": 3
   },
   "file_extension": ".py",
   "mimetype": "text/x-python",
   "name": "python",
   "nbconvert_exporter": "python",
   "pygments_lexer": "ipython3",
   "version": "3.7.5"
  },
  "toc": {
   "base_numbering": 1,
   "nav_menu": {},
   "number_sections": true,
   "sideBar": true,
   "skip_h1_title": false,
   "title_cell": "Table of Contents",
   "title_sidebar": "Contents",
   "toc_cell": false,
   "toc_position": {},
   "toc_section_display": true,
   "toc_window_display": false
  }
 },
 "nbformat": 4,
 "nbformat_minor": 5
}
