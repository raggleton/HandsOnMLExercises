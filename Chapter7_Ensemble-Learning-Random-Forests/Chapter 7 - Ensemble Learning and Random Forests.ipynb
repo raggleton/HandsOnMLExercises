{
 "cells": [
  {
   "cell_type": "code",
   "execution_count": 1,
   "id": "environmental-incentive",
   "metadata": {
    "ExecuteTime": {
     "end_time": "2021-03-03T11:46:45.430687Z",
     "start_time": "2021-03-03T11:46:44.740005Z"
    }
   },
   "outputs": [],
   "source": [
    "import numpy as np\n",
    "import matplotlib as mpl\n",
    "import matplotlib.pyplot as plt\n",
    "%matplotlib inline\n",
    "mpl.rcParams['font.size'] = 14\n",
    "mpl.rcParams['figure.figsize'] = (10, 8)"
   ]
  },
  {
   "cell_type": "markdown",
   "id": "cathedral-center",
   "metadata": {},
   "source": [
    "**Ensemble learning**: aggregating the predictions of an ensemble of predictors to get a better performance than the best individual predictor.\n",
    "\n",
    "Turns **weak learners** (those that perform only slightly better than random) into a combined **strong learner** (achieves high accuracy).\n",
    "\n",
    "**Ensemble method**: the algorithm used bu ensemble learning\n",
    "\n",
    "Various techniques:\n",
    "\n",
    "- **Bagging/pasting**: same predictors, but train each on subset of training data (bagging = with replacement, pasting = without)\n",
    "\n",
    "- **Random Patches/Subspaces**: same predictors, but train each on a subset of input features and/or data (patches = subset of both, subspaces = use all training data)\n",
    "\n",
    "- **Random Forest**: ensemble of DTs trained via bagging, on random subset of features\n",
    "\n",
    "- **Boosting**: add additional predictors that are trained on incorrectly predicted instances from previous predictor\n",
    "\n",
    "- **Stacking**: add meta-learner to better combine results from multiple predictors"
   ]
  },
  {
   "cell_type": "markdown",
   "id": "former-carbon",
   "metadata": {},
   "source": [
    "# Voting Classifiers"
   ]
  },
  {
   "cell_type": "markdown",
   "id": "random-valentine",
   "metadata": {},
   "source": [
    "Train up a few classifiers: Logistic regression, SVM, Random Forest, K-NN. How to combine the results of each?\n",
    "\n",
    "**Hard-voting classifier**: predict the class that gets the most votes\n",
    "\n",
    "**Soft-voting classifier**: if you can get probabilities for each class, then instead can combine probabilities, find classes with highest averaged probability. Better than hard voting as more weight to highly confident votes. (For SVCs, need to enforce CV to estimate probabilities)\n",
    "\n",
    "Let's make our own voting classifier:"
   ]
  },
  {
   "cell_type": "code",
   "execution_count": 2,
   "id": "raised-indicator",
   "metadata": {
    "ExecuteTime": {
     "end_time": "2021-03-03T11:46:46.566670Z",
     "start_time": "2021-03-03T11:46:45.434024Z"
    }
   },
   "outputs": [],
   "source": [
    "from sklearn.ensemble import RandomForestClassifier\n",
    "from sklearn.ensemble import VotingClassifier\n",
    "from sklearn.linear_model import LogisticRegression\n",
    "from sklearn.svm import SVC"
   ]
  },
  {
   "cell_type": "code",
   "execution_count": 3,
   "id": "psychological-dating",
   "metadata": {
    "ExecuteTime": {
     "end_time": "2021-03-03T11:46:46.656751Z",
     "start_time": "2021-03-03T11:46:46.569577Z"
    }
   },
   "outputs": [],
   "source": [
    "from sklearn.model_selection import train_test_split\n",
    "from sklearn.datasets import make_moons"
   ]
  },
  {
   "cell_type": "code",
   "execution_count": 5,
   "id": "changing-provider",
   "metadata": {
    "ExecuteTime": {
     "end_time": "2021-03-02T14:00:26.939617Z",
     "start_time": "2021-03-02T14:00:26.925755Z"
    }
   },
   "outputs": [],
   "source": [
    "X, y = make_moons(n_samples=500, noise=0.30, random_state=42)\n",
    "X_train, X_test, y_train, y_test = train_test_split(X, y, random_state=42)"
   ]
  },
  {
   "cell_type": "code",
   "execution_count": 6,
   "id": "czech-durham",
   "metadata": {
    "ExecuteTime": {
     "end_time": "2021-03-02T14:00:28.084978Z",
     "start_time": "2021-03-02T14:00:27.813562Z"
    }
   },
   "outputs": [
    {
     "data": {
      "text/plain": [
       "VotingClassifier(estimators=[('lr', LogisticRegression()),\n",
       "                             ('rf', RandomForestClassifier()), ('svc', SVC())])"
      ]
     },
     "execution_count": 6,
     "metadata": {},
     "output_type": "execute_result"
    }
   ],
   "source": [
    "log_clf = LogisticRegression()\n",
    "rnd_clf = RandomForestClassifier()\n",
    "svm_clf = SVC()\n",
    "\n",
    "voting_clf = VotingClassifier(\n",
    "    estimators=[\n",
    "        ('lr', log_clf),\n",
    "        ('rf', rnd_clf),\n",
    "        ('svc', svm_clf)\n",
    "    ],\n",
    "    voting='hard'\n",
    ")\n",
    "voting_clf.fit(X_train, y_train)"
   ]
  },
  {
   "cell_type": "markdown",
   "id": "pointed-yesterday",
   "metadata": {},
   "source": [
    "Let's evaluate on the test set:"
   ]
  },
  {
   "cell_type": "code",
   "execution_count": 4,
   "id": "prompt-criterion",
   "metadata": {
    "ExecuteTime": {
     "end_time": "2021-03-03T11:46:46.663971Z",
     "start_time": "2021-03-03T11:46:46.659305Z"
    }
   },
   "outputs": [],
   "source": [
    "from sklearn.metrics import accuracy_score"
   ]
  },
  {
   "cell_type": "code",
   "execution_count": 8,
   "id": "continuing-jordan",
   "metadata": {
    "ExecuteTime": {
     "end_time": "2021-03-02T14:01:46.150910Z",
     "start_time": "2021-03-02T14:01:45.639101Z"
    }
   },
   "outputs": [
    {
     "name": "stdout",
     "output_type": "stream",
     "text": [
      "LogisticRegression 0.864\n",
      "RandomForestClassifier 0.896\n",
      "SVC 0.896\n",
      "VotingClassifier 0.912\n"
     ]
    }
   ],
   "source": [
    "for clf in (log_clf, rnd_clf, svm_clf, voting_clf):\n",
    "    clf.fit(X_train, y_train)\n",
    "    y_pred = clf.predict(X_test)\n",
    "    print(clf.__class__.__name__, accuracy_score(y_pred, y_test))"
   ]
  },
  {
   "cell_type": "markdown",
   "id": "specified-hudson",
   "metadata": {},
   "source": [
    "So we can see that even though each classifier only had 86-90% accuracy, by combining them we get a 91% accuracy."
   ]
  },
  {
   "cell_type": "markdown",
   "id": "separate-disease",
   "metadata": {},
   "source": [
    "# Bagging & Pasting"
   ]
  },
  {
   "cell_type": "markdown",
   "id": "oriental-disposal",
   "metadata": {},
   "source": [
    "Instead of using different classifiers, we can use the **same training algorithm** for every predictor, but train them on **different subsets** of the training data. Each training instance is sampled several times across multiple predictors.\n",
    "\n",
    "**Bagging** (Bootstrap aggregating): subset samples are created **with replacement**. An instance may be sampled **several times by the same predictor**\n",
    "\n",
    "**Pasting**: sampling done **without replacement**. Instances not sampled several times by same predictor.\n",
    "\n",
    "Once all predictors trained, ensemble can make prediction by using mode (for classification), or average (for regression).\n",
    "\n",
    "Each predictor has higher bias than on full training set, but combined result has similar bias & reduced variance.\n",
    "\n",
    "Predictors can also be trained & evaluated in parallel - **scale well**."
   ]
  },
  {
   "cell_type": "code",
   "execution_count": 5,
   "id": "static-papua",
   "metadata": {
    "ExecuteTime": {
     "end_time": "2021-03-03T11:46:46.671132Z",
     "start_time": "2021-03-03T11:46:46.667268Z"
    }
   },
   "outputs": [],
   "source": [
    "from sklearn.ensemble import BaggingClassifier\n",
    "from sklearn.tree import DecisionTreeClassifier"
   ]
  },
  {
   "cell_type": "code",
   "execution_count": 11,
   "id": "varying-incentive",
   "metadata": {
    "ExecuteTime": {
     "end_time": "2021-03-02T14:26:48.625455Z",
     "start_time": "2021-03-02T14:26:47.859802Z"
    }
   },
   "outputs": [
    {
     "name": "stderr",
     "output_type": "stream",
     "text": [
      "[Parallel(n_jobs=4)]: Using backend LokyBackend with 4 concurrent workers.\n",
      "[Parallel(n_jobs=4)]: Done   2 out of   4 | elapsed:    0.7s remaining:    0.7s\n",
      "[Parallel(n_jobs=4)]: Done   4 out of   4 | elapsed:    0.7s finished\n"
     ]
    },
    {
     "data": {
      "text/plain": [
       "BaggingClassifier(base_estimator=DecisionTreeClassifier(), max_samples=100,\n",
       "                  n_estimators=500, n_jobs=-1, verbose=1)"
      ]
     },
     "execution_count": 11,
     "metadata": {},
     "output_type": "execute_result"
    }
   ],
   "source": [
    "bag_clf = BaggingClassifier(\n",
    "    DecisionTreeClassifier(),\n",
    "    n_estimators=500, # number of base estimators in the ensemble\n",
    "    max_samples=100, # number of samples to draw from X to train each base estimator\n",
    "    bootstrap=True,  # True for bagging, False for pasting\n",
    "    n_jobs=-1, # use all cores\n",
    "    verbose=1\n",
    ")\n",
    "bag_clf.fit(X_train, y_train)"
   ]
  },
  {
   "cell_type": "code",
   "execution_count": 12,
   "id": "growing-champion",
   "metadata": {
    "ExecuteTime": {
     "end_time": "2021-03-02T14:27:03.297743Z",
     "start_time": "2021-03-02T14:27:02.809053Z"
    }
   },
   "outputs": [
    {
     "name": "stderr",
     "output_type": "stream",
     "text": [
      "[Parallel(n_jobs=4)]: Using backend LokyBackend with 4 concurrent workers.\n",
      "[Parallel(n_jobs=4)]: Done   2 out of   4 | elapsed:    0.4s remaining:    0.4s\n",
      "[Parallel(n_jobs=4)]: Done   4 out of   4 | elapsed:    0.5s finished\n"
     ]
    }
   ],
   "source": [
    "y_pred = bag_clf.predict(X_test)"
   ]
  },
  {
   "cell_type": "code",
   "execution_count": 13,
   "id": "otherwise-wednesday",
   "metadata": {
    "ExecuteTime": {
     "end_time": "2021-03-02T14:27:11.258048Z",
     "start_time": "2021-03-02T14:27:11.250236Z"
    }
   },
   "outputs": [
    {
     "data": {
      "text/plain": [
       "0.912"
      ]
     },
     "execution_count": 13,
     "metadata": {},
     "output_type": "execute_result"
    }
   ],
   "source": [
    "accuracy_score(y_pred, y_test)"
   ]
  },
  {
   "cell_type": "markdown",
   "id": "russian-vertical",
   "metadata": {},
   "source": [
    "Note that since DecisionTreeClassifier supports returning a probability (`predict_proba()`), the `BaggingClassifier` automatically performs soft voting.\n",
    "\n",
    "How does this compare to a single DT?"
   ]
  },
  {
   "cell_type": "code",
   "execution_count": 14,
   "id": "completed-bosnia",
   "metadata": {
    "ExecuteTime": {
     "end_time": "2021-03-02T14:28:58.350419Z",
     "start_time": "2021-03-02T14:28:58.343712Z"
    }
   },
   "outputs": [],
   "source": [
    "dt_clf = DecisionTreeClassifier()\n",
    "dt_clf.fit(X_train, y_train)\n",
    "y_pred_basic = dt_clf.predict(X_test)"
   ]
  },
  {
   "cell_type": "code",
   "execution_count": 15,
   "id": "partial-italy",
   "metadata": {
    "ExecuteTime": {
     "end_time": "2021-03-02T14:29:05.661156Z",
     "start_time": "2021-03-02T14:29:05.653317Z"
    }
   },
   "outputs": [
    {
     "data": {
      "text/plain": [
       "0.872"
      ]
     },
     "execution_count": 15,
     "metadata": {},
     "output_type": "execute_result"
    }
   ],
   "source": [
    "accuracy_score(y_pred_basic, y_test)"
   ]
  },
  {
   "cell_type": "markdown",
   "id": "competitive-category",
   "metadata": {},
   "source": [
    "So one DT by itself has an accuracy of 87%, whilst our bagging version of 500 DTs has an accuracy of 91%!"
   ]
  },
  {
   "cell_type": "code",
   "execution_count": 74,
   "id": "north-equity",
   "metadata": {
    "ExecuteTime": {
     "end_time": "2021-03-02T14:56:39.912964Z",
     "start_time": "2021-03-02T14:56:39.906756Z"
    }
   },
   "outputs": [],
   "source": [
    "def draw_decision_regions(clf, x1_min, x1_max, x2_min, x2_max, ax=None):\n",
    "    x1 = np.linspace(x1_min, x1_max, 200)\n",
    "    x2 = np.linspace(x2_min, x2_max, 200)\n",
    "    X1, X2 = np.meshgrid(x1, x2)\n",
    "    y = clf.predict(np.c_[X1.reshape(-1, 1), X2.reshape(-1, 1)])\n",
    "    ax = ax or plt.gca()\n",
    "    ax.contourf(X1, X2, y.reshape(X1.shape), cmap='Set3')"
   ]
  },
  {
   "cell_type": "code",
   "execution_count": 75,
   "id": "purple-header",
   "metadata": {
    "ExecuteTime": {
     "end_time": "2021-03-02T14:56:42.749916Z",
     "start_time": "2021-03-02T14:56:41.185924Z"
    }
   },
   "outputs": [
    {
     "name": "stderr",
     "output_type": "stream",
     "text": [
      "[Parallel(n_jobs=4)]: Using backend LokyBackend with 4 concurrent workers.\n",
      "[Parallel(n_jobs=4)]: Done   2 out of   4 | elapsed:    0.7s remaining:    0.7s\n",
      "[Parallel(n_jobs=4)]: Done   4 out of   4 | elapsed:    0.9s finished\n"
     ]
    },
    {
     "data": {
      "text/plain": [
       "Text(0.5, 1.0, 'Decision Tree with Bagging')"
      ]
     },
     "execution_count": 75,
     "metadata": {},
     "output_type": "execute_result"
    },
    {
     "data": {
      "image/png": "[encoded data removed]",
      "text/plain": [
       "<Figure size 864x432 with 2 Axes>"
      ]
     },
     "metadata": {
      "needs_background": "light"
     },
     "output_type": "display_data"
    }
   ],
   "source": [
    "fig, axs = plt.subplots(ncols=2, nrows=1, figsize=(12, 6))\n",
    "axs[0].plot(X_train[y_train==0][:,0], X_train[y_train==0][:,1], 'bs', fillstyle='none')\n",
    "axs[0].plot(X_train[y_train==1][:,0], X_train[y_train==1][:,1], 'ro', fillstyle='none')\n",
    "x1_min, x1_max = X_train[:,0].min()-0.5, X_train[:,0].max()+0.5\n",
    "x2_min, x2_max = X_train[:,1].min()-0.5, X_train[:,1].max()+0.5\n",
    "draw_decision_regions(dt_clf, x1_min, x1_max, x2_min, x2_max, axs[0])\n",
    "axs[0].set_title(\"Single Decision Tree\")\n",
    "\n",
    "axs[1].plot(X_train[y_train==0][:,0], X_train[y_train==0][:,1], 'bs', fillstyle='none')\n",
    "axs[1].plot(X_train[y_train==1][:,0], X_train[y_train==1][:,1], 'ro', fillstyle='none')\n",
    "draw_decision_regions(bag_clf, x1_min, x1_max, x2_min, x2_max, axs[1])\n",
    "axs[1].set_title(\"Decision Tree with Bagging\")"
   ]
  },
  {
   "cell_type": "markdown",
   "id": "occupational-research",
   "metadata": {},
   "source": [
    "And we can clearly see here that the bagging version has learnt the boundary much more accurately than the single DT. It is less prone to overfitting, with a more regular boundary shape = smaller variance."
   ]
  },
  {
   "cell_type": "markdown",
   "id": "outer-sunrise",
   "metadata": {},
   "source": [
    "## Out-of-bag evaluation"
   ]
  },
  {
   "cell_type": "markdown",
   "id": "temporal-candy",
   "metadata": {},
   "source": [
    "When bagging, only a fraction of the training instances are sampled for each predictor. The ones not sampled are **out-of-bag (oob) instances**. (But not the same set for _all_ predictors!)\n",
    "\n",
    "Can evaluate bagging performance by testing on oob instances (like a sort of CV). If there are enough estimators, each instance will have several predictions from being an oob instance. CAn them compute oob accuracy.\n",
    "\n",
    "Requires `oob_score=True`."
   ]
  },
  {
   "cell_type": "code",
   "execution_count": 67,
   "id": "accepted-negotiation",
   "metadata": {
    "ExecuteTime": {
     "end_time": "2021-03-02T14:54:13.396186Z",
     "start_time": "2021-03-02T14:54:10.257412Z"
    }
   },
   "outputs": [
    {
     "name": "stderr",
     "output_type": "stream",
     "text": [
      "[Parallel(n_jobs=4)]: Using backend LokyBackend with 4 concurrent workers.\n",
      "[Parallel(n_jobs=4)]: Done   2 out of   4 | elapsed:    2.8s remaining:    2.8s\n",
      "[Parallel(n_jobs=4)]: Done   4 out of   4 | elapsed:    2.9s finished\n"
     ]
    },
    {
     "data": {
      "text/plain": [
       "0.9226666666666666"
      ]
     },
     "execution_count": 67,
     "metadata": {},
     "output_type": "execute_result"
    }
   ],
   "source": [
    "bag_clf = BaggingClassifier(\n",
    "    DecisionTreeClassifier(),\n",
    "    n_estimators=500, # number of base estimators in the ensemble\n",
    "    max_samples=100, # number of samples to draw from X to train each base estimator\n",
    "    bootstrap=True,  # True for bagging, False for pasting\n",
    "    n_jobs=-1,\n",
    "    verbose=1,\n",
    "    oob_score=True # get out-of-bag score\n",
    ")\n",
    "bag_clf.fit(X_train, y_train)\n",
    "bag_clf.oob_score_"
   ]
  },
  {
   "cell_type": "code",
   "execution_count": 68,
   "id": "cross-democrat",
   "metadata": {
    "ExecuteTime": {
     "end_time": "2021-03-02T14:54:31.556258Z",
     "start_time": "2021-03-02T14:54:31.056506Z"
    }
   },
   "outputs": [
    {
     "name": "stderr",
     "output_type": "stream",
     "text": [
      "[Parallel(n_jobs=4)]: Using backend LokyBackend with 4 concurrent workers.\n",
      "[Parallel(n_jobs=4)]: Done   2 out of   4 | elapsed:    0.3s remaining:    0.3s\n",
      "[Parallel(n_jobs=4)]: Done   4 out of   4 | elapsed:    0.5s finished\n"
     ]
    },
    {
     "data": {
      "text/plain": [
       "0.912"
      ]
     },
     "execution_count": 68,
     "metadata": {},
     "output_type": "execute_result"
    }
   ],
   "source": [
    "accuracy_score(bag_clf.predict(X_test), y_test)"
   ]
  },
  {
   "cell_type": "markdown",
   "id": "indie-brunswick",
   "metadata": {},
   "source": [
    "So the oob score is similar to the test score."
   ]
  },
  {
   "cell_type": "code",
   "execution_count": 76,
   "id": "civic-reggae",
   "metadata": {
    "ExecuteTime": {
     "end_time": "2021-03-02T15:01:49.300289Z",
     "start_time": "2021-03-02T15:01:49.293909Z"
    }
   },
   "outputs": [
    {
     "name": "stdout",
     "output_type": "stream",
     "text": [
      "(375, 2)\n",
      "[[0.35516373 0.64483627]\n",
      " [0.38992042 0.61007958]\n",
      " [1.         0.        ]\n",
      " [0.01822917 0.98177083]\n",
      " [0.03047091 0.96952909]\n",
      " [0.1043257  0.8956743 ]\n",
      " [0.38235294 0.61764706]\n",
      " [0.07235142 0.92764858]\n",
      " [0.95687332 0.04312668]\n",
      " [0.81769437 0.18230563]]\n"
     ]
    }
   ],
   "source": [
    "# get probabilities for each class for each instance\n",
    "print(bag_clf.oob_decision_function_.shape)\n",
    "print(bag_clf.oob_decision_function_[:10])"
   ]
  },
  {
   "cell_type": "markdown",
   "id": "laughing-county",
   "metadata": {},
   "source": [
    "# Random Patches & Random Subspaces"
   ]
  },
  {
   "cell_type": "markdown",
   "id": "preliminary-matrix",
   "metadata": {},
   "source": [
    "Can also train predictors using random subset of **input features** as well as instances. Good for high-dimensional inputs, e.g. images.\n",
    "\n",
    "**Random Patches**: sampling both instances & features\n",
    "\n",
    "**Random Subspaces**: only sampling features; use all training instances for each predictor.\n",
    "\n",
    "Adds in more diversity: adds a little more bias for lower variance.\n",
    "\n",
    "\n",
    "Use `max_features` and `bootstrap_features=True` to sample input features (doesn't make sense on 2D input example here)"
   ]
  },
  {
   "cell_type": "markdown",
   "id": "requested-breeding",
   "metadata": {},
   "source": [
    "## Random Forests"
   ]
  },
  {
   "cell_type": "markdown",
   "id": "enabling-blast",
   "metadata": {},
   "source": [
    "**Random Forest**: ensemble of **Decision Trees**, generally trained via bagging method\n",
    "\n",
    "Use specialist `RandomForestClassifier` class over `BaggingClassifier`, as it has optimisations for DTs\n",
    "\n",
    "Also extra randomness when growing trees: instead of searching for best feature amongst _all_ features for each node, it uses a random subset of features - introduces natural diversity.\n",
    "\n",
    "**Extremely-randomised trees (extra-trees)**: increase randomness by using random thresholds for each feature, rather than trying to find the best threshold. Agaon, trades bias for variance, and increases speed."
   ]
  },
  {
   "cell_type": "code",
   "execution_count": null,
   "id": "surprised-concern",
   "metadata": {},
   "outputs": [],
   "source": []
  },
  {
   "cell_type": "code",
   "execution_count": 6,
   "id": "optional-guinea",
   "metadata": {
    "ExecuteTime": {
     "end_time": "2021-03-03T11:46:46.678761Z",
     "start_time": "2021-03-03T11:46:46.674109Z"
    }
   },
   "outputs": [],
   "source": [
    "from sklearn.ensemble import RandomForestClassifier"
   ]
  },
  {
   "cell_type": "code",
   "execution_count": 78,
   "id": "adaptive-stone",
   "metadata": {
    "ExecuteTime": {
     "end_time": "2021-03-02T15:02:29.382368Z",
     "start_time": "2021-03-02T15:02:28.256099Z"
    }
   },
   "outputs": [
    {
     "data": {
      "text/plain": [
       "RandomForestClassifier(max_leaf_nodes=16, n_estimators=500, n_jobs=-1)"
      ]
     },
     "execution_count": 78,
     "metadata": {},
     "output_type": "execute_result"
    }
   ],
   "source": [
    "rnd_clf = RandomForestClassifier(n_estimators=500, max_leaf_nodes=16, n_jobs=-1)\n",
    "rnd_clf.fit(X_train, y_train)"
   ]
  },
  {
   "cell_type": "code",
   "execution_count": 79,
   "id": "noticed-glory",
   "metadata": {
    "ExecuteTime": {
     "end_time": "2021-03-02T15:02:48.191763Z",
     "start_time": "2021-03-02T15:02:47.977174Z"
    }
   },
   "outputs": [
    {
     "data": {
      "text/plain": [
       "0.92"
      ]
     },
     "execution_count": 79,
     "metadata": {},
     "output_type": "execute_result"
    }
   ],
   "source": [
    "y_pred_rf = rnd_clf.predict(X_test)\n",
    "accuracy_score(y_pred_rf, y_test)"
   ]
  },
  {
   "cell_type": "markdown",
   "id": "corporate-spine",
   "metadata": {},
   "source": [
    "### Feature importance"
   ]
  },
  {
   "cell_type": "markdown",
   "id": "welcome-commander",
   "metadata": {},
   "source": [
    "Can measure relative importance of features: calculate weighted average (weighted by # samples associated with node) of how much the feature reduces impurity across tree nodes that use that feature\n",
    "\n",
    "sklearn does this automatically, scaled to sum to 1: `.feature_importances_`"
   ]
  },
  {
   "cell_type": "markdown",
   "id": "swiss-genome",
   "metadata": {},
   "source": [
    "# Boosting"
   ]
  },
  {
   "cell_type": "markdown",
   "id": "analyzed-company",
   "metadata": {},
   "source": [
    "Convert weak learners into strong learners - train predictors sequentially, each trying to correct its predecessor.\n",
    "\n",
    "Different methods available: most popular are **Ada(ptive) Boost** and **Gradient boosting**."
   ]
  },
  {
   "cell_type": "markdown",
   "id": "introductory-religious",
   "metadata": {},
   "source": [
    "## AdaBoost"
   ]
  },
  {
   "cell_type": "markdown",
   "id": "incident-steps",
   "metadata": {},
   "source": [
    "General idea: pay more attention to instances a classifier **incorrectly** identified/underfitted.\n",
    "\n",
    "First train base classifier (e.g. DT) -> make predictions on training set. Increase weight of misclassified instances -> Train another DT using updated weights -> repeat.\n",
    "\n",
    "Have set of classifiers -> all can make predictions, combine them weighting by the accuracy of each.\n",
    "\n",
    "Is a **sequential learning technique** - can't be parallelised - doesn't scale well like bagging/pasting.\n",
    "\n",
    "(NB SVMs not good with AdaBoost - too slow & unstable)\n",
    "\n",
    "Has learning rate - too high, and it overemphasises wrong instances.\n",
    "\n",
    "The AdaBoost algorithm maths:\n",
    "\n",
    "Calculate a weighted error rate $r_j$ for predictor $j$:\n",
    "\n",
    "\\begin{equation}\n",
    "r_j = \\frac{\\sum^m_{i=1, \\hat{y}^{(i)}_j \\neq y^{(i)}} w^{(i)}}{\\sum_{i=1}^m w^{(i)}}\n",
    "\\end{equation}\n",
    "\n",
    "where each instance has weight $w^{(i)}$. In the first iteration, $w^{(i)} = 1/m$, where $m$ is the number of training instances. $\\hat{y}^{(i)}_j$ is the prediction for the $i$th instance by the $j$th predictor. i.e. the numerator is only interested in misclassified instances.\n",
    "\n",
    "The predictor is then assigned a weight $\\alpha_j$:\n",
    "\n",
    "\\begin{equation}\n",
    "\\alpha_j = \\eta \\log \\frac{1-r_j}{r_j}\n",
    "\\end{equation}\n",
    "\n",
    "where $\\eta$ is the learning rate hyperparameter. So the more accurate a predictor is, the smaller $r_j$ will be, and the larger $\\alpha_j$ will be. If it is most often wrong, then $\\alpha_j$ will be <0.\n",
    "\n",
    "The instance weights are then updated, boosting the weights of the misclassified instances:\n",
    "\n",
    "\\begin{equation}\n",
    "w^{(i)} \\to \n",
    "\\begin{cases}\n",
    "w^{(i)} \\text{ if } \\hat{y}^{(i)}_j = y^{(i)} \\\\\n",
    "w^{(i)} \\exp (\\alpha_j) \\text{ if } \\hat{y}^{(i)}_j \\neq y^{(i)} \n",
    "\\end{cases}\n",
    "\\end{equation}\n",
    "\n",
    "and are finally normalised so that they sum to unity.\n",
    "\n",
    "A new predictor is then trained using the updated weights, and the process repeated.\n",
    "\n",
    "The process stops when the desired number of predictors has been trained, or a perfect predictor found.\n",
    "\n",
    "To make a prediction, compute predictions of all the predictors, and weights them using $\\alpha_j$. The final prediction is the one with the weighted majority vote from $N$ predictors:\n",
    "\n",
    "\\begin{equation}\n",
    "\\hat{y}(\\vec{x}) = \\text{argmax}_k \\sum^N_{j=1, \\hat{y}_j = k} \\alpha_j\n",
    "\\end{equation}\n"
   ]
  },
  {
   "cell_type": "code",
   "execution_count": 7,
   "id": "nuclear-january",
   "metadata": {
    "ExecuteTime": {
     "end_time": "2021-03-03T11:46:46.691583Z",
     "start_time": "2021-03-03T11:46:46.682545Z"
    }
   },
   "outputs": [],
   "source": [
    "from sklearn.ensemble import AdaBoostClassifier"
   ]
  },
  {
   "cell_type": "code",
   "execution_count": 81,
   "id": "handled-medication",
   "metadata": {
    "ExecuteTime": {
     "end_time": "2021-03-02T18:24:02.296861Z",
     "start_time": "2021-03-02T18:24:01.837575Z"
    }
   },
   "outputs": [
    {
     "data": {
      "text/plain": [
       "AdaBoostClassifier(base_estimator=DecisionTreeClassifier(max_depth=1),\n",
       "                   learning_rate=0.5, n_estimators=200)"
      ]
     },
     "execution_count": 81,
     "metadata": {},
     "output_type": "execute_result"
    }
   ],
   "source": [
    "ada_clf = AdaBoostClassifier(\n",
    "    DecisionTreeClassifier(max_depth=1),\n",
    "    n_estimators=200,\n",
    "    algorithm='SAMME.R', \n",
    "    learning_rate=0.5\n",
    ")\n",
    "ada_clf.fit(X_train, y_train)"
   ]
  },
  {
   "cell_type": "code",
   "execution_count": 82,
   "id": "electrical-marathon",
   "metadata": {
    "ExecuteTime": {
     "end_time": "2021-03-02T18:24:17.701788Z",
     "start_time": "2021-03-02T18:24:17.632811Z"
    }
   },
   "outputs": [
    {
     "data": {
      "text/plain": [
       "0.896"
      ]
     },
     "execution_count": 82,
     "metadata": {},
     "output_type": "execute_result"
    }
   ],
   "source": [
    "accuracy_score(ada_clf.predict(X_test), y_test)"
   ]
  },
  {
   "cell_type": "markdown",
   "id": "egyptian-disposal",
   "metadata": {},
   "source": [
    "SAMME: multiclass version of AdaBoost\n",
    "\n",
    "Use SAMME.R to estimate class probabilities, performs better."
   ]
  },
  {
   "cell_type": "markdown",
   "id": "inside-niagara",
   "metadata": {},
   "source": [
    "**Stopping overfitting**: either reduce number of estimators, or regularise the base estimator more"
   ]
  },
  {
   "cell_type": "markdown",
   "id": "seeing-timer",
   "metadata": {},
   "source": [
    "## Gradient Boosting"
   ]
  },
  {
   "cell_type": "markdown",
   "id": "clinical-simpson",
   "metadata": {},
   "source": [
    "Instead of tweaking instance weights at each iteration, fit new predictor to the **residual errors** made by previous predictor.\n",
    "\n",
    "On a DT, called **Gradient Tree Boosting** or **Gradient Boosted Regression Trees**.\n",
    "\n",
    "Attempt to make one manually:"
   ]
  },
  {
   "cell_type": "code",
   "execution_count": 8,
   "id": "loaded-demographic",
   "metadata": {
    "ExecuteTime": {
     "end_time": "2021-03-03T11:46:46.708487Z",
     "start_time": "2021-03-03T11:46:46.698577Z"
    }
   },
   "outputs": [],
   "source": [
    "from sklearn.tree import DecisionTreeRegressor"
   ]
  },
  {
   "cell_type": "code",
   "execution_count": null,
   "id": "automated-highland",
   "metadata": {},
   "outputs": [],
   "source": []
  },
  {
   "cell_type": "code",
   "execution_count": 129,
   "id": "monthly-gossip",
   "metadata": {
    "ExecuteTime": {
     "end_time": "2021-03-03T09:55:43.101133Z",
     "start_time": "2021-03-03T09:55:43.097235Z"
    }
   },
   "outputs": [],
   "source": [
    "# dummy noisy quadratic dataset\n",
    "X = np.random.rand(100, 1) - 0.5\n",
    "y = 3*X[:, 0]**2 + 0.05 * np.random.randn(100)"
   ]
  },
  {
   "cell_type": "code",
   "execution_count": 130,
   "id": "measured-sodium",
   "metadata": {
    "ExecuteTime": {
     "end_time": "2021-03-03T09:55:43.295238Z",
     "start_time": "2021-03-03T09:55:43.287674Z"
    }
   },
   "outputs": [
    {
     "data": {
      "text/plain": [
       "DecisionTreeRegressor(max_depth=2)"
      ]
     },
     "execution_count": 130,
     "metadata": {},
     "output_type": "execute_result"
    }
   ],
   "source": [
    "tree_reg1 = DecisionTreeRegressor(max_depth=2)\n",
    "tree_reg1.fit(X, y)"
   ]
  },
  {
   "cell_type": "code",
   "execution_count": 131,
   "id": "sacred-portrait",
   "metadata": {
    "ExecuteTime": {
     "end_time": "2021-03-03T09:55:43.452196Z",
     "start_time": "2021-03-03T09:55:43.441966Z"
    }
   },
   "outputs": [
    {
     "data": {
      "text/plain": [
       "DecisionTreeRegressor(max_depth=2)"
      ]
     },
     "execution_count": 131,
     "metadata": {},
     "output_type": "execute_result"
    }
   ],
   "source": [
    "# Now train another regressor on residual errors from 1st predictor\n",
    "y2 = y - tree_reg1.predict(X)\n",
    "tree_reg2 = DecisionTreeRegressor(max_depth=2)\n",
    "tree_reg2.fit(X, y2)"
   ]
  },
  {
   "cell_type": "code",
   "execution_count": 132,
   "id": "relative-claim",
   "metadata": {
    "ExecuteTime": {
     "end_time": "2021-03-03T09:55:43.633480Z",
     "start_time": "2021-03-03T09:55:43.624533Z"
    }
   },
   "outputs": [
    {
     "data": {
      "text/plain": [
       "DecisionTreeRegressor(max_depth=2)"
      ]
     },
     "execution_count": 132,
     "metadata": {},
     "output_type": "execute_result"
    }
   ],
   "source": [
    "# and another regressor...\n",
    "y3 = y2 - tree_reg2.predict(X)\n",
    "tree_reg3 = DecisionTreeRegressor(max_depth=2)\n",
    "tree_reg3.fit(X, y3)"
   ]
  },
  {
   "cell_type": "code",
   "execution_count": 133,
   "id": "local-hazard",
   "metadata": {
    "ExecuteTime": {
     "end_time": "2021-03-03T09:55:43.788624Z",
     "start_time": "2021-03-03T09:55:43.785296Z"
    }
   },
   "outputs": [],
   "source": [
    "X_new = np.array([[0.8]])"
   ]
  },
  {
   "cell_type": "code",
   "execution_count": 134,
   "id": "anticipated-barcelona",
   "metadata": {
    "ExecuteTime": {
     "end_time": "2021-03-03T09:55:43.972732Z",
     "start_time": "2021-03-03T09:55:43.968903Z"
    }
   },
   "outputs": [],
   "source": [
    "# make a prediction by summing up prediction from all trees\n",
    "y_pred = sum(tree.predict(X_new) for tree in (tree_reg1, tree_reg2, tree_reg3))"
   ]
  },
  {
   "cell_type": "code",
   "execution_count": 135,
   "id": "terminal-header",
   "metadata": {
    "ExecuteTime": {
     "end_time": "2021-03-03T09:55:44.175804Z",
     "start_time": "2021-03-03T09:55:44.169241Z"
    }
   },
   "outputs": [
    {
     "data": {
      "text/plain": [
       "array([0.71706499])"
      ]
     },
     "execution_count": 135,
     "metadata": {},
     "output_type": "execute_result"
    }
   ],
   "source": [
    "y_pred"
   ]
  },
  {
   "cell_type": "markdown",
   "id": "mighty-judge",
   "metadata": {},
   "source": [
    "Can use the sklearn `GradientBoostingRegressor` class instead: note that our `learning_rate` scales the contributions of each tree - using a low value may lead to underfitting, or needing more trees, however can generalise better.\n",
    "\n",
    "**Shrinkage**: reducing the learning rate to avoid overfitting, generalise better"
   ]
  },
  {
   "cell_type": "code",
   "execution_count": 9,
   "id": "certain-slovenia",
   "metadata": {
    "ExecuteTime": {
     "end_time": "2021-03-03T11:46:46.727277Z",
     "start_time": "2021-03-03T11:46:46.714310Z"
    }
   },
   "outputs": [],
   "source": [
    "from sklearn.ensemble import GradientBoostingRegressor"
   ]
  },
  {
   "cell_type": "code",
   "execution_count": 137,
   "id": "intermediate-dressing",
   "metadata": {
    "ExecuteTime": {
     "end_time": "2021-03-03T09:55:44.770160Z",
     "start_time": "2021-03-03T09:55:44.761012Z"
    }
   },
   "outputs": [
    {
     "data": {
      "text/plain": [
       "GradientBoostingRegressor(learning_rate=1.0, max_depth=2, n_estimators=3)"
      ]
     },
     "execution_count": 137,
     "metadata": {},
     "output_type": "execute_result"
    }
   ],
   "source": [
    "gbrt = GradientBoostingRegressor(max_depth=2, n_estimators=3, learning_rate=1.0)\n",
    "gbrt.fit(X, y)"
   ]
  },
  {
   "cell_type": "markdown",
   "id": "official-watson",
   "metadata": {},
   "source": [
    "Let's see how our DIY boosted regressor improves:"
   ]
  },
  {
   "cell_type": "code",
   "execution_count": 138,
   "id": "wrapped-howard",
   "metadata": {
    "ExecuteTime": {
     "end_time": "2021-03-03T09:55:45.780455Z",
     "start_time": "2021-03-03T09:55:45.776766Z"
    }
   },
   "outputs": [],
   "source": [
    "def make_regressor_line(reg, x_min, x_max):\n",
    "    x = np.linspace(x_min, x_max, 250)\n",
    "    return x, reg.predict(x.reshape(-1, 1))"
   ]
  },
  {
   "cell_type": "code",
   "execution_count": 147,
   "id": "cardiovascular-briefing",
   "metadata": {
    "ExecuteTime": {
     "end_time": "2021-03-03T10:00:07.551352Z",
     "start_time": "2021-03-03T10:00:06.401103Z"
    }
   },
   "outputs": [
    {
     "data": {
      "image/png": "[encoded data removed]",
      "text/plain": [
       "<Figure size 1152x576 with 6 Axes>"
      ]
     },
     "metadata": {
      "needs_background": "light"
     },
     "output_type": "display_data"
    }
   ],
   "source": [
    "fig, axs = plt.subplots(ncols=3, nrows=2, figsize=(16, 8))\n",
    "axs[0][0].plot(X, y, 'bo')\n",
    "x_min = X.min()-0.1\n",
    "x_max = X.max()+0.1\n",
    "x1, y1_reg = make_regressor_line(tree_reg1, x_min, x_max)\n",
    "axs[0][0].plot(x1, y1_reg, 'r-')\n",
    "axs[0][0].set_title('1st estimator')\n",
    "axs[0][0].set_ylabel(r'$y$')\n",
    "\n",
    "axs[0][1].plot(X, y, 'bo')\n",
    "_, y2_reg = make_regressor_line(tree_reg2, x_min, x_max)\n",
    "axs[0][1].plot(x1, y1_reg+y2_reg, 'r-')\n",
    "axs[0][1].set_title('1st+2nd estimators')\n",
    "axs[0][1].set_ylabel(r'$y$')\n",
    "\n",
    "axs[0][2].plot(X, y, 'bo')\n",
    "_, y3_reg = make_regressor_line(tree_reg3, x_min, x_max)\n",
    "axs[0][2].plot(x1, y1_reg+y2_reg+y3_reg, 'r-')\n",
    "axs[0][2].set_title('1st+2nd+3rd estimators');\n",
    "axs[0][2].set_ylabel(r'$y$')\n",
    "\n",
    "axs[1][0].plot(X, y, 'go')\n",
    "axs[1][0].plot(x1, y1_reg, 'k-')\n",
    "axs[1][0].set_title('1st estimator')\n",
    "axs[1][0].set_ylabel(r'$y$')\n",
    "\n",
    "axs[1][1].plot(X, y2, 'go')\n",
    "axs[1][1].plot(x1, y2_reg, 'k-')\n",
    "axs[1][1].set_title('2nd estimator')\n",
    "axs[1][1].set_ylabel(r'$y - h_1(x)$')\n",
    "\n",
    "axs[1][2].plot(X, y3, 'go')\n",
    "axs[1][2].plot(x1, y3_reg, 'k-')\n",
    "axs[1][2].set_title('3rd estimator');\n",
    "axs[1][2].set_ylabel(r'$y - h_2(x)$')\n",
    "\n",
    "plt.tight_layout()"
   ]
  },
  {
   "cell_type": "markdown",
   "id": "familiar-campaign",
   "metadata": {},
   "source": [
    "We can see that each estimator is fitting to the residuals from the _previous_ estimator, thereby providing an extra correction term. (Like doing LO + NLO + NNLO + ...)\n",
    "\n",
    "So once we sum the predictions from all estimators, we get the \"best\" fit.\n",
    "\n",
    "How to know when to stop? Want to avoid overfitting & poor generalisability\n",
    "\n",
    "Use **early stopping**: stop at a number of trees once certain criteria met (e.g. validation error increases for N consecutive iterations)"
   ]
  },
  {
   "cell_type": "code",
   "execution_count": 10,
   "id": "above-ultimate",
   "metadata": {
    "ExecuteTime": {
     "end_time": "2021-03-03T11:46:46.755596Z",
     "start_time": "2021-03-03T11:46:46.731418Z"
    }
   },
   "outputs": [],
   "source": [
    "from sklearn.metrics import mean_squared_error"
   ]
  },
  {
   "cell_type": "code",
   "execution_count": 148,
   "id": "australian-fiber",
   "metadata": {
    "ExecuteTime": {
     "end_time": "2021-03-03T10:19:01.954086Z",
     "start_time": "2021-03-03T10:19:01.936581Z"
    }
   },
   "outputs": [],
   "source": [
    "# Less efficient method: We can train lots of iterations, \n",
    "# and then look back and find the minmum validation error"
   ]
  },
  {
   "cell_type": "code",
   "execution_count": 150,
   "id": "affected-vault",
   "metadata": {
    "ExecuteTime": {
     "end_time": "2021-03-03T10:19:40.095429Z",
     "start_time": "2021-03-03T10:19:40.084855Z"
    }
   },
   "outputs": [],
   "source": [
    "X_train, X_test, y_train, y_test = train_test_split(X, y)"
   ]
  },
  {
   "cell_type": "code",
   "execution_count": 151,
   "id": "eligible-horizontal",
   "metadata": {
    "ExecuteTime": {
     "end_time": "2021-03-03T10:20:11.700007Z",
     "start_time": "2021-03-03T10:20:11.644150Z"
    }
   },
   "outputs": [
    {
     "data": {
      "text/plain": [
       "GradientBoostingRegressor(max_depth=2, n_estimators=120)"
      ]
     },
     "execution_count": 151,
     "metadata": {},
     "output_type": "execute_result"
    }
   ],
   "source": [
    "gbrt = GradientBoostingRegressor(max_depth=2, n_estimators=120) # set n_estimators much larger than is best\n",
    "gbrt.fit(X_train, y_train)"
   ]
  },
  {
   "cell_type": "code",
   "execution_count": 152,
   "id": "detected-budapest",
   "metadata": {
    "ExecuteTime": {
     "end_time": "2021-03-03T10:21:35.128090Z",
     "start_time": "2021-03-03T10:21:35.083233Z"
    }
   },
   "outputs": [],
   "source": [
    "# We can access the predictions made by each cumulative set of trees using staged_predict()\n",
    "errors = [mean_squared_error(y_test, y_pred) for y_pred in gbrt.staged_predict(X_test)]\n",
    "bst_n_estimators = np.argmin(errors)+1 # add 1 since index, and we want number of estimators"
   ]
  },
  {
   "cell_type": "code",
   "execution_count": 154,
   "id": "therapeutic-commercial",
   "metadata": {
    "ExecuteTime": {
     "end_time": "2021-03-03T10:22:22.768965Z",
     "start_time": "2021-03-03T10:22:22.727792Z"
    }
   },
   "outputs": [],
   "source": [
    "train_errors = [mean_squared_error(y_train, y_pred) for y_pred in gbrt.staged_predict(X_train)]"
   ]
  },
  {
   "cell_type": "code",
   "execution_count": 162,
   "id": "understanding-jackson",
   "metadata": {
    "ExecuteTime": {
     "end_time": "2021-03-03T10:24:13.497244Z",
     "start_time": "2021-03-03T10:24:12.290191Z"
    }
   },
   "outputs": [
    {
     "data": {
      "image/png": "[encoded data removed]",
      "text/plain": [
       "<Figure size 720x576 with 1 Axes>"
      ]
     },
     "metadata": {
      "needs_background": "light"
     },
     "output_type": "display_data"
    }
   ],
   "source": [
    "plt.plot(train_errors, label='Training error')\n",
    "plt.plot(errors, label='Validation error');\n",
    "plt.xlabel('N estimators');\n",
    "plt.plot(bst_n_estimators, errors[bst_n_estimators-1], 'ko', label='Best estimator')\n",
    "plt.legend();"
   ]
  },
  {
   "cell_type": "code",
   "execution_count": 153,
   "id": "preliminary-karma",
   "metadata": {
    "ExecuteTime": {
     "end_time": "2021-03-03T10:22:01.358680Z",
     "start_time": "2021-03-03T10:22:01.327904Z"
    }
   },
   "outputs": [
    {
     "data": {
      "text/plain": [
       "GradientBoostingRegressor(max_depth=2, n_estimators=63)"
      ]
     },
     "execution_count": 153,
     "metadata": {},
     "output_type": "execute_result"
    }
   ],
   "source": [
    "gbrt_best = GradientBoostingRegressor(max_depth=2, n_estimators=bst_n_estimators)\n",
    "gbrt_best.fit(X_train, y_train)"
   ]
  },
  {
   "cell_type": "code",
   "execution_count": 163,
   "id": "first-alert",
   "metadata": {
    "ExecuteTime": {
     "end_time": "2021-03-03T10:25:38.744766Z",
     "start_time": "2021-03-03T10:25:38.737545Z"
    }
   },
   "outputs": [],
   "source": [
    "y_test_best = gbrt.predict(X_test)"
   ]
  },
  {
   "cell_type": "code",
   "execution_count": 172,
   "id": "internal-works",
   "metadata": {
    "ExecuteTime": {
     "end_time": "2021-03-03T10:28:12.934154Z",
     "start_time": "2021-03-03T10:28:12.574961Z"
    }
   },
   "outputs": [
    {
     "data": {
      "image/png": "[encoded data removed]",
      "text/plain": [
       "<Figure size 720x576 with 1 Axes>"
      ]
     },
     "metadata": {
      "needs_background": "light"
     },
     "output_type": "display_data"
    }
   ],
   "source": [
    "plt.plot(X_train, y_train, 'bs', label='Train')\n",
    "plt.plot(X_test, y_test, 'go', label='Validation')\n",
    "plt.plot(*make_regressor_line(gbrt_best, X.min(), X.max()), 'r-', label='Best estimator (%d trees)' % bst_n_estimators);\n",
    "plt.legend();\n",
    "plt.gca().set(xlabel='x', ylabel='y');"
   ]
  },
  {
   "cell_type": "markdown",
   "id": "decreased-falls",
   "metadata": {},
   "source": [
    "We can implement early stopping by using `warm_start=True` - this keeps existing trees when you call `fit`, caching previous results."
   ]
  },
  {
   "cell_type": "code",
   "execution_count": 173,
   "id": "blond-access",
   "metadata": {
    "ExecuteTime": {
     "end_time": "2021-03-03T10:31:22.115117Z",
     "start_time": "2021-03-03T10:31:22.012213Z"
    }
   },
   "outputs": [],
   "source": [
    "gbrt = GradientBoostingRegressor(max_depth=2, warm_start=True)\n",
    "\n",
    "min_val_error = np.inf\n",
    "n_error_going_up = 0\n",
    "\n",
    "for n_estimators in range(1, 120):\n",
    "    gbrt.n_estimators = n_estimators\n",
    "    gbrt.fit(X_train, y_train)\n",
    "    y_pred = gbrt.predict(X_test)\n",
    "    test_error = mean_squared_error(y_test, y_pred)\n",
    "    if test_error < min_val_error:\n",
    "        min_val_error = test_error\n",
    "        n_error_going_up = 0\n",
    "    else:\n",
    "        n_error_going_up += 1\n",
    "        if n_error_going_up == 5:\n",
    "            # early stopping - once error has gone up 5 times consecutively from its minimum\n",
    "            break"
   ]
  },
  {
   "cell_type": "code",
   "execution_count": 175,
   "id": "billion-semester",
   "metadata": {
    "ExecuteTime": {
     "end_time": "2021-03-03T10:31:32.606667Z",
     "start_time": "2021-03-03T10:31:32.599570Z"
    }
   },
   "outputs": [
    {
     "data": {
      "text/plain": [
       "57"
      ]
     },
     "execution_count": 175,
     "metadata": {},
     "output_type": "execute_result"
    }
   ],
   "source": [
    "gbrt.n_estimators_"
   ]
  },
  {
   "cell_type": "markdown",
   "id": "premium-endorsement",
   "metadata": {},
   "source": [
    "Can also have a **stochastic gradient boosting**: only use random subset of training data (via `subsample` arg) - speeds up training, increases bias but lowers variance."
   ]
  },
  {
   "cell_type": "markdown",
   "id": "opened-nothing",
   "metadata": {},
   "source": [
    "### XGBoost"
   ]
  },
  {
   "cell_type": "markdown",
   "id": "killing-profession",
   "metadata": {},
   "source": [
    "Optmised version available via XGBoost library"
   ]
  },
  {
   "cell_type": "code",
   "execution_count": 11,
   "id": "otherwise-walter",
   "metadata": {
    "ExecuteTime": {
     "end_time": "2021-03-03T11:46:47.276337Z",
     "start_time": "2021-03-03T11:46:46.761815Z"
    }
   },
   "outputs": [],
   "source": [
    "import xgboost"
   ]
  },
  {
   "cell_type": "code",
   "execution_count": 198,
   "id": "instrumental-grounds",
   "metadata": {
    "ExecuteTime": {
     "end_time": "2021-03-03T10:38:01.261597Z",
     "start_time": "2021-03-03T10:38:01.184323Z"
    }
   },
   "outputs": [],
   "source": [
    "xgb_reg = xgboost.XGBRegressor(max_depth=2)\n",
    "xgb_reg.fit(X_train, y_train)\n",
    "y_pred = xgb_reg.predict(X_test)"
   ]
  },
  {
   "cell_type": "code",
   "execution_count": 199,
   "id": "clean-caution",
   "metadata": {
    "ExecuteTime": {
     "end_time": "2021-03-03T10:38:01.650723Z",
     "start_time": "2021-03-03T10:38:01.644903Z"
    }
   },
   "outputs": [
    {
     "data": {
      "text/plain": [
       "100"
      ]
     },
     "execution_count": 199,
     "metadata": {},
     "output_type": "execute_result"
    }
   ],
   "source": [
    "xgb_reg.n_estimators"
   ]
  },
  {
   "cell_type": "code",
   "execution_count": 200,
   "id": "limiting-internet",
   "metadata": {
    "ExecuteTime": {
     "end_time": "2021-03-03T10:38:02.007326Z",
     "start_time": "2021-03-03T10:38:02.000655Z"
    }
   },
   "outputs": [
    {
     "data": {
      "text/plain": [
       "0.06786731698611631"
      ]
     },
     "execution_count": 200,
     "metadata": {},
     "output_type": "execute_result"
    }
   ],
   "source": [
    "np.sqrt(mean_squared_error(y_pred, y_test))"
   ]
  },
  {
   "cell_type": "code",
   "execution_count": 201,
   "id": "unique-writer",
   "metadata": {
    "ExecuteTime": {
     "end_time": "2021-03-03T10:38:03.078396Z",
     "start_time": "2021-03-03T10:38:02.751442Z"
    }
   },
   "outputs": [
    {
     "data": {
      "image/png": "[encoded data removed]",
      "text/plain": [
       "<Figure size 720x576 with 1 Axes>"
      ]
     },
     "metadata": {
      "needs_background": "light"
     },
     "output_type": "display_data"
    }
   ],
   "source": [
    "plt.plot(X_train, y_train, 'bs', label='Train')\n",
    "plt.plot(X_test, y_test, 'go', label='Validation')\n",
    "plt.plot(*make_regressor_line(xgb_reg, X.min(), X.max()), 'r-', label='XGBoost');\n",
    "plt.legend();\n",
    "plt.gca().set(xlabel='x', ylabel='y');"
   ]
  },
  {
   "cell_type": "code",
   "execution_count": 202,
   "id": "potential-locking",
   "metadata": {
    "ExecuteTime": {
     "end_time": "2021-03-03T10:38:07.870164Z",
     "start_time": "2021-03-03T10:38:07.815671Z"
    }
   },
   "outputs": [
    {
     "name": "stdout",
     "output_type": "stream",
     "text": [
      "[0]\tvalidation_0-rmse:0.21772\n",
      "[1]\tvalidation_0-rmse:0.16453\n",
      "[2]\tvalidation_0-rmse:0.12883\n",
      "[3]\tvalidation_0-rmse:0.10652\n",
      "[4]\tvalidation_0-rmse:0.08956\n",
      "[5]\tvalidation_0-rmse:0.07988\n",
      "[6]\tvalidation_0-rmse:0.07449\n",
      "[7]\tvalidation_0-rmse:0.07118\n",
      "[8]\tvalidation_0-rmse:0.07029\n",
      "[9]\tvalidation_0-rmse:0.06858\n",
      "[10]\tvalidation_0-rmse:0.06743\n",
      "[11]\tvalidation_0-rmse:0.06655\n",
      "[12]\tvalidation_0-rmse:0.06669\n"
     ]
    },
    {
     "data": {
      "text/plain": [
       "XGBRegressor(base_score=0.5, booster='gbtree', colsample_bylevel=1,\n",
       "             colsample_bynode=1, colsample_bytree=1, gamma=0, gpu_id=-1,\n",
       "             importance_type='gain', interaction_constraints='',\n",
       "             learning_rate=0.300000012, max_delta_step=0, max_depth=2,\n",
       "             min_child_weight=1, missing=nan, monotone_constraints='()',\n",
       "             n_estimators=100, n_jobs=4, num_parallel_tree=1, random_state=0,\n",
       "             reg_alpha=0, reg_lambda=1, scale_pos_weight=1, subsample=1,\n",
       "             tree_method='exact', validate_parameters=1, verbosity=None)"
      ]
     },
     "execution_count": 202,
     "metadata": {},
     "output_type": "execute_result"
    }
   ],
   "source": [
    "# Do early stopping whilst fitting:\n",
    "xgb_reg.fit(X_train, y_train, \n",
    "            eval_set=[(X_test, y_test)], early_stopping_rounds=2)"
   ]
  },
  {
   "cell_type": "code",
   "execution_count": 206,
   "id": "weird-vietnam",
   "metadata": {
    "ExecuteTime": {
     "end_time": "2021-03-03T10:38:43.420167Z",
     "start_time": "2021-03-03T10:38:43.412718Z"
    }
   },
   "outputs": [
    {
     "data": {
      "text/plain": [
       "0.06654957596722257"
      ]
     },
     "execution_count": 206,
     "metadata": {},
     "output_type": "execute_result"
    }
   ],
   "source": [
    "y_pred = xgb_reg.predict(X_test)\n",
    "np.sqrt(mean_squared_error(y_pred, y_test))"
   ]
  },
  {
   "cell_type": "code",
   "execution_count": 204,
   "id": "diagnostic-retailer",
   "metadata": {
    "ExecuteTime": {
     "end_time": "2021-03-03T10:38:08.623226Z",
     "start_time": "2021-03-03T10:38:08.614160Z"
    }
   },
   "outputs": [
    {
     "data": {
      "text/plain": [
       "0.06654957596722257"
      ]
     },
     "execution_count": 204,
     "metadata": {},
     "output_type": "execute_result"
    }
   ],
   "source": [
    "np.sqrt(mean_squared_error(y_pred, y_test))"
   ]
  },
  {
   "cell_type": "code",
   "execution_count": 205,
   "id": "seeing-evanescence",
   "metadata": {
    "ExecuteTime": {
     "end_time": "2021-03-03T10:38:09.463870Z",
     "start_time": "2021-03-03T10:38:09.114131Z"
    }
   },
   "outputs": [
    {
     "data": {
      "image/png": "[encoded data removed]",
      "text/plain": [
       "<Figure size 720x576 with 1 Axes>"
      ]
     },
     "metadata": {
      "needs_background": "light"
     },
     "output_type": "display_data"
    }
   ],
   "source": [
    "plt.plot(X_train, y_train, 'bs', label='Train')\n",
    "plt.plot(X_test, y_test, 'go', label='Validation')\n",
    "plt.plot(*make_regressor_line(xgb_reg, X.min(), X.max()), 'r-', label='XGBoost + early stopping');\n",
    "plt.legend();\n",
    "plt.gca().set(xlabel='x', ylabel='y');"
   ]
  },
  {
   "cell_type": "markdown",
   "id": "northern-characteristic",
   "metadata": {},
   "source": [
    "Can see less overfitting once early stopping implemented."
   ]
  },
  {
   "cell_type": "markdown",
   "id": "organized-eclipse",
   "metadata": {},
   "source": [
    "# Stacking"
   ]
  },
  {
   "cell_type": "markdown",
   "id": "controversial-trader",
   "metadata": {},
   "source": [
    "**Stacking** = stacked generalization = take voting classifiers one step further: train a model to aggregate the predictions of all predictors in an ensemble (instead of simple e.g. hard voting).\n",
    "\n",
    "This final predictor is called a **blender** or **meta learner**.\n",
    "\n",
    "Requires some careful splitting of samples: split training set into 2. \n",
    "\n",
    "- Use 1st subset to train the N predictors\n",
    "\n",
    "- Use those predictors to make predictions on **hold-out** set. (These were not seen during their training). Then use these N values per instance as a new set of input features to train the blender. (so its input is m x N dim)\n",
    "\n",
    "Diagram of this blender architecture:"
   ]
  },
  {
   "cell_type": "code",
   "execution_count": 12,
   "id": "formed-cooperative",
   "metadata": {
    "ExecuteTime": {
     "end_time": "2021-03-03T11:46:47.294624Z",
     "start_time": "2021-03-03T11:46:47.279015Z"
    }
   },
   "outputs": [],
   "source": [
    "from graphviz import Digraph\n",
    "from itertools import product"
   ]
  },
  {
   "cell_type": "code",
   "execution_count": 223,
   "id": "pressing-worker",
   "metadata": {
    "ExecuteTime": {
     "end_time": "2021-03-03T10:53:12.411463Z",
     "start_time": "2021-03-03T10:53:12.403774Z"
    }
   },
   "outputs": [],
   "source": [
    "dot = Digraph(comment='Stacked ensemble')\n",
    "dot.node('source', 'New instance')\n",
    "dot.node('P1', 'Predictor 1')\n",
    "dot.node('P2', 'Predictor 2')\n",
    "dot.node('P3', 'Predictor 3')\n",
    "\n",
    "dot.node('BF', 'Blender')\n",
    "dot.node('predict', 'Prediction')\n",
    "\n",
    "for p in ['P1', 'P2', 'P3']:\n",
    "    dot.edge('source', p)\n",
    "    dot.edge(p, 'BF')\n",
    "dot.edge('BF', 'predict')"
   ]
  },
  {
   "cell_type": "code",
   "execution_count": 224,
   "id": "direct-relay",
   "metadata": {
    "ExecuteTime": {
     "end_time": "2021-03-03T10:53:13.151365Z",
     "start_time": "2021-03-03T10:53:13.087229Z"
    }
   },
   "outputs": [
    {
     "data": {
      "image/svg+xml": [
       "<?xml version=\"1.0\" encoding=\"UTF-8\" standalone=\"no\"?>\n",
       "<!DOCTYPE svg PUBLIC \"-//W3C//DTD SVG 1.1//EN\"\n",
       " \"http://www.w3.org/Graphics/SVG/1.1/DTD/svg11.dtd\">\n",
       "<!-- Generated by graphviz version 2.43.0 (0)\n",
       " -->\n",
       "<!-- Title: %3 Pages: 1 -->\n",
       "<svg width=\"338pt\" height=\"260pt\"\n",
       " viewBox=\"0.00 0.00 338.31 260.00\" xmlns=\"http://www.w3.org/2000/svg\" xmlns:xlink=\"http://www.w3.org/1999/xlink\">\n",
       "<g id=\"graph0\" class=\"graph\" transform=\"scale(1 1) rotate(0) translate(4 256)\">\n",
       "<title>%3</title>\n",
       "<polygon fill=\"white\" stroke=\"transparent\" points=\"-4,4 -4,-256 334.31,-256 334.31,4 -4,4\"/>\n",
       "<!-- source -->\n",
       "<g id=\"node1\" class=\"node\">\n",
       "<title>source</title>\n",
       "<ellipse fill=\"none\" stroke=\"black\" cx=\"165.16\" cy=\"-234\" rx=\"57.98\" ry=\"18\"/>\n",
       "<text text-anchor=\"middle\" x=\"165.16\" y=\"-229.8\" font-family=\"Times,serif\" font-size=\"14.00\">New instance</text>\n",
       "</g>\n",
       "<!-- P1 -->\n",
       "<g id=\"node2\" class=\"node\">\n",
       "<title>P1</title>\n",
       "<ellipse fill=\"none\" stroke=\"black\" cx=\"49.16\" cy=\"-162\" rx=\"49.31\" ry=\"18\"/>\n",
       "<text text-anchor=\"middle\" x=\"49.16\" y=\"-157.8\" font-family=\"Times,serif\" font-size=\"14.00\">Predictor 1</text>\n",
       "</g>\n",
       "<!-- source&#45;&gt;P1 -->\n",
       "<g id=\"edge1\" class=\"edge\">\n",
       "<title>source&#45;&gt;P1</title>\n",
       "<path fill=\"none\" stroke=\"black\" d=\"M139.7,-217.64C122.85,-207.47 100.58,-194.03 82.34,-183.03\"/>\n",
       "<polygon fill=\"black\" stroke=\"black\" points=\"84.13,-180.02 73.76,-177.85 80.51,-186.01 84.13,-180.02\"/>\n",
       "</g>\n",
       "<!-- P2 -->\n",
       "<g id=\"node3\" class=\"node\">\n",
       "<title>P2</title>\n",
       "<ellipse fill=\"none\" stroke=\"black\" cx=\"165.16\" cy=\"-162\" rx=\"49.31\" ry=\"18\"/>\n",
       "<text text-anchor=\"middle\" x=\"165.16\" y=\"-157.8\" font-family=\"Times,serif\" font-size=\"14.00\">Predictor 2</text>\n",
       "</g>\n",
       "<!-- source&#45;&gt;P2 -->\n",
       "<g id=\"edge3\" class=\"edge\">\n",
       "<title>source&#45;&gt;P2</title>\n",
       "<path fill=\"none\" stroke=\"black\" d=\"M165.16,-215.7C165.16,-207.98 165.16,-198.71 165.16,-190.11\"/>\n",
       "<polygon fill=\"black\" stroke=\"black\" points=\"168.66,-190.1 165.16,-180.1 161.66,-190.1 168.66,-190.1\"/>\n",
       "</g>\n",
       "<!-- P3 -->\n",
       "<g id=\"node4\" class=\"node\">\n",
       "<title>P3</title>\n",
       "<ellipse fill=\"none\" stroke=\"black\" cx=\"281.16\" cy=\"-162\" rx=\"49.31\" ry=\"18\"/>\n",
       "<text text-anchor=\"middle\" x=\"281.16\" y=\"-157.8\" font-family=\"Times,serif\" font-size=\"14.00\">Predictor 3</text>\n",
       "</g>\n",
       "<!-- source&#45;&gt;P3 -->\n",
       "<g id=\"edge5\" class=\"edge\">\n",
       "<title>source&#45;&gt;P3</title>\n",
       "<path fill=\"none\" stroke=\"black\" d=\"M190.61,-217.64C207.46,-207.47 229.73,-194.03 247.97,-183.03\"/>\n",
       "<polygon fill=\"black\" stroke=\"black\" points=\"249.8,-186.01 256.55,-177.85 246.18,-180.02 249.8,-186.01\"/>\n",
       "</g>\n",
       "<!-- BF -->\n",
       "<g id=\"node5\" class=\"node\">\n",
       "<title>BF</title>\n",
       "<ellipse fill=\"none\" stroke=\"black\" cx=\"165.16\" cy=\"-90\" rx=\"38.2\" ry=\"18\"/>\n",
       "<text text-anchor=\"middle\" x=\"165.16\" y=\"-85.8\" font-family=\"Times,serif\" font-size=\"14.00\">Blender</text>\n",
       "</g>\n",
       "<!-- P1&#45;&gt;BF -->\n",
       "<g id=\"edge2\" class=\"edge\">\n",
       "<title>P1&#45;&gt;BF</title>\n",
       "<path fill=\"none\" stroke=\"black\" d=\"M73.47,-146.33C91.02,-135.74 114.87,-121.35 133.84,-109.9\"/>\n",
       "<polygon fill=\"black\" stroke=\"black\" points=\"135.69,-112.87 142.45,-104.7 132.08,-106.87 135.69,-112.87\"/>\n",
       "</g>\n",
       "<!-- P2&#45;&gt;BF -->\n",
       "<g id=\"edge4\" class=\"edge\">\n",
       "<title>P2&#45;&gt;BF</title>\n",
       "<path fill=\"none\" stroke=\"black\" d=\"M165.16,-143.7C165.16,-135.98 165.16,-126.71 165.16,-118.11\"/>\n",
       "<polygon fill=\"black\" stroke=\"black\" points=\"168.66,-118.1 165.16,-108.1 161.66,-118.1 168.66,-118.1\"/>\n",
       "</g>\n",
       "<!-- P3&#45;&gt;BF -->\n",
       "<g id=\"edge6\" class=\"edge\">\n",
       "<title>P3&#45;&gt;BF</title>\n",
       "<path fill=\"none\" stroke=\"black\" d=\"M256.84,-146.33C239.29,-135.74 215.44,-121.35 196.47,-109.9\"/>\n",
       "<polygon fill=\"black\" stroke=\"black\" points=\"198.23,-106.87 187.86,-104.7 194.62,-112.87 198.23,-106.87\"/>\n",
       "</g>\n",
       "<!-- predict -->\n",
       "<g id=\"node6\" class=\"node\">\n",
       "<title>predict</title>\n",
       "<ellipse fill=\"none\" stroke=\"black\" cx=\"165.16\" cy=\"-18\" rx=\"46.41\" ry=\"18\"/>\n",
       "<text text-anchor=\"middle\" x=\"165.16\" y=\"-13.8\" font-family=\"Times,serif\" font-size=\"14.00\">Prediction</text>\n",
       "</g>\n",
       "<!-- BF&#45;&gt;predict -->\n",
       "<g id=\"edge7\" class=\"edge\">\n",
       "<title>BF&#45;&gt;predict</title>\n",
       "<path fill=\"none\" stroke=\"black\" d=\"M165.16,-71.7C165.16,-63.98 165.16,-54.71 165.16,-46.11\"/>\n",
       "<polygon fill=\"black\" stroke=\"black\" points=\"168.66,-46.1 165.16,-36.1 161.66,-46.1 168.66,-46.1\"/>\n",
       "</g>\n",
       "</g>\n",
       "</svg>\n"
      ],
      "text/plain": [
       "<graphviz.dot.Digraph at 0x12dfcb3d0>"
      ]
     },
     "execution_count": 224,
     "metadata": {},
     "output_type": "execute_result"
    }
   ],
   "source": [
    "dot"
   ]
  },
  {
   "cell_type": "markdown",
   "id": "human-dictionary",
   "metadata": {},
   "source": [
    "Can actually go even further: create a layer of N' blenders using the output of the N predictors, then train one final blender to combine those N' inputs. This is a **multilayer stacking ensemble**.\n",
    "\n",
    "This is almost a NN!\n",
    "\n",
    "Can use `DESlib` to help do stacking, not done natively in sklearn."
   ]
  },
  {
   "cell_type": "code",
   "execution_count": 13,
   "id": "subjective-croatia",
   "metadata": {
    "ExecuteTime": {
     "end_time": "2021-03-03T11:46:47.301896Z",
     "start_time": "2021-03-03T11:46:47.297707Z"
    }
   },
   "outputs": [],
   "source": [
    "from itertools import product"
   ]
  },
  {
   "cell_type": "code",
   "execution_count": 231,
   "id": "numerical-isolation",
   "metadata": {
    "ExecuteTime": {
     "end_time": "2021-03-03T11:00:16.369388Z",
     "start_time": "2021-03-03T11:00:16.358536Z"
    }
   },
   "outputs": [],
   "source": [
    "dot = Digraph(comment='Multilayer stacked ensemble')\n",
    "dot.node('source', 'New instance')\n",
    "dot.node('P1', 'Predictor 1')\n",
    "dot.node('P2', 'Predictor 2')\n",
    "dot.node('P3', 'Predictor 3')\n",
    "\n",
    "dot.node('B1', 'Meta learner 1')\n",
    "dot.node('B2', 'Meta learner 2')\n",
    "dot.node('B3', 'Meta learner 3')\n",
    "\n",
    "dot.node('BF', 'Final blender')\n",
    "dot.node('predict', 'Prediction')\n",
    "\n",
    "for p in ['P1', 'P2', 'P3']:\n",
    "    dot.edge('source', p)\n",
    "for p, b in product(['P1', 'P2', 'P3'], ['B1', 'B2', 'B3']):\n",
    "    dot.edge(p, b)\n",
    "for b in ['B1', 'B2', 'B3']:\n",
    "    dot.edge(b, 'BF')\n",
    "dot.edge('BF', 'predict')\n",
    "\n",
    "with dot.subgraph(name='cluster_0') as c:\n",
    "    c.attr(color='blue')\n",
    "    c.node('P1')\n",
    "    c.node('P2')\n",
    "    c.node('P3')\n",
    "    c.attr(label='Predictors, trained on subset of training data')\n",
    "\n",
    "with dot.subgraph(name='cluster_1') as c:\n",
    "    c.attr(color='red')\n",
    "    c.node('B1')\n",
    "    c.node('B2')\n",
    "    c.node('B3')\n",
    "    c.attr(label='Meta learners, trained on predictions from predictors on hold-out subset of training data')"
   ]
  },
  {
   "cell_type": "code",
   "execution_count": 232,
   "id": "palestinian-profit",
   "metadata": {
    "ExecuteTime": {
     "end_time": "2021-03-03T11:00:17.922963Z",
     "start_time": "2021-03-03T11:00:17.838137Z"
    }
   },
   "outputs": [
    {
     "data": {
      "image/svg+xml": [
       "<?xml version=\"1.0\" encoding=\"UTF-8\" standalone=\"no\"?>\n",
       "<!DOCTYPE svg PUBLIC \"-//W3C//DTD SVG 1.1//EN\"\n",
       " \"http://www.w3.org/Graphics/SVG/1.1/DTD/svg11.dtd\">\n",
       "<!-- Generated by graphviz version 2.43.0 (0)\n",
       " -->\n",
       "<!-- Title: %3 Pages: 1 -->\n",
       "<svg width=\"531pt\" height=\"344pt\"\n",
       " viewBox=\"0.00 0.00 531.00 344.00\" xmlns=\"http://www.w3.org/2000/svg\" xmlns:xlink=\"http://www.w3.org/1999/xlink\">\n",
       "<g id=\"graph0\" class=\"graph\" transform=\"scale(1 1) rotate(0) translate(4 340)\">\n",
       "<title>%3</title>\n",
       "<polygon fill=\"white\" stroke=\"transparent\" points=\"-4,4 -4,-340 527,-340 527,4 -4,4\"/>\n",
       "<g id=\"clust1\" class=\"cluster\">\n",
       "<title>cluster_0</title>\n",
       "<polygon fill=\"none\" stroke=\"blue\" points=\"88,-218 88,-292 434,-292 434,-218 88,-218\"/>\n",
       "<text text-anchor=\"middle\" x=\"261\" y=\"-276.8\" font-family=\"Times,serif\" font-size=\"14.00\">Predictors, trained on subset of training data</text>\n",
       "</g>\n",
       "<g id=\"clust2\" class=\"cluster\">\n",
       "<title>cluster_1</title>\n",
       "<polygon fill=\"none\" stroke=\"red\" points=\"8,-136 8,-210 515,-210 515,-136 8,-136\"/>\n",
       "<text text-anchor=\"middle\" x=\"261.5\" y=\"-194.8\" font-family=\"Times,serif\" font-size=\"14.00\">Meta learners, trained on predictions from predictors on hold&#45;out subset of training data</text>\n",
       "</g>\n",
       "<!-- source -->\n",
       "<g id=\"node1\" class=\"node\">\n",
       "<title>source</title>\n",
       "<ellipse fill=\"none\" stroke=\"black\" cx=\"261\" cy=\"-318\" rx=\"57.98\" ry=\"18\"/>\n",
       "<text text-anchor=\"middle\" x=\"261\" y=\"-313.8\" font-family=\"Times,serif\" font-size=\"14.00\">New instance</text>\n",
       "</g>\n",
       "<!-- P1 -->\n",
       "<g id=\"node2\" class=\"node\">\n",
       "<title>P1</title>\n",
       "<ellipse fill=\"none\" stroke=\"black\" cx=\"261\" cy=\"-244\" rx=\"49.31\" ry=\"18\"/>\n",
       "<text text-anchor=\"middle\" x=\"261\" y=\"-239.8\" font-family=\"Times,serif\" font-size=\"14.00\">Predictor 1</text>\n",
       "</g>\n",
       "<!-- source&#45;&gt;P1 -->\n",
       "<g id=\"edge1\" class=\"edge\">\n",
       "<title>source&#45;&gt;P1</title>\n",
       "<path fill=\"none\" stroke=\"black\" d=\"M261,-299.94C261,-291.81 261,-281.88 261,-272.7\"/>\n",
       "<polygon fill=\"black\" stroke=\"black\" points=\"264.5,-272.44 261,-262.44 257.5,-272.44 264.5,-272.44\"/>\n",
       "</g>\n",
       "<!-- P2 -->\n",
       "<g id=\"node3\" class=\"node\">\n",
       "<title>P2</title>\n",
       "<ellipse fill=\"none\" stroke=\"black\" cx=\"145\" cy=\"-244\" rx=\"49.31\" ry=\"18\"/>\n",
       "<text text-anchor=\"middle\" x=\"145\" y=\"-239.8\" font-family=\"Times,serif\" font-size=\"14.00\">Predictor 2</text>\n",
       "</g>\n",
       "<!-- source&#45;&gt;P2 -->\n",
       "<g id=\"edge2\" class=\"edge\">\n",
       "<title>source&#45;&gt;P2</title>\n",
       "<path fill=\"none\" stroke=\"black\" d=\"M225.57,-303.56C217.93,-300.16 210.04,-296.26 203,-292 191.48,-285.03 179.75,-275.98 169.89,-267.68\"/>\n",
       "<polygon fill=\"black\" stroke=\"black\" points=\"171.95,-264.83 162.09,-260.95 167.37,-270.13 171.95,-264.83\"/>\n",
       "</g>\n",
       "<!-- P3 -->\n",
       "<g id=\"node4\" class=\"node\">\n",
       "<title>P3</title>\n",
       "<ellipse fill=\"none\" stroke=\"black\" cx=\"377\" cy=\"-244\" rx=\"49.31\" ry=\"18\"/>\n",
       "<text text-anchor=\"middle\" x=\"377\" y=\"-239.8\" font-family=\"Times,serif\" font-size=\"14.00\">Predictor 3</text>\n",
       "</g>\n",
       "<!-- source&#45;&gt;P3 -->\n",
       "<g id=\"edge3\" class=\"edge\">\n",
       "<title>source&#45;&gt;P3</title>\n",
       "<path fill=\"none\" stroke=\"black\" d=\"M296.43,-303.56C304.07,-300.16 311.96,-296.26 319,-292 330.52,-285.03 342.25,-275.98 352.11,-267.68\"/>\n",
       "<polygon fill=\"black\" stroke=\"black\" points=\"354.63,-270.13 359.91,-260.95 350.05,-264.83 354.63,-270.13\"/>\n",
       "</g>\n",
       "<!-- B1 -->\n",
       "<g id=\"node5\" class=\"node\">\n",
       "<title>B1</title>\n",
       "<ellipse fill=\"none\" stroke=\"black\" cx=\"120\" cy=\"-162\" rx=\"61.83\" ry=\"18\"/>\n",
       "<text text-anchor=\"middle\" x=\"120\" y=\"-157.8\" font-family=\"Times,serif\" font-size=\"14.00\">Meta learner 1</text>\n",
       "</g>\n",
       "<!-- P1&#45;&gt;B1 -->\n",
       "<g id=\"edge4\" class=\"edge\">\n",
       "<title>P1&#45;&gt;B1</title>\n",
       "<path fill=\"none\" stroke=\"black\" d=\"M230.07,-229.89C217.42,-224.21 202.79,-217.21 190,-210 176.56,-202.42 162.32,-193.12 150.21,-184.79\"/>\n",
       "<polygon fill=\"black\" stroke=\"black\" points=\"152.03,-181.79 141.82,-178.94 148.02,-187.53 152.03,-181.79\"/>\n",
       "</g>\n",
       "<!-- B2 -->\n",
       "<g id=\"node6\" class=\"node\">\n",
       "<title>B2</title>\n",
       "<ellipse fill=\"none\" stroke=\"black\" cx=\"402\" cy=\"-162\" rx=\"61.83\" ry=\"18\"/>\n",
       "<text text-anchor=\"middle\" x=\"402\" y=\"-157.8\" font-family=\"Times,serif\" font-size=\"14.00\">Meta learner 2</text>\n",
       "</g>\n",
       "<!-- P1&#45;&gt;B2 -->\n",
       "<g id=\"edge5\" class=\"edge\">\n",
       "<title>P1&#45;&gt;B2</title>\n",
       "<path fill=\"none\" stroke=\"black\" d=\"M291.93,-229.89C304.58,-224.21 319.21,-217.21 332,-210 345.44,-202.42 359.68,-193.12 371.79,-184.79\"/>\n",
       "<polygon fill=\"black\" stroke=\"black\" points=\"373.98,-187.53 380.18,-178.94 369.97,-181.79 373.98,-187.53\"/>\n",
       "</g>\n",
       "<!-- B3 -->\n",
       "<g id=\"node7\" class=\"node\">\n",
       "<title>B3</title>\n",
       "<ellipse fill=\"none\" stroke=\"black\" cx=\"261\" cy=\"-162\" rx=\"61.83\" ry=\"18\"/>\n",
       "<text text-anchor=\"middle\" x=\"261\" y=\"-157.8\" font-family=\"Times,serif\" font-size=\"14.00\">Meta learner 3</text>\n",
       "</g>\n",
       "<!-- P1&#45;&gt;B3 -->\n",
       "<g id=\"edge6\" class=\"edge\">\n",
       "<title>P1&#45;&gt;B3</title>\n",
       "<path fill=\"none\" stroke=\"black\" d=\"M261,-225.64C261,-215.3 261,-201.94 261,-190.22\"/>\n",
       "<polygon fill=\"black\" stroke=\"black\" points=\"264.5,-190.05 261,-180.05 257.5,-190.05 264.5,-190.05\"/>\n",
       "</g>\n",
       "<!-- P2&#45;&gt;B1 -->\n",
       "<g id=\"edge7\" class=\"edge\">\n",
       "<title>P2&#45;&gt;B1</title>\n",
       "<path fill=\"none\" stroke=\"black\" d=\"M139.7,-226.03C136.38,-215.43 132.04,-201.54 128.28,-189.51\"/>\n",
       "<polygon fill=\"black\" stroke=\"black\" points=\"131.62,-188.44 125.29,-179.94 124.94,-190.53 131.62,-188.44\"/>\n",
       "</g>\n",
       "<!-- P2&#45;&gt;B2 -->\n",
       "<g id=\"edge8\" class=\"edge\">\n",
       "<title>P2&#45;&gt;B2</title>\n",
       "<path fill=\"none\" stroke=\"black\" d=\"M172.36,-228.91C181.82,-224.66 192.65,-220.47 203,-218 258.87,-204.66 277.59,-228.43 332,-210 347.66,-204.7 363.12,-194.92 375.52,-185.66\"/>\n",
       "<polygon fill=\"black\" stroke=\"black\" points=\"377.84,-188.29 383.58,-179.39 373.54,-182.77 377.84,-188.29\"/>\n",
       "</g>\n",
       "<!-- P2&#45;&gt;B3 -->\n",
       "<g id=\"edge9\" class=\"edge\">\n",
       "<title>P2&#45;&gt;B3</title>\n",
       "<path fill=\"none\" stroke=\"black\" d=\"M167.09,-227.76C184.84,-215.52 209.99,-198.18 229.8,-184.52\"/>\n",
       "<polygon fill=\"black\" stroke=\"black\" points=\"231.95,-187.28 238.2,-178.73 227.98,-181.52 231.95,-187.28\"/>\n",
       "</g>\n",
       "<!-- P3&#45;&gt;B1 -->\n",
       "<g id=\"edge10\" class=\"edge\">\n",
       "<title>P3&#45;&gt;B1</title>\n",
       "<path fill=\"none\" stroke=\"black\" d=\"M349.64,-228.91C340.18,-224.66 329.35,-220.47 319,-218 263.13,-204.66 244.41,-228.43 190,-210 174.34,-204.7 158.88,-194.92 146.48,-185.66\"/>\n",
       "<polygon fill=\"black\" stroke=\"black\" points=\"148.46,-182.77 138.42,-179.39 144.16,-188.29 148.46,-182.77\"/>\n",
       "</g>\n",
       "<!-- P3&#45;&gt;B2 -->\n",
       "<g id=\"edge11\" class=\"edge\">\n",
       "<title>P3&#45;&gt;B2</title>\n",
       "<path fill=\"none\" stroke=\"black\" d=\"M382.3,-226.03C385.62,-215.43 389.96,-201.54 393.72,-189.51\"/>\n",
       "<polygon fill=\"black\" stroke=\"black\" points=\"397.06,-190.53 396.71,-179.94 390.38,-188.44 397.06,-190.53\"/>\n",
       "</g>\n",
       "<!-- P3&#45;&gt;B3 -->\n",
       "<g id=\"edge12\" class=\"edge\">\n",
       "<title>P3&#45;&gt;B3</title>\n",
       "<path fill=\"none\" stroke=\"black\" d=\"M354.91,-227.76C337.16,-215.52 312.01,-198.18 292.2,-184.52\"/>\n",
       "<polygon fill=\"black\" stroke=\"black\" points=\"294.02,-181.52 283.8,-178.73 290.05,-187.28 294.02,-181.52\"/>\n",
       "</g>\n",
       "<!-- BF -->\n",
       "<g id=\"node8\" class=\"node\">\n",
       "<title>BF</title>\n",
       "<ellipse fill=\"none\" stroke=\"black\" cx=\"261\" cy=\"-90\" rx=\"57.03\" ry=\"18\"/>\n",
       "<text text-anchor=\"middle\" x=\"261\" y=\"-85.8\" font-family=\"Times,serif\" font-size=\"14.00\">Final blender</text>\n",
       "</g>\n",
       "<!-- B1&#45;&gt;BF -->\n",
       "<g id=\"edge13\" class=\"edge\">\n",
       "<title>B1&#45;&gt;BF</title>\n",
       "<path fill=\"none\" stroke=\"black\" d=\"M149.9,-146.15C171.08,-135.64 199.66,-121.45 222.53,-110.1\"/>\n",
       "<polygon fill=\"black\" stroke=\"black\" points=\"224.22,-113.17 231.62,-105.58 221.11,-106.9 224.22,-113.17\"/>\n",
       "</g>\n",
       "<!-- B2&#45;&gt;BF -->\n",
       "<g id=\"edge14\" class=\"edge\">\n",
       "<title>B2&#45;&gt;BF</title>\n",
       "<path fill=\"none\" stroke=\"black\" d=\"M372.1,-146.15C350.92,-135.64 322.34,-121.45 299.47,-110.1\"/>\n",
       "<polygon fill=\"black\" stroke=\"black\" points=\"300.89,-106.9 290.38,-105.58 297.78,-113.17 300.89,-106.9\"/>\n",
       "</g>\n",
       "<!-- B3&#45;&gt;BF -->\n",
       "<g id=\"edge15\" class=\"edge\">\n",
       "<title>B3&#45;&gt;BF</title>\n",
       "<path fill=\"none\" stroke=\"black\" d=\"M261,-143.7C261,-135.98 261,-126.71 261,-118.11\"/>\n",
       "<polygon fill=\"black\" stroke=\"black\" points=\"264.5,-118.1 261,-108.1 257.5,-118.1 264.5,-118.1\"/>\n",
       "</g>\n",
       "<!-- predict -->\n",
       "<g id=\"node9\" class=\"node\">\n",
       "<title>predict</title>\n",
       "<ellipse fill=\"none\" stroke=\"black\" cx=\"261\" cy=\"-18\" rx=\"46.41\" ry=\"18\"/>\n",
       "<text text-anchor=\"middle\" x=\"261\" y=\"-13.8\" font-family=\"Times,serif\" font-size=\"14.00\">Prediction</text>\n",
       "</g>\n",
       "<!-- BF&#45;&gt;predict -->\n",
       "<g id=\"edge16\" class=\"edge\">\n",
       "<title>BF&#45;&gt;predict</title>\n",
       "<path fill=\"none\" stroke=\"black\" d=\"M261,-71.7C261,-63.98 261,-54.71 261,-46.11\"/>\n",
       "<polygon fill=\"black\" stroke=\"black\" points=\"264.5,-46.1 261,-36.1 257.5,-46.1 264.5,-46.1\"/>\n",
       "</g>\n",
       "</g>\n",
       "</svg>\n"
      ],
      "text/plain": [
       "<graphviz.dot.Digraph at 0x12dfcbf90>"
      ]
     },
     "execution_count": 232,
     "metadata": {},
     "output_type": "execute_result"
    }
   ],
   "source": [
    "dot"
   ]
  },
  {
   "cell_type": "markdown",
   "id": "ruled-liberal",
   "metadata": {},
   "source": [
    "# Exercises"
   ]
  },
  {
   "cell_type": "markdown",
   "id": "thrown-permission",
   "metadata": {},
   "source": [
    "## 1. Train 5 models on same training data, all 95% precision, is combining them going to improve results?"
   ]
  },
  {
   "cell_type": "markdown",
   "id": "liberal-magnet",
   "metadata": {},
   "source": [
    "Yes - if they have different architectures / model types, then each will learn something different from the data, so worth combining."
   ]
  },
  {
   "cell_type": "markdown",
   "id": "digital-contrary",
   "metadata": {},
   "source": [
    "## 2. Hard vs soft voting classifiers?"
   ]
  },
  {
   "cell_type": "markdown",
   "id": "intermediate-assumption",
   "metadata": {},
   "source": [
    "Hard voting = take the most popular choice\n",
    "\n",
    "Soft voting = weight votes by how confident each predictor is"
   ]
  },
  {
   "cell_type": "markdown",
   "id": "comfortable-multimedia",
   "metadata": {},
   "source": [
    "## 3. Speed up bagging? Pasting ensembles? Boosting ensembles? Random forests? Stacking ensembles?"
   ]
  },
  {
   "cell_type": "markdown",
   "id": "limited-seeker",
   "metadata": {},
   "source": [
    "Split across multiple cores/jobs:\n",
    "\n",
    "- Bagging: yes\n",
    "- Pasting: yes\n",
    "- Boosting: no\n",
    "- Random forests: yes\n",
    "- Stacking: sort of - can parallelise within each layer"
   ]
  },
  {
   "cell_type": "markdown",
   "id": "appropriate-voluntary",
   "metadata": {},
   "source": [
    "## 4. Benefit of Out-of-Bag evaluation?"
   ]
  },
  {
   "cell_type": "markdown",
   "id": "protecting-species",
   "metadata": {},
   "source": [
    "Can independently evaluate performance of bagging estimator whilst training it, without needing additional validation set = more data for training"
   ]
  },
  {
   "cell_type": "markdown",
   "id": "dense-berry",
   "metadata": {},
   "source": [
    "## 5. Why are Extra-Trees more random than Random Forests? How can this help? Faster or slower?"
   ]
  },
  {
   "cell_type": "markdown",
   "id": "rational-anxiety",
   "metadata": {},
   "source": [
    "More random because they randomly select the threshold for each node splitting\n",
    "\n",
    "Adds more diversity - lowers variance at expense of bias\n",
    "\n",
    "Faster - trying to find optimum threshold is slow."
   ]
  },
  {
   "cell_type": "markdown",
   "id": "hybrid-driving",
   "metadata": {},
   "source": [
    "## 6. AdaBoost is underfitting - what to tweak?"
   ]
  },
  {
   "cell_type": "markdown",
   "id": "ahead-holmes",
   "metadata": {},
   "source": [
    "Increase `max_depth`, increase `n_estimators`, increase `learning_rate`"
   ]
  },
  {
   "cell_type": "markdown",
   "id": "nutritional-childhood",
   "metadata": {},
   "source": [
    "## 7. Gradient boost overfitting - how to tweak learning rate?"
   ]
  },
  {
   "cell_type": "markdown",
   "id": "fifteen-trailer",
   "metadata": {},
   "source": [
    "Decrease learning rate to avoid overfitting - corrector predictors have less influence."
   ]
  },
  {
   "cell_type": "markdown",
   "id": "modular-audience",
   "metadata": {},
   "source": [
    "## 8. Load MNIST - create own ensemble"
   ]
  },
  {
   "cell_type": "code",
   "execution_count": 14,
   "id": "banned-stephen",
   "metadata": {
    "ExecuteTime": {
     "end_time": "2021-03-03T11:47:51.643312Z",
     "start_time": "2021-03-03T11:46:47.307008Z"
    }
   },
   "outputs": [],
   "source": [
    "from sklearn.datasets import fetch_openml\n",
    "mnist = fetch_openml('mnist_784', version=1, cache=True)"
   ]
  },
  {
   "cell_type": "code",
   "execution_count": 17,
   "id": "irish-arlington",
   "metadata": {
    "ExecuteTime": {
     "end_time": "2021-03-03T11:47:51.703034Z",
     "start_time": "2021-03-03T11:47:51.692033Z"
    }
   },
   "outputs": [],
   "source": [
    "X = mnist[\"data\"]\n",
    "y = mnist[\"target\"].astype(np.uint8)"
   ]
  },
  {
   "cell_type": "code",
   "execution_count": 18,
   "id": "plastic-desperate",
   "metadata": {
    "ExecuteTime": {
     "end_time": "2021-03-03T11:47:51.724213Z",
     "start_time": "2021-03-03T11:47:51.706772Z"
    }
   },
   "outputs": [],
   "source": [
    "X_train = X[:50000]\n",
    "y_train = y[:50000]\n",
    "X_valid = X[50000:60000]\n",
    "y_valid = y[50000:60000]\n",
    "X_test = X[60000:]\n",
    "y_test = y[60000:]"
   ]
  },
  {
   "cell_type": "code",
   "execution_count": 19,
   "id": "interracial-translation",
   "metadata": {
    "ExecuteTime": {
     "end_time": "2021-03-03T11:47:51.754804Z",
     "start_time": "2021-03-03T11:47:51.736602Z"
    }
   },
   "outputs": [],
   "source": [
    "rf_clf = RandomForestClassifier(max_depth=5, n_jobs=-1, verbose=True)"
   ]
  },
  {
   "cell_type": "code",
   "execution_count": 15,
   "id": "revised-queensland",
   "metadata": {
    "ExecuteTime": {
     "end_time": "2021-03-03T11:47:51.659471Z",
     "start_time": "2021-03-03T11:47:51.650837Z"
    }
   },
   "outputs": [],
   "source": [
    "from sklearn.ensemble import ExtraTreesClassifier"
   ]
  },
  {
   "cell_type": "code",
   "execution_count": 20,
   "id": "cognitive-steam",
   "metadata": {
    "ExecuteTime": {
     "end_time": "2021-03-03T11:47:51.769412Z",
     "start_time": "2021-03-03T11:47:51.759636Z"
    }
   },
   "outputs": [],
   "source": [
    "xt_clf = ExtraTreesClassifier(max_depth=5, n_jobs=-1, verbose=True)"
   ]
  },
  {
   "cell_type": "code",
   "execution_count": 16,
   "id": "vanilla-consumption",
   "metadata": {
    "ExecuteTime": {
     "end_time": "2021-03-03T11:47:51.683114Z",
     "start_time": "2021-03-03T11:47:51.662286Z"
    }
   },
   "outputs": [],
   "source": [
    "from sklearn.pipeline import Pipeline\n",
    "from sklearn.preprocessing import StandardScaler"
   ]
  },
  {
   "cell_type": "code",
   "execution_count": 22,
   "id": "leading-brake",
   "metadata": {
    "ExecuteTime": {
     "end_time": "2021-03-03T11:48:49.524269Z",
     "start_time": "2021-03-03T11:48:49.517217Z"
    }
   },
   "outputs": [],
   "source": [
    "svm_clf = Pipeline([\n",
    "    ('scaler', StandardScaler()),\n",
    "    ('clf', SVC(kernel='rbf', C=1, gamma='scale', verbose=True, probability=True))\n",
    "])"
   ]
  },
  {
   "cell_type": "code",
   "execution_count": 23,
   "id": "studied-strip",
   "metadata": {
    "ExecuteTime": {
     "end_time": "2021-03-03T12:20:30.177079Z",
     "start_time": "2021-03-03T11:48:50.960726Z"
    }
   },
   "outputs": [
    {
     "data": {
      "text/plain": [
       "VotingClassifier(estimators=[('rf',\n",
       "                              RandomForestClassifier(max_depth=5, n_jobs=-1,\n",
       "                                                     verbose=True)),\n",
       "                             ('xt',\n",
       "                              ExtraTreesClassifier(max_depth=5, n_jobs=-1,\n",
       "                                                   verbose=True)),\n",
       "                             ('svc',\n",
       "                              Pipeline(steps=[('scaler', StandardScaler()),\n",
       "                                              ('clf',\n",
       "                                               SVC(C=1, probability=True,\n",
       "                                                   verbose=True))]))],\n",
       "                 n_jobs=-1, verbose=True)"
      ]
     },
     "execution_count": 23,
     "metadata": {},
     "output_type": "execute_result"
    }
   ],
   "source": [
    "hard_voting_clf = VotingClassifier(\n",
    "    estimators=[\n",
    "        ('rf', rf_clf),\n",
    "        ('xt', xt_clf),\n",
    "        ('svc', svm_clf)\n",
    "    ],\n",
    "    voting='hard',\n",
    "    n_jobs=-1,\n",
    "    verbose=False\n",
    ")\n",
    "hard_voting_clf.fit(X_train, y_train)"
   ]
  },
  {
   "cell_type": "code",
   "execution_count": 24,
   "id": "perceived-williams",
   "metadata": {
    "ExecuteTime": {
     "end_time": "2021-03-03T12:52:19.938175Z",
     "start_time": "2021-03-03T12:20:30.182389Z"
    }
   },
   "outputs": [
    {
     "data": {
      "text/plain": [
       "VotingClassifier(estimators=[('rf',\n",
       "                              RandomForestClassifier(max_depth=5, n_jobs=-1,\n",
       "                                                     verbose=True)),\n",
       "                             ('xt',\n",
       "                              ExtraTreesClassifier(max_depth=5, n_jobs=-1,\n",
       "                                                   verbose=True)),\n",
       "                             ('svc',\n",
       "                              Pipeline(steps=[('scaler', StandardScaler()),\n",
       "                                              ('clf',\n",
       "                                               SVC(C=1, probability=True,\n",
       "                                                   verbose=True))]))],\n",
       "                 n_jobs=-1, verbose=True, voting='soft')"
      ]
     },
     "execution_count": 24,
     "metadata": {},
     "output_type": "execute_result"
    }
   ],
   "source": [
    "soft_voting_clf = VotingClassifier(\n",
    "    estimators=[\n",
    "        ('rf', rf_clf),\n",
    "        ('xt', xt_clf),\n",
    "        ('svc', svm_clf)\n",
    "    ],\n",
    "    voting='soft',\n",
    "    n_jobs=-1,\n",
    "    verbose=False\n",
    ")\n",
    "soft_voting_clf.fit(X_train, y_train)"
   ]
  },
  {
   "cell_type": "markdown",
   "id": "requested-wonder",
   "metadata": {},
   "source": [
    "Let's see how both fared:"
   ]
  },
  {
   "cell_type": "code",
   "execution_count": 26,
   "id": "modified-chapel",
   "metadata": {
    "ExecuteTime": {
     "end_time": "2021-03-03T13:20:45.539462Z",
     "start_time": "2021-03-03T12:58:09.790874Z"
    }
   },
   "outputs": [
    {
     "name": "stderr",
     "output_type": "stream",
     "text": [
      "[Parallel(n_jobs=4)]: Using backend ThreadingBackend with 4 concurrent workers.\n",
      "[Parallel(n_jobs=4)]: Done  42 tasks      | elapsed:    0.2s\n",
      "[Parallel(n_jobs=4)]: Done 100 out of 100 | elapsed:    0.5s finished\n",
      "[Parallel(n_jobs=4)]: Using backend ThreadingBackend with 4 concurrent workers.\n",
      "[Parallel(n_jobs=4)]: Done  42 tasks      | elapsed:    0.2s\n",
      "[Parallel(n_jobs=4)]: Done 100 out of 100 | elapsed:    0.4s finished\n",
      "[Parallel(n_jobs=4)]: Using backend ThreadingBackend with 4 concurrent workers.\n",
      "[Parallel(n_jobs=4)]: Done  42 tasks      | elapsed:    0.0s\n",
      "[Parallel(n_jobs=4)]: Done 100 out of 100 | elapsed:    0.1s finished\n",
      "[Parallel(n_jobs=4)]: Using backend ThreadingBackend with 4 concurrent workers.\n",
      "[Parallel(n_jobs=4)]: Done  42 tasks      | elapsed:    0.0s\n",
      "[Parallel(n_jobs=4)]: Done 100 out of 100 | elapsed:    0.1s finished\n"
     ]
    },
    {
     "name": "stdout",
     "output_type": "stream",
     "text": [
      "VotingClassifier 0.88674 0.8971\n"
     ]
    },
    {
     "name": "stderr",
     "output_type": "stream",
     "text": [
      "[Parallel(n_jobs=4)]: Using backend ThreadingBackend with 4 concurrent workers.\n",
      "[Parallel(n_jobs=4)]: Done  42 tasks      | elapsed:    0.2s\n",
      "[Parallel(n_jobs=4)]: Done 100 out of 100 | elapsed:    0.4s finished\n",
      "[Parallel(n_jobs=4)]: Using backend ThreadingBackend with 4 concurrent workers.\n",
      "[Parallel(n_jobs=4)]: Done  42 tasks      | elapsed:    0.2s\n",
      "[Parallel(n_jobs=4)]: Done 100 out of 100 | elapsed:    0.4s finished\n",
      "[Parallel(n_jobs=4)]: Using backend ThreadingBackend with 4 concurrent workers.\n",
      "[Parallel(n_jobs=4)]: Done  42 tasks      | elapsed:    0.0s\n",
      "[Parallel(n_jobs=4)]: Done 100 out of 100 | elapsed:    0.1s finished\n",
      "[Parallel(n_jobs=4)]: Using backend ThreadingBackend with 4 concurrent workers.\n",
      "[Parallel(n_jobs=4)]: Done  42 tasks      | elapsed:    0.0s\n",
      "[Parallel(n_jobs=4)]: Done 100 out of 100 | elapsed:    0.1s finished\n"
     ]
    },
    {
     "name": "stdout",
     "output_type": "stream",
     "text": [
      "VotingClassifier 0.98262 0.9701\n"
     ]
    }
   ],
   "source": [
    "for clf in (hard_voting_clf, soft_voting_clf):\n",
    "    print(clf.__class__.__name__, 'training:', clf.score(X_train, y_train), 'validation:', clf.score(X_valid, y_valid), 'test:', clf.score(X_test, y_test))"
   ]
  },
  {
   "cell_type": "markdown",
   "id": "diagnostic-logan",
   "metadata": {},
   "source": [
    "The soft voting classifier has done much better than the hard voting one!"
   ]
  },
  {
   "cell_type": "code",
   "execution_count": 29,
   "id": "agricultural-external",
   "metadata": {
    "ExecuteTime": {
     "end_time": "2021-03-03T13:24:24.264468Z",
     "start_time": "2021-03-03T13:24:24.251765Z"
    }
   },
   "outputs": [
    {
     "data": {
      "text/plain": [
       "[RandomForestClassifier(max_depth=5, n_jobs=-1, verbose=True),\n",
       " ExtraTreesClassifier(max_depth=5, n_jobs=-1, verbose=True),\n",
       " Pipeline(steps=[('scaler', StandardScaler()),\n",
       "                 ('clf', SVC(C=1, probability=True, verbose=True))])]"
      ]
     },
     "execution_count": 29,
     "metadata": {},
     "output_type": "execute_result"
    }
   ],
   "source": [
    "soft_voting_clf.estimators_"
   ]
  },
  {
   "cell_type": "code",
   "execution_count": 31,
   "id": "instructional-oasis",
   "metadata": {
    "ExecuteTime": {
     "end_time": "2021-03-03T13:26:05.397990Z",
     "start_time": "2021-03-03T13:26:05.394435Z"
    }
   },
   "outputs": [],
   "source": [
    "fitted_svm = soft_voting_clf.estimators_[-1].named_steps['clf']"
   ]
  },
  {
   "cell_type": "code",
   "execution_count": 32,
   "id": "blind-pharmacology",
   "metadata": {
    "ExecuteTime": {
     "end_time": "2021-03-03T13:26:13.019345Z",
     "start_time": "2021-03-03T13:26:13.010139Z"
    }
   },
   "outputs": [
    {
     "data": {
      "text/plain": [
       "array([ 773,  563, 1712, 1703, 1352, 1603, 1193, 1607, 1645, 1727],\n",
       "      dtype=int32)"
      ]
     },
     "execution_count": 32,
     "metadata": {},
     "output_type": "execute_result"
    }
   ],
   "source": [
    "fitted_svm.n_support_"
   ]
  },
  {
   "cell_type": "markdown",
   "id": "elder-orbit",
   "metadata": {},
   "source": [
    "So our SVC has anywhere from ~500 to 1700 support vectors per class. Since the prediction algorithm for an SVM takes $O(n_{SV} \\times n)$, where $n_{SV}$ is the number of support vectors, and $n=784$, that is gonna take a while..."
   ]
  },
  {
   "cell_type": "markdown",
   "id": "lovely-segment",
   "metadata": {},
   "source": [
    "Check the accuracy of each part of our soft voting classifier, to see which classifiers were the strongest:"
   ]
  },
  {
   "cell_type": "code",
   "execution_count": 33,
   "id": "current-hawaii",
   "metadata": {
    "ExecuteTime": {
     "end_time": "2021-03-03T13:39:57.666424Z",
     "start_time": "2021-03-03T13:26:40.840817Z"
    }
   },
   "outputs": [
    {
     "name": "stderr",
     "output_type": "stream",
     "text": [
      "[Parallel(n_jobs=4)]: Using backend ThreadingBackend with 4 concurrent workers.\n",
      "[Parallel(n_jobs=4)]: Done  42 tasks      | elapsed:    0.2s\n",
      "[Parallel(n_jobs=4)]: Done 100 out of 100 | elapsed:    0.5s finished\n",
      "[Parallel(n_jobs=4)]: Using backend ThreadingBackend with 4 concurrent workers.\n",
      "[Parallel(n_jobs=4)]: Done  42 tasks      | elapsed:    0.0s\n",
      "[Parallel(n_jobs=4)]: Done 100 out of 100 | elapsed:    0.1s finished\n",
      "[Parallel(n_jobs=4)]: Using backend ThreadingBackend with 4 concurrent workers.\n",
      "[Parallel(n_jobs=4)]: Done  42 tasks      | elapsed:    0.0s\n",
      "[Parallel(n_jobs=4)]: Done 100 out of 100 | elapsed:    0.1s finished\n"
     ]
    },
    {
     "name": "stdout",
     "output_type": "stream",
     "text": [
      "RandomForestClassifier training: 0.86012 validation: 0.874 test: 0.8659\n"
     ]
    },
    {
     "name": "stderr",
     "output_type": "stream",
     "text": [
      "[Parallel(n_jobs=4)]: Using backend ThreadingBackend with 4 concurrent workers.\n",
      "[Parallel(n_jobs=4)]: Done  42 tasks      | elapsed:    0.2s\n",
      "[Parallel(n_jobs=4)]: Done 100 out of 100 | elapsed:    0.4s finished\n",
      "[Parallel(n_jobs=4)]: Using backend ThreadingBackend with 4 concurrent workers.\n",
      "[Parallel(n_jobs=4)]: Done  42 tasks      | elapsed:    0.0s\n",
      "[Parallel(n_jobs=4)]: Done 100 out of 100 | elapsed:    0.1s finished\n",
      "[Parallel(n_jobs=4)]: Using backend ThreadingBackend with 4 concurrent workers.\n",
      "[Parallel(n_jobs=4)]: Done  42 tasks      | elapsed:    0.0s\n",
      "[Parallel(n_jobs=4)]: Done 100 out of 100 | elapsed:    0.1s finished\n"
     ]
    },
    {
     "name": "stdout",
     "output_type": "stream",
     "text": [
      "ExtraTreesClassifier training: 0.83202 validation: 0.8518 test: 0.8419\n",
      "Pipeline training: 0.98554 validation: 0.9687 test: 0.9643\n"
     ]
    }
   ],
   "source": [
    "for clf in soft_voting_clf.estimators_:\n",
    "    print(clf.__class__.__name__, 'training:', clf.score(X_train, y_train), 'validation:', clf.score(X_valid, y_valid), 'test:', clf.score(X_test, y_test))"
   ]
  },
  {
   "cell_type": "markdown",
   "id": "solid-still",
   "metadata": {},
   "source": [
    "What we can see is that the overall 97.0% accuracy on the validation set is basically entirely driven by the SVC (which has accuracy 96.9%). So adding the other two adds nothing much?"
   ]
  },
  {
   "cell_type": "markdown",
   "id": "worthy-bathroom",
   "metadata": {},
   "source": [
    "Let's try making a voting classifier, just using the random forest & extra trees:"
   ]
  },
  {
   "cell_type": "code",
   "execution_count": 34,
   "id": "sonic-maryland",
   "metadata": {
    "ExecuteTime": {
     "end_time": "2021-03-03T13:42:25.253106Z",
     "start_time": "2021-03-03T13:42:05.456309Z"
    }
   },
   "outputs": [
    {
     "data": {
      "text/plain": [
       "VotingClassifier(estimators=[('rf',\n",
       "                              RandomForestClassifier(max_depth=5, n_jobs=-1,\n",
       "                                                     verbose=True)),\n",
       "                             ('xt',\n",
       "                              ExtraTreesClassifier(max_depth=5, n_jobs=-1,\n",
       "                                                   verbose=True))],\n",
       "                 n_jobs=-1, verbose=True, voting='soft')"
      ]
     },
     "execution_count": 34,
     "metadata": {},
     "output_type": "execute_result"
    }
   ],
   "source": [
    "soft_voting_no_svc_clf = VotingClassifier(\n",
    "    estimators=[\n",
    "        ('rf', rf_clf),\n",
    "        ('xt', xt_clf),\n",
    "    ],\n",
    "    voting='soft',\n",
    "    n_jobs=-1,\n",
    "    verbose=False\n",
    ")\n",
    "soft_voting_no_svc_clf.fit(X_train, y_train)"
   ]
  },
  {
   "cell_type": "code",
   "execution_count": 35,
   "id": "golden-carry",
   "metadata": {
    "ExecuteTime": {
     "end_time": "2021-03-03T13:42:37.014313Z",
     "start_time": "2021-03-03T13:42:34.714805Z"
    }
   },
   "outputs": [
    {
     "name": "stderr",
     "output_type": "stream",
     "text": [
      "[Parallel(n_jobs=4)]: Using backend ThreadingBackend with 4 concurrent workers.\n",
      "[Parallel(n_jobs=4)]: Done  42 tasks      | elapsed:    0.2s\n",
      "[Parallel(n_jobs=4)]: Done 100 out of 100 | elapsed:    0.5s finished\n",
      "[Parallel(n_jobs=4)]: Using backend ThreadingBackend with 4 concurrent workers.\n",
      "[Parallel(n_jobs=4)]: Done  42 tasks      | elapsed:    0.2s\n",
      "[Parallel(n_jobs=4)]: Done 100 out of 100 | elapsed:    0.4s finished\n",
      "[Parallel(n_jobs=4)]: Using backend ThreadingBackend with 4 concurrent workers.\n",
      "[Parallel(n_jobs=4)]: Done  42 tasks      | elapsed:    0.1s\n",
      "[Parallel(n_jobs=4)]: Done 100 out of 100 | elapsed:    0.1s finished\n",
      "[Parallel(n_jobs=4)]: Using backend ThreadingBackend with 4 concurrent workers.\n",
      "[Parallel(n_jobs=4)]: Done  42 tasks      | elapsed:    0.1s\n",
      "[Parallel(n_jobs=4)]: Done 100 out of 100 | elapsed:    0.1s finished\n",
      "[Parallel(n_jobs=4)]: Using backend ThreadingBackend with 4 concurrent workers.\n",
      "[Parallel(n_jobs=4)]: Done  42 tasks      | elapsed:    0.0s\n",
      "[Parallel(n_jobs=4)]: Done 100 out of 100 | elapsed:    0.1s finished\n",
      "[Parallel(n_jobs=4)]: Using backend ThreadingBackend with 4 concurrent workers.\n",
      "[Parallel(n_jobs=4)]: Done  42 tasks      | elapsed:    0.0s\n"
     ]
    },
    {
     "name": "stdout",
     "output_type": "stream",
     "text": [
      "VotingClassifier training: 0.85524 validation: 0.8704 test: 0.8624\n"
     ]
    },
    {
     "name": "stderr",
     "output_type": "stream",
     "text": [
      "[Parallel(n_jobs=4)]: Done 100 out of 100 | elapsed:    0.1s finished\n"
     ]
    }
   ],
   "source": [
    "clf = soft_voting_no_svc_clf\n",
    "print(clf.__class__.__name__, 'training:', clf.score(X_train, y_train), 'validation:', clf.score(X_valid, y_valid), 'test:', clf.score(X_test, y_test))"
   ]
  },
  {
   "cell_type": "markdown",
   "id": "bridal-helena",
   "metadata": {},
   "source": [
    "So just using the random forest and extra trees, we have a much worse accuracy, backing up the claim that the result is basically entirely due to the SVC."
   ]
  },
  {
   "cell_type": "markdown",
   "id": "informal-despite",
   "metadata": {},
   "source": [
    "Let's see if we can improve the Random Forest performance by optimising hyperparameters: each fit of GridSearchCV will take ~ hour!"
   ]
  },
  {
   "cell_type": "code",
   "execution_count": 36,
   "id": "stunning-citizenship",
   "metadata": {
    "ExecuteTime": {
     "end_time": "2021-03-03T13:44:42.085670Z",
     "start_time": "2021-03-03T13:44:42.077271Z"
    }
   },
   "outputs": [],
   "source": [
    "from sklearn.model_selection import GridSearchCV"
   ]
  },
  {
   "cell_type": "code",
   "execution_count": 38,
   "id": "exposed-military",
   "metadata": {
    "ExecuteTime": {
     "end_time": "2021-03-03T14:42:44.011199Z",
     "start_time": "2021-03-03T14:01:19.369710Z"
    },
    "scrolled": true
   },
   "outputs": [
    {
     "data": {
      "text/plain": [
       "GridSearchCV(estimator=RandomForestClassifier(n_jobs=-1),\n",
       "             param_grid={'max_depth': [2, 3, 4, 5, 6],\n",
       "                         'min_samples_leaf': [1, 5, 10],\n",
       "                         'n_estimators': array([ 40,  80, 120, 160, 200])})"
      ]
     },
     "execution_count": 38,
     "metadata": {},
     "output_type": "execute_result"
    }
   ],
   "source": [
    "params = {\n",
    "    'n_estimators': np.arange(40, 240, 40),\n",
    "    'max_depth': [2, 3, 4, 5, 6],\n",
    "    'min_samples_leaf': [1, 5, 10],\n",
    "}\n",
    "grid_clf = GridSearchCV(RandomForestClassifier(n_jobs=-1), params)\n",
    "grid_clf.fit(X_train, y_train)"
   ]
  },
  {
   "cell_type": "code",
   "execution_count": 39,
   "id": "effective-franklin",
   "metadata": {
    "ExecuteTime": {
     "end_time": "2021-03-03T14:42:44.045618Z",
     "start_time": "2021-03-03T14:42:44.014251Z"
    }
   },
   "outputs": [
    {
     "name": "stdout",
     "output_type": "stream",
     "text": [
      "Best params: {'max_depth': 6, 'min_samples_leaf': 10, 'n_estimators': 200}\n",
      "Best score: 0.8869199999999999\n",
      "All results:\n",
      "0.61526 {'max_depth': 2, 'min_samples_leaf': 1, 'n_estimators': 40}\n",
      "0.63652 {'max_depth': 2, 'min_samples_leaf': 1, 'n_estimators': 80}\n",
      "0.63374 {'max_depth': 2, 'min_samples_leaf': 1, 'n_estimators': 120}\n",
      "0.6362599999999999 {'max_depth': 2, 'min_samples_leaf': 1, 'n_estimators': 160}\n",
      "0.63246 {'max_depth': 2, 'min_samples_leaf': 1, 'n_estimators': 200}\n",
      "0.6195999999999999 {'max_depth': 2, 'min_samples_leaf': 5, 'n_estimators': 40}\n",
      "0.62478 {'max_depth': 2, 'min_samples_leaf': 5, 'n_estimators': 80}\n",
      "0.6403 {'max_depth': 2, 'min_samples_leaf': 5, 'n_estimators': 120}\n",
      "0.63696 {'max_depth': 2, 'min_samples_leaf': 5, 'n_estimators': 160}\n",
      "0.62764 {'max_depth': 2, 'min_samples_leaf': 5, 'n_estimators': 200}\n",
      "0.6195999999999999 {'max_depth': 2, 'min_samples_leaf': 10, 'n_estimators': 40}\n",
      "0.63408 {'max_depth': 2, 'min_samples_leaf': 10, 'n_estimators': 80}\n",
      "0.63774 {'max_depth': 2, 'min_samples_leaf': 10, 'n_estimators': 120}\n",
      "0.6354 {'max_depth': 2, 'min_samples_leaf': 10, 'n_estimators': 160}\n",
      "0.6348 {'max_depth': 2, 'min_samples_leaf': 10, 'n_estimators': 200}\n",
      "0.72436 {'max_depth': 3, 'min_samples_leaf': 1, 'n_estimators': 40}\n",
      "0.74074 {'max_depth': 3, 'min_samples_leaf': 1, 'n_estimators': 80}\n",
      "0.74296 {'max_depth': 3, 'min_samples_leaf': 1, 'n_estimators': 120}\n",
      "0.7485200000000001 {'max_depth': 3, 'min_samples_leaf': 1, 'n_estimators': 160}\n",
      "0.74734 {'max_depth': 3, 'min_samples_leaf': 1, 'n_estimators': 200}\n",
      "0.72416 {'max_depth': 3, 'min_samples_leaf': 5, 'n_estimators': 40}\n",
      "0.74276 {'max_depth': 3, 'min_samples_leaf': 5, 'n_estimators': 80}\n",
      "0.74498 {'max_depth': 3, 'min_samples_leaf': 5, 'n_estimators': 120}\n",
      "0.74776 {'max_depth': 3, 'min_samples_leaf': 5, 'n_estimators': 160}\n",
      "0.74714 {'max_depth': 3, 'min_samples_leaf': 5, 'n_estimators': 200}\n",
      "0.7336 {'max_depth': 3, 'min_samples_leaf': 10, 'n_estimators': 40}\n",
      "0.7375 {'max_depth': 3, 'min_samples_leaf': 10, 'n_estimators': 80}\n",
      "0.74224 {'max_depth': 3, 'min_samples_leaf': 10, 'n_estimators': 120}\n",
      "0.7505400000000001 {'max_depth': 3, 'min_samples_leaf': 10, 'n_estimators': 160}\n",
      "0.74806 {'max_depth': 3, 'min_samples_leaf': 10, 'n_estimators': 200}\n",
      "0.7945800000000001 {'max_depth': 4, 'min_samples_leaf': 1, 'n_estimators': 40}\n",
      "0.80724 {'max_depth': 4, 'min_samples_leaf': 1, 'n_estimators': 80}\n",
      "0.8070600000000001 {'max_depth': 4, 'min_samples_leaf': 1, 'n_estimators': 120}\n",
      "0.80992 {'max_depth': 4, 'min_samples_leaf': 1, 'n_estimators': 160}\n",
      "0.81136 {'max_depth': 4, 'min_samples_leaf': 1, 'n_estimators': 200}\n",
      "0.79664 {'max_depth': 4, 'min_samples_leaf': 5, 'n_estimators': 40}\n",
      "0.8069200000000001 {'max_depth': 4, 'min_samples_leaf': 5, 'n_estimators': 80}\n",
      "0.8094800000000001 {'max_depth': 4, 'min_samples_leaf': 5, 'n_estimators': 120}\n",
      "0.8126200000000001 {'max_depth': 4, 'min_samples_leaf': 5, 'n_estimators': 160}\n",
      "0.80892 {'max_depth': 4, 'min_samples_leaf': 5, 'n_estimators': 200}\n",
      "0.7990600000000001 {'max_depth': 4, 'min_samples_leaf': 10, 'n_estimators': 40}\n",
      "0.80644 {'max_depth': 4, 'min_samples_leaf': 10, 'n_estimators': 80}\n",
      "0.8077 {'max_depth': 4, 'min_samples_leaf': 10, 'n_estimators': 120}\n",
      "0.8091800000000001 {'max_depth': 4, 'min_samples_leaf': 10, 'n_estimators': 160}\n",
      "0.8114399999999999 {'max_depth': 4, 'min_samples_leaf': 10, 'n_estimators': 200}\n",
      "0.8444800000000001 {'max_depth': 5, 'min_samples_leaf': 1, 'n_estimators': 40}\n",
      "0.8524799999999999 {'max_depth': 5, 'min_samples_leaf': 1, 'n_estimators': 80}\n",
      "0.8528600000000001 {'max_depth': 5, 'min_samples_leaf': 1, 'n_estimators': 120}\n",
      "0.8545 {'max_depth': 5, 'min_samples_leaf': 1, 'n_estimators': 160}\n",
      "0.8569000000000001 {'max_depth': 5, 'min_samples_leaf': 1, 'n_estimators': 200}\n",
      "0.8440799999999999 {'max_depth': 5, 'min_samples_leaf': 5, 'n_estimators': 40}\n",
      "0.85096 {'max_depth': 5, 'min_samples_leaf': 5, 'n_estimators': 80}\n",
      "0.8548200000000001 {'max_depth': 5, 'min_samples_leaf': 5, 'n_estimators': 120}\n",
      "0.85534 {'max_depth': 5, 'min_samples_leaf': 5, 'n_estimators': 160}\n",
      "0.8548199999999999 {'max_depth': 5, 'min_samples_leaf': 5, 'n_estimators': 200}\n",
      "0.84476 {'max_depth': 5, 'min_samples_leaf': 10, 'n_estimators': 40}\n",
      "0.8509 {'max_depth': 5, 'min_samples_leaf': 10, 'n_estimators': 80}\n",
      "0.8508800000000001 {'max_depth': 5, 'min_samples_leaf': 10, 'n_estimators': 120}\n",
      "0.85594 {'max_depth': 5, 'min_samples_leaf': 10, 'n_estimators': 160}\n",
      "0.85748 {'max_depth': 5, 'min_samples_leaf': 10, 'n_estimators': 200}\n",
      "0.8757999999999999 {'max_depth': 6, 'min_samples_leaf': 1, 'n_estimators': 40}\n",
      "0.8843799999999999 {'max_depth': 6, 'min_samples_leaf': 1, 'n_estimators': 80}\n",
      "0.88552 {'max_depth': 6, 'min_samples_leaf': 1, 'n_estimators': 120}\n",
      "0.88514 {'max_depth': 6, 'min_samples_leaf': 1, 'n_estimators': 160}\n",
      "0.8865400000000001 {'max_depth': 6, 'min_samples_leaf': 1, 'n_estimators': 200}\n",
      "0.8764399999999999 {'max_depth': 6, 'min_samples_leaf': 5, 'n_estimators': 40}\n",
      "0.88376 {'max_depth': 6, 'min_samples_leaf': 5, 'n_estimators': 80}\n",
      "0.8842599999999999 {'max_depth': 6, 'min_samples_leaf': 5, 'n_estimators': 120}\n",
      "0.88512 {'max_depth': 6, 'min_samples_leaf': 5, 'n_estimators': 160}\n",
      "0.88582 {'max_depth': 6, 'min_samples_leaf': 5, 'n_estimators': 200}\n",
      "0.8735800000000001 {'max_depth': 6, 'min_samples_leaf': 10, 'n_estimators': 40}\n",
      "0.8822199999999999 {'max_depth': 6, 'min_samples_leaf': 10, 'n_estimators': 80}\n",
      "0.8836999999999999 {'max_depth': 6, 'min_samples_leaf': 10, 'n_estimators': 120}\n",
      "0.88482 {'max_depth': 6, 'min_samples_leaf': 10, 'n_estimators': 160}\n",
      "0.8869199999999999 {'max_depth': 6, 'min_samples_leaf': 10, 'n_estimators': 200}\n"
     ]
    }
   ],
   "source": [
    "print('Best params:', grid_clf.best_params_)\n",
    "print('Best score:', grid_clf.best_score_)\n",
    "print(\"All results:\")\n",
    "cvres = grid_clf.cv_results_\n",
    "for mean_score, params in zip(cvres['mean_test_score'], cvres['params']):\n",
    "    print(mean_score, params)"
   ]
  },
  {
   "cell_type": "markdown",
   "id": "logical-beijing",
   "metadata": {},
   "source": [
    "We hit the limit of our phase space, so let's expand it more:"
   ]
  },
  {
   "cell_type": "code",
   "execution_count": null,
   "id": "innovative-david",
   "metadata": {
    "ExecuteTime": {
     "end_time": "2021-03-03T16:06:21.237392Z",
     "start_time": "2021-03-03T15:23:51.756886Z"
    }
   },
   "outputs": [],
   "source": [
    "params = {\n",
    "    'n_estimators': np.arange(200, 500, 100),\n",
    "    'max_depth': np.arange(6, 15, 4),\n",
    "    'min_samples_leaf': [10, 20, 30],\n",
    "}\n",
    "grid_clf = GridSearchCV(RandomForestClassifier(n_jobs=-1), params, cv=3)\n",
    "grid_clf.fit(X_train, y_train)"
   ]
  },
  {
   "cell_type": "code",
   "execution_count": 42,
   "id": "infectious-unemployment",
   "metadata": {
    "ExecuteTime": {
     "end_time": "2021-03-03T16:06:21.275223Z",
     "start_time": "2021-03-03T16:06:21.247717Z"
    },
    "scrolled": false
   },
   "outputs": [
    {
     "name": "stdout",
     "output_type": "stream",
     "text": [
      "Best params: {'max_depth': 14, 'min_samples_leaf': 10, 'n_estimators': 400}\n",
      "Best score: 0.9492000115595912\n",
      "All results:\n",
      "0.8852001227106143 {'max_depth': 6, 'min_samples_leaf': 10, 'n_estimators': 200}\n",
      "0.8858000495096302 {'max_depth': 6, 'min_samples_leaf': 10, 'n_estimators': 300}\n",
      "0.8871001051117823 {'max_depth': 6, 'min_samples_leaf': 10, 'n_estimators': 400}\n",
      "0.8845800763091903 {'max_depth': 6, 'min_samples_leaf': 20, 'n_estimators': 200}\n",
      "0.8854401083105183 {'max_depth': 6, 'min_samples_leaf': 20, 'n_estimators': 300}\n",
      "0.8864600867109024 {'max_depth': 6, 'min_samples_leaf': 20, 'n_estimators': 400}\n",
      "0.8841400767088463 {'max_depth': 6, 'min_samples_leaf': 30, 'n_estimators': 200}\n",
      "0.8866601067114623 {'max_depth': 6, 'min_samples_leaf': 30, 'n_estimators': 300}\n",
      "0.8871600967116624 {'max_depth': 6, 'min_samples_leaf': 30, 'n_estimators': 400}\n",
      "0.939360012751743 {'max_depth': 10, 'min_samples_leaf': 10, 'n_estimators': 200}\n",
      "0.939920001551967 {'max_depth': 10, 'min_samples_leaf': 10, 'n_estimators': 300}\n",
      "0.9396399915515431 {'max_depth': 10, 'min_samples_leaf': 10, 'n_estimators': 400}\n",
      "0.934060001147271 {'max_depth': 10, 'min_samples_leaf': 20, 'n_estimators': 200}\n",
      "0.9344600051476709 {'max_depth': 10, 'min_samples_leaf': 20, 'n_estimators': 300}\n",
      "0.935459999548359 {'max_depth': 10, 'min_samples_leaf': 20, 'n_estimators': 400}\n",
      "0.9307999787442149 {'max_depth': 10, 'min_samples_leaf': 30, 'n_estimators': 200}\n",
      "0.930160022744583 {'max_depth': 10, 'min_samples_leaf': 30, 'n_estimators': 300}\n",
      "0.9302599931440709 {'max_depth': 10, 'min_samples_leaf': 30, 'n_estimators': 400}\n",
      "0.9484600011587911 {'max_depth': 14, 'min_samples_leaf': 10, 'n_estimators': 200}\n",
      "0.9488999779586792 {'max_depth': 14, 'min_samples_leaf': 10, 'n_estimators': 300}\n",
      "0.9492000115595912 {'max_depth': 14, 'min_samples_leaf': 10, 'n_estimators': 400}\n",
      "0.9404399923521991 {'max_depth': 14, 'min_samples_leaf': 20, 'n_estimators': 200}\n",
      "0.9402400119524311 {'max_depth': 14, 'min_samples_leaf': 20, 'n_estimators': 300}\n",
      "0.9411200003529031 {'max_depth': 14, 'min_samples_leaf': 20, 'n_estimators': 400}\n",
      "0.9338999743466069 {'max_depth': 14, 'min_samples_leaf': 30, 'n_estimators': 200}\n",
      "0.9348199835475269 {'max_depth': 14, 'min_samples_leaf': 30, 'n_estimators': 300}\n",
      "0.934580006347791 {'max_depth': 14, 'min_samples_leaf': 30, 'n_estimators': 400}\n"
     ]
    }
   ],
   "source": [
    "print('Best params:', grid_clf.best_params_)\n",
    "print('Best score:', grid_clf.best_score_)\n",
    "print(\"All results:\")\n",
    "cvres = grid_clf.cv_results_\n",
    "for mean_score, params in zip(cvres['mean_test_score'], cvres['params']):\n",
    "    print(mean_score, params)"
   ]
  },
  {
   "cell_type": "code",
   "execution_count": 43,
   "id": "wanted-vacation",
   "metadata": {
    "ExecuteTime": {
     "end_time": "2021-03-03T16:06:35.544494Z",
     "start_time": "2021-03-03T16:06:29.486374Z"
    }
   },
   "outputs": [
    {
     "name": "stdout",
     "output_type": "stream",
     "text": [
      "RandomForestClassifier training: 0.97518 validation: 0.9611 test: 0.9579\n"
     ]
    }
   ],
   "source": [
    "clf = grid_clf.best_estimator_\n",
    "print(clf.__class__.__name__, 'training:', clf.score(X_train, y_train), 'validation:', clf.score(X_valid, y_valid), 'test:', clf.score(X_test, y_test))"
   ]
  },
  {
   "cell_type": "code",
   "execution_count": 44,
   "id": "rural-postage",
   "metadata": {
    "ExecuteTime": {
     "end_time": "2021-03-03T17:27:28.326425Z",
     "start_time": "2021-03-03T16:08:13.120316Z"
    }
   },
   "outputs": [
    {
     "data": {
      "text/plain": [
       "GridSearchCV(cv=3, estimator=RandomForestClassifier(n_jobs=-1),\n",
       "             param_grid={'max_depth': array([14, 18, 22]),\n",
       "                         'min_samples_leaf': [10, 15],\n",
       "                         'n_estimators': array([400, 450, 500, 550])})"
      ]
     },
     "execution_count": 44,
     "metadata": {},
     "output_type": "execute_result"
    }
   ],
   "source": [
    "params = {\n",
    "    'n_estimators': np.arange(400, 600, 50),\n",
    "    'max_depth': np.arange(14, 23, 4),\n",
    "    'min_samples_leaf': [10, 15],\n",
    "}\n",
    "grid_clf = GridSearchCV(RandomForestClassifier(n_jobs=-1), params, cv=3)\n",
    "grid_clf.fit(X_train, y_train)"
   ]
  },
  {
   "cell_type": "code",
   "execution_count": 45,
   "id": "front-candle",
   "metadata": {
    "ExecuteTime": {
     "end_time": "2021-03-03T17:27:28.419694Z",
     "start_time": "2021-03-03T17:27:28.377798Z"
    },
    "scrolled": false
   },
   "outputs": [
    {
     "name": "stdout",
     "output_type": "stream",
     "text": [
      "Best params: {'max_depth': 22, 'min_samples_leaf': 10, 'n_estimators': 450}\n",
      "Best score: 0.9507399915604232\n",
      "All results:\n",
      "0.9489799871589272 {'max_depth': 14, 'min_samples_leaf': 10, 'n_estimators': 400}\n",
      "0.9493400003594791 {'max_depth': 14, 'min_samples_leaf': 10, 'n_estimators': 450}\n",
      "0.9491200035593672 {'max_depth': 14, 'min_samples_leaf': 10, 'n_estimators': 500}\n",
      "0.9498599959598071 {'max_depth': 14, 'min_samples_leaf': 10, 'n_estimators': 550}\n",
      "0.9446199903555031 {'max_depth': 14, 'min_samples_leaf': 15, 'n_estimators': 400}\n",
      "0.9446599859554471 {'max_depth': 14, 'min_samples_leaf': 15, 'n_estimators': 450}\n",
      "0.9448200031559191 {'max_depth': 14, 'min_samples_leaf': 15, 'n_estimators': 500}\n",
      "0.9447600091559911 {'max_depth': 14, 'min_samples_leaf': 15, 'n_estimators': 550}\n",
      "0.9497999767593752 {'max_depth': 18, 'min_samples_leaf': 10, 'n_estimators': 400}\n",
      "0.9499599879597271 {'max_depth': 18, 'min_samples_leaf': 10, 'n_estimators': 450}\n",
      "0.9499999787595752 {'max_depth': 18, 'min_samples_leaf': 10, 'n_estimators': 500}\n",
      "0.9503800131605672 {'max_depth': 18, 'min_samples_leaf': 10, 'n_estimators': 550}\n",
      "0.9453199955561672 {'max_depth': 18, 'min_samples_leaf': 15, 'n_estimators': 400}\n",
      "0.9455199951563191 {'max_depth': 18, 'min_samples_leaf': 15, 'n_estimators': 450}\n",
      "0.9457600059567272 {'max_depth': 18, 'min_samples_leaf': 15, 'n_estimators': 500}\n",
      "0.9461600003569351 {'max_depth': 18, 'min_samples_leaf': 15, 'n_estimators': 550}\n",
      "0.9501199835597672 {'max_depth': 22, 'min_samples_leaf': 10, 'n_estimators': 400}\n",
      "0.9507399915604232 {'max_depth': 22, 'min_samples_leaf': 10, 'n_estimators': 450}\n",
      "0.9504600007603833 {'max_depth': 22, 'min_samples_leaf': 10, 'n_estimators': 500}\n",
      "0.9503399923601191 {'max_depth': 22, 'min_samples_leaf': 10, 'n_estimators': 550}\n",
      "0.9453399951561751 {'max_depth': 22, 'min_samples_leaf': 15, 'n_estimators': 400}\n",
      "0.9456199919563351 {'max_depth': 22, 'min_samples_leaf': 15, 'n_estimators': 450}\n",
      "0.9458399851563751 {'max_depth': 22, 'min_samples_leaf': 15, 'n_estimators': 500}\n",
      "0.9456199991564791 {'max_depth': 22, 'min_samples_leaf': 15, 'n_estimators': 550}\n"
     ]
    }
   ],
   "source": [
    "print('Best params:', grid_clf.best_params_)\n",
    "print('Best score:', grid_clf.best_score_)\n",
    "print(\"All results:\")\n",
    "cvres = grid_clf.cv_results_\n",
    "for mean_score, params in zip(cvres['mean_test_score'], cvres['params']):\n",
    "    print(mean_score, params)"
   ]
  },
  {
   "cell_type": "code",
   "execution_count": 47,
   "id": "existing-chuck",
   "metadata": {
    "ExecuteTime": {
     "end_time": "2021-03-03T17:27:43.952069Z",
     "start_time": "2021-03-03T17:27:35.286243Z"
    }
   },
   "outputs": [
    {
     "name": "stdout",
     "output_type": "stream",
     "text": [
      "RandomForestClassifier training: 0.9781 validation: 0.9628 test: 0.9575\n"
     ]
    }
   ],
   "source": [
    "clf = grid_clf.best_estimator_\n",
    "print(clf.__class__.__name__, 'training:', clf.score(X_train, y_train), 'validation:', clf.score(X_valid, y_valid), 'test:', clf.score(X_test, y_test))"
   ]
  },
  {
   "cell_type": "markdown",
   "id": "conventional-mentor",
   "metadata": {},
   "source": [
    "It seems to just keep add more depth, with very little improvement. Let's cut it off at 14, for ~95% accuracy. We'll copy the same settings for ExtraTreesClassifier to save time.\n",
    "\n",
    "Let's now train a voting classifier with our \"best\" classifiers."
   ]
  },
  {
   "cell_type": "code",
   "execution_count": 50,
   "id": "statutory-saint",
   "metadata": {
    "ExecuteTime": {
     "end_time": "2021-03-03T19:04:38.230773Z",
     "start_time": "2021-03-03T18:44:05.650456Z"
    }
   },
   "outputs": [
    {
     "data": {
      "text/plain": [
       "VotingClassifier(estimators=[('rf',\n",
       "                              RandomForestClassifier(max_depth=14,\n",
       "                                                     min_samples_leaf=10,\n",
       "                                                     n_estimators=400,\n",
       "                                                     n_jobs=-1)),\n",
       "                             ('xt',\n",
       "                              ExtraTreesClassifier(max_depth=14,\n",
       "                                                   min_samples_leaf=10,\n",
       "                                                   n_estimators=400,\n",
       "                                                   n_jobs=-1)),\n",
       "                             ('svc', SVC(C=1, probability=True))],\n",
       "                 n_jobs=-1, voting='soft')"
      ]
     },
     "execution_count": 50,
     "metadata": {},
     "output_type": "execute_result"
    }
   ],
   "source": [
    "best_soft_voting_clf = VotingClassifier(\n",
    "    estimators=[\n",
    "        ('rf', RandomForestClassifier(max_depth=14, min_samples_leaf=10, n_estimators=400, n_jobs=-1)),\n",
    "        ('xt', ExtraTreesClassifier(max_depth=14, min_samples_leaf=10, n_estimators=400, n_jobs=-1)),\n",
    "        ('svc', SVC(kernel='rbf', C=1, gamma='scale', probability=True))\n",
    "    ],\n",
    "    voting='soft',\n",
    "    n_jobs=-1,\n",
    "    verbose=False\n",
    ")\n",
    "best_soft_voting_clf.fit(X_train, y_train)"
   ]
  },
  {
   "cell_type": "code",
   "execution_count": 51,
   "id": "induced-style",
   "metadata": {
    "ExecuteTime": {
     "end_time": "2021-03-03T19:28:10.114591Z",
     "start_time": "2021-03-03T19:06:47.489589Z"
    }
   },
   "outputs": [
    {
     "name": "stdout",
     "output_type": "stream",
     "text": [
      "VotingClassifier training: 0.98862 validation: 0.9792 test: 0.9766\n",
      "RandomForestClassifier training: 0.97504 validation: 0.9621 test: 0.9568\n",
      "ExtraTreesClassifier training: 0.97214 validation: 0.96 test: 0.9545\n",
      "SVC training: 0.98958 validation: 0.9802 test: 0.9785\n"
     ]
    }
   ],
   "source": [
    "for clf in [best_soft_voting_clf, *best_soft_voting_clf.estimators_]:\n",
    "    print(clf.__class__.__name__, 'training:', clf.score(X_train, y_train), 'validation:', clf.score(X_valid, y_valid), 'test:', clf.score(X_test, y_test))"
   ]
  },
  {
   "cell_type": "markdown",
   "id": "billion-award",
   "metadata": {},
   "source": [
    "The overall ensemble voting classifier has a 2% improvement in accuracy (98%) on the individual classifiers (96%). Although using these optimised random forest & extra trees classifiers hasn't really improved the overall performance ever so slightly (was 98% before) - presumably as a soft voting classifier, the weighting for the SVC is greatest, so it dominated the votes. Whereas I would expect a significant improvement in a hard voting classifier, which values the random forest and extra tree classifiers equally.\n",
    "\n",
    "We can check this just by changing the `voting` attribute:"
   ]
  },
  {
   "cell_type": "code",
   "execution_count": 52,
   "id": "american-original",
   "metadata": {
    "ExecuteTime": {
     "end_time": "2021-03-03T19:29:49.316372Z",
     "start_time": "2021-03-03T19:29:49.287296Z"
    }
   },
   "outputs": [],
   "source": [
    "best_soft_voting_clf.voting = 'hard'"
   ]
  },
  {
   "cell_type": "code",
   "execution_count": 53,
   "id": "attempted-scroll",
   "metadata": {
    "ExecuteTime": {
     "end_time": "2021-03-03T19:50:11.872619Z",
     "start_time": "2021-03-03T19:29:57.630608Z"
    }
   },
   "outputs": [
    {
     "name": "stdout",
     "output_type": "stream",
     "text": [
      "VotingClassifier training: 0.97742 validation: 0.9665 test: 0.9606\n",
      "RandomForestClassifier training: 0.97504 validation: 0.9621 test: 0.9568\n",
      "ExtraTreesClassifier training: 0.97214 validation: 0.96 test: 0.9545\n",
      "SVC training: 0.98958 validation: 0.9802 test: 0.9785\n"
     ]
    }
   ],
   "source": [
    "for clf in [best_soft_voting_clf, *best_soft_voting_clf.estimators_]:\n",
    "    print(clf.__class__.__name__, 'training:', clf.score(X_train, y_train), 'validation:', clf.score(X_valid, y_valid), 'test:', clf.score(X_test, y_test))"
   ]
  },
  {
   "cell_type": "markdown",
   "id": "novel-endorsement",
   "metadata": {},
   "source": [
    "So we can clearly see the improvement in hard voting classifier (from 89% to 97%)! Although interestingly the ensemble has a slightly lower accuracy than the SVC by itself!"
   ]
  },
  {
   "cell_type": "markdown",
   "id": "extreme-style",
   "metadata": {},
   "source": [
    "## 9. Use output from individual classifiers to train a blender"
   ]
  },
  {
   "cell_type": "code",
   "execution_count": 61,
   "id": "rolled-bloom",
   "metadata": {
    "ExecuteTime": {
     "end_time": "2021-03-03T21:51:41.597301Z",
     "start_time": "2021-03-03T21:49:38.199040Z"
    }
   },
   "outputs": [],
   "source": [
    "y_valid_preds = [clf.predict(X_valid) for clf in best_soft_voting_clf.estimators_]"
   ]
  },
  {
   "cell_type": "code",
   "execution_count": 62,
   "id": "marked-stream",
   "metadata": {
    "ExecuteTime": {
     "end_time": "2021-03-03T21:51:41.637051Z",
     "start_time": "2021-03-03T21:51:41.612146Z"
    }
   },
   "outputs": [
    {
     "data": {
      "text/plain": [
       "(10000,)"
      ]
     },
     "execution_count": 62,
     "metadata": {},
     "output_type": "execute_result"
    }
   ],
   "source": [
    "y_valid_preds[0].shape"
   ]
  },
  {
   "cell_type": "code",
   "execution_count": 63,
   "id": "social-enhancement",
   "metadata": {
    "ExecuteTime": {
     "end_time": "2021-03-03T21:51:41.652396Z",
     "start_time": "2021-03-03T21:51:41.644120Z"
    }
   },
   "outputs": [],
   "source": [
    "X_valid_preds = np.c_[y_valid_preds].T"
   ]
  },
  {
   "cell_type": "code",
   "execution_count": 64,
   "id": "operational-noise",
   "metadata": {
    "ExecuteTime": {
     "end_time": "2021-03-03T21:51:41.670749Z",
     "start_time": "2021-03-03T21:51:41.657291Z"
    }
   },
   "outputs": [
    {
     "data": {
      "text/plain": [
       "(10000, 3)"
      ]
     },
     "execution_count": 64,
     "metadata": {},
     "output_type": "execute_result"
    }
   ],
   "source": [
    "X_valid_preds.shape"
   ]
  },
  {
   "cell_type": "code",
   "execution_count": 65,
   "id": "removed-cabinet",
   "metadata": {
    "ExecuteTime": {
     "end_time": "2021-03-03T21:57:55.620381Z",
     "start_time": "2021-03-03T21:57:55.616043Z"
    }
   },
   "outputs": [],
   "source": [
    "from sklearn.linear_model import LogisticRegression"
   ]
  },
  {
   "cell_type": "code",
   "execution_count": 66,
   "id": "brilliant-white",
   "metadata": {
    "ExecuteTime": {
     "end_time": "2021-03-03T21:59:59.032910Z",
     "start_time": "2021-03-03T21:59:56.777095Z"
    }
   },
   "outputs": [
    {
     "data": {
      "text/plain": [
       "LogisticRegression(n_jobs=-1)"
      ]
     },
     "execution_count": 66,
     "metadata": {},
     "output_type": "execute_result"
    }
   ],
   "source": [
    "lg_reg = LogisticRegression(n_jobs=-1)\n",
    "lg_reg.fit(X_valid_preds, y_valid)"
   ]
  },
  {
   "cell_type": "code",
   "execution_count": 67,
   "id": "organizational-chair",
   "metadata": {
    "ExecuteTime": {
     "end_time": "2021-03-03T22:00:09.755857Z",
     "start_time": "2021-03-03T22:00:09.733786Z"
    }
   },
   "outputs": [
    {
     "data": {
      "text/plain": [
       "0.966"
      ]
     },
     "execution_count": 67,
     "metadata": {},
     "output_type": "execute_result"
    }
   ],
   "source": [
    "lg_reg.score(X_valid_preds, y_valid)"
   ]
  },
  {
   "cell_type": "markdown",
   "id": "blond-impact",
   "metadata": {},
   "source": [
    "Let's try a random forest instead:"
   ]
  },
  {
   "cell_type": "code",
   "execution_count": 69,
   "id": "finished-stamp",
   "metadata": {
    "ExecuteTime": {
     "end_time": "2021-03-03T22:01:29.083462Z",
     "start_time": "2021-03-03T22:01:27.737111Z"
    }
   },
   "outputs": [
    {
     "data": {
      "text/plain": [
       "RandomForestClassifier(n_estimators=200, oob_score=True, random_state=42)"
      ]
     },
     "execution_count": 69,
     "metadata": {},
     "output_type": "execute_result"
    }
   ],
   "source": [
    "rnd_forest_blender = RandomForestClassifier(n_estimators=200, oob_score=True, random_state=42)\n",
    "rnd_forest_blender.fit(X_valid_preds, y_valid)"
   ]
  },
  {
   "cell_type": "code",
   "execution_count": 70,
   "id": "miniature-wisdom",
   "metadata": {
    "ExecuteTime": {
     "end_time": "2021-03-03T22:01:41.983320Z",
     "start_time": "2021-03-03T22:01:41.676910Z"
    }
   },
   "outputs": [
    {
     "data": {
      "text/plain": [
       "0.9822"
      ]
     },
     "execution_count": 70,
     "metadata": {},
     "output_type": "execute_result"
    }
   ],
   "source": [
    "rnd_forest_blender.score(X_valid_preds, y_valid)"
   ]
  },
  {
   "cell_type": "markdown",
   "id": "binary-trust",
   "metadata": {},
   "source": [
    "So a random forest does better as a blender than Logistic Regression, and a little bit better than the simple soft voting"
   ]
  },
  {
   "cell_type": "markdown",
   "id": "extra-workplace",
   "metadata": {},
   "source": [
    "Let's try it on our test set finally:"
   ]
  },
  {
   "cell_type": "code",
   "execution_count": 71,
   "id": "rental-rally",
   "metadata": {
    "ExecuteTime": {
     "end_time": "2021-03-03T22:04:27.482047Z",
     "start_time": "2021-03-03T22:02:38.207723Z"
    }
   },
   "outputs": [],
   "source": [
    "y_test_preds = [clf.predict(X_test) for clf in best_soft_voting_clf.estimators_]\n",
    "X_test_preds = np.c_[y_test_preds].T"
   ]
  },
  {
   "cell_type": "code",
   "execution_count": 72,
   "id": "younger-edward",
   "metadata": {
    "ExecuteTime": {
     "end_time": "2021-03-03T22:04:27.894898Z",
     "start_time": "2021-03-03T22:04:27.486240Z"
    }
   },
   "outputs": [
    {
     "data": {
      "text/plain": [
       "0.9738"
      ]
     },
     "execution_count": 72,
     "metadata": {},
     "output_type": "execute_result"
    }
   ],
   "source": [
    "rnd_forest_blender.score(X_test_preds, y_test)"
   ]
  },
  {
   "cell_type": "markdown",
   "id": "altered-design",
   "metadata": {},
   "source": [
    "So this gives a very comparable result to the soft voting result on the test set (0.9766)."
   ]
  },
  {
   "cell_type": "code",
   "execution_count": null,
   "id": "middle-shirt",
   "metadata": {},
   "outputs": [],
   "source": []
  }
 ],
 "metadata": {
  "kernelspec": {
   "display_name": "handsonml",
   "language": "python",
   "name": "handsonml"
  },
  "language_info": {
   "codemirror_mode": {
    "name": "ipython",
    "version": 3
   },
   "file_extension": ".py",
   "mimetype": "text/x-python",
   "name": "python",
   "nbconvert_exporter": "python",
   "pygments_lexer": "ipython3",
   "version": "3.7.5"
  },
  "toc": {
   "base_numbering": 1,
   "nav_menu": {
    "height": "306.997px",
    "width": "201.997px"
   },
   "number_sections": true,
   "sideBar": true,
   "skip_h1_title": false,
   "title_cell": "Table of Contents",
   "title_sidebar": "Contents",
   "toc_cell": false,
   "toc_position": {},
   "toc_section_display": true,
   "toc_window_display": false
  }
 },
 "nbformat": 4,
 "nbformat_minor": 5
}
