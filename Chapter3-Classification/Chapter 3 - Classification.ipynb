{
 "cells": [
  {
   "cell_type": "markdown",
   "id": "nervous-auction",
   "metadata": {},
   "source": [
    "# Classification"
   ]
  },
  {
   "cell_type": "code",
   "execution_count": 7,
   "id": "uniform-basic",
   "metadata": {
    "ExecuteTime": {
     "end_time": "2021-02-19T18:12:58.913517Z",
     "start_time": "2021-02-19T18:12:58.277976Z"
    }
   },
   "outputs": [],
   "source": [
    "import matplotlib as mpl\n",
    "import matplotlib.pyplot as plt"
   ]
  },
  {
   "cell_type": "code",
   "execution_count": 65,
   "id": "liable-childhood",
   "metadata": {
    "ExecuteTime": {
     "end_time": "2021-02-20T14:18:37.538654Z",
     "start_time": "2021-02-20T14:18:37.530215Z"
    }
   },
   "outputs": [],
   "source": [
    "mpl.rcParams['font.size'] = 16"
   ]
  },
  {
   "cell_type": "code",
   "execution_count": 19,
   "id": "radio-complement",
   "metadata": {
    "ExecuteTime": {
     "end_time": "2021-02-19T18:16:42.963299Z",
     "start_time": "2021-02-19T18:16:42.959671Z"
    }
   },
   "outputs": [],
   "source": [
    "import numpy as np"
   ]
  },
  {
   "cell_type": "markdown",
   "id": "above-basis",
   "metadata": {},
   "source": [
    "## Loading MNIST"
   ]
  },
  {
   "cell_type": "code",
   "execution_count": 1,
   "id": "bigger-librarian",
   "metadata": {
    "ExecuteTime": {
     "end_time": "2021-02-19T18:07:56.369610Z",
     "start_time": "2021-02-19T18:07:55.004450Z"
    }
   },
   "outputs": [],
   "source": [
    "from sklearn.datasets import fetch_openml"
   ]
  },
  {
   "cell_type": "code",
   "execution_count": 3,
   "id": "featured-creator",
   "metadata": {
    "ExecuteTime": {
     "end_time": "2021-02-19T18:10:03.323090Z",
     "start_time": "2021-02-19T18:08:28.991307Z"
    }
   },
   "outputs": [
    {
     "data": {
      "text/plain": [
       "dict_keys(['data', 'target', 'frame', 'categories', 'feature_names', 'target_names', 'DESCR', 'details', 'url'])"
      ]
     },
     "execution_count": 3,
     "metadata": {},
     "output_type": "execute_result"
    }
   ],
   "source": [
    "mnist = fetch_openml('mnist_784', version=1)\n",
    "mnist.keys()"
   ]
  },
  {
   "cell_type": "code",
   "execution_count": 4,
   "id": "african-jesus",
   "metadata": {
    "ExecuteTime": {
     "end_time": "2021-02-19T18:12:33.279005Z",
     "start_time": "2021-02-19T18:12:33.264174Z"
    }
   },
   "outputs": [],
   "source": [
    "X, y = mnist['data'], mnist['target']"
   ]
  },
  {
   "cell_type": "code",
   "execution_count": 5,
   "id": "communist-mauritius",
   "metadata": {
    "ExecuteTime": {
     "end_time": "2021-02-19T18:12:36.776684Z",
     "start_time": "2021-02-19T18:12:36.769126Z"
    }
   },
   "outputs": [
    {
     "data": {
      "text/plain": [
       "(70000, 784)"
      ]
     },
     "execution_count": 5,
     "metadata": {},
     "output_type": "execute_result"
    }
   ],
   "source": [
    "X.shape"
   ]
  },
  {
   "cell_type": "code",
   "execution_count": 6,
   "id": "pressing-nirvana",
   "metadata": {
    "ExecuteTime": {
     "end_time": "2021-02-19T18:12:38.851708Z",
     "start_time": "2021-02-19T18:12:38.845433Z"
    }
   },
   "outputs": [
    {
     "data": {
      "text/plain": [
       "(70000,)"
      ]
     },
     "execution_count": 6,
     "metadata": {},
     "output_type": "execute_result"
    }
   ],
   "source": [
    "y.shape"
   ]
  },
  {
   "cell_type": "code",
   "execution_count": 9,
   "id": "brave-spectacular",
   "metadata": {
    "ExecuteTime": {
     "end_time": "2021-02-19T18:13:44.735148Z",
     "start_time": "2021-02-19T18:13:44.729499Z"
    }
   },
   "outputs": [],
   "source": [
    "%matplotlib inline"
   ]
  },
  {
   "cell_type": "markdown",
   "id": "discrete-glossary",
   "metadata": {},
   "source": [
    "Note: the book treats X as a numpy array, but here's it's a pandas dataframe. We should convert it."
   ]
  },
  {
   "cell_type": "code",
   "execution_count": 11,
   "id": "legitimate-raleigh",
   "metadata": {
    "ExecuteTime": {
     "end_time": "2021-02-19T18:14:09.981314Z",
     "start_time": "2021-02-19T18:14:09.974786Z"
    }
   },
   "outputs": [
    {
     "data": {
      "text/plain": [
       "pandas.core.frame.DataFrame"
      ]
     },
     "execution_count": 11,
     "metadata": {},
     "output_type": "execute_result"
    }
   ],
   "source": [
    "type(X)"
   ]
  },
  {
   "cell_type": "code",
   "execution_count": 14,
   "id": "miniature-gilbert",
   "metadata": {
    "ExecuteTime": {
     "end_time": "2021-02-19T18:15:06.591573Z",
     "start_time": "2021-02-19T18:15:06.540195Z"
    }
   },
   "outputs": [
    {
     "data": {
      "text/html": [
       "<div>\n",
       "<style scoped>\n",
       "    .dataframe tbody tr th:only-of-type {\n",
       "        vertical-align: middle;\n",
       "    }\n",
       "\n",
       "    .dataframe tbody tr th {\n",
       "        vertical-align: top;\n",
       "    }\n",
       "\n",
       "    .dataframe thead th {\n",
       "        text-align: right;\n",
       "    }\n",
       "</style>\n",
       "<table border=\"1\" class=\"dataframe\">\n",
       "  <thead>\n",
       "    <tr style=\"text-align: right;\">\n",
       "      <th></th>\n",
       "      <th>pixel1</th>\n",
       "      <th>pixel2</th>\n",
       "      <th>pixel3</th>\n",
       "      <th>pixel4</th>\n",
       "      <th>pixel5</th>\n",
       "      <th>pixel6</th>\n",
       "      <th>pixel7</th>\n",
       "      <th>pixel8</th>\n",
       "      <th>pixel9</th>\n",
       "      <th>pixel10</th>\n",
       "      <th>...</th>\n",
       "      <th>pixel775</th>\n",
       "      <th>pixel776</th>\n",
       "      <th>pixel777</th>\n",
       "      <th>pixel778</th>\n",
       "      <th>pixel779</th>\n",
       "      <th>pixel780</th>\n",
       "      <th>pixel781</th>\n",
       "      <th>pixel782</th>\n",
       "      <th>pixel783</th>\n",
       "      <th>pixel784</th>\n",
       "    </tr>\n",
       "  </thead>\n",
       "  <tbody>\n",
       "    <tr>\n",
       "      <th>0</th>\n",
       "      <td>0.0</td>\n",
       "      <td>0.0</td>\n",
       "      <td>0.0</td>\n",
       "      <td>0.0</td>\n",
       "      <td>0.0</td>\n",
       "      <td>0.0</td>\n",
       "      <td>0.0</td>\n",
       "      <td>0.0</td>\n",
       "      <td>0.0</td>\n",
       "      <td>0.0</td>\n",
       "      <td>...</td>\n",
       "      <td>0.0</td>\n",
       "      <td>0.0</td>\n",
       "      <td>0.0</td>\n",
       "      <td>0.0</td>\n",
       "      <td>0.0</td>\n",
       "      <td>0.0</td>\n",
       "      <td>0.0</td>\n",
       "      <td>0.0</td>\n",
       "      <td>0.0</td>\n",
       "      <td>0.0</td>\n",
       "    </tr>\n",
       "    <tr>\n",
       "      <th>1</th>\n",
       "      <td>0.0</td>\n",
       "      <td>0.0</td>\n",
       "      <td>0.0</td>\n",
       "      <td>0.0</td>\n",
       "      <td>0.0</td>\n",
       "      <td>0.0</td>\n",
       "      <td>0.0</td>\n",
       "      <td>0.0</td>\n",
       "      <td>0.0</td>\n",
       "      <td>0.0</td>\n",
       "      <td>...</td>\n",
       "      <td>0.0</td>\n",
       "      <td>0.0</td>\n",
       "      <td>0.0</td>\n",
       "      <td>0.0</td>\n",
       "      <td>0.0</td>\n",
       "      <td>0.0</td>\n",
       "      <td>0.0</td>\n",
       "      <td>0.0</td>\n",
       "      <td>0.0</td>\n",
       "      <td>0.0</td>\n",
       "    </tr>\n",
       "    <tr>\n",
       "      <th>2</th>\n",
       "      <td>0.0</td>\n",
       "      <td>0.0</td>\n",
       "      <td>0.0</td>\n",
       "      <td>0.0</td>\n",
       "      <td>0.0</td>\n",
       "      <td>0.0</td>\n",
       "      <td>0.0</td>\n",
       "      <td>0.0</td>\n",
       "      <td>0.0</td>\n",
       "      <td>0.0</td>\n",
       "      <td>...</td>\n",
       "      <td>0.0</td>\n",
       "      <td>0.0</td>\n",
       "      <td>0.0</td>\n",
       "      <td>0.0</td>\n",
       "      <td>0.0</td>\n",
       "      <td>0.0</td>\n",
       "      <td>0.0</td>\n",
       "      <td>0.0</td>\n",
       "      <td>0.0</td>\n",
       "      <td>0.0</td>\n",
       "    </tr>\n",
       "    <tr>\n",
       "      <th>3</th>\n",
       "      <td>0.0</td>\n",
       "      <td>0.0</td>\n",
       "      <td>0.0</td>\n",
       "      <td>0.0</td>\n",
       "      <td>0.0</td>\n",
       "      <td>0.0</td>\n",
       "      <td>0.0</td>\n",
       "      <td>0.0</td>\n",
       "      <td>0.0</td>\n",
       "      <td>0.0</td>\n",
       "      <td>...</td>\n",
       "      <td>0.0</td>\n",
       "      <td>0.0</td>\n",
       "      <td>0.0</td>\n",
       "      <td>0.0</td>\n",
       "      <td>0.0</td>\n",
       "      <td>0.0</td>\n",
       "      <td>0.0</td>\n",
       "      <td>0.0</td>\n",
       "      <td>0.0</td>\n",
       "      <td>0.0</td>\n",
       "    </tr>\n",
       "    <tr>\n",
       "      <th>4</th>\n",
       "      <td>0.0</td>\n",
       "      <td>0.0</td>\n",
       "      <td>0.0</td>\n",
       "      <td>0.0</td>\n",
       "      <td>0.0</td>\n",
       "      <td>0.0</td>\n",
       "      <td>0.0</td>\n",
       "      <td>0.0</td>\n",
       "      <td>0.0</td>\n",
       "      <td>0.0</td>\n",
       "      <td>...</td>\n",
       "      <td>0.0</td>\n",
       "      <td>0.0</td>\n",
       "      <td>0.0</td>\n",
       "      <td>0.0</td>\n",
       "      <td>0.0</td>\n",
       "      <td>0.0</td>\n",
       "      <td>0.0</td>\n",
       "      <td>0.0</td>\n",
       "      <td>0.0</td>\n",
       "      <td>0.0</td>\n",
       "    </tr>\n",
       "  </tbody>\n",
       "</table>\n",
       "<p>5 rows × 784 columns</p>\n",
       "</div>"
      ],
      "text/plain": [
       "   pixel1  pixel2  pixel3  pixel4  pixel5  pixel6  pixel7  pixel8  pixel9  \\\n",
       "0     0.0     0.0     0.0     0.0     0.0     0.0     0.0     0.0     0.0   \n",
       "1     0.0     0.0     0.0     0.0     0.0     0.0     0.0     0.0     0.0   \n",
       "2     0.0     0.0     0.0     0.0     0.0     0.0     0.0     0.0     0.0   \n",
       "3     0.0     0.0     0.0     0.0     0.0     0.0     0.0     0.0     0.0   \n",
       "4     0.0     0.0     0.0     0.0     0.0     0.0     0.0     0.0     0.0   \n",
       "\n",
       "   pixel10  ...  pixel775  pixel776  pixel777  pixel778  pixel779  pixel780  \\\n",
       "0      0.0  ...       0.0       0.0       0.0       0.0       0.0       0.0   \n",
       "1      0.0  ...       0.0       0.0       0.0       0.0       0.0       0.0   \n",
       "2      0.0  ...       0.0       0.0       0.0       0.0       0.0       0.0   \n",
       "3      0.0  ...       0.0       0.0       0.0       0.0       0.0       0.0   \n",
       "4      0.0  ...       0.0       0.0       0.0       0.0       0.0       0.0   \n",
       "\n",
       "   pixel781  pixel782  pixel783  pixel784  \n",
       "0       0.0       0.0       0.0       0.0  \n",
       "1       0.0       0.0       0.0       0.0  \n",
       "2       0.0       0.0       0.0       0.0  \n",
       "3       0.0       0.0       0.0       0.0  \n",
       "4       0.0       0.0       0.0       0.0  \n",
       "\n",
       "[5 rows x 784 columns]"
      ]
     },
     "execution_count": 14,
     "metadata": {},
     "output_type": "execute_result"
    }
   ],
   "source": [
    "X.head()"
   ]
  },
  {
   "cell_type": "code",
   "execution_count": 15,
   "id": "distinguished-blake",
   "metadata": {
    "ExecuteTime": {
     "end_time": "2021-02-19T18:15:43.657908Z",
     "start_time": "2021-02-19T18:15:43.654427Z"
    }
   },
   "outputs": [],
   "source": [
    "X = X.to_numpy()"
   ]
  },
  {
   "cell_type": "code",
   "execution_count": 16,
   "id": "constitutional-actor",
   "metadata": {
    "ExecuteTime": {
     "end_time": "2021-02-19T18:15:47.481655Z",
     "start_time": "2021-02-19T18:15:47.377006Z"
    }
   },
   "outputs": [
    {
     "data": {
      "image/png": "[encoded data removed]",
      "text/plain": [
       "<Figure size 432x288 with 1 Axes>"
      ]
     },
     "metadata": {
      "needs_background": "light"
     },
     "output_type": "display_data"
    }
   ],
   "source": [
    "some_digit = X[0]\n",
    "some_digit_image = some_digit.reshape(28, 28)\n",
    "\n",
    "plt.imshow(some_digit_image, cmap='binary')\n",
    "plt.axis('off')\n",
    "plt.show()"
   ]
  },
  {
   "cell_type": "code",
   "execution_count": 13,
   "id": "harmful-brazilian",
   "metadata": {
    "ExecuteTime": {
     "end_time": "2021-02-19T18:14:59.128510Z",
     "start_time": "2021-02-19T18:14:59.112581Z"
    }
   },
   "outputs": [
    {
     "data": {
      "text/plain": [
       "'5'"
      ]
     },
     "execution_count": 13,
     "metadata": {},
     "output_type": "execute_result"
    }
   ],
   "source": [
    "y[0]"
   ]
  },
  {
   "cell_type": "code",
   "execution_count": 20,
   "id": "synthetic-three",
   "metadata": {
    "ExecuteTime": {
     "end_time": "2021-02-19T18:17:03.982675Z",
     "start_time": "2021-02-19T18:17:03.975933Z"
    }
   },
   "outputs": [],
   "source": [
    "# convert labels from str to int\n",
    "y = y.astype(np.uint8)"
   ]
  },
  {
   "cell_type": "code",
   "execution_count": 21,
   "id": "solved-actor",
   "metadata": {
    "ExecuteTime": {
     "end_time": "2021-02-19T18:17:45.479337Z",
     "start_time": "2021-02-19T18:17:45.474950Z"
    }
   },
   "outputs": [],
   "source": [
    "# split into training & testing sets:\n",
    "X_train, X_test, y_train, y_test = X[:60000], X[60000:], y[:60000], y[60000:]"
   ]
  },
  {
   "cell_type": "markdown",
   "id": "senior-coaching",
   "metadata": {},
   "source": [
    "## Training a binary classifier"
   ]
  },
  {
   "cell_type": "markdown",
   "id": "approximate-explorer",
   "metadata": {},
   "source": [
    "Here we are training a classifier of 5 vs not-5:"
   ]
  },
  {
   "cell_type": "code",
   "execution_count": 22,
   "id": "varied-antigua",
   "metadata": {
    "ExecuteTime": {
     "end_time": "2021-02-19T18:18:16.028465Z",
     "start_time": "2021-02-19T18:18:16.017185Z"
    }
   },
   "outputs": [],
   "source": [
    "y_train_5 = (y_train == 5)\n",
    "y_test_5 = (y_test == 5)"
   ]
  },
  {
   "cell_type": "code",
   "execution_count": 23,
   "id": "earlier-folks",
   "metadata": {
    "ExecuteTime": {
     "end_time": "2021-02-19T18:18:22.808212Z",
     "start_time": "2021-02-19T18:18:22.799473Z"
    }
   },
   "outputs": [
    {
     "data": {
      "text/plain": [
       "0         True\n",
       "1        False\n",
       "2        False\n",
       "3        False\n",
       "4        False\n",
       "         ...  \n",
       "59995    False\n",
       "59996    False\n",
       "59997     True\n",
       "59998    False\n",
       "59999    False\n",
       "Name: class, Length: 60000, dtype: bool"
      ]
     },
     "execution_count": 23,
     "metadata": {},
     "output_type": "execute_result"
    }
   ],
   "source": [
    "y_train_5"
   ]
  },
  {
   "cell_type": "code",
   "execution_count": 24,
   "id": "optimum-header",
   "metadata": {
    "ExecuteTime": {
     "end_time": "2021-02-19T18:18:44.105002Z",
     "start_time": "2021-02-19T18:18:44.099504Z"
    }
   },
   "outputs": [],
   "source": [
    "from sklearn.linear_model import SGDClassifier"
   ]
  },
  {
   "cell_type": "code",
   "execution_count": 25,
   "id": "suburban-spell",
   "metadata": {
    "ExecuteTime": {
     "end_time": "2021-02-19T18:19:30.648372Z",
     "start_time": "2021-02-19T18:19:08.513593Z"
    }
   },
   "outputs": [
    {
     "data": {
      "text/plain": [
       "SGDClassifier(random_state=42)"
      ]
     },
     "execution_count": 25,
     "metadata": {},
     "output_type": "execute_result"
    }
   ],
   "source": [
    "sgd_clf = SGDClassifier(random_state=42)\n",
    "sgd_clf.fit(X_train, y_train_5)"
   ]
  },
  {
   "cell_type": "code",
   "execution_count": 26,
   "id": "forced-protest",
   "metadata": {
    "ExecuteTime": {
     "end_time": "2021-02-19T18:19:45.742602Z",
     "start_time": "2021-02-19T18:19:45.734228Z"
    }
   },
   "outputs": [
    {
     "data": {
      "text/plain": [
       "array([ True])"
      ]
     },
     "execution_count": 26,
     "metadata": {},
     "output_type": "execute_result"
    }
   ],
   "source": [
    "sgd_clf.predict([some_digit])"
   ]
  },
  {
   "cell_type": "markdown",
   "id": "nominated-corrections",
   "metadata": {},
   "source": [
    "Yay it got it right"
   ]
  },
  {
   "cell_type": "markdown",
   "id": "identified-bishop",
   "metadata": {},
   "source": [
    "## Measuring performance"
   ]
  },
  {
   "cell_type": "code",
   "execution_count": 27,
   "id": "fresh-biology",
   "metadata": {
    "ExecuteTime": {
     "end_time": "2021-02-19T18:20:37.025561Z",
     "start_time": "2021-02-19T18:20:37.022065Z"
    }
   },
   "outputs": [],
   "source": [
    "from sklearn.model_selection import cross_val_score"
   ]
  },
  {
   "cell_type": "markdown",
   "id": "prepared-sequence",
   "metadata": {},
   "source": [
    "Do K-fold cross-validation to test accuracy (fraction of predictions that are correct):\n",
    "https://scikit-learn.org/stable/modules/model_evaluation.html#scoring-parameter"
   ]
  },
  {
   "cell_type": "code",
   "execution_count": 28,
   "id": "hindu-affairs",
   "metadata": {
    "ExecuteTime": {
     "end_time": "2021-02-19T18:21:22.839689Z",
     "start_time": "2021-02-19T18:20:54.874618Z"
    }
   },
   "outputs": [
    {
     "data": {
      "text/plain": [
       "array([0.95035, 0.96035, 0.9604 ])"
      ]
     },
     "execution_count": 28,
     "metadata": {},
     "output_type": "execute_result"
    }
   ],
   "source": [
    "cross_val_score(sgd_clf, X_train, y_train_5, cv=3, scoring='accuracy')"
   ]
  },
  {
   "cell_type": "markdown",
   "id": "defensive-billy",
   "metadata": {},
   "source": [
    "Let's make a dumb classifier:"
   ]
  },
  {
   "cell_type": "code",
   "execution_count": 29,
   "id": "funky-circle",
   "metadata": {
    "ExecuteTime": {
     "end_time": "2021-02-19T18:28:37.975802Z",
     "start_time": "2021-02-19T18:28:37.967210Z"
    }
   },
   "outputs": [],
   "source": [
    "from sklearn.base import BaseEstimator\n",
    "\n",
    "class Not5Classifier(BaseEstimator):\n",
    "    def fit(self, X, y=None):\n",
    "        return self\n",
    "    def predict(self, X):\n",
    "        return np.zeros((len(X), 1), dtype=bool)"
   ]
  },
  {
   "cell_type": "code",
   "execution_count": 30,
   "id": "subjective-pepper",
   "metadata": {
    "ExecuteTime": {
     "end_time": "2021-02-19T18:29:09.269904Z",
     "start_time": "2021-02-19T18:29:06.618562Z"
    }
   },
   "outputs": [
    {
     "data": {
      "text/plain": [
       "array([0.91125, 0.90855, 0.90915])"
      ]
     },
     "execution_count": 30,
     "metadata": {},
     "output_type": "execute_result"
    }
   ],
   "source": [
    "never_5_clf = Not5Classifier()\n",
    "cross_val_score(never_5_clf, X_train, y_train_5, cv=3, scoring='accuracy')"
   ]
  },
  {
   "cell_type": "markdown",
   "id": "flexible-computer",
   "metadata": {},
   "source": [
    "So we have 90% accuracy merely from the fact we have an imbalanced set of labels. (1/10 are truly 5s, hence 90% accuracy at saying anything isn't a 5)"
   ]
  },
  {
   "cell_type": "code",
   "execution_count": 31,
   "id": "verified-relation",
   "metadata": {
    "ExecuteTime": {
     "end_time": "2021-02-19T18:30:38.711564Z",
     "start_time": "2021-02-19T18:30:38.707209Z"
    }
   },
   "outputs": [],
   "source": [
    "from sklearn.model_selection import cross_val_predict"
   ]
  },
  {
   "cell_type": "code",
   "execution_count": 32,
   "id": "welcome-investor",
   "metadata": {
    "ExecuteTime": {
     "end_time": "2021-02-19T18:31:25.771013Z",
     "start_time": "2021-02-19T18:30:57.224451Z"
    }
   },
   "outputs": [],
   "source": [
    "y_train_pred = cross_val_predict(sgd_clf, X_train, y_train_5, cv=3)"
   ]
  },
  {
   "cell_type": "code",
   "execution_count": 34,
   "id": "monthly-japan",
   "metadata": {
    "ExecuteTime": {
     "end_time": "2021-02-19T18:31:49.875401Z",
     "start_time": "2021-02-19T18:31:49.868506Z"
    }
   },
   "outputs": [
    {
     "data": {
      "text/plain": [
       "array([ True, False, False, ...,  True, False, False])"
      ]
     },
     "execution_count": 34,
     "metadata": {},
     "output_type": "execute_result"
    }
   ],
   "source": [
    "y_train_pred"
   ]
  },
  {
   "cell_type": "code",
   "execution_count": 35,
   "id": "obvious-consolidation",
   "metadata": {
    "ExecuteTime": {
     "end_time": "2021-02-19T18:34:27.734395Z",
     "start_time": "2021-02-19T18:34:27.727517Z"
    }
   },
   "outputs": [],
   "source": [
    "from sklearn.metrics import confusion_matrix"
   ]
  },
  {
   "cell_type": "code",
   "execution_count": 36,
   "id": "demographic-violation",
   "metadata": {
    "ExecuteTime": {
     "end_time": "2021-02-19T18:34:38.849944Z",
     "start_time": "2021-02-19T18:34:38.789720Z"
    }
   },
   "outputs": [
    {
     "data": {
      "text/plain": [
       "array([[53892,   687],\n",
       "       [ 1891,  3530]])"
      ]
     },
     "execution_count": 36,
     "metadata": {},
     "output_type": "execute_result"
    }
   ],
   "source": [
    "confusion_matrix(y_train_5, y_train_pred)"
   ]
  },
  {
   "cell_type": "markdown",
   "id": "acting-eight",
   "metadata": {},
   "source": [
    "Confusion matrix:\n",
    "- Rows: actual classes\n",
    "- Columns: predicted classes\n",
    "\n",
    "Here we call the non-5s a \"negative\", while a 5 is a \"positive\". So there are:\n",
    "- 53892 true negatives (TN) classified as negative\n",
    "- 687 negatives were classified as positive (false positives, FP)\n",
    "- 1891 positives classified as negatives (false negative, FN)\n",
    "- 3530 positives classified as positive (true positive, TP)\n",
    "\n",
    "Our confusion matrix is therefore:\n",
    "```\n",
    "[[TN, FP]\n",
    " [FN, TP]]\n",
    "```\n",
    "\n",
    "Some metrics:\n",
    "\n",
    "\\begin{equation}\n",
    "\\mathrm{Accuracy} = \\frac{TN + TP}{TN + TP + FN + FP}\n",
    "\\end{equation}\n",
    "\n",
    "(what fraction of predictions were correct?)\n",
    "\n",
    "\\begin{equation}\n",
    "\\mathrm{Precision} = \\frac{TP}{TP+FP}\n",
    "\\end{equation}\n",
    "\n",
    "(what fraction of positive predictions are **actually** positive - this is what we'd call **purity** in particle physics (e.g. # identified Higgs in a sample))\n",
    "\n",
    "\\begin{equation}\n",
    "\\text{Recall/Sensitivity/True Positive Rate (TPR)} = \\frac{TP}{TP+FN}\n",
    "\\end{equation}\n",
    "\n",
    "(what fraction of true positives did we manage to classify as such - in particle physics this is **efficiency** of your classifier)"
   ]
  },
  {
   "cell_type": "code",
   "execution_count": 37,
   "id": "polish-treaty",
   "metadata": {
    "ExecuteTime": {
     "end_time": "2021-02-19T18:45:18.083852Z",
     "start_time": "2021-02-19T18:45:18.072520Z"
    }
   },
   "outputs": [],
   "source": [
    "from sklearn.metrics import precision_score, recall_score"
   ]
  },
  {
   "cell_type": "code",
   "execution_count": 38,
   "id": "chief-violence",
   "metadata": {
    "ExecuteTime": {
     "end_time": "2021-02-19T18:45:31.316971Z",
     "start_time": "2021-02-19T18:45:31.282295Z"
    }
   },
   "outputs": [
    {
     "data": {
      "text/plain": [
       "0.8370879772350012"
      ]
     },
     "execution_count": 38,
     "metadata": {},
     "output_type": "execute_result"
    }
   ],
   "source": [
    "precision_score(y_train_5, y_train_pred)"
   ]
  },
  {
   "cell_type": "code",
   "execution_count": 40,
   "id": "prompt-oakland",
   "metadata": {
    "ExecuteTime": {
     "end_time": "2021-02-19T18:46:27.847300Z",
     "start_time": "2021-02-19T18:46:27.794153Z"
    }
   },
   "outputs": [],
   "source": [
    "cm = confusion_matrix(y_train_5, y_train_pred)"
   ]
  },
  {
   "cell_type": "code",
   "execution_count": 43,
   "id": "vital-forge",
   "metadata": {
    "ExecuteTime": {
     "end_time": "2021-02-19T18:47:19.565650Z",
     "start_time": "2021-02-19T18:47:19.555792Z"
    }
   },
   "outputs": [
    {
     "data": {
      "text/plain": [
       "0.8370879772350012"
      ]
     },
     "execution_count": 43,
     "metadata": {},
     "output_type": "execute_result"
    }
   ],
   "source": [
    "(cm[1,1]) / cm[:,1].sum()"
   ]
  },
  {
   "cell_type": "code",
   "execution_count": 39,
   "id": "numerical-artist",
   "metadata": {
    "ExecuteTime": {
     "end_time": "2021-02-19T18:45:41.065725Z",
     "start_time": "2021-02-19T18:45:41.036720Z"
    }
   },
   "outputs": [
    {
     "data": {
      "text/plain": [
       "0.6511713705958311"
      ]
     },
     "execution_count": 39,
     "metadata": {},
     "output_type": "execute_result"
    }
   ],
   "source": [
    "recall_score(y_train_5, y_train_pred)"
   ]
  },
  {
   "cell_type": "code",
   "execution_count": 44,
   "id": "rational-tutorial",
   "metadata": {
    "ExecuteTime": {
     "end_time": "2021-02-19T18:47:37.344004Z",
     "start_time": "2021-02-19T18:47:37.335813Z"
    }
   },
   "outputs": [
    {
     "data": {
      "text/plain": [
       "0.6511713705958311"
      ]
     },
     "execution_count": 44,
     "metadata": {},
     "output_type": "execute_result"
    }
   ],
   "source": [
    "(cm[1,1]) / cm[1,:].sum()"
   ]
  },
  {
   "cell_type": "code",
   "execution_count": 45,
   "id": "rational-virgin",
   "metadata": {
    "ExecuteTime": {
     "end_time": "2021-02-19T18:49:21.964589Z",
     "start_time": "2021-02-19T18:49:21.960601Z"
    }
   },
   "outputs": [],
   "source": [
    "from sklearn.metrics import f1_score"
   ]
  },
  {
   "cell_type": "markdown",
   "id": "proof-nightlife",
   "metadata": {},
   "source": [
    "Calculate $F_1$ score as geometric mean of precision & recall:\n",
    "\n",
    "\\begin{equation}\n",
    "F_{1} = \\frac{2}{\\frac{1}{\\mathrm{recall}} + \\frac{1}{\\mathrm{precision}}} = 2 \\times \\frac{\\mathrm{precision} \\times \\mathrm{recall}}{\\mathrm{precision} + \\mathrm{recall}} = \\frac{TP}{TP + \\frac{FP+FN}{2}}\n",
    "\\end{equation}"
   ]
  },
  {
   "cell_type": "code",
   "execution_count": 48,
   "id": "provincial-blend",
   "metadata": {
    "ExecuteTime": {
     "end_time": "2021-02-20T14:10:26.541690Z",
     "start_time": "2021-02-20T14:10:26.492938Z"
    }
   },
   "outputs": [
    {
     "data": {
      "text/plain": [
       "0.7325171197343846"
      ]
     },
     "execution_count": 48,
     "metadata": {},
     "output_type": "execute_result"
    }
   ],
   "source": [
    "f1_score(y_train_5, y_train_pred)"
   ]
  },
  {
   "cell_type": "markdown",
   "id": "false-interval",
   "metadata": {},
   "source": [
    "### Precision-recall trade-off"
   ]
  },
  {
   "cell_type": "markdown",
   "id": "level-tunisia",
   "metadata": {},
   "source": [
    "Can't maximise both - inevitably must compromise the other. E.g. a classifier with a high precision (i.e. it's nearly always right about its predictions) will generally lose recall: e.g. it only does \"safe\" predictions, and can't handle edge cases\n",
    "\n",
    "**Decision function**: function a classifier uses to compute a score for each instance\n",
    "\n",
    "**Decision threshold**: the score threshold, above which an instance is classified as a \"positive\""
   ]
  },
  {
   "cell_type": "code",
   "execution_count": 50,
   "id": "collected-replication",
   "metadata": {
    "ExecuteTime": {
     "end_time": "2021-02-20T14:13:46.345608Z",
     "start_time": "2021-02-20T14:13:46.321629Z"
    }
   },
   "outputs": [],
   "source": [
    "y_scores = sgd_clf.decision_function([some_digit])"
   ]
  },
  {
   "cell_type": "code",
   "execution_count": 51,
   "id": "laden-bristol",
   "metadata": {
    "ExecuteTime": {
     "end_time": "2021-02-20T14:13:49.751939Z",
     "start_time": "2021-02-20T14:13:49.743431Z"
    }
   },
   "outputs": [
    {
     "data": {
      "text/plain": [
       "array([2164.22030239])"
      ]
     },
     "execution_count": 51,
     "metadata": {},
     "output_type": "execute_result"
    }
   ],
   "source": [
    "y_scores"
   ]
  },
  {
   "cell_type": "code",
   "execution_count": 54,
   "id": "corrected-prevention",
   "metadata": {
    "ExecuteTime": {
     "end_time": "2021-02-20T14:15:21.132874Z",
     "start_time": "2021-02-20T14:14:50.464692Z"
    }
   },
   "outputs": [],
   "source": [
    "y_scores = cross_val_predict(sgd_clf, X_train, y_train_5, cv=3, method='decision_function')"
   ]
  },
  {
   "cell_type": "code",
   "execution_count": 55,
   "id": "ultimate-paint",
   "metadata": {
    "ExecuteTime": {
     "end_time": "2021-02-20T14:15:21.147928Z",
     "start_time": "2021-02-20T14:15:21.136795Z"
    }
   },
   "outputs": [
    {
     "data": {
      "text/plain": [
       "array([  1200.93051237, -26883.79202424, -33072.03475406, ...,\n",
       "        13272.12718981,  -7258.47203373, -16877.50840447])"
      ]
     },
     "execution_count": 55,
     "metadata": {},
     "output_type": "execute_result"
    }
   ],
   "source": [
    "y_scores"
   ]
  },
  {
   "cell_type": "code",
   "execution_count": 75,
   "id": "korean-gospel",
   "metadata": {
    "ExecuteTime": {
     "end_time": "2021-02-20T14:25:28.727383Z",
     "start_time": "2021-02-20T14:25:28.719573Z"
    }
   },
   "outputs": [
    {
     "data": {
      "text/plain": [
       "(60000,)"
      ]
     },
     "execution_count": 75,
     "metadata": {},
     "output_type": "execute_result"
    }
   ],
   "source": [
    "y_scores.shape"
   ]
  },
  {
   "cell_type": "code",
   "execution_count": 57,
   "id": "diverse-professional",
   "metadata": {
    "ExecuteTime": {
     "end_time": "2021-02-20T14:15:57.655109Z",
     "start_time": "2021-02-20T14:15:57.650375Z"
    }
   },
   "outputs": [],
   "source": [
    "from sklearn.metrics import precision_recall_curve"
   ]
  },
  {
   "cell_type": "code",
   "execution_count": 58,
   "id": "micro-backup",
   "metadata": {
    "ExecuteTime": {
     "end_time": "2021-02-20T14:16:35.706479Z",
     "start_time": "2021-02-20T14:16:35.635852Z"
    }
   },
   "outputs": [],
   "source": [
    "precisions, recalls, thresholds = precision_recall_curve(y_train_5, y_scores)"
   ]
  },
  {
   "cell_type": "code",
   "execution_count": 71,
   "id": "military-logan",
   "metadata": {
    "ExecuteTime": {
     "end_time": "2021-02-20T14:23:32.378083Z",
     "start_time": "2021-02-20T14:23:32.372680Z"
    }
   },
   "outputs": [],
   "source": [
    "def plot_precision_recall_vs_threshold(precisions, recalls, thresholds):\n",
    "    fig, ax = plt.subplots(1, 1, figsize=(12, 8))\n",
    "    ax.plot(thresholds, precisions[:-1], 'b--', label='Precision')\n",
    "    ax.plot(thresholds, recalls[:-1], 'g-', label='Recall')\n",
    "    ax.legend()\n",
    "    ax.set_xlabel('Threshold')\n",
    "    ax.grid()"
   ]
  },
  {
   "cell_type": "code",
   "execution_count": 72,
   "id": "acting-pearl",
   "metadata": {
    "ExecuteTime": {
     "end_time": "2021-02-20T14:23:33.262698Z",
     "start_time": "2021-02-20T14:23:32.611717Z"
    }
   },
   "outputs": [
    {
     "data": {
      "image/png": "[encoded data removed]",
      "text/plain": [
       "<Figure size 864x576 with 1 Axes>"
      ]
     },
     "metadata": {
      "needs_background": "light"
     },
     "output_type": "display_data"
    }
   ],
   "source": [
    "plot_precision_recall_vs_threshold(precisions, recalls, thresholds)"
   ]
  },
  {
   "cell_type": "markdown",
   "id": "vanilla-television",
   "metadata": {},
   "source": [
    "The precision is mostly smooth, until very large thresholds - presumably there's a bunch of (or just 1?) 5s that score _very_ highly, and a bunch that score less well, but with a gap inbetween. So you end up having a jump. We can also make a pseudo-ROC curve by plotting one vs the other:"
   ]
  },
  {
   "cell_type": "code",
   "execution_count": 74,
   "id": "related-drain",
   "metadata": {
    "ExecuteTime": {
     "end_time": "2021-02-20T14:25:06.981438Z",
     "start_time": "2021-02-20T14:25:06.702723Z"
    }
   },
   "outputs": [
    {
     "data": {
      "text/plain": [
       "Text(0, 0.5, 'Precision')"
      ]
     },
     "execution_count": 74,
     "metadata": {},
     "output_type": "execute_result"
    },
    {
     "data": {
      "image/png": "[encoded data removed]",
      "text/plain": [
       "<Figure size 576x576 with 1 Axes>"
      ]
     },
     "metadata": {
      "needs_background": "light"
     },
     "output_type": "display_data"
    }
   ],
   "source": [
    "fig, ax = plt.subplots(1, 1, figsize=(8, 8))\n",
    "ax.plot(recalls, precisions)\n",
    "ax.grid()\n",
    "ax.set_xlabel(\"Recall\")\n",
    "ax.set_ylabel(\"Precision\")"
   ]
  },
  {
   "cell_type": "markdown",
   "id": "thick-reflection",
   "metadata": {},
   "source": [
    "Let's plot those weird ones with a high score, [25000, 35000], and see what it's classifying:"
   ]
  },
  {
   "cell_type": "code",
   "execution_count": 99,
   "id": "portable-front",
   "metadata": {
    "ExecuteTime": {
     "end_time": "2021-02-20T14:33:05.692658Z",
     "start_time": "2021-02-20T14:33:05.685284Z"
    }
   },
   "outputs": [
    {
     "name": "stdout",
     "output_type": "stream",
     "text": [
      "68 weird ones\n"
     ]
    }
   ],
   "source": [
    "mask = (y_scores > 25000) & (y_scores < 350000)\n",
    "print(mask.sum(), \"weird ones\")\n",
    "odd_data = X_train[mask,:]"
   ]
  },
  {
   "cell_type": "code",
   "execution_count": 100,
   "id": "atmospheric-teaching",
   "metadata": {
    "ExecuteTime": {
     "end_time": "2021-02-20T14:33:07.425658Z",
     "start_time": "2021-02-20T14:33:06.295071Z"
    }
   },
   "outputs": [
    {
     "data": {
      "image/png": "[encoded data removed]",
      "text/plain": [
       "<Figure size 864x864 with 25 Axes>"
      ]
     },
     "metadata": {
      "needs_background": "light"
     },
     "output_type": "display_data"
    }
   ],
   "source": [
    "fig, axes = plt.subplots(5, 5, figsize=(12, 12))\n",
    "for ind, ax in enumerate(axes.flatten()):\n",
    "    if ind >= len(odd_data):\n",
    "        break\n",
    "    ax.imshow(odd_data[ind,:].reshape(28, 28), cmap='binary')\n",
    "    ax.axis('off')"
   ]
  },
  {
   "cell_type": "markdown",
   "id": "secondary-presentation",
   "metadata": {},
   "source": [
    "Most of these look OK...the 9 looks like it has elements of the 5 in it, as does the 8. But why the 0?!"
   ]
  },
  {
   "cell_type": "markdown",
   "id": "polyphonic-brisbane",
   "metadata": {},
   "source": [
    "Let's calculate what happens when we require a precision of 90%. We work backward to figure out the needed threshold, then can figure out recall."
   ]
  },
  {
   "cell_type": "code",
   "execution_count": 116,
   "id": "increased-witch",
   "metadata": {
    "ExecuteTime": {
     "end_time": "2021-02-20T14:38:01.079342Z",
     "start_time": "2021-02-20T14:38:01.066678Z"
    }
   },
   "outputs": [
    {
     "name": "stdout",
     "output_type": "stream",
     "text": [
      "For precisions > 90% ( 0.9000345901072293 )\n",
      "Requires a Threshold: 3370.0194991439557\n",
      "Results in a recall of 0.4799852425751706\n"
     ]
    }
   ],
   "source": [
    "# argmax gets index of maximum value, and does the first. So here returns the first True\n",
    "ind_thres = np.argmax(precisions > 0.9)  \n",
    "print(\"For precisions > 90% (\", precisions[ind_thres], \")\")\n",
    "\n",
    "thres = thresholds[ind_thres]\n",
    "print('Requires a Threshold:', thres)\n",
    "\n",
    "this_recall = recalls[ind_thres]\n",
    "print('Results in a recall of', this_recall)"
   ]
  },
  {
   "cell_type": "markdown",
   "id": "elect-message",
   "metadata": {},
   "source": [
    "### ROC curve"
   ]
  },
  {
   "cell_type": "markdown",
   "id": "completed-tournament",
   "metadata": {},
   "source": [
    "**ROC** = Receiver Operating Characteristics\n",
    "\n",
    "\n",
    "Not quite precision vs recall. Instead plot **true positive rate (TPR) = recall** vs **false positive rate (FPR)**\n",
    "\n",
    "\\begin{equation}\n",
    "\\mathrm{TPR} = \\frac{\\text{Positives correctly classified as positives}}{\\text{All positive instances}} = \\frac{TP}{TP+FN}\n",
    "\\end{equation}\n",
    "\n",
    "\\begin{equation}\n",
    "\\mathrm{FPR} = \\frac{\\text{Negatives incorrectly classified as positives}}{\\text{All negative instances}} = \\frac{FP}{FP+TN} = 1 - \\mathrm{TNR}\n",
    "\\end{equation}\n",
    "\n",
    "where **TNR = true negative rate = specificity**: \n",
    "\n",
    "\n",
    "\\begin{equation}\n",
    "\\mathrm{TNR} = \\frac{\\text{Negatives classified as negatives}}{\\text{All negative instances}} = \\frac{TN}{FP+TN}\n",
    "\\end{equation}\n"
   ]
  },
  {
   "cell_type": "code",
   "execution_count": 117,
   "id": "floating-destiny",
   "metadata": {
    "ExecuteTime": {
     "end_time": "2021-02-20T14:39:20.001610Z",
     "start_time": "2021-02-20T14:39:19.994756Z"
    }
   },
   "outputs": [],
   "source": [
    "from sklearn.metrics import roc_curve"
   ]
  },
  {
   "cell_type": "code",
   "execution_count": 118,
   "id": "promising-table",
   "metadata": {
    "ExecuteTime": {
     "end_time": "2021-02-20T14:39:34.519579Z",
     "start_time": "2021-02-20T14:39:34.498009Z"
    }
   },
   "outputs": [],
   "source": [
    "fpr, tpr, thresholds = roc_curve(y_train_5, y_scores)"
   ]
  },
  {
   "cell_type": "code",
   "execution_count": 124,
   "id": "infectious-samuel",
   "metadata": {
    "ExecuteTime": {
     "end_time": "2021-02-20T14:42:42.080337Z",
     "start_time": "2021-02-20T14:42:42.072022Z"
    }
   },
   "outputs": [],
   "source": [
    "def plot_roc_curve(fpr, tpr, label=None):\n",
    "#     fig, ax = plt.subplots(1, 1, figsize=(8, 8))\n",
    "    plt.plot(fpr, tpr, linewidth=2, label=label)\n",
    "    plt.plot([0, 1], [0, 1], 'k--', label='Random')\n",
    "    plt.xlabel('FPR')\n",
    "    plt.ylabel('TPR')\n",
    "    plt.grid()\n",
    "    plt.legend()"
   ]
  },
  {
   "cell_type": "code",
   "execution_count": 125,
   "id": "light-specific",
   "metadata": {
    "ExecuteTime": {
     "end_time": "2021-02-20T14:42:43.149083Z",
     "start_time": "2021-02-20T14:42:42.852476Z"
    }
   },
   "outputs": [
    {
     "data": {
      "image/png": "[encoded data removed]",
      "text/plain": [
       "<Figure size 432x288 with 1 Axes>"
      ]
     },
     "metadata": {
      "needs_background": "light"
     },
     "output_type": "display_data"
    }
   ],
   "source": [
    "plot_roc_curve(fpr, tpr, 'SGD')"
   ]
  },
  {
   "cell_type": "code",
   "execution_count": 126,
   "id": "informational-bunch",
   "metadata": {
    "ExecuteTime": {
     "end_time": "2021-02-20T15:11:05.424841Z",
     "start_time": "2021-02-20T15:11:05.410071Z"
    }
   },
   "outputs": [],
   "source": [
    "from sklearn.metrics import roc_auc_score"
   ]
  },
  {
   "cell_type": "code",
   "execution_count": 127,
   "id": "moral-puppy",
   "metadata": {
    "ExecuteTime": {
     "end_time": "2021-02-20T15:11:13.865724Z",
     "start_time": "2021-02-20T15:11:13.816996Z"
    }
   },
   "outputs": [
    {
     "data": {
      "text/plain": [
       "0.9604938554008616"
      ]
     },
     "execution_count": 127,
     "metadata": {},
     "output_type": "execute_result"
    }
   ],
   "source": [
    "roc_auc_score(y_train_5, y_scores)"
   ]
  },
  {
   "cell_type": "markdown",
   "id": "exterior-campus",
   "metadata": {},
   "source": [
    "ROC vs PR curves: prefer PR when positive class rare, or when false positives more important than false negatives\n",
    "\n",
    "In our case, 5s are rare, so PR better - ROC curve looks good, but PR not so much."
   ]
  },
  {
   "cell_type": "markdown",
   "id": "selected-america",
   "metadata": {},
   "source": [
    "Train up a Random Forest classifier to compare its performance: note that it doesn't have a `decision_function()`, but `predict_proba()` instead.\n",
    "\n",
    "This returns 1 row per instance, and a column per class, each with a probability."
   ]
  },
  {
   "cell_type": "code",
   "execution_count": 128,
   "id": "supreme-booking",
   "metadata": {
    "ExecuteTime": {
     "end_time": "2021-02-20T15:21:27.973834Z",
     "start_time": "2021-02-20T15:21:27.970285Z"
    }
   },
   "outputs": [],
   "source": [
    "from sklearn.ensemble import RandomForestClassifier"
   ]
  },
  {
   "cell_type": "code",
   "execution_count": 129,
   "id": "thousand-leadership",
   "metadata": {
    "ExecuteTime": {
     "end_time": "2021-02-20T15:23:43.075974Z",
     "start_time": "2021-02-20T15:22:24.203608Z"
    }
   },
   "outputs": [],
   "source": [
    "forest_clf = RandomForestClassifier(random_state=42)\n",
    "y_probas_forest = cross_val_predict(forest_clf, X_train, y_train_5, cv=3, method='predict_proba')"
   ]
  },
  {
   "cell_type": "code",
   "execution_count": 131,
   "id": "crude-stomach",
   "metadata": {
    "ExecuteTime": {
     "end_time": "2021-02-20T15:23:47.260478Z",
     "start_time": "2021-02-20T15:23:47.255651Z"
    }
   },
   "outputs": [
    {
     "name": "stdout",
     "output_type": "stream",
     "text": [
      "(60000, 2)\n"
     ]
    }
   ],
   "source": [
    "print(y_probas_forest.shape)"
   ]
  },
  {
   "cell_type": "code",
   "execution_count": 132,
   "id": "atomic-encoding",
   "metadata": {
    "ExecuteTime": {
     "end_time": "2021-02-20T15:24:46.713310Z",
     "start_time": "2021-02-20T15:24:46.700753Z"
    }
   },
   "outputs": [],
   "source": [
    "# Use the probability as a score\n",
    "y_scores_forest = y_probas_forest[:, 1]\n",
    "fpr_forest, tpr_forest, thresholds_forest = roc_curve(y_train_5, y_scores_forest)"
   ]
  },
  {
   "cell_type": "code",
   "execution_count": 139,
   "id": "annoying-pavilion",
   "metadata": {
    "ExecuteTime": {
     "end_time": "2021-02-20T15:28:05.777386Z",
     "start_time": "2021-02-20T15:28:05.381141Z"
    }
   },
   "outputs": [
    {
     "data": {
      "image/png": "[encoded data removed]",
      "text/plain": [
       "<Figure size 432x288 with 1 Axes>"
      ]
     },
     "metadata": {
      "needs_background": "light"
     },
     "output_type": "display_data"
    }
   ],
   "source": [
    "plt.plot(fpr, tpr, \"g:\", label='SGD', linewidth=2)\n",
    "plot_roc_curve(fpr_forest, tpr_forest, \"Random forest\")\n"
   ]
  },
  {
   "cell_type": "markdown",
   "id": "occupied-stock",
   "metadata": {},
   "source": [
    "So we can see that the performance of the random forest is much better than a SGD: check also AUC"
   ]
  },
  {
   "cell_type": "code",
   "execution_count": 137,
   "id": "governmental-vinyl",
   "metadata": {
    "ExecuteTime": {
     "end_time": "2021-02-20T15:26:40.120336Z",
     "start_time": "2021-02-20T15:26:40.099073Z"
    }
   },
   "outputs": [
    {
     "data": {
      "text/plain": [
       "0.9983436731328145"
      ]
     },
     "execution_count": 137,
     "metadata": {},
     "output_type": "execute_result"
    }
   ],
   "source": [
    "roc_auc_score(y_train_5, y_scores_forest)"
   ]
  },
  {
   "cell_type": "markdown",
   "id": "dirty-banner",
   "metadata": {},
   "source": [
    "## Multiclass Classification"
   ]
  },
  {
   "cell_type": "markdown",
   "id": "differential-license",
   "metadata": {},
   "source": [
    "**Binary classifier**: distinguish between **two** classes (positive vs negative)\n",
    "\n",
    "**Multiclass classifier**: distinguish between **multiple** (>2) classes (AKA **multinomial classifier**)\n",
    "\n",
    "Logisitic Regression, Random Forest, naive Bayes - all good at multiclass classification\n",
    "\n",
    "SGD & SVM are binary only\n",
    "\n",
    "**Binary -> multiclass**: can combine multiple binary classifiers, using different tactics:\n",
    "\n",
    "- **One versus rest (OvR)**: for N classes, train N classifiers, one for each class (like the 5 vs not-5 above). To classify an image, get score from each classifier, select class with highest score.\n",
    "\n",
    "    - **Pros**: fewer classifiers required\n",
    "    - **Cons**: some algorithms scale poorly with the size of training set (e.g. SVM) - prefer OvO in that case\n",
    "\n",
    "- **One versus one (OvO)**: train a classifier for every pair of classes - for N classes, have N(N-1)/2 (i.e. ${N \\choose 2}$) classifiers.\n",
    "    \n",
    "    - **Pros**: each classifier only needs part of the dataset - only the 2 classes it's trying to distinguish\n",
    "    - **Cons**: many more classifiers required than in OvR\n",
    "\n",
    "sklearn will automatically run OvR or OnO depending on the algorithm\n",
    "\n",
    "e.g. for SVC (SVM-classifier) it runs OvO"
   ]
  },
  {
   "cell_type": "code",
   "execution_count": 140,
   "id": "wanted-shanghai",
   "metadata": {
    "ExecuteTime": {
     "end_time": "2021-02-20T15:52:26.582174Z",
     "start_time": "2021-02-20T15:52:26.570638Z"
    }
   },
   "outputs": [],
   "source": [
    "from sklearn.svm import SVC"
   ]
  },
  {
   "cell_type": "code",
   "execution_count": 141,
   "id": "engaged-seating",
   "metadata": {
    "ExecuteTime": {
     "end_time": "2021-02-21T11:08:37.283326Z",
     "start_time": "2021-02-21T11:04:17.016657Z"
    }
   },
   "outputs": [
    {
     "data": {
      "text/plain": [
       "array([5], dtype=uint8)"
      ]
     },
     "execution_count": 141,
     "metadata": {},
     "output_type": "execute_result"
    }
   ],
   "source": [
    "# this takes a while\n",
    "svm_clf = SVC()\n",
    "svm_clf.fit(X_train, y_train) # train on all labels, not just 5s\n",
    "svm_clf.predict([some_digit])"
   ]
  },
  {
   "cell_type": "code",
   "execution_count": 142,
   "id": "subject-theology",
   "metadata": {
    "ExecuteTime": {
     "end_time": "2021-02-21T11:08:37.332550Z",
     "start_time": "2021-02-21T11:08:37.289515Z"
    }
   },
   "outputs": [
    {
     "data": {
      "text/plain": [
       "array([[ 1.72501977,  2.72809088,  7.2510018 ,  8.3076379 , -0.31087254,\n",
       "         9.3132482 ,  1.70975103,  2.76765202,  6.23049537,  4.84771048]])"
      ]
     },
     "execution_count": 142,
     "metadata": {},
     "output_type": "execute_result"
    }
   ],
   "source": [
    "# check decision_function - now returns one score for each class\n",
    "some_digit_scores = svm_clf.decision_function([some_digit])\n",
    "some_digit_scores"
   ]
  },
  {
   "cell_type": "code",
   "execution_count": 143,
   "id": "considerable-minneapolis",
   "metadata": {
    "ExecuteTime": {
     "end_time": "2021-02-21T11:08:37.360091Z",
     "start_time": "2021-02-21T11:08:37.338565Z"
    }
   },
   "outputs": [
    {
     "data": {
      "text/plain": [
       "array([0, 1, 2, 3, 4, 5, 6, 7, 8, 9], dtype=uint8)"
      ]
     },
     "execution_count": 143,
     "metadata": {},
     "output_type": "execute_result"
    }
   ],
   "source": [
    "# list of classes, corresponding to score order\n",
    "svm_clf.classes_"
   ]
  },
  {
   "cell_type": "code",
   "execution_count": 146,
   "id": "fewer-musician",
   "metadata": {
    "ExecuteTime": {
     "end_time": "2021-02-21T11:31:53.100038Z",
     "start_time": "2021-02-21T11:31:53.085705Z"
    }
   },
   "outputs": [
    {
     "data": {
      "text/plain": [
       "5"
      ]
     },
     "execution_count": 146,
     "metadata": {},
     "output_type": "execute_result"
    }
   ],
   "source": [
    "svm_clf.classes_[np.argmax(some_digit_scores)]"
   ]
  },
  {
   "cell_type": "markdown",
   "id": "raising-bible",
   "metadata": {},
   "source": [
    "We can force a OvO or OvR strategy by using `OneVsOneClassifier` or `OneVsRestClassifier`:"
   ]
  },
  {
   "cell_type": "code",
   "execution_count": 144,
   "id": "ecological-canadian",
   "metadata": {
    "ExecuteTime": {
     "end_time": "2021-02-21T11:08:37.431823Z",
     "start_time": "2021-02-21T11:08:37.365695Z"
    }
   },
   "outputs": [],
   "source": [
    "from sklearn.multiclass import OneVsRestClassifier"
   ]
  },
  {
   "cell_type": "code",
   "execution_count": 145,
   "id": "dense-stick",
   "metadata": {
    "ExecuteTime": {
     "end_time": "2021-02-21T11:31:53.079822Z",
     "start_time": "2021-02-21T11:08:37.604019Z"
    }
   },
   "outputs": [
    {
     "data": {
      "text/plain": [
       "OneVsRestClassifier(estimator=SVC())"
      ]
     },
     "execution_count": 145,
     "metadata": {},
     "output_type": "execute_result"
    }
   ],
   "source": [
    "# this takes a long time!\n",
    "ovr_clf = OneVsRestClassifiersRestClassifier(SVC())\n",
    "ovr_clf.fit(X_train, y_train)"
   ]
  },
  {
   "cell_type": "code",
   "execution_count": 147,
   "id": "touched-shanghai",
   "metadata": {
    "ExecuteTime": {
     "end_time": "2021-02-21T11:31:53.276638Z",
     "start_time": "2021-02-21T11:31:53.103682Z"
    }
   },
   "outputs": [
    {
     "data": {
      "text/plain": [
       "10"
      ]
     },
     "execution_count": 147,
     "metadata": {},
     "output_type": "execute_result"
    }
   ],
   "source": [
    "ovr_clf.predict([some_digit])\n",
    "len(ovr_clf.estimators_)"
   ]
  },
  {
   "cell_type": "code",
   "execution_count": 149,
   "id": "entire-crawford",
   "metadata": {
    "ExecuteTime": {
     "end_time": "2021-02-21T11:59:20.172991Z",
     "start_time": "2021-02-21T11:56:29.772156Z"
    }
   },
   "outputs": [
    {
     "data": {
      "text/plain": [
       "array([3], dtype=uint8)"
      ]
     },
     "execution_count": 149,
     "metadata": {},
     "output_type": "execute_result"
    }
   ],
   "source": [
    "# also for SGD classifier - much quicker\n",
    "sgd_clf.fit(X_train, y_train)\n",
    "sgd_clf.predict([some_digit])"
   ]
  },
  {
   "cell_type": "markdown",
   "id": "normal-grace",
   "metadata": {},
   "source": [
    "So our SGD classifier didn't get it right for our choice digit. Let's check the scores:"
   ]
  },
  {
   "cell_type": "code",
   "execution_count": 150,
   "id": "collective-behavior",
   "metadata": {
    "ExecuteTime": {
     "end_time": "2021-02-21T12:09:19.505492Z",
     "start_time": "2021-02-21T12:09:19.492068Z"
    }
   },
   "outputs": [
    {
     "data": {
      "text/plain": [
       "array([[-31893.03095419, -34419.69069632,  -9530.63950739,\n",
       "          1823.73154031, -22320.14822878,  -1385.80478895,\n",
       "        -26188.91070951, -16147.51323997,  -4604.35491274,\n",
       "        -12050.767298  ]])"
      ]
     },
     "execution_count": 150,
     "metadata": {},
     "output_type": "execute_result"
    }
   ],
   "source": [
    "sgd_clf.decision_function([some_digit])"
   ]
  },
  {
   "cell_type": "markdown",
   "id": "meaning-waters",
   "metadata": {},
   "source": [
    "So we can see that it was a lot more confident it was 3 than a 5, although 5 was its next choice.\n",
    "\n",
    "We can also do the usual cross validation (remember, this does `fit` internally, so it will take some time):"
   ]
  },
  {
   "cell_type": "code",
   "execution_count": 152,
   "id": "proved-performance",
   "metadata": {
    "ExecuteTime": {
     "end_time": "2021-02-21T12:14:49.331418Z",
     "start_time": "2021-02-21T12:10:36.217534Z"
    }
   },
   "outputs": [
    {
     "data": {
      "text/plain": [
       "array([0.87365, 0.85835, 0.8689 ])"
      ]
     },
     "execution_count": 152,
     "metadata": {},
     "output_type": "execute_result"
    }
   ],
   "source": [
    "cross_val_score(sgd_clf, X_train, y_train, cv=3, scoring='accuracy', verbose=1)"
   ]
  },
  {
   "cell_type": "markdown",
   "id": "dimensional-nightlife",
   "metadata": {},
   "source": [
    "Can we improve performance by scaling beforehand?"
   ]
  },
  {
   "cell_type": "code",
   "execution_count": 153,
   "id": "saving-benefit",
   "metadata": {
    "ExecuteTime": {
     "end_time": "2021-02-21T12:19:33.827387Z",
     "start_time": "2021-02-21T12:19:33.822748Z"
    }
   },
   "outputs": [],
   "source": [
    "from sklearn.preprocessing import StandardScaler"
   ]
  },
  {
   "cell_type": "code",
   "execution_count": 156,
   "id": "conceptual-approach",
   "metadata": {
    "ExecuteTime": {
     "end_time": "2021-02-21T12:22:07.790410Z",
     "start_time": "2021-02-21T12:22:05.122325Z"
    }
   },
   "outputs": [],
   "source": [
    "scaler = StandardScaler()\n",
    "X_train_scaled = scaler.fit_transform(X_train.astype(np.float64)) # need to convert to scale properly, was ints"
   ]
  },
  {
   "cell_type": "code",
   "execution_count": 157,
   "id": "elementary-contact",
   "metadata": {
    "ExecuteTime": {
     "end_time": "2021-02-21T12:33:06.931140Z",
     "start_time": "2021-02-21T12:22:26.159388Z"
    }
   },
   "outputs": [
    {
     "name": "stderr",
     "output_type": "stream",
     "text": [
      "[Parallel(n_jobs=1)]: Using backend SequentialBackend with 1 concurrent workers.\n",
      "[Parallel(n_jobs=1)]: Done   3 out of   3 | elapsed: 10.7min finished\n"
     ]
    },
    {
     "data": {
      "text/plain": [
       "array([0.8983, 0.891 , 0.9018])"
      ]
     },
     "execution_count": 157,
     "metadata": {},
     "output_type": "execute_result"
    }
   ],
   "source": [
    "cross_val_score(sgd_clf, X_train_scaled, y_train, cv=3, scoring='accuracy', verbose=1)"
   ]
  },
  {
   "cell_type": "markdown",
   "id": "great-pathology",
   "metadata": {},
   "source": [
    "So just doing standard scaling improves the accuracy by up to 5%."
   ]
  },
  {
   "cell_type": "markdown",
   "id": "bacterial-tuesday",
   "metadata": {},
   "source": [
    "## Error Analysis"
   ]
  },
  {
   "cell_type": "code",
   "execution_count": 159,
   "id": "unnecessary-kitchen",
   "metadata": {
    "ExecuteTime": {
     "end_time": "2021-02-21T19:09:41.457684Z",
     "start_time": "2021-02-21T18:58:23.810380Z"
    }
   },
   "outputs": [],
   "source": [
    "y_train_pred = cross_val_predict(sgd_clf, X_train_scaled, y_train, cv=3)"
   ]
  },
  {
   "cell_type": "code",
   "execution_count": 161,
   "id": "unable-guidance",
   "metadata": {
    "ExecuteTime": {
     "end_time": "2021-02-21T19:10:29.445955Z",
     "start_time": "2021-02-21T19:10:29.349976Z"
    }
   },
   "outputs": [
    {
     "data": {
      "text/plain": [
       "array([[5577,    0,   22,    5,    8,   43,   36,    6,  225,    1],\n",
       "       [   0, 6400,   37,   24,    4,   44,    4,    7,  212,   10],\n",
       "       [  27,   27, 5220,   92,   73,   27,   67,   36,  378,   11],\n",
       "       [  22,   17,  117, 5227,    2,  203,   27,   40,  403,   73],\n",
       "       [  12,   14,   41,    9, 5182,   12,   34,   27,  347,  164],\n",
       "       [  27,   15,   30,  168,   53, 4444,   75,   14,  535,   60],\n",
       "       [  30,   15,   42,    3,   44,   97, 5552,    3,  131,    1],\n",
       "       [  21,   10,   51,   30,   49,   12,    3, 5684,  195,  210],\n",
       "       [  17,   63,   48,   86,    3,  126,   25,   10, 5429,   44],\n",
       "       [  25,   18,   30,   64,  118,   36,    1,  179,  371, 5107]])"
      ]
     },
     "execution_count": 161,
     "metadata": {},
     "output_type": "execute_result"
    }
   ],
   "source": [
    "conf_mx = confusion_matrix(y_train, y_train_pred)\n",
    "conf_mx"
   ]
  },
  {
   "cell_type": "code",
   "execution_count": 164,
   "id": "actual-reservation",
   "metadata": {
    "ExecuteTime": {
     "end_time": "2021-02-21T19:10:52.477228Z",
     "start_time": "2021-02-21T19:10:52.189911Z"
    }
   },
   "outputs": [
    {
     "data": {
      "text/plain": [
       "<Figure size 432x288 with 0 Axes>"
      ]
     },
     "metadata": {},
     "output_type": "display_data"
    },
    {
     "data": {
      "image/png": "[encoded data removed]",
      "text/plain": [
       "<Figure size 288x288 with 1 Axes>"
      ]
     },
     "metadata": {
      "needs_background": "light"
     },
     "output_type": "display_data"
    }
   ],
   "source": [
    "plt.matshow(conf_mx, cmap=plt.gray());"
   ]
  },
  {
   "cell_type": "code",
   "execution_count": 165,
   "id": "satellite-disclaimer",
   "metadata": {
    "ExecuteTime": {
     "end_time": "2021-02-21T19:11:03.078701Z",
     "start_time": "2021-02-21T19:11:02.907074Z"
    }
   },
   "outputs": [
    {
     "data": {
      "text/plain": [
       "<matplotlib.image.AxesImage at 0x1429c6450>"
      ]
     },
     "execution_count": 165,
     "metadata": {},
     "output_type": "execute_result"
    },
    {
     "data": {
      "image/png": "[encoded data removed]",
      "text/plain": [
       "<Figure size 432x288 with 1 Axes>"
      ]
     },
     "metadata": {
      "needs_background": "light"
     },
     "output_type": "display_data"
    }
   ],
   "source": [
    "plt.imshow(conf_mx, cmap=plt.gray())"
   ]
  },
  {
   "cell_type": "code",
   "execution_count": 166,
   "id": "martial-committee",
   "metadata": {
    "ExecuteTime": {
     "end_time": "2021-02-21T22:23:54.810862Z",
     "start_time": "2021-02-21T22:23:54.792619Z"
    }
   },
   "outputs": [],
   "source": [
    "# actual classes on rows, predicted classes as columns\n",
    "row_sums = conf_mx.sum(axis=1, keepdims=True)"
   ]
  },
  {
   "cell_type": "code",
   "execution_count": 168,
   "id": "sharp-brazilian",
   "metadata": {
    "ExecuteTime": {
     "end_time": "2021-02-21T22:24:13.324927Z",
     "start_time": "2021-02-21T22:24:13.319290Z"
    }
   },
   "outputs": [],
   "source": [
    "norm_conf_mx = conf_mx / row_sums"
   ]
  },
  {
   "cell_type": "code",
   "execution_count": 169,
   "id": "educated-lobby",
   "metadata": {
    "ExecuteTime": {
     "end_time": "2021-02-21T22:24:37.095042Z",
     "start_time": "2021-02-21T22:24:36.777636Z"
    }
   },
   "outputs": [
    {
     "data": {
      "text/plain": [
       "<matplotlib.image.AxesImage at 0x14521a4d0>"
      ]
     },
     "execution_count": 169,
     "metadata": {},
     "output_type": "execute_result"
    },
    {
     "data": {
      "image/png": "[encoded data removed]",
      "text/plain": [
       "<Figure size 288x288 with 1 Axes>"
      ]
     },
     "metadata": {
      "needs_background": "light"
     },
     "output_type": "display_data"
    }
   ],
   "source": [
    "np.fill_diagonal(norm_conf_mx, 0) # set diags to 0\n",
    "plt.matshow(norm_conf_mx, cmap=plt.cm.gray)"
   ]
  },
  {
   "cell_type": "markdown",
   "id": "proprietary-behavior",
   "metadata": {},
   "source": [
    "Can see that for most classes, the most probable misclassification is as an 8. Additionally, 3 is often misidentified as a 2 or 5, and a 5 as a 3."
   ]
  },
  {
   "cell_type": "code",
   "execution_count": 170,
   "id": "heard-blocking",
   "metadata": {
    "ExecuteTime": {
     "end_time": "2021-02-21T22:44:30.542921Z",
     "start_time": "2021-02-21T22:44:29.528675Z"
    }
   },
   "outputs": [],
   "source": [
    "cl_a, cl_b = 3, 5\n",
    "X_aa = X_train[(y_train == cl_a) & (y_train_pred == cl_a)]\n",
    "X_ab = X_train[(y_train == cl_a) & (y_train_pred == cl_b)]\n",
    "X_ba = X_train[(y_train == cl_b) & (y_train_pred == cl_a)]\n",
    "X_bb = X_train[(y_train == cl_b) & (y_train_pred == cl_b)]"
   ]
  },
  {
   "cell_type": "code",
   "execution_count": 173,
   "id": "classified-hobby",
   "metadata": {
    "ExecuteTime": {
     "end_time": "2021-02-21T22:45:57.856158Z",
     "start_time": "2021-02-21T22:45:57.819672Z"
    }
   },
   "outputs": [],
   "source": [
    "# EXTRA\n",
    "def plot_digits(instances, images_per_row=10, **options):\n",
    "    size = 28\n",
    "    images_per_row = min(len(instances), images_per_row)\n",
    "    images = [instance.reshape(size,size) for instance in instances]\n",
    "    n_rows = (len(instances) - 1) // images_per_row + 1\n",
    "    row_images = []\n",
    "    n_empty = n_rows * images_per_row - len(instances)\n",
    "    images.append(np.zeros((size, size * n_empty)))\n",
    "    for row in range(n_rows):\n",
    "        rimages = images[row * images_per_row : (row + 1) * images_per_row]\n",
    "        row_images.append(np.concatenate(rimages, axis=1))\n",
    "    image = np.concatenate(row_images, axis=0)\n",
    "    plt.imshow(image, cmap = mpl.cm.binary, **options)\n",
    "    plt.axis(\"off\")"
   ]
  },
  {
   "cell_type": "code",
   "execution_count": 177,
   "id": "large-center",
   "metadata": {
    "ExecuteTime": {
     "end_time": "2021-02-21T22:53:58.576918Z",
     "start_time": "2021-02-21T22:53:58.074286Z"
    }
   },
   "outputs": [
    {
     "data": {
      "text/plain": [
       "Text(0.5, 1.0, '5s classified as 5s')"
      ]
     },
     "execution_count": 177,
     "metadata": {},
     "output_type": "execute_result"
    },
    {
     "data": {
      "image/png": "[encoded data removed]",
      "text/plain": [
       "<Figure size 576x576 with 4 Axes>"
      ]
     },
     "metadata": {
      "needs_background": "light"
     },
     "output_type": "display_data"
    }
   ],
   "source": [
    "plt.figure(figsize=(8, 8))\n",
    "plt.subplot(221)\n",
    "plot_digits(X_aa[:25], images_per_row=5)\n",
    "plt.title(f'{cl_a}s classified as {cl_a}s')\n",
    "plt.subplot(222)\n",
    "plot_digits(X_ab[:25], images_per_row=5)\n",
    "plt.title(f'{cl_a}s classified as {cl_b}s')\n",
    "plt.subplot(223)\n",
    "plot_digits(X_ba[:25], images_per_row=5)\n",
    "plt.title(f'{cl_b}s classified as {cl_a}s')\n",
    "plt.subplot(224)\n",
    "plot_digits(X_bb[:25], images_per_row=5)\n",
    "plt.title(f'{cl_b}s classified as {cl_b}s')"
   ]
  },
  {
   "cell_type": "markdown",
   "id": "genetic-ebony",
   "metadata": {},
   "source": [
    "Note that a SGD classifier is a linear model, and not very sophisticated. Infact, the way we have trained our models & setup the problem, it's just training on \n",
    "pixel intensities. So it's not doing anything intelligent, like spotting particular loops, straight edges, etc. And our classifiers are not able to identified rotated/shifted images - e.g. a lot of the misclassified images are italic.\n",
    "\n",
    "\n",
    "(NB one of the \"true\" 3s is actually a 5?! And one of the true 5s looks like a 3?)"
   ]
  },
  {
   "cell_type": "markdown",
   "id": "permanent-maryland",
   "metadata": {},
   "source": [
    "## Multilabel Classification"
   ]
  },
  {
   "cell_type": "markdown",
   "id": "incomplete-tissue",
   "metadata": {},
   "source": [
    "**Multiclass classification**: able to identify an instance as belonging to multiple labels, i.e. can output multiple binary labels."
   ]
  },
  {
   "cell_type": "code",
   "execution_count": 180,
   "id": "becoming-fairy",
   "metadata": {
    "ExecuteTime": {
     "end_time": "2021-02-21T23:01:59.457894Z",
     "start_time": "2021-02-21T23:01:59.452656Z"
    }
   },
   "outputs": [],
   "source": [
    "from sklearn.neighbors import KNeighborsClassifier"
   ]
  },
  {
   "cell_type": "markdown",
   "id": "empirical-overall",
   "metadata": {},
   "source": [
    "Here we are trying to classify numbers with 2 labels: (a) >=7?, (b) odd?"
   ]
  },
  {
   "cell_type": "code",
   "execution_count": 182,
   "id": "under-detection",
   "metadata": {
    "ExecuteTime": {
     "end_time": "2021-02-21T23:02:47.539463Z",
     "start_time": "2021-02-21T23:02:47.515941Z"
    }
   },
   "outputs": [],
   "source": [
    "y_train_large = (y_train >= 7)\n",
    "y_train_odd = (y_train % 2 == 1)\n",
    "y_multilabel = np.c_[y_train_large, y_train_odd]"
   ]
  },
  {
   "cell_type": "code",
   "execution_count": 183,
   "id": "living-charm",
   "metadata": {
    "ExecuteTime": {
     "end_time": "2021-02-21T23:03:02.954283Z",
     "start_time": "2021-02-21T23:03:02.947054Z"
    }
   },
   "outputs": [
    {
     "data": {
      "text/plain": [
       "(60000, 2)"
      ]
     },
     "execution_count": 183,
     "metadata": {},
     "output_type": "execute_result"
    }
   ],
   "source": [
    "y_multilabel.shape"
   ]
  },
  {
   "cell_type": "code",
   "execution_count": 184,
   "id": "multiple-delaware",
   "metadata": {
    "ExecuteTime": {
     "end_time": "2021-02-21T23:03:14.264178Z",
     "start_time": "2021-02-21T23:03:14.256099Z"
    }
   },
   "outputs": [
    {
     "data": {
      "text/plain": [
       "array([[False,  True],\n",
       "       [False, False],\n",
       "       [False, False],\n",
       "       [False,  True],\n",
       "       [ True,  True]])"
      ]
     },
     "execution_count": 184,
     "metadata": {},
     "output_type": "execute_result"
    }
   ],
   "source": [
    "y_multilabel[:5,:]"
   ]
  },
  {
   "cell_type": "code",
   "execution_count": 185,
   "id": "contained-provincial",
   "metadata": {
    "ExecuteTime": {
     "end_time": "2021-02-21T23:03:38.744270Z",
     "start_time": "2021-02-21T23:03:37.913458Z"
    }
   },
   "outputs": [
    {
     "data": {
      "text/plain": [
       "KNeighborsClassifier()"
      ]
     },
     "execution_count": 185,
     "metadata": {},
     "output_type": "execute_result"
    }
   ],
   "source": [
    "knn_clf = KNeighborsClassifier()\n",
    "knn_clf.fit(X_train, y_multilabel)"
   ]
  },
  {
   "cell_type": "code",
   "execution_count": 186,
   "id": "hollywood-helmet",
   "metadata": {
    "ExecuteTime": {
     "end_time": "2021-02-21T23:03:53.113513Z",
     "start_time": "2021-02-21T23:03:52.945184Z"
    }
   },
   "outputs": [
    {
     "data": {
      "text/plain": [
       "array([[False,  True]])"
      ]
     },
     "execution_count": 186,
     "metadata": {},
     "output_type": "execute_result"
    }
   ],
   "source": [
    "knn_clf.predict([some_digit])"
   ]
  },
  {
   "cell_type": "markdown",
   "id": "solar-chemical",
   "metadata": {},
   "source": [
    "So our model correctly predicts that this 5 is not >=7, and is odd.\n",
    "\n",
    "Let's evaluate the performance of the classifier. There is not a best-way; it depends on the project/dataset.\n",
    "\n",
    "One way is to measure the F1 score for each label, then average it out:"
   ]
  },
  {
   "cell_type": "code",
   "execution_count": null,
   "id": "worldwide-sharing",
   "metadata": {
    "ExecuteTime": {
     "end_time": "2021-02-22T09:16:11.192765Z",
     "start_time": "2021-02-22T09:13:23.661858Z"
    }
   },
   "outputs": [],
   "source": [
    "y_train_knn_pred = cross_val_predict(knn_clf, X_train, y_multilabel, cv=3)"
   ]
  },
  {
   "cell_type": "code",
   "execution_count": 188,
   "id": "second-landscape",
   "metadata": {
    "ExecuteTime": {
     "end_time": "2021-02-22T09:16:42.747679Z",
     "start_time": "2021-02-22T09:16:42.634824Z"
    }
   },
   "outputs": [
    {
     "data": {
      "text/plain": [
       "0.976410265560605"
      ]
     },
     "execution_count": 188,
     "metadata": {},
     "output_type": "execute_result"
    }
   ],
   "source": [
    "f1_score(y_multilabel, y_train_knn_pred, average='macro')"
   ]
  },
  {
   "cell_type": "markdown",
   "id": "arbitrary-tuition",
   "metadata": {},
   "source": [
    "But this method assumes similar number of each label. If we have imbalanced samples, we want to weight the individual label scores differently: we use `average='weighted'` instead."
   ]
  },
  {
   "cell_type": "markdown",
   "id": "naval-composite",
   "metadata": {},
   "source": [
    "## Multioutput classification"
   ]
  },
  {
   "cell_type": "markdown",
   "id": "little-chance",
   "metadata": {},
   "source": [
    "An even more generalised form of classification.\n",
    "\n",
    "**Multioutput-multiclass classification**: can have multiple labels, each of which can be multiclass.\n",
    "\n",
    "\n",
    "e.g. image data: for each of N pixels, we want to classify as one of M discrete intensity values.\n",
    "\n",
    "multilabel - one label per pixel, multiple pixels\n",
    "\n",
    "multiclass - each pixel can have multiple values, not just 0/1\n",
    "\n",
    "N.B. close to regression - not obvious where distinction lies\n",
    "\n",
    "Do an example of removing noise from number images: want to classify each pixel with a certain intensity value"
   ]
  },
  {
   "cell_type": "code",
   "execution_count": 189,
   "id": "southern-facing",
   "metadata": {
    "ExecuteTime": {
     "end_time": "2021-02-22T09:20:26.310911Z",
     "start_time": "2021-02-22T09:20:23.802730Z"
    }
   },
   "outputs": [],
   "source": [
    "# make noisy images\n",
    "noise = np.random.randint(0, 100, (len(X_train), 784))\n",
    "X_train_mod = X_train + noise\n",
    "noise = np.random.randint(0, 100, (len(X_test), 784))\n",
    "X_test_mod = X_test + noise\n",
    "y_train_mod = X_train\n",
    "y_test_mod = X_test"
   ]
  },
  {
   "cell_type": "code",
   "execution_count": 192,
   "id": "forty-consideration",
   "metadata": {
    "ExecuteTime": {
     "end_time": "2021-02-22T09:23:06.382833Z",
     "start_time": "2021-02-22T09:23:05.981882Z"
    }
   },
   "outputs": [
    {
     "data": {
      "text/plain": [
       "<matplotlib.image.AxesImage at 0x1423c9110>"
      ]
     },
     "execution_count": 192,
     "metadata": {},
     "output_type": "execute_result"
    },
    {
     "data": {
      "image/png": "[encoded data removed]",
      "text/plain": [
       "<Figure size 720x432 with 2 Axes>"
      ]
     },
     "metadata": {
      "needs_background": "light"
     },
     "output_type": "display_data"
    }
   ],
   "source": [
    "# an example of original & noisy images:\n",
    "fig, ax = plt.subplots(1, 2, figsize=(10, 6))\n",
    "some_digit = 4\n",
    "ax[0].imshow(X_test[some_digit].reshape(28, 28), cmap=plt.cm.gray)\n",
    "ax[1].imshow(X_test_mod[some_digit].reshape(28, 28), cmap=plt.cm.gray)"
   ]
  },
  {
   "cell_type": "code",
   "execution_count": 191,
   "id": "fifth-silver",
   "metadata": {
    "ExecuteTime": {
     "end_time": "2021-02-22T09:23:00.075324Z",
     "start_time": "2021-02-22T09:22:50.748875Z"
    }
   },
   "outputs": [
    {
     "data": {
      "text/plain": [
       "KNeighborsClassifier()"
      ]
     },
     "execution_count": 191,
     "metadata": {},
     "output_type": "execute_result"
    }
   ],
   "source": [
    "# train our classifier\n",
    "knn_clf.fit(X_train_mod, y_train_mod)"
   ]
  },
  {
   "cell_type": "code",
   "execution_count": 194,
   "id": "billion-moisture",
   "metadata": {
    "ExecuteTime": {
     "end_time": "2021-02-22T09:23:18.915689Z",
     "start_time": "2021-02-22T09:23:18.539793Z"
    }
   },
   "outputs": [],
   "source": [
    "clean_digit = knn_clf.predict([X_test_mod[some_digit]])"
   ]
  },
  {
   "cell_type": "code",
   "execution_count": 195,
   "id": "fatty-enclosure",
   "metadata": {
    "ExecuteTime": {
     "end_time": "2021-02-22T09:23:40.234717Z",
     "start_time": "2021-02-22T09:23:39.849984Z"
    }
   },
   "outputs": [
    {
     "data": {
      "text/plain": [
       "<matplotlib.image.AxesImage at 0x1464aeed0>"
      ]
     },
     "execution_count": 195,
     "metadata": {},
     "output_type": "execute_result"
    },
    {
     "data": {
      "image/png": "[encoded data removed]",
      "text/plain": [
       "<Figure size 432x288 with 1 Axes>"
      ]
     },
     "metadata": {
      "needs_background": "light"
     },
     "output_type": "display_data"
    }
   ],
   "source": [
    "plt.imshow(clean_digit.reshape(28, 28), cmap=plt.cm.gray)"
   ]
  },
  {
   "cell_type": "markdown",
   "id": "alien-scratch",
   "metadata": {},
   "source": [
    "So that looks pretty close!"
   ]
  },
  {
   "cell_type": "markdown",
   "id": "celtic-diamond",
   "metadata": {},
   "source": [
    "## Exercises"
   ]
  },
  {
   "cell_type": "markdown",
   "id": "applied-prototype",
   "metadata": {},
   "source": [
    "### 1. Build classifier for MNIST with > 97% accuracy on test set."
   ]
  },
  {
   "cell_type": "markdown",
   "id": "ancient-complement",
   "metadata": {},
   "source": [
    "Hint: try KNeighborsClassifier, play with `weights`, `n_neighbors`"
   ]
  },
  {
   "cell_type": "markdown",
   "id": "ignored-centre",
   "metadata": {},
   "source": [
    "### 2. Data augmentation: write function to shift image ±1 pixel in both axes. Train on additional images, measure accuracy"
   ]
  },
  {
   "cell_type": "markdown",
   "id": "fatal-rainbow",
   "metadata": {},
   "source": [
    "### 3. Tackle Titanic dataset from Kaggle"
   ]
  },
  {
   "cell_type": "markdown",
   "id": "mobile-minutes",
   "metadata": {},
   "source": [
    "### 4. Build spam classifier"
   ]
  }
 ],
 "metadata": {
  "kernelspec": {
   "display_name": "Python 3",
   "language": "python",
   "name": "python3"
  },
  "language_info": {
   "codemirror_mode": {
    "name": "ipython",
    "version": 3
   },
   "file_extension": ".py",
   "mimetype": "text/x-python",
   "name": "python",
   "nbconvert_exporter": "python",
   "pygments_lexer": "ipython3",
   "version": "3.7.5"
  },
  "toc": {
   "base_numbering": "3",
   "nav_menu": {},
   "number_sections": true,
   "sideBar": true,
   "skip_h1_title": false,
   "title_cell": "Table of Contents",
   "title_sidebar": "Contents",
   "toc_cell": false,
   "toc_position": {},
   "toc_section_display": true,
   "toc_window_display": false
  }
 },
 "nbformat": 4,
 "nbformat_minor": 5
}
