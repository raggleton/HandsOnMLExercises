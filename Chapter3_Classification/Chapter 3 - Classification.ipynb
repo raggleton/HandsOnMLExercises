{
 "cells": [
  {
   "cell_type": "markdown",
   "id": "nervous-auction",
   "metadata": {},
   "source": [
    "# Classification"
   ]
  },
  {
   "cell_type": "code",
   "execution_count": null,
   "id": "peaceful-automation",
   "metadata": {
    "init_cell": true
   },
   "outputs": [],
   "source": [
    "import sys"
   ]
  },
  {
   "cell_type": "code",
   "execution_count": 1,
   "id": "uniform-basic",
   "metadata": {
    "ExecuteTime": {
     "end_time": "2021-02-23T11:01:01.574871Z",
     "start_time": "2021-02-23T11:01:00.797590Z"
    },
    "init_cell": true
   },
   "outputs": [],
   "source": [
    "import matplotlib as mpl\n",
    "import matplotlib.pyplot as plt"
   ]
  },
  {
   "cell_type": "code",
   "execution_count": 2,
   "id": "brave-spectacular",
   "metadata": {
    "ExecuteTime": {
     "end_time": "2021-02-23T11:01:01.582601Z",
     "start_time": "2021-02-23T11:01:01.577240Z"
    },
    "init_cell": true
   },
   "outputs": [],
   "source": [
    "%matplotlib inline"
   ]
  },
  {
   "cell_type": "code",
   "execution_count": 3,
   "id": "liable-childhood",
   "metadata": {
    "ExecuteTime": {
     "end_time": "2021-02-23T11:01:01.591332Z",
     "start_time": "2021-02-23T11:01:01.586669Z"
    },
    "init_cell": true
   },
   "outputs": [],
   "source": [
    "mpl.rcParams['font.size'] = 14\n",
    "mpl.rcParams['figure.figsize'] = (10, 8)"
   ]
  },
  {
   "cell_type": "code",
   "execution_count": 4,
   "id": "radio-complement",
   "metadata": {
    "ExecuteTime": {
     "end_time": "2021-02-23T11:01:01.600122Z",
     "start_time": "2021-02-23T11:01:01.595181Z"
    },
    "init_cell": true
   },
   "outputs": [],
   "source": [
    "import numpy as np"
   ]
  },
  {
   "cell_type": "markdown",
   "id": "above-basis",
   "metadata": {},
   "source": [
    "## Loading MNIST"
   ]
  },
  {
   "cell_type": "code",
   "execution_count": 5,
   "id": "bigger-librarian",
   "metadata": {
    "ExecuteTime": {
     "end_time": "2021-02-23T11:01:04.166956Z",
     "start_time": "2021-02-23T11:01:02.952937Z"
    },
    "init_cell": true
   },
   "outputs": [],
   "source": [
    "from sklearn.datasets import fetch_openml"
   ]
  },
  {
   "cell_type": "code",
   "execution_count": 24,
   "id": "featured-creator",
   "metadata": {
    "ExecuteTime": {
     "end_time": "2021-02-23T11:06:09.458452Z",
     "start_time": "2021-02-23T11:04:38.119457Z"
    }
   },
   "outputs": [
    {
     "data": {
      "text/plain": [
       "dict_keys(['data', 'target', 'frame', 'categories', 'feature_names', 'target_names', 'DESCR', 'details', 'url'])"
      ]
     },
     "execution_count": 24,
     "metadata": {},
     "output_type": "execute_result"
    }
   ],
   "source": [
    "mnist = fetch_openml('mnist_784', version=1)\n",
    "mnist.keys()"
   ]
  },
  {
   "cell_type": "code",
   "execution_count": 27,
   "id": "brazilian-admission",
   "metadata": {
    "ExecuteTime": {
     "end_time": "2021-02-23T11:07:48.514802Z",
     "start_time": "2021-02-23T11:07:48.509199Z"
    }
   },
   "outputs": [
    {
     "data": {
      "text/plain": [
       "sklearn.utils.Bunch"
      ]
     },
     "execution_count": 27,
     "metadata": {},
     "output_type": "execute_result"
    }
   ],
   "source": [
    "type(mnist)"
   ]
  },
  {
   "cell_type": "code",
   "execution_count": null,
   "id": "divided-leather",
   "metadata": {
    "ExecuteTime": {
     "end_time": "2021-02-23T11:09:33.864649Z",
     "start_time": "2021-02-23T11:09:33.837752Z"
    },
    "init_cell": true
   },
   "outputs": [],
   "source": [
    "import pickle"
   ]
  },
  {
   "cell_type": "code",
   "execution_count": 28,
   "id": "assured-health",
   "metadata": {
    "ExecuteTime": {
     "end_time": "2021-02-23T11:09:33.864649Z",
     "start_time": "2021-02-23T11:09:33.837752Z"
    }
   },
   "outputs": [],
   "source": [
    "def get_dict_item_sizes(this_dict, recursive=True):\n",
    "    \"\"\"Get size of elements in dict in bytes.\n",
    "\n",
    "    Can do dicts recursively\n",
    "\n",
    "    Uses pickle to get the \"true\" size\n",
    "    \"\"\"\n",
    "    size_dict = {}\n",
    "    for k, v in this_dict.items():\n",
    "        # print(\"Getting...\", k, type(v), v)\n",
    "        this_key = \"[%s]\" % k\n",
    "        if isinstance(v, dict) and recursive:\n",
    "            tsd = get_dict_item_sizes(v, recursive)\n",
    "            # print(\"k,tsd:\", k, tsd)\n",
    "            size_dict.update({\"%s%s\" % (this_key, kk) : vv for kk, vv in tsd.items()})\n",
    "            # print(\"new size_dict from dict\", size_dict)\n",
    "        else:\n",
    "            if v is None:\n",
    "                continue\n",
    "            # print(k, v, type(v))\n",
    "            obj_pkl = pickle.dumps(v)\n",
    "            size_dict[this_key] = sys.getsizeof(obj_pkl)\n",
    "            # print(\"new size_dict\", size_dict)\n",
    "\n",
    "    return size_dict\n",
    "\n",
    "\n",
    "def print_dict_item_sizes(this_dict, descending=True, recursive=True):\n",
    "    \"\"\"Print out size of elements in dict in bytes\n",
    "\n",
    "    If descending is True, then do largest size first.\n",
    "\n",
    "    If recursive is True, then do dicts recursively.\n",
    "    \"\"\"\n",
    "    size_dict = get_dict_item_sizes(this_dict, recursive)\n",
    "    sorted_dict = {k:v for k,v in sorted(size_dict.items(), key=lambda x: x[1], reverse=descending)}\n",
    "    for k, v in sorted_dict.items():\n",
    "        print(k, v)"
   ]
  },
  {
   "cell_type": "code",
   "execution_count": 29,
   "id": "minimal-northwest",
   "metadata": {
    "ExecuteTime": {
     "end_time": "2021-02-23T11:09:51.859754Z",
     "start_time": "2021-02-23T11:09:45.503071Z"
    }
   },
   "outputs": [
    {
     "name": "stdout",
     "output_type": "stream",
     "text": [
      "[frame] 439128271\n",
      "[data] 439057604\n",
      "[target] 71126\n",
      "[feature_names] 13280\n",
      "[DESCR] 3358\n",
      "[details][tag] 165\n",
      "[details][url] 103\n",
      "[details][md5_checksum] 75\n",
      "[url] 71\n",
      "[details][upload_date] 62\n",
      "[details][processing_date] 62\n",
      "[target_names] 52\n",
      "[details][name] 52\n",
      "[details][licence] 49\n",
      "[details][visibility] 49\n",
      "[details][status] 49\n",
      "[details][file_id] 48\n",
      "[details][default_target_attribute] 48\n",
      "[details][format] 47\n",
      "[details][id] 46\n",
      "[details][version] 44\n"
     ]
    }
   ],
   "source": [
    "print_dict_item_sizes(mnist)"
   ]
  },
  {
   "cell_type": "markdown",
   "id": "ethical-modeling",
   "metadata": {},
   "source": [
    "So the biggest parts of MNIST are ~400MB in 'frame', 400MB in 'data'."
   ]
  },
  {
   "cell_type": "code",
   "execution_count": 39,
   "id": "african-jesus",
   "metadata": {
    "ExecuteTime": {
     "end_time": "2021-02-23T11:10:51.910695Z",
     "start_time": "2021-02-23T11:10:51.907246Z"
    }
   },
   "outputs": [],
   "source": [
    "X, y = mnist['data'], mnist['target']"
   ]
  },
  {
   "cell_type": "code",
   "execution_count": 40,
   "id": "communist-mauritius",
   "metadata": {
    "ExecuteTime": {
     "end_time": "2021-02-23T11:10:52.221616Z",
     "start_time": "2021-02-23T11:10:52.215304Z"
    }
   },
   "outputs": [
    {
     "data": {
      "text/plain": [
       "(70000, 784)"
      ]
     },
     "execution_count": 40,
     "metadata": {},
     "output_type": "execute_result"
    }
   ],
   "source": [
    "X.shape"
   ]
  },
  {
   "cell_type": "code",
   "execution_count": 41,
   "id": "aquatic-gnome",
   "metadata": {
    "ExecuteTime": {
     "end_time": "2021-02-23T11:10:52.433961Z",
     "start_time": "2021-02-23T11:10:52.408467Z"
    },
    "scrolled": true
   },
   "outputs": [
    {
     "data": {
      "text/plain": [
       "Index          128\n",
       "pixel1      560000\n",
       "pixel2      560000\n",
       "pixel3      560000\n",
       "pixel4      560000\n",
       "             ...  \n",
       "pixel780    560000\n",
       "pixel781    560000\n",
       "pixel782    560000\n",
       "pixel783    560000\n",
       "pixel784    560000\n",
       "Length: 785, dtype: int64"
      ]
     },
     "execution_count": 41,
     "metadata": {},
     "output_type": "execute_result"
    }
   ],
   "source": [
    "X.memory_usage()"
   ]
  },
  {
   "cell_type": "code",
   "execution_count": 43,
   "id": "instrumental-floor",
   "metadata": {
    "ExecuteTime": {
     "end_time": "2021-02-23T11:11:05.927211Z",
     "start_time": "2021-02-23T11:11:05.903269Z"
    },
    "scrolled": true
   },
   "outputs": [
    {
     "data": {
      "text/plain": [
       "418.7012939453125"
      ]
     },
     "execution_count": 43,
     "metadata": {},
     "output_type": "execute_result"
    }
   ],
   "source": [
    "X.memory_usage().sum() / (1024*1024)"
   ]
  },
  {
   "cell_type": "code",
   "execution_count": 33,
   "id": "pressing-nirvana",
   "metadata": {
    "ExecuteTime": {
     "end_time": "2021-02-23T11:10:05.159141Z",
     "start_time": "2021-02-23T11:10:05.150348Z"
    }
   },
   "outputs": [
    {
     "data": {
      "text/plain": [
       "(70000,)"
      ]
     },
     "execution_count": 33,
     "metadata": {},
     "output_type": "execute_result"
    }
   ],
   "source": [
    "y.shape"
   ]
  },
  {
   "cell_type": "markdown",
   "id": "discrete-glossary",
   "metadata": {},
   "source": [
    "Note: the book treats X as a numpy array, but here's it's a pandas dataframe. We should convert it."
   ]
  },
  {
   "cell_type": "code",
   "execution_count": 34,
   "id": "legitimate-raleigh",
   "metadata": {
    "ExecuteTime": {
     "end_time": "2021-02-23T11:10:06.041977Z",
     "start_time": "2021-02-23T11:10:06.036893Z"
    }
   },
   "outputs": [
    {
     "data": {
      "text/plain": [
       "pandas.core.frame.DataFrame"
      ]
     },
     "execution_count": 34,
     "metadata": {},
     "output_type": "execute_result"
    }
   ],
   "source": [
    "type(X)"
   ]
  },
  {
   "cell_type": "code",
   "execution_count": 44,
   "id": "flush-shirt",
   "metadata": {
    "ExecuteTime": {
     "end_time": "2021-02-23T11:11:19.463709Z",
     "start_time": "2021-02-23T11:11:19.454381Z"
    }
   },
   "outputs": [
    {
     "data": {
      "text/plain": [
       "pixel1      float64\n",
       "pixel2      float64\n",
       "pixel3      float64\n",
       "pixel4      float64\n",
       "pixel5      float64\n",
       "             ...   \n",
       "pixel780    float64\n",
       "pixel781    float64\n",
       "pixel782    float64\n",
       "pixel783    float64\n",
       "pixel784    float64\n",
       "Length: 784, dtype: object"
      ]
     },
     "execution_count": 44,
     "metadata": {},
     "output_type": "execute_result"
    }
   ],
   "source": [
    "X.dtypes"
   ]
  },
  {
   "cell_type": "code",
   "execution_count": 35,
   "id": "miniature-gilbert",
   "metadata": {
    "ExecuteTime": {
     "end_time": "2021-02-23T11:10:06.788877Z",
     "start_time": "2021-02-23T11:10:06.734402Z"
    }
   },
   "outputs": [
    {
     "data": {
      "text/html": [
       "<div>\n",
       "<style scoped>\n",
       "    .dataframe tbody tr th:only-of-type {\n",
       "        vertical-align: middle;\n",
       "    }\n",
       "\n",
       "    .dataframe tbody tr th {\n",
       "        vertical-align: top;\n",
       "    }\n",
       "\n",
       "    .dataframe thead th {\n",
       "        text-align: right;\n",
       "    }\n",
       "</style>\n",
       "<table border=\"1\" class=\"dataframe\">\n",
       "  <thead>\n",
       "    <tr style=\"text-align: right;\">\n",
       "      <th></th>\n",
       "      <th>pixel1</th>\n",
       "      <th>pixel2</th>\n",
       "      <th>pixel3</th>\n",
       "      <th>pixel4</th>\n",
       "      <th>pixel5</th>\n",
       "      <th>pixel6</th>\n",
       "      <th>pixel7</th>\n",
       "      <th>pixel8</th>\n",
       "      <th>pixel9</th>\n",
       "      <th>pixel10</th>\n",
       "      <th>...</th>\n",
       "      <th>pixel775</th>\n",
       "      <th>pixel776</th>\n",
       "      <th>pixel777</th>\n",
       "      <th>pixel778</th>\n",
       "      <th>pixel779</th>\n",
       "      <th>pixel780</th>\n",
       "      <th>pixel781</th>\n",
       "      <th>pixel782</th>\n",
       "      <th>pixel783</th>\n",
       "      <th>pixel784</th>\n",
       "    </tr>\n",
       "  </thead>\n",
       "  <tbody>\n",
       "    <tr>\n",
       "      <th>0</th>\n",
       "      <td>0.0</td>\n",
       "      <td>0.0</td>\n",
       "      <td>0.0</td>\n",
       "      <td>0.0</td>\n",
       "      <td>0.0</td>\n",
       "      <td>0.0</td>\n",
       "      <td>0.0</td>\n",
       "      <td>0.0</td>\n",
       "      <td>0.0</td>\n",
       "      <td>0.0</td>\n",
       "      <td>...</td>\n",
       "      <td>0.0</td>\n",
       "      <td>0.0</td>\n",
       "      <td>0.0</td>\n",
       "      <td>0.0</td>\n",
       "      <td>0.0</td>\n",
       "      <td>0.0</td>\n",
       "      <td>0.0</td>\n",
       "      <td>0.0</td>\n",
       "      <td>0.0</td>\n",
       "      <td>0.0</td>\n",
       "    </tr>\n",
       "    <tr>\n",
       "      <th>1</th>\n",
       "      <td>0.0</td>\n",
       "      <td>0.0</td>\n",
       "      <td>0.0</td>\n",
       "      <td>0.0</td>\n",
       "      <td>0.0</td>\n",
       "      <td>0.0</td>\n",
       "      <td>0.0</td>\n",
       "      <td>0.0</td>\n",
       "      <td>0.0</td>\n",
       "      <td>0.0</td>\n",
       "      <td>...</td>\n",
       "      <td>0.0</td>\n",
       "      <td>0.0</td>\n",
       "      <td>0.0</td>\n",
       "      <td>0.0</td>\n",
       "      <td>0.0</td>\n",
       "      <td>0.0</td>\n",
       "      <td>0.0</td>\n",
       "      <td>0.0</td>\n",
       "      <td>0.0</td>\n",
       "      <td>0.0</td>\n",
       "    </tr>\n",
       "    <tr>\n",
       "      <th>2</th>\n",
       "      <td>0.0</td>\n",
       "      <td>0.0</td>\n",
       "      <td>0.0</td>\n",
       "      <td>0.0</td>\n",
       "      <td>0.0</td>\n",
       "      <td>0.0</td>\n",
       "      <td>0.0</td>\n",
       "      <td>0.0</td>\n",
       "      <td>0.0</td>\n",
       "      <td>0.0</td>\n",
       "      <td>...</td>\n",
       "      <td>0.0</td>\n",
       "      <td>0.0</td>\n",
       "      <td>0.0</td>\n",
       "      <td>0.0</td>\n",
       "      <td>0.0</td>\n",
       "      <td>0.0</td>\n",
       "      <td>0.0</td>\n",
       "      <td>0.0</td>\n",
       "      <td>0.0</td>\n",
       "      <td>0.0</td>\n",
       "    </tr>\n",
       "    <tr>\n",
       "      <th>3</th>\n",
       "      <td>0.0</td>\n",
       "      <td>0.0</td>\n",
       "      <td>0.0</td>\n",
       "      <td>0.0</td>\n",
       "      <td>0.0</td>\n",
       "      <td>0.0</td>\n",
       "      <td>0.0</td>\n",
       "      <td>0.0</td>\n",
       "      <td>0.0</td>\n",
       "      <td>0.0</td>\n",
       "      <td>...</td>\n",
       "      <td>0.0</td>\n",
       "      <td>0.0</td>\n",
       "      <td>0.0</td>\n",
       "      <td>0.0</td>\n",
       "      <td>0.0</td>\n",
       "      <td>0.0</td>\n",
       "      <td>0.0</td>\n",
       "      <td>0.0</td>\n",
       "      <td>0.0</td>\n",
       "      <td>0.0</td>\n",
       "    </tr>\n",
       "    <tr>\n",
       "      <th>4</th>\n",
       "      <td>0.0</td>\n",
       "      <td>0.0</td>\n",
       "      <td>0.0</td>\n",
       "      <td>0.0</td>\n",
       "      <td>0.0</td>\n",
       "      <td>0.0</td>\n",
       "      <td>0.0</td>\n",
       "      <td>0.0</td>\n",
       "      <td>0.0</td>\n",
       "      <td>0.0</td>\n",
       "      <td>...</td>\n",
       "      <td>0.0</td>\n",
       "      <td>0.0</td>\n",
       "      <td>0.0</td>\n",
       "      <td>0.0</td>\n",
       "      <td>0.0</td>\n",
       "      <td>0.0</td>\n",
       "      <td>0.0</td>\n",
       "      <td>0.0</td>\n",
       "      <td>0.0</td>\n",
       "      <td>0.0</td>\n",
       "    </tr>\n",
       "  </tbody>\n",
       "</table>\n",
       "<p>5 rows × 784 columns</p>\n",
       "</div>"
      ],
      "text/plain": [
       "   pixel1  pixel2  pixel3  pixel4  pixel5  pixel6  pixel7  pixel8  pixel9  \\\n",
       "0     0.0     0.0     0.0     0.0     0.0     0.0     0.0     0.0     0.0   \n",
       "1     0.0     0.0     0.0     0.0     0.0     0.0     0.0     0.0     0.0   \n",
       "2     0.0     0.0     0.0     0.0     0.0     0.0     0.0     0.0     0.0   \n",
       "3     0.0     0.0     0.0     0.0     0.0     0.0     0.0     0.0     0.0   \n",
       "4     0.0     0.0     0.0     0.0     0.0     0.0     0.0     0.0     0.0   \n",
       "\n",
       "   pixel10  ...  pixel775  pixel776  pixel777  pixel778  pixel779  pixel780  \\\n",
       "0      0.0  ...       0.0       0.0       0.0       0.0       0.0       0.0   \n",
       "1      0.0  ...       0.0       0.0       0.0       0.0       0.0       0.0   \n",
       "2      0.0  ...       0.0       0.0       0.0       0.0       0.0       0.0   \n",
       "3      0.0  ...       0.0       0.0       0.0       0.0       0.0       0.0   \n",
       "4      0.0  ...       0.0       0.0       0.0       0.0       0.0       0.0   \n",
       "\n",
       "   pixel781  pixel782  pixel783  pixel784  \n",
       "0       0.0       0.0       0.0       0.0  \n",
       "1       0.0       0.0       0.0       0.0  \n",
       "2       0.0       0.0       0.0       0.0  \n",
       "3       0.0       0.0       0.0       0.0  \n",
       "4       0.0       0.0       0.0       0.0  \n",
       "\n",
       "[5 rows x 784 columns]"
      ]
     },
     "execution_count": 35,
     "metadata": {},
     "output_type": "execute_result"
    }
   ],
   "source": [
    "X.head()"
   ]
  },
  {
   "cell_type": "code",
   "execution_count": 45,
   "id": "distinguished-blake",
   "metadata": {
    "ExecuteTime": {
     "end_time": "2021-02-23T11:13:19.093617Z",
     "start_time": "2021-02-23T11:13:19.072361Z"
    }
   },
   "outputs": [],
   "source": [
    "X = X.to_numpy()"
   ]
  },
  {
   "cell_type": "code",
   "execution_count": 46,
   "id": "failing-think",
   "metadata": {
    "ExecuteTime": {
     "end_time": "2021-02-23T11:13:19.242658Z",
     "start_time": "2021-02-23T11:13:19.233130Z"
    }
   },
   "outputs": [
    {
     "data": {
      "text/plain": [
       "418.701171875"
      ]
     },
     "execution_count": 46,
     "metadata": {},
     "output_type": "execute_result"
    }
   ],
   "source": [
    "X.nbytes / (1024 * 1024)"
   ]
  },
  {
   "cell_type": "code",
   "execution_count": 47,
   "id": "constitutional-actor",
   "metadata": {
    "ExecuteTime": {
     "end_time": "2021-02-23T11:13:20.122037Z",
     "start_time": "2021-02-23T11:13:19.453207Z"
    }
   },
   "outputs": [
    {
     "data": {
      "image/png": "[encoded data removed]",
      "text/plain": [
       "<Figure size 720x576 with 1 Axes>"
      ]
     },
     "metadata": {
      "needs_background": "light"
     },
     "output_type": "display_data"
    }
   ],
   "source": [
    "some_digit = X[0]\n",
    "some_digit_image = some_digit.reshape(28, 28)\n",
    "\n",
    "plt.imshow(some_digit_image, cmap='binary')\n",
    "plt.axis('off')\n",
    "plt.show()"
   ]
  },
  {
   "cell_type": "code",
   "execution_count": 48,
   "id": "harmful-brazilian",
   "metadata": {
    "ExecuteTime": {
     "end_time": "2021-02-23T11:13:20.132013Z",
     "start_time": "2021-02-23T11:13:20.125797Z"
    }
   },
   "outputs": [
    {
     "data": {
      "text/plain": [
       "'5'"
      ]
     },
     "execution_count": 48,
     "metadata": {},
     "output_type": "execute_result"
    }
   ],
   "source": [
    "y[0]"
   ]
  },
  {
   "cell_type": "code",
   "execution_count": 49,
   "id": "synthetic-three",
   "metadata": {
    "ExecuteTime": {
     "end_time": "2021-02-23T11:13:20.778406Z",
     "start_time": "2021-02-23T11:13:20.770991Z"
    }
   },
   "outputs": [],
   "source": [
    "# convert labels from str to int\n",
    "y = y.astype(np.uint8)"
   ]
  },
  {
   "cell_type": "code",
   "execution_count": 50,
   "id": "solved-actor",
   "metadata": {
    "ExecuteTime": {
     "end_time": "2021-02-23T11:13:21.747725Z",
     "start_time": "2021-02-23T11:13:21.743325Z"
    }
   },
   "outputs": [],
   "source": [
    "# split into training & testing sets:\n",
    "X_train, X_test, y_train, y_test = X[:60000], X[60000:], y[:60000], y[60000:]"
   ]
  },
  {
   "cell_type": "markdown",
   "id": "senior-coaching",
   "metadata": {},
   "source": [
    "## Training a binary classifier"
   ]
  },
  {
   "cell_type": "markdown",
   "id": "approximate-explorer",
   "metadata": {},
   "source": [
    "Here we are training a classifier of 5 vs not-5:"
   ]
  },
  {
   "cell_type": "code",
   "execution_count": 19,
   "id": "varied-antigua",
   "metadata": {
    "ExecuteTime": {
     "end_time": "2021-02-22T09:41:42.671645Z",
     "start_time": "2021-02-22T09:41:42.656679Z"
    }
   },
   "outputs": [],
   "source": [
    "y_train_5 = (y_train == 5)\n",
    "y_test_5 = (y_test == 5)"
   ]
  },
  {
   "cell_type": "code",
   "execution_count": 20,
   "id": "earlier-folks",
   "metadata": {
    "ExecuteTime": {
     "end_time": "2021-02-22T09:41:42.692110Z",
     "start_time": "2021-02-22T09:41:42.676694Z"
    }
   },
   "outputs": [
    {
     "data": {
      "text/plain": [
       "0         True\n",
       "1        False\n",
       "2        False\n",
       "3        False\n",
       "4        False\n",
       "         ...  \n",
       "59995    False\n",
       "59996    False\n",
       "59997     True\n",
       "59998    False\n",
       "59999    False\n",
       "Name: class, Length: 60000, dtype: bool"
      ]
     },
     "execution_count": 20,
     "metadata": {},
     "output_type": "execute_result"
    }
   ],
   "source": [
    "y_train_5"
   ]
  },
  {
   "cell_type": "code",
   "execution_count": 51,
   "id": "optimum-header",
   "metadata": {
    "ExecuteTime": {
     "end_time": "2021-02-23T11:13:27.841528Z",
     "start_time": "2021-02-23T11:13:27.700297Z"
    },
    "init_cell": true
   },
   "outputs": [],
   "source": [
    "from sklearn.linear_model import SGDClassifier"
   ]
  },
  {
   "cell_type": "code",
   "execution_count": 22,
   "id": "suburban-spell",
   "metadata": {
    "ExecuteTime": {
     "end_time": "2021-02-22T09:42:03.077824Z",
     "start_time": "2021-02-22T09:41:42.838438Z"
    }
   },
   "outputs": [
    {
     "data": {
      "text/plain": [
       "SGDClassifier(random_state=42)"
      ]
     },
     "execution_count": 22,
     "metadata": {},
     "output_type": "execute_result"
    }
   ],
   "source": [
    "sgd_clf = SGDClassifier(random_state=42)\n",
    "sgd_clf.fit(X_train, y_train_5)"
   ]
  },
  {
   "cell_type": "code",
   "execution_count": 23,
   "id": "forced-protest",
   "metadata": {
    "ExecuteTime": {
     "end_time": "2021-02-22T09:42:03.090549Z",
     "start_time": "2021-02-22T09:42:03.082023Z"
    }
   },
   "outputs": [
    {
     "data": {
      "text/plain": [
       "array([ True])"
      ]
     },
     "execution_count": 23,
     "metadata": {},
     "output_type": "execute_result"
    }
   ],
   "source": [
    "sgd_clf.predict([some_digit])"
   ]
  },
  {
   "cell_type": "markdown",
   "id": "nominated-corrections",
   "metadata": {},
   "source": [
    "Yay it got it right"
   ]
  },
  {
   "cell_type": "markdown",
   "id": "identified-bishop",
   "metadata": {},
   "source": [
    "## Measuring performance"
   ]
  },
  {
   "cell_type": "code",
   "execution_count": 52,
   "id": "fresh-biology",
   "metadata": {
    "ExecuteTime": {
     "end_time": "2021-02-23T11:13:31.173453Z",
     "start_time": "2021-02-23T11:13:31.169701Z"
    },
    "init_cell": true
   },
   "outputs": [],
   "source": [
    "from sklearn.model_selection import cross_val_score"
   ]
  },
  {
   "cell_type": "markdown",
   "id": "prepared-sequence",
   "metadata": {},
   "source": [
    "Do K-fold cross-validation to test accuracy (fraction of predictions that are correct):\n",
    "https://scikit-learn.org/stable/modules/model_evaluation.html#scoring-parameter"
   ]
  },
  {
   "cell_type": "code",
   "execution_count": 25,
   "id": "hindu-affairs",
   "metadata": {
    "ExecuteTime": {
     "end_time": "2021-02-22T09:42:30.415369Z",
     "start_time": "2021-02-22T09:42:03.111929Z"
    }
   },
   "outputs": [
    {
     "data": {
      "text/plain": [
       "array([0.95035, 0.96035, 0.9604 ])"
      ]
     },
     "execution_count": 25,
     "metadata": {},
     "output_type": "execute_result"
    }
   ],
   "source": [
    "cross_val_score(sgd_clf, X_train, y_train_5, cv=3, scoring='accuracy')"
   ]
  },
  {
   "cell_type": "markdown",
   "id": "defensive-billy",
   "metadata": {},
   "source": [
    "Let's make a dumb classifier:"
   ]
  },
  {
   "cell_type": "code",
   "execution_count": null,
   "id": "violent-computer",
   "metadata": {
    "ExecuteTime": {
     "end_time": "2021-02-22T09:42:30.430221Z",
     "start_time": "2021-02-22T09:42:30.421157Z"
    },
    "init_cell": true
   },
   "outputs": [],
   "source": [
    "from sklearn.base import BaseEstimator"
   ]
  },
  {
   "cell_type": "code",
   "execution_count": 26,
   "id": "funky-circle",
   "metadata": {
    "ExecuteTime": {
     "end_time": "2021-02-22T09:42:30.430221Z",
     "start_time": "2021-02-22T09:42:30.421157Z"
    }
   },
   "outputs": [],
   "source": [
    "class Not5Classifier(BaseEstimator):\n",
    "    def fit(self, X, y=None):\n",
    "        return self\n",
    "    def predict(self, X):\n",
    "        return np.zeros((len(X), 1), dtype=bool)"
   ]
  },
  {
   "cell_type": "code",
   "execution_count": 27,
   "id": "subjective-pepper",
   "metadata": {
    "ExecuteTime": {
     "end_time": "2021-02-22T09:42:32.315851Z",
     "start_time": "2021-02-22T09:42:30.434314Z"
    }
   },
   "outputs": [
    {
     "data": {
      "text/plain": [
       "array([0.91125, 0.90855, 0.90915])"
      ]
     },
     "execution_count": 27,
     "metadata": {},
     "output_type": "execute_result"
    }
   ],
   "source": [
    "never_5_clf = Not5Classifier()\n",
    "cross_val_score(never_5_clf, X_train, y_train_5, cv=3, scoring='accuracy')"
   ]
  },
  {
   "cell_type": "markdown",
   "id": "flexible-computer",
   "metadata": {},
   "source": [
    "So we have 90% accuracy merely from the fact we have an imbalanced set of labels. (1/10 are truly 5s, hence 90% accuracy at saying anything isn't a 5)"
   ]
  },
  {
   "cell_type": "code",
   "execution_count": 53,
   "id": "verified-relation",
   "metadata": {
    "ExecuteTime": {
     "end_time": "2021-02-23T11:13:35.144967Z",
     "start_time": "2021-02-23T11:13:35.141792Z"
    },
    "init_cell": true
   },
   "outputs": [],
   "source": [
    "from sklearn.model_selection import cross_val_predict"
   ]
  },
  {
   "cell_type": "code",
   "execution_count": 29,
   "id": "welcome-investor",
   "metadata": {
    "ExecuteTime": {
     "end_time": "2021-02-22T09:43:03.620578Z",
     "start_time": "2021-02-22T09:42:32.327584Z"
    }
   },
   "outputs": [],
   "source": [
    "y_train_pred = cross_val_predict(sgd_clf, X_train, y_train_5, cv=3)"
   ]
  },
  {
   "cell_type": "code",
   "execution_count": 30,
   "id": "monthly-japan",
   "metadata": {
    "ExecuteTime": {
     "end_time": "2021-02-22T09:43:03.637841Z",
     "start_time": "2021-02-22T09:43:03.625843Z"
    }
   },
   "outputs": [
    {
     "data": {
      "text/plain": [
       "array([ True, False, False, ...,  True, False, False])"
      ]
     },
     "execution_count": 30,
     "metadata": {},
     "output_type": "execute_result"
    }
   ],
   "source": [
    "y_train_pred"
   ]
  },
  {
   "cell_type": "code",
   "execution_count": 54,
   "id": "obvious-consolidation",
   "metadata": {
    "ExecuteTime": {
     "end_time": "2021-02-23T11:13:37.293654Z",
     "start_time": "2021-02-23T11:13:37.290299Z"
    },
    "init_cell": true
   },
   "outputs": [],
   "source": [
    "from sklearn.metrics import confusion_matrix"
   ]
  },
  {
   "cell_type": "code",
   "execution_count": 32,
   "id": "demographic-violation",
   "metadata": {
    "ExecuteTime": {
     "end_time": "2021-02-22T09:43:03.728841Z",
     "start_time": "2021-02-22T09:43:03.655905Z"
    }
   },
   "outputs": [
    {
     "data": {
      "text/plain": [
       "array([[53892,   687],\n",
       "       [ 1891,  3530]])"
      ]
     },
     "execution_count": 32,
     "metadata": {},
     "output_type": "execute_result"
    }
   ],
   "source": [
    "confusion_matrix(y_train_5, y_train_pred)"
   ]
  },
  {
   "cell_type": "markdown",
   "id": "acting-eight",
   "metadata": {},
   "source": [
    "Confusion matrix:\n",
    "- Rows: actual classes\n",
    "- Columns: predicted classes\n",
    "\n",
    "Here we call the non-5s a \"negative\", while a 5 is a \"positive\". So there are:\n",
    "- 53892 true negatives (TN) classified as negative\n",
    "- 687 negatives were classified as positive (false positives, FP)\n",
    "- 1891 positives classified as negatives (false negative, FN)\n",
    "- 3530 positives classified as positive (true positive, TP)\n",
    "\n",
    "Our confusion matrix is therefore:\n",
    "```\n",
    "[[TN, FP]\n",
    " [FN, TP]]\n",
    "```\n",
    "\n",
    "Some metrics:\n",
    "\n",
    "\\begin{equation}\n",
    "\\mathrm{Accuracy} = \\frac{TN + TP}{TN + TP + FN + FP}\n",
    "\\end{equation}\n",
    "\n",
    "(what fraction of predictions were correct?)\n",
    "\n",
    "\\begin{equation}\n",
    "\\mathrm{Precision} = \\frac{TP}{TP+FP}\n",
    "\\end{equation}\n",
    "\n",
    "(what fraction of positive predictions are **actually** positive - this is what we'd call **purity** in particle physics (e.g. # identified Higgs in a sample))\n",
    "\n",
    "\\begin{equation}\n",
    "\\text{Recall/Sensitivity/True Positive Rate (TPR)} = \\frac{TP}{TP+FN}\n",
    "\\end{equation}\n",
    "\n",
    "(what fraction of true positives did we manage to classify as such - in particle physics this is **efficiency** of your classifier)"
   ]
  },
  {
   "cell_type": "code",
   "execution_count": 55,
   "id": "polish-treaty",
   "metadata": {
    "ExecuteTime": {
     "end_time": "2021-02-23T11:13:39.733931Z",
     "start_time": "2021-02-23T11:13:39.730334Z"
    },
    "init_cell": true
   },
   "outputs": [],
   "source": [
    "from sklearn.metrics import precision_score, recall_score"
   ]
  },
  {
   "cell_type": "code",
   "execution_count": 34,
   "id": "chief-violence",
   "metadata": {
    "ExecuteTime": {
     "end_time": "2021-02-22T09:43:03.768512Z",
     "start_time": "2021-02-22T09:43:03.740521Z"
    }
   },
   "outputs": [
    {
     "data": {
      "text/plain": [
       "0.8370879772350012"
      ]
     },
     "execution_count": 34,
     "metadata": {},
     "output_type": "execute_result"
    }
   ],
   "source": [
    "precision_score(y_train_5, y_train_pred)"
   ]
  },
  {
   "cell_type": "code",
   "execution_count": 35,
   "id": "prompt-oakland",
   "metadata": {
    "ExecuteTime": {
     "end_time": "2021-02-22T09:43:03.830047Z",
     "start_time": "2021-02-22T09:43:03.775317Z"
    }
   },
   "outputs": [],
   "source": [
    "cm = confusion_matrix(y_train_5, y_train_pred)"
   ]
  },
  {
   "cell_type": "code",
   "execution_count": 36,
   "id": "vital-forge",
   "metadata": {
    "ExecuteTime": {
     "end_time": "2021-02-22T09:43:03.856351Z",
     "start_time": "2021-02-22T09:43:03.838694Z"
    }
   },
   "outputs": [
    {
     "data": {
      "text/plain": [
       "0.8370879772350012"
      ]
     },
     "execution_count": 36,
     "metadata": {},
     "output_type": "execute_result"
    }
   ],
   "source": [
    "(cm[1,1]) / cm[:,1].sum()"
   ]
  },
  {
   "cell_type": "code",
   "execution_count": 37,
   "id": "numerical-artist",
   "metadata": {
    "ExecuteTime": {
     "end_time": "2021-02-22T09:43:03.888721Z",
     "start_time": "2021-02-22T09:43:03.860622Z"
    }
   },
   "outputs": [
    {
     "data": {
      "text/plain": [
       "0.6511713705958311"
      ]
     },
     "execution_count": 37,
     "metadata": {},
     "output_type": "execute_result"
    }
   ],
   "source": [
    "recall_score(y_train_5, y_train_pred)"
   ]
  },
  {
   "cell_type": "code",
   "execution_count": 38,
   "id": "rational-tutorial",
   "metadata": {
    "ExecuteTime": {
     "end_time": "2021-02-22T09:43:03.898891Z",
     "start_time": "2021-02-22T09:43:03.891550Z"
    }
   },
   "outputs": [
    {
     "data": {
      "text/plain": [
       "0.6511713705958311"
      ]
     },
     "execution_count": 38,
     "metadata": {},
     "output_type": "execute_result"
    }
   ],
   "source": [
    "(cm[1,1]) / cm[1,:].sum()"
   ]
  },
  {
   "cell_type": "code",
   "execution_count": 56,
   "id": "rational-virgin",
   "metadata": {
    "ExecuteTime": {
     "end_time": "2021-02-23T11:13:43.597138Z",
     "start_time": "2021-02-23T11:13:43.593712Z"
    },
    "init_cell": true
   },
   "outputs": [],
   "source": [
    "from sklearn.metrics import f1_score"
   ]
  },
  {
   "cell_type": "markdown",
   "id": "proof-nightlife",
   "metadata": {},
   "source": [
    "Calculate $F_1$ score as geometric mean of precision & recall:\n",
    "\n",
    "\\begin{equation}\n",
    "F_{1} = \\frac{2}{\\frac{1}{\\mathrm{recall}} + \\frac{1}{\\mathrm{precision}}} = 2 \\times \\frac{\\mathrm{precision} \\times \\mathrm{recall}}{\\mathrm{precision} + \\mathrm{recall}} = \\frac{TP}{TP + \\frac{FP+FN}{2}}\n",
    "\\end{equation}"
   ]
  },
  {
   "cell_type": "code",
   "execution_count": 40,
   "id": "provincial-blend",
   "metadata": {
    "ExecuteTime": {
     "end_time": "2021-02-22T09:43:03.940195Z",
     "start_time": "2021-02-22T09:43:03.911660Z"
    }
   },
   "outputs": [
    {
     "data": {
      "text/plain": [
       "0.7325171197343846"
      ]
     },
     "execution_count": 40,
     "metadata": {},
     "output_type": "execute_result"
    }
   ],
   "source": [
    "f1_score(y_train_5, y_train_pred)"
   ]
  },
  {
   "cell_type": "markdown",
   "id": "false-interval",
   "metadata": {},
   "source": [
    "### Precision-recall trade-off"
   ]
  },
  {
   "cell_type": "markdown",
   "id": "level-tunisia",
   "metadata": {},
   "source": [
    "Can't maximise both - inevitably must compromise the other. E.g. a classifier with a high precision (i.e. it's nearly always right about its predictions) will generally lose recall: e.g. it only does \"safe\" predictions, and can't handle edge cases\n",
    "\n",
    "**Decision function**: function a classifier uses to compute a score for each instance\n",
    "\n",
    "**Decision threshold**: the score threshold, above which an instance is classified as a \"positive\""
   ]
  },
  {
   "cell_type": "code",
   "execution_count": 41,
   "id": "collected-replication",
   "metadata": {
    "ExecuteTime": {
     "end_time": "2021-02-22T09:43:03.949888Z",
     "start_time": "2021-02-22T09:43:03.945438Z"
    }
   },
   "outputs": [],
   "source": [
    "y_scores = sgd_clf.decision_function([some_digit])"
   ]
  },
  {
   "cell_type": "code",
   "execution_count": 42,
   "id": "laden-bristol",
   "metadata": {
    "ExecuteTime": {
     "end_time": "2021-02-22T09:43:03.961985Z",
     "start_time": "2021-02-22T09:43:03.954806Z"
    }
   },
   "outputs": [
    {
     "data": {
      "text/plain": [
       "array([2164.22030239])"
      ]
     },
     "execution_count": 42,
     "metadata": {},
     "output_type": "execute_result"
    }
   ],
   "source": [
    "y_scores"
   ]
  },
  {
   "cell_type": "code",
   "execution_count": 43,
   "id": "corrected-prevention",
   "metadata": {
    "ExecuteTime": {
     "end_time": "2021-02-22T09:43:32.473770Z",
     "start_time": "2021-02-22T09:43:03.967124Z"
    }
   },
   "outputs": [],
   "source": [
    "y_scores = cross_val_predict(sgd_clf, X_train, y_train_5, cv=3, method='decision_function')"
   ]
  },
  {
   "cell_type": "code",
   "execution_count": 44,
   "id": "ultimate-paint",
   "metadata": {
    "ExecuteTime": {
     "end_time": "2021-02-22T09:43:32.482769Z",
     "start_time": "2021-02-22T09:43:32.476766Z"
    }
   },
   "outputs": [
    {
     "data": {
      "text/plain": [
       "array([  1200.93051237, -26883.79202424, -33072.03475406, ...,\n",
       "        13272.12718981,  -7258.47203373, -16877.50840447])"
      ]
     },
     "execution_count": 44,
     "metadata": {},
     "output_type": "execute_result"
    }
   ],
   "source": [
    "y_scores"
   ]
  },
  {
   "cell_type": "code",
   "execution_count": 45,
   "id": "korean-gospel",
   "metadata": {
    "ExecuteTime": {
     "end_time": "2021-02-22T09:43:32.493405Z",
     "start_time": "2021-02-22T09:43:32.486246Z"
    }
   },
   "outputs": [
    {
     "data": {
      "text/plain": [
       "(60000,)"
      ]
     },
     "execution_count": 45,
     "metadata": {},
     "output_type": "execute_result"
    }
   ],
   "source": [
    "y_scores.shape"
   ]
  },
  {
   "cell_type": "code",
   "execution_count": 57,
   "id": "diverse-professional",
   "metadata": {
    "ExecuteTime": {
     "end_time": "2021-02-23T11:20:38.460092Z",
     "start_time": "2021-02-23T11:20:38.446317Z"
    },
    "init_cell": true
   },
   "outputs": [],
   "source": [
    "from sklearn.metrics import precision_recall_curve"
   ]
  },
  {
   "cell_type": "code",
   "execution_count": 47,
   "id": "micro-backup",
   "metadata": {
    "ExecuteTime": {
     "end_time": "2021-02-22T09:43:32.527326Z",
     "start_time": "2021-02-22T09:43:32.505522Z"
    }
   },
   "outputs": [],
   "source": [
    "precisions, recalls, thresholds = precision_recall_curve(y_train_5, y_scores)"
   ]
  },
  {
   "cell_type": "code",
   "execution_count": 48,
   "id": "military-logan",
   "metadata": {
    "ExecuteTime": {
     "end_time": "2021-02-22T09:43:32.536499Z",
     "start_time": "2021-02-22T09:43:32.531031Z"
    }
   },
   "outputs": [],
   "source": [
    "def plot_precision_recall_vs_threshold(precisions, recalls, thresholds):\n",
    "    fig, ax = plt.subplots(1, 1, figsize=(12, 8))\n",
    "    ax.plot(thresholds, precisions[:-1], 'b--', label='Precision')\n",
    "    ax.plot(thresholds, recalls[:-1], 'g-', label='Recall')\n",
    "    ax.legend()\n",
    "    ax.set_xlabel('Threshold')\n",
    "    ax.grid()"
   ]
  },
  {
   "cell_type": "code",
   "execution_count": 49,
   "id": "acting-pearl",
   "metadata": {
    "ExecuteTime": {
     "end_time": "2021-02-22T09:43:33.242674Z",
     "start_time": "2021-02-22T09:43:32.540196Z"
    }
   },
   "outputs": [
    {
     "data": {
      "image/png": "[encoded data removed]",
      "text/plain": [
       "<Figure size 864x576 with 1 Axes>"
      ]
     },
     "metadata": {
      "needs_background": "light"
     },
     "output_type": "display_data"
    }
   ],
   "source": [
    "plot_precision_recall_vs_threshold(precisions, recalls, thresholds)"
   ]
  },
  {
   "cell_type": "markdown",
   "id": "vanilla-television",
   "metadata": {},
   "source": [
    "The precision is mostly smooth, until very large thresholds - presumably there's a bunch of (or just 1?) 5s that score _very_ highly, and a bunch that score less well, but with a gap inbetween. So you end up having a jump. We can also make a pseudo-ROC curve by plotting one vs the other:"
   ]
  },
  {
   "cell_type": "code",
   "execution_count": 50,
   "id": "related-drain",
   "metadata": {
    "ExecuteTime": {
     "end_time": "2021-02-22T09:43:33.581191Z",
     "start_time": "2021-02-22T09:43:33.246564Z"
    }
   },
   "outputs": [
    {
     "data": {
      "text/plain": [
       "Text(0, 0.5, 'Precision')"
      ]
     },
     "execution_count": 50,
     "metadata": {},
     "output_type": "execute_result"
    },
    {
     "data": {
      "image/png": "[encoded data removed]",
      "text/plain": [
       "<Figure size 576x576 with 1 Axes>"
      ]
     },
     "metadata": {
      "needs_background": "light"
     },
     "output_type": "display_data"
    }
   ],
   "source": [
    "fig, ax = plt.subplots(1, 1, figsize=(8, 8))\n",
    "ax.plot(recalls, precisions)\n",
    "ax.grid()\n",
    "ax.set_xlabel(\"Recall\")\n",
    "ax.set_ylabel(\"Precision\")"
   ]
  },
  {
   "cell_type": "markdown",
   "id": "thick-reflection",
   "metadata": {},
   "source": [
    "Let's plot those weird ones with a high score, [25000, 35000], and see what it's classifying:"
   ]
  },
  {
   "cell_type": "code",
   "execution_count": 51,
   "id": "portable-front",
   "metadata": {
    "ExecuteTime": {
     "end_time": "2021-02-22T09:43:33.598835Z",
     "start_time": "2021-02-22T09:43:33.585297Z"
    }
   },
   "outputs": [
    {
     "name": "stdout",
     "output_type": "stream",
     "text": [
      "68 weird ones\n"
     ]
    }
   ],
   "source": [
    "mask = (y_scores > 25000) & (y_scores < 350000)\n",
    "print(mask.sum(), \"weird ones\")\n",
    "odd_data = X_train[mask,:]"
   ]
  },
  {
   "cell_type": "code",
   "execution_count": 52,
   "id": "atmospheric-teaching",
   "metadata": {
    "ExecuteTime": {
     "end_time": "2021-02-22T09:43:35.196095Z",
     "start_time": "2021-02-22T09:43:33.602705Z"
    }
   },
   "outputs": [
    {
     "data": {
      "image/png": "[encoded data removed]",
      "text/plain": [
       "<Figure size 864x864 with 25 Axes>"
      ]
     },
     "metadata": {
      "needs_background": "light"
     },
     "output_type": "display_data"
    }
   ],
   "source": [
    "fig, axes = plt.subplots(5, 5, figsize=(12, 12))\n",
    "for ind, ax in enumerate(axes.flatten()):\n",
    "    if ind >= len(odd_data):\n",
    "        break\n",
    "    ax.imshow(odd_data[ind,:].reshape(28, 28), cmap='binary')\n",
    "    ax.axis('off')"
   ]
  },
  {
   "cell_type": "markdown",
   "id": "secondary-presentation",
   "metadata": {},
   "source": [
    "Most of these look OK...the 9 looks like it has elements of the 5 in it, as does the 8. But why the 0?!"
   ]
  },
  {
   "cell_type": "markdown",
   "id": "polyphonic-brisbane",
   "metadata": {},
   "source": [
    "Let's calculate what happens when we require a precision of 90%. We work backward to figure out the needed threshold, then can figure out recall."
   ]
  },
  {
   "cell_type": "code",
   "execution_count": 53,
   "id": "increased-witch",
   "metadata": {
    "ExecuteTime": {
     "end_time": "2021-02-22T09:43:35.207998Z",
     "start_time": "2021-02-22T09:43:35.198442Z"
    }
   },
   "outputs": [
    {
     "name": "stdout",
     "output_type": "stream",
     "text": [
      "For precisions > 90% ( 0.9000345901072293 )\n",
      "Requires a Threshold: 3370.0194991439557\n",
      "Results in a recall of 0.4799852425751706\n"
     ]
    }
   ],
   "source": [
    "# argmax gets index of maximum value, and does the first. So here returns the first True\n",
    "ind_thres = np.argmax(precisions > 0.9)  \n",
    "print(\"For precisions > 90% (\", precisions[ind_thres], \")\")\n",
    "\n",
    "thres = thresholds[ind_thres]\n",
    "print('Requires a Threshold:', thres)\n",
    "\n",
    "this_recall = recalls[ind_thres]\n",
    "print('Results in a recall of', this_recall)"
   ]
  },
  {
   "cell_type": "markdown",
   "id": "elect-message",
   "metadata": {},
   "source": [
    "### ROC curve"
   ]
  },
  {
   "cell_type": "markdown",
   "id": "completed-tournament",
   "metadata": {},
   "source": [
    "**ROC** = Receiver Operating Characteristics\n",
    "\n",
    "\n",
    "Not quite precision vs recall. Instead plot **true positive rate (TPR) = recall** vs **false positive rate (FPR)**\n",
    "\n",
    "\\begin{equation}\n",
    "\\mathrm{TPR} = \\frac{\\text{Positives correctly classified as positives}}{\\text{All positive instances}} = \\frac{TP}{TP+FN}\n",
    "\\end{equation}\n",
    "\n",
    "\\begin{equation}\n",
    "\\mathrm{FPR} = \\frac{\\text{Negatives incorrectly classified as positives}}{\\text{All negative instances}} = \\frac{FP}{FP+TN} = 1 - \\mathrm{TNR}\n",
    "\\end{equation}\n",
    "\n",
    "where **TNR = true negative rate = specificity**: \n",
    "\n",
    "\n",
    "\\begin{equation}\n",
    "\\mathrm{TNR} = \\frac{\\text{Negatives classified as negatives}}{\\text{All negative instances}} = \\frac{TN}{FP+TN}\n",
    "\\end{equation}\n"
   ]
  },
  {
   "cell_type": "code",
   "execution_count": 58,
   "id": "floating-destiny",
   "metadata": {
    "ExecuteTime": {
     "end_time": "2021-02-23T11:20:46.325714Z",
     "start_time": "2021-02-23T11:20:46.322100Z"
    },
    "init_cell": true
   },
   "outputs": [],
   "source": [
    "from sklearn.metrics import roc_curve"
   ]
  },
  {
   "cell_type": "code",
   "execution_count": 55,
   "id": "promising-table",
   "metadata": {
    "ExecuteTime": {
     "end_time": "2021-02-22T09:43:35.245400Z",
     "start_time": "2021-02-22T09:43:35.221879Z"
    }
   },
   "outputs": [],
   "source": [
    "fpr, tpr, thresholds = roc_curve(y_train_5, y_scores)"
   ]
  },
  {
   "cell_type": "code",
   "execution_count": 59,
   "id": "infectious-samuel",
   "metadata": {
    "ExecuteTime": {
     "end_time": "2021-02-23T11:20:51.329553Z",
     "start_time": "2021-02-23T11:20:51.322390Z"
    }
   },
   "outputs": [],
   "source": [
    "def plot_roc_curve(fpr, tpr, label=None):\n",
    "#     fig, ax = plt.subplots(1, 1, figsize=(8, 8))\n",
    "    plt.plot(fpr, tpr, linewidth=2, label=label)\n",
    "    plt.plot([0, 1], [0, 1], 'k--', label='Random')\n",
    "    plt.xlabel('FPR')\n",
    "    plt.ylabel('TPR')\n",
    "    plt.grid()\n",
    "    plt.legend()"
   ]
  },
  {
   "cell_type": "code",
   "execution_count": 109,
   "id": "light-specific",
   "metadata": {
    "ExecuteTime": {
     "end_time": "2021-02-22T11:03:12.254369Z",
     "start_time": "2021-02-22T11:03:11.854309Z"
    }
   },
   "outputs": [
    {
     "data": {
      "image/png": "[encoded data removed]",
      "text/plain": [
       "<Figure size 720x576 with 1 Axes>"
      ]
     },
     "metadata": {
      "needs_background": "light"
     },
     "output_type": "display_data"
    }
   ],
   "source": [
    "plot_roc_curve(fpr, tpr, 'SGD')"
   ]
  },
  {
   "cell_type": "code",
   "execution_count": 60,
   "id": "informational-bunch",
   "metadata": {
    "ExecuteTime": {
     "end_time": "2021-02-23T11:20:54.032924Z",
     "start_time": "2021-02-23T11:20:54.029690Z"
    },
    "init_cell": true
   },
   "outputs": [],
   "source": [
    "from sklearn.metrics import roc_auc_score"
   ]
  },
  {
   "cell_type": "code",
   "execution_count": 59,
   "id": "moral-puppy",
   "metadata": {
    "ExecuteTime": {
     "end_time": "2021-02-22T09:43:35.707160Z",
     "start_time": "2021-02-22T09:43:35.677308Z"
    }
   },
   "outputs": [
    {
     "data": {
      "text/plain": [
       "0.9604938554008616"
      ]
     },
     "execution_count": 59,
     "metadata": {},
     "output_type": "execute_result"
    }
   ],
   "source": [
    "roc_auc_score(y_train_5, y_scores)"
   ]
  },
  {
   "cell_type": "markdown",
   "id": "exterior-campus",
   "metadata": {},
   "source": [
    "**ROC vs PR curves**: prefer PR when positive class rare, or when false positives more important than false negatives. (Hence why we use them in HEP)\n",
    "\n",
    "In our case, 5s are rare, so PR better - ROC curve looks good, but PR not so much."
   ]
  },
  {
   "cell_type": "markdown",
   "id": "selected-america",
   "metadata": {},
   "source": [
    "Train up a Random Forest classifier to compare its performance: note that it doesn't have a `decision_function()`, but `predict_proba()` instead.\n",
    "\n",
    "This returns 1 row per instance, and a column per class, each with a probability."
   ]
  },
  {
   "cell_type": "code",
   "execution_count": 61,
   "id": "supreme-booking",
   "metadata": {
    "ExecuteTime": {
     "end_time": "2021-02-23T11:20:55.722395Z",
     "start_time": "2021-02-23T11:20:55.519847Z"
    },
    "init_cell": true
   },
   "outputs": [],
   "source": [
    "from sklearn.ensemble import RandomForestClassifier"
   ]
  },
  {
   "cell_type": "code",
   "execution_count": 61,
   "id": "thousand-leadership",
   "metadata": {
    "ExecuteTime": {
     "end_time": "2021-02-22T09:45:00.072698Z",
     "start_time": "2021-02-22T09:43:35.827399Z"
    }
   },
   "outputs": [],
   "source": [
    "forest_clf = RandomForestClassifier(random_state=42)\n",
    "y_probas_forest = cross_val_predict(forest_clf, X_train, y_train_5, cv=3, method='predict_proba')"
   ]
  },
  {
   "cell_type": "code",
   "execution_count": 62,
   "id": "crude-stomach",
   "metadata": {
    "ExecuteTime": {
     "end_time": "2021-02-22T09:45:00.080692Z",
     "start_time": "2021-02-22T09:45:00.075145Z"
    }
   },
   "outputs": [
    {
     "name": "stdout",
     "output_type": "stream",
     "text": [
      "(60000, 2)\n"
     ]
    }
   ],
   "source": [
    "print(y_probas_forest.shape)"
   ]
  },
  {
   "cell_type": "code",
   "execution_count": 63,
   "id": "atomic-encoding",
   "metadata": {
    "ExecuteTime": {
     "end_time": "2021-02-22T09:45:00.103144Z",
     "start_time": "2021-02-22T09:45:00.083869Z"
    }
   },
   "outputs": [],
   "source": [
    "# Use the probability as a score\n",
    "y_scores_forest = y_probas_forest[:, 1]\n",
    "fpr_forest, tpr_forest, thresholds_forest = roc_curve(y_train_5, y_scores_forest)"
   ]
  },
  {
   "cell_type": "code",
   "execution_count": 110,
   "id": "annoying-pavilion",
   "metadata": {
    "ExecuteTime": {
     "end_time": "2021-02-22T11:03:16.573852Z",
     "start_time": "2021-02-22T11:03:16.207987Z"
    }
   },
   "outputs": [
    {
     "data": {
      "image/png": "[encoded data removed]",
      "text/plain": [
       "<Figure size 720x576 with 1 Axes>"
      ]
     },
     "metadata": {
      "needs_background": "light"
     },
     "output_type": "display_data"
    }
   ],
   "source": [
    "plt.plot(fpr, tpr, \"g:\", label='SGD', linewidth=2)\n",
    "plot_roc_curve(fpr_forest, tpr_forest, \"Random forest\")\n"
   ]
  },
  {
   "cell_type": "markdown",
   "id": "occupied-stock",
   "metadata": {},
   "source": [
    "So we can see that the performance of the random forest is much better than a SGD: check also AUC"
   ]
  },
  {
   "cell_type": "code",
   "execution_count": 65,
   "id": "governmental-vinyl",
   "metadata": {
    "ExecuteTime": {
     "end_time": "2021-02-22T09:45:00.400136Z",
     "start_time": "2021-02-22T09:45:00.376258Z"
    }
   },
   "outputs": [
    {
     "data": {
      "text/plain": [
       "0.9983436731328145"
      ]
     },
     "execution_count": 65,
     "metadata": {},
     "output_type": "execute_result"
    }
   ],
   "source": [
    "roc_auc_score(y_train_5, y_scores_forest)"
   ]
  },
  {
   "cell_type": "markdown",
   "id": "dirty-banner",
   "metadata": {},
   "source": [
    "## Multiclass Classification"
   ]
  },
  {
   "cell_type": "markdown",
   "id": "differential-license",
   "metadata": {},
   "source": [
    "**Binary classifier**: distinguish between **two** classes (positive vs negative)\n",
    "\n",
    "**Multiclass classifier**: distinguish between **multiple** (>2) classes (AKA **multinomial classifier**)\n",
    "\n",
    "Logisitic Regression, Random Forest, naive Bayes - all good at multiclass classification\n",
    "\n",
    "SGD & SVM are binary only\n",
    "\n",
    "**Binary -> multiclass**: can combine multiple binary classifiers, using different tactics:\n",
    "\n",
    "- **One versus rest (OvR)**: for N classes, train N classifiers, one for each class (like the 5 vs not-5 above). To classify an image, get score from each classifier, select class with highest score.\n",
    "\n",
    "    - **Pros**: fewer classifiers required\n",
    "    - **Cons**: some algorithms scale poorly with the size of training set (e.g. SVM) - prefer OvO in that case\n",
    "\n",
    "- **One versus one (OvO)**: train a classifier for every pair of classes - for N classes, have N(N-1)/2 (i.e. ${N \\choose 2}$) classifiers.\n",
    "    \n",
    "    - **Pros**: each classifier only needs part of the dataset - only the 2 classes it's trying to distinguish\n",
    "    - **Cons**: many more classifiers required than in OvR\n",
    "\n",
    "sklearn will automatically run OvR or OnO depending on the algorithm\n",
    "\n",
    "e.g. for SVC (SVM-classifier) it runs OvO"
   ]
  },
  {
   "cell_type": "code",
   "execution_count": 62,
   "id": "wanted-shanghai",
   "metadata": {
    "ExecuteTime": {
     "end_time": "2021-02-23T11:21:02.081060Z",
     "start_time": "2021-02-23T11:21:02.077623Z"
    },
    "init_cell": true
   },
   "outputs": [],
   "source": [
    "from sklearn.svm import SVC"
   ]
  },
  {
   "cell_type": "code",
   "execution_count": 67,
   "id": "engaged-seating",
   "metadata": {
    "ExecuteTime": {
     "end_time": "2021-02-22T09:49:31.787288Z",
     "start_time": "2021-02-22T09:45:00.417916Z"
    }
   },
   "outputs": [
    {
     "data": {
      "text/plain": [
       "array([5], dtype=uint8)"
      ]
     },
     "execution_count": 67,
     "metadata": {},
     "output_type": "execute_result"
    }
   ],
   "source": [
    "# this takes a while\n",
    "svm_clf = SVC()\n",
    "svm_clf.fit(X_train, y_train) # train on all labels, not just 5s\n",
    "svm_clf.predict([some_digit])"
   ]
  },
  {
   "cell_type": "code",
   "execution_count": 68,
   "id": "subject-theology",
   "metadata": {
    "ExecuteTime": {
     "end_time": "2021-02-22T09:49:31.814442Z",
     "start_time": "2021-02-22T09:49:31.790886Z"
    }
   },
   "outputs": [
    {
     "data": {
      "text/plain": [
       "array([[ 1.72501977,  2.72809088,  7.2510018 ,  8.3076379 , -0.31087254,\n",
       "         9.3132482 ,  1.70975103,  2.76765202,  6.23049537,  4.84771048]])"
      ]
     },
     "execution_count": 68,
     "metadata": {},
     "output_type": "execute_result"
    }
   ],
   "source": [
    "# check decision_function - now returns one score for each class\n",
    "some_digit_scores = svm_clf.decision_function([some_digit])\n",
    "some_digit_scores"
   ]
  },
  {
   "cell_type": "code",
   "execution_count": 69,
   "id": "considerable-minneapolis",
   "metadata": {
    "ExecuteTime": {
     "end_time": "2021-02-22T09:49:31.824224Z",
     "start_time": "2021-02-22T09:49:31.817212Z"
    }
   },
   "outputs": [
    {
     "data": {
      "text/plain": [
       "array([0, 1, 2, 3, 4, 5, 6, 7, 8, 9], dtype=uint8)"
      ]
     },
     "execution_count": 69,
     "metadata": {},
     "output_type": "execute_result"
    }
   ],
   "source": [
    "# list of classes, corresponding to score order\n",
    "svm_clf.classes_"
   ]
  },
  {
   "cell_type": "code",
   "execution_count": 70,
   "id": "fewer-musician",
   "metadata": {
    "ExecuteTime": {
     "end_time": "2021-02-22T09:49:31.837798Z",
     "start_time": "2021-02-22T09:49:31.827988Z"
    }
   },
   "outputs": [
    {
     "data": {
      "text/plain": [
       "5"
      ]
     },
     "execution_count": 70,
     "metadata": {},
     "output_type": "execute_result"
    }
   ],
   "source": [
    "svm_clf.classes_[np.argmax(some_digit_scores)]"
   ]
  },
  {
   "cell_type": "markdown",
   "id": "raising-bible",
   "metadata": {},
   "source": [
    "We can force a OvO or OvR strategy by using `OneVsOneClassifier` or `OneVsRestClassifier`:"
   ]
  },
  {
   "cell_type": "code",
   "execution_count": 63,
   "id": "ecological-canadian",
   "metadata": {
    "ExecuteTime": {
     "end_time": "2021-02-23T11:21:04.805643Z",
     "start_time": "2021-02-23T11:21:04.799227Z"
    },
    "init_cell": true
   },
   "outputs": [],
   "source": [
    "from sklearn.multiclass import OneVsRestClassifier"
   ]
  },
  {
   "cell_type": "code",
   "execution_count": 74,
   "id": "dense-stick",
   "metadata": {
    "ExecuteTime": {
     "end_time": "2021-02-22T10:25:08.344559Z",
     "start_time": "2021-02-22T09:52:47.491043Z"
    }
   },
   "outputs": [
    {
     "data": {
      "text/plain": [
       "OneVsRestClassifier(estimator=SVC())"
      ]
     },
     "execution_count": 74,
     "metadata": {},
     "output_type": "execute_result"
    }
   ],
   "source": [
    "# this takes a long time!\n",
    "ovr_clf = OneVsRestClassifier(SVC())\n",
    "ovr_clf.fit(X_train, y_train)"
   ]
  },
  {
   "cell_type": "code",
   "execution_count": 75,
   "id": "touched-shanghai",
   "metadata": {
    "ExecuteTime": {
     "end_time": "2021-02-22T10:25:08.616260Z",
     "start_time": "2021-02-22T10:25:08.352817Z"
    }
   },
   "outputs": [
    {
     "data": {
      "text/plain": [
       "10"
      ]
     },
     "execution_count": 75,
     "metadata": {},
     "output_type": "execute_result"
    }
   ],
   "source": [
    "ovr_clf.predict([some_digit])\n",
    "len(ovr_clf.estimators_)"
   ]
  },
  {
   "cell_type": "code",
   "execution_count": 76,
   "id": "entire-crawford",
   "metadata": {
    "ExecuteTime": {
     "end_time": "2021-02-22T10:27:57.764653Z",
     "start_time": "2021-02-22T10:25:08.623645Z"
    }
   },
   "outputs": [
    {
     "data": {
      "text/plain": [
       "array([3], dtype=uint8)"
      ]
     },
     "execution_count": 76,
     "metadata": {},
     "output_type": "execute_result"
    }
   ],
   "source": [
    "# also for SGD classifier - much quicker\n",
    "sgd_clf.fit(X_train, y_train)\n",
    "sgd_clf.predict([some_digit])"
   ]
  },
  {
   "cell_type": "markdown",
   "id": "normal-grace",
   "metadata": {},
   "source": [
    "So our SGD classifier didn't get it right for our choice digit. Let's check the scores:"
   ]
  },
  {
   "cell_type": "code",
   "execution_count": 77,
   "id": "collective-behavior",
   "metadata": {
    "ExecuteTime": {
     "end_time": "2021-02-22T10:27:57.776495Z",
     "start_time": "2021-02-22T10:27:57.767747Z"
    }
   },
   "outputs": [
    {
     "data": {
      "text/plain": [
       "array([[-31893.03095419, -34419.69069632,  -9530.63950739,\n",
       "          1823.73154031, -22320.14822878,  -1385.80478895,\n",
       "        -26188.91070951, -16147.51323997,  -4604.35491274,\n",
       "        -12050.767298  ]])"
      ]
     },
     "execution_count": 77,
     "metadata": {},
     "output_type": "execute_result"
    }
   ],
   "source": [
    "sgd_clf.decision_function([some_digit])"
   ]
  },
  {
   "cell_type": "markdown",
   "id": "meaning-waters",
   "metadata": {},
   "source": [
    "So we can see that it was a lot more confident it was 3 than a 5, although 5 was its next choice.\n",
    "\n",
    "We can also do the usual cross validation (remember, this does `fit` internally, so it will take some time):"
   ]
  },
  {
   "cell_type": "code",
   "execution_count": 78,
   "id": "proved-performance",
   "metadata": {
    "ExecuteTime": {
     "end_time": "2021-02-22T10:32:35.524293Z",
     "start_time": "2021-02-22T10:27:57.779589Z"
    }
   },
   "outputs": [
    {
     "name": "stderr",
     "output_type": "stream",
     "text": [
      "[Parallel(n_jobs=1)]: Using backend SequentialBackend with 1 concurrent workers.\n",
      "[Parallel(n_jobs=1)]: Done   3 out of   3 | elapsed:  4.6min finished\n"
     ]
    },
    {
     "data": {
      "text/plain": [
       "array([0.87365, 0.85835, 0.8689 ])"
      ]
     },
     "execution_count": 78,
     "metadata": {},
     "output_type": "execute_result"
    }
   ],
   "source": [
    "cross_val_score(sgd_clf, X_train, y_train, cv=3, scoring='accuracy', verbose=1)"
   ]
  },
  {
   "cell_type": "markdown",
   "id": "dimensional-nightlife",
   "metadata": {},
   "source": [
    "Can we improve performance by scaling beforehand?"
   ]
  },
  {
   "cell_type": "code",
   "execution_count": 64,
   "id": "saving-benefit",
   "metadata": {
    "ExecuteTime": {
     "end_time": "2021-02-23T11:21:09.565822Z",
     "start_time": "2021-02-23T11:21:09.556524Z"
    },
    "init_cell": true
   },
   "outputs": [],
   "source": [
    "from sklearn.preprocessing import StandardScaler"
   ]
  },
  {
   "cell_type": "code",
   "execution_count": 80,
   "id": "conceptual-approach",
   "metadata": {
    "ExecuteTime": {
     "end_time": "2021-02-22T10:32:38.104887Z",
     "start_time": "2021-02-22T10:32:35.538361Z"
    }
   },
   "outputs": [],
   "source": [
    "scaler = StandardScaler()\n",
    "X_train_scaled = scaler.fit_transform(X_train.astype(np.float64)) # need to convert to scale properly, was ints"
   ]
  },
  {
   "cell_type": "code",
   "execution_count": 81,
   "id": "elementary-contact",
   "metadata": {
    "ExecuteTime": {
     "end_time": "2021-02-22T10:44:35.601844Z",
     "start_time": "2021-02-22T10:32:38.110013Z"
    }
   },
   "outputs": [
    {
     "name": "stderr",
     "output_type": "stream",
     "text": [
      "[Parallel(n_jobs=1)]: Using backend SequentialBackend with 1 concurrent workers.\n",
      "[Parallel(n_jobs=1)]: Done   3 out of   3 | elapsed: 12.0min finished\n"
     ]
    },
    {
     "data": {
      "text/plain": [
       "array([0.8983, 0.891 , 0.9018])"
      ]
     },
     "execution_count": 81,
     "metadata": {},
     "output_type": "execute_result"
    }
   ],
   "source": [
    "cross_val_score(sgd_clf, X_train_scaled, y_train, cv=3, scoring='accuracy', verbose=1)"
   ]
  },
  {
   "cell_type": "markdown",
   "id": "great-pathology",
   "metadata": {},
   "source": [
    "So just doing standard scaling improves the accuracy by up to 5%."
   ]
  },
  {
   "cell_type": "markdown",
   "id": "bacterial-tuesday",
   "metadata": {},
   "source": [
    "## Error Analysis"
   ]
  },
  {
   "cell_type": "code",
   "execution_count": 82,
   "id": "unnecessary-kitchen",
   "metadata": {
    "ExecuteTime": {
     "end_time": "2021-02-22T10:57:46.910674Z",
     "start_time": "2021-02-22T10:44:35.609960Z"
    }
   },
   "outputs": [],
   "source": [
    "y_train_pred = cross_val_predict(sgd_clf, X_train_scaled, y_train, cv=3)"
   ]
  },
  {
   "cell_type": "code",
   "execution_count": 83,
   "id": "unable-guidance",
   "metadata": {
    "ExecuteTime": {
     "end_time": "2021-02-22T10:57:47.027765Z",
     "start_time": "2021-02-22T10:57:46.920644Z"
    }
   },
   "outputs": [
    {
     "data": {
      "text/plain": [
       "array([[5577,    0,   22,    5,    8,   43,   36,    6,  225,    1],\n",
       "       [   0, 6400,   37,   24,    4,   44,    4,    7,  212,   10],\n",
       "       [  27,   27, 5220,   92,   73,   27,   67,   36,  378,   11],\n",
       "       [  22,   17,  117, 5227,    2,  203,   27,   40,  403,   73],\n",
       "       [  12,   14,   41,    9, 5182,   12,   34,   27,  347,  164],\n",
       "       [  27,   15,   30,  168,   53, 4444,   75,   14,  535,   60],\n",
       "       [  30,   15,   42,    3,   44,   97, 5552,    3,  131,    1],\n",
       "       [  21,   10,   51,   30,   49,   12,    3, 5684,  195,  210],\n",
       "       [  17,   63,   48,   86,    3,  126,   25,   10, 5429,   44],\n",
       "       [  25,   18,   30,   64,  118,   36,    1,  179,  371, 5107]])"
      ]
     },
     "execution_count": 83,
     "metadata": {},
     "output_type": "execute_result"
    }
   ],
   "source": [
    "conf_mx = confusion_matrix(y_train, y_train_pred)\n",
    "conf_mx"
   ]
  },
  {
   "cell_type": "code",
   "execution_count": 84,
   "id": "actual-reservation",
   "metadata": {
    "ExecuteTime": {
     "end_time": "2021-02-22T10:57:47.812165Z",
     "start_time": "2021-02-22T10:57:47.031773Z"
    }
   },
   "outputs": [
    {
     "data": {
      "text/plain": [
       "<Figure size 432x288 with 0 Axes>"
      ]
     },
     "metadata": {},
     "output_type": "display_data"
    },
    {
     "data": {
      "image/png": "[encoded data removed]",
      "text/plain": [
       "<Figure size 288x288 with 1 Axes>"
      ]
     },
     "metadata": {
      "needs_background": "light"
     },
     "output_type": "display_data"
    }
   ],
   "source": [
    "plt.matshow(conf_mx, cmap=plt.gray());"
   ]
  },
  {
   "cell_type": "code",
   "execution_count": 85,
   "id": "satellite-disclaimer",
   "metadata": {
    "ExecuteTime": {
     "end_time": "2021-02-22T10:57:48.858007Z",
     "start_time": "2021-02-22T10:57:47.822866Z"
    }
   },
   "outputs": [
    {
     "data": {
      "text/plain": [
       "<matplotlib.image.AxesImage at 0x116358750>"
      ]
     },
     "execution_count": 85,
     "metadata": {},
     "output_type": "execute_result"
    },
    {
     "data": {
      "image/png": "[encoded data removed]",
      "text/plain": [
       "<Figure size 432x288 with 1 Axes>"
      ]
     },
     "metadata": {
      "needs_background": "light"
     },
     "output_type": "display_data"
    }
   ],
   "source": [
    "plt.imshow(conf_mx, cmap=plt.gray())"
   ]
  },
  {
   "cell_type": "code",
   "execution_count": 86,
   "id": "martial-committee",
   "metadata": {
    "ExecuteTime": {
     "end_time": "2021-02-22T10:57:48.884434Z",
     "start_time": "2021-02-22T10:57:48.863125Z"
    }
   },
   "outputs": [],
   "source": [
    "# actual classes on rows, predicted classes as columns\n",
    "row_sums = conf_mx.sum(axis=1, keepdims=True)"
   ]
  },
  {
   "cell_type": "code",
   "execution_count": 87,
   "id": "sharp-brazilian",
   "metadata": {
    "ExecuteTime": {
     "end_time": "2021-02-22T10:57:48.904500Z",
     "start_time": "2021-02-22T10:57:48.892702Z"
    }
   },
   "outputs": [],
   "source": [
    "norm_conf_mx = conf_mx / row_sums"
   ]
  },
  {
   "cell_type": "code",
   "execution_count": 88,
   "id": "educated-lobby",
   "metadata": {
    "ExecuteTime": {
     "end_time": "2021-02-22T10:57:49.222434Z",
     "start_time": "2021-02-22T10:57:48.912808Z"
    }
   },
   "outputs": [
    {
     "data": {
      "text/plain": [
       "<matplotlib.image.AxesImage at 0x132d8f910>"
      ]
     },
     "execution_count": 88,
     "metadata": {},
     "output_type": "execute_result"
    },
    {
     "data": {
      "image/png": "[encoded data removed]",
      "text/plain": [
       "<Figure size 288x288 with 1 Axes>"
      ]
     },
     "metadata": {
      "needs_background": "light"
     },
     "output_type": "display_data"
    }
   ],
   "source": [
    "np.fill_diagonal(norm_conf_mx, 0) # set diags to 0\n",
    "plt.matshow(norm_conf_mx, cmap=plt.cm.gray)"
   ]
  },
  {
   "cell_type": "markdown",
   "id": "proprietary-behavior",
   "metadata": {},
   "source": [
    "Can see that for most classes, the most probable misclassification is as an 8. Additionally, 3 is often misidentified as a 2 or 5, and a 5 as a 3."
   ]
  },
  {
   "cell_type": "code",
   "execution_count": 89,
   "id": "heard-blocking",
   "metadata": {
    "ExecuteTime": {
     "end_time": "2021-02-22T10:57:50.396100Z",
     "start_time": "2021-02-22T10:57:49.227862Z"
    }
   },
   "outputs": [],
   "source": [
    "cl_a, cl_b = 3, 5\n",
    "X_aa = X_train[(y_train == cl_a) & (y_train_pred == cl_a)]\n",
    "X_ab = X_train[(y_train == cl_a) & (y_train_pred == cl_b)]\n",
    "X_ba = X_train[(y_train == cl_b) & (y_train_pred == cl_a)]\n",
    "X_bb = X_train[(y_train == cl_b) & (y_train_pred == cl_b)]"
   ]
  },
  {
   "cell_type": "code",
   "execution_count": 90,
   "id": "classified-hobby",
   "metadata": {
    "ExecuteTime": {
     "end_time": "2021-02-22T10:57:50.421788Z",
     "start_time": "2021-02-22T10:57:50.400904Z"
    }
   },
   "outputs": [],
   "source": [
    "# EXTRA\n",
    "def plot_digits(instances, images_per_row=10, **options):\n",
    "    size = 28\n",
    "    images_per_row = min(len(instances), images_per_row)\n",
    "    images = [instance.reshape(size,size) for instance in instances]\n",
    "    n_rows = (len(instances) - 1) // images_per_row + 1\n",
    "    row_images = []\n",
    "    n_empty = n_rows * images_per_row - len(instances)\n",
    "    images.append(np.zeros((size, size * n_empty)))\n",
    "    for row in range(n_rows):\n",
    "        rimages = images[row * images_per_row : (row + 1) * images_per_row]\n",
    "        row_images.append(np.concatenate(rimages, axis=1))\n",
    "    image = np.concatenate(row_images, axis=0)\n",
    "    plt.imshow(image, cmap = mpl.cm.binary, **options)\n",
    "    plt.axis(\"off\")"
   ]
  },
  {
   "cell_type": "code",
   "execution_count": 91,
   "id": "large-center",
   "metadata": {
    "ExecuteTime": {
     "end_time": "2021-02-22T10:57:51.012306Z",
     "start_time": "2021-02-22T10:57:50.427151Z"
    },
    "scrolled": false
   },
   "outputs": [
    {
     "data": {
      "text/plain": [
       "Text(0.5, 1.0, '5s classified as 5s')"
      ]
     },
     "execution_count": 91,
     "metadata": {},
     "output_type": "execute_result"
    },
    {
     "data": {
      "image/png": "[encoded data removed]",
      "text/plain": [
       "<Figure size 576x576 with 4 Axes>"
      ]
     },
     "metadata": {
      "needs_background": "light"
     },
     "output_type": "display_data"
    }
   ],
   "source": [
    "plt.figure(figsize=(8, 8))\n",
    "plt.subplot(221)\n",
    "plot_digits(X_aa[:25], images_per_row=5)\n",
    "plt.title(f'{cl_a}s classified as {cl_a}s')\n",
    "plt.subplot(222)\n",
    "plot_digits(X_ab[:25], images_per_row=5)\n",
    "plt.title(f'{cl_a}s classified as {cl_b}s')\n",
    "plt.subplot(223)\n",
    "plot_digits(X_ba[:25], images_per_row=5)\n",
    "plt.title(f'{cl_b}s classified as {cl_a}s')\n",
    "plt.subplot(224)\n",
    "plot_digits(X_bb[:25], images_per_row=5)\n",
    "plt.title(f'{cl_b}s classified as {cl_b}s')"
   ]
  },
  {
   "cell_type": "markdown",
   "id": "genetic-ebony",
   "metadata": {},
   "source": [
    "Note that a SGD classifier is a linear model, and not very sophisticated. Infact, the way we have trained our models & setup the problem, it's just training on \n",
    "pixel intensities. So it's not doing anything intelligent, like spotting particular loops, straight edges, etc. And our classifiers are not able to identified rotated/shifted images - e.g. a lot of the misclassified images are italic.\n",
    "\n",
    "\n",
    "(NB one of the \"true\" 3s is actually a 5?! And one of the true 5s looks like a 3?)"
   ]
  },
  {
   "cell_type": "markdown",
   "id": "permanent-maryland",
   "metadata": {},
   "source": [
    "## Multilabel Classification"
   ]
  },
  {
   "cell_type": "markdown",
   "id": "incomplete-tissue",
   "metadata": {},
   "source": [
    "**Multiclass classification**: able to identify an instance as belonging to multiple labels, i.e. can output multiple binary labels."
   ]
  },
  {
   "cell_type": "code",
   "execution_count": 65,
   "id": "becoming-fairy",
   "metadata": {
    "ExecuteTime": {
     "end_time": "2021-02-23T11:21:16.529136Z",
     "start_time": "2021-02-23T11:21:16.525870Z"
    },
    "init_cell": true
   },
   "outputs": [],
   "source": [
    "from sklearn.neighbors import KNeighborsClassifier"
   ]
  },
  {
   "cell_type": "markdown",
   "id": "empirical-overall",
   "metadata": {},
   "source": [
    "Here we are trying to classify numbers with 2 labels: (a) >=7?, (b) odd?"
   ]
  },
  {
   "cell_type": "code",
   "execution_count": 93,
   "id": "under-detection",
   "metadata": {
    "ExecuteTime": {
     "end_time": "2021-02-22T10:57:51.042733Z",
     "start_time": "2021-02-22T10:57:51.030655Z"
    }
   },
   "outputs": [],
   "source": [
    "y_train_large = (y_train >= 7)\n",
    "y_train_odd = (y_train % 2 == 1)\n",
    "y_multilabel = np.c_[y_train_large, y_train_odd] # c_ stacks along 2nd axis, so here puts one set of labels as a new column next to the 1st set of labels"
   ]
  },
  {
   "cell_type": "code",
   "execution_count": 94,
   "id": "living-charm",
   "metadata": {
    "ExecuteTime": {
     "end_time": "2021-02-22T10:57:51.052663Z",
     "start_time": "2021-02-22T10:57:51.045946Z"
    }
   },
   "outputs": [
    {
     "data": {
      "text/plain": [
       "(60000, 2)"
      ]
     },
     "execution_count": 94,
     "metadata": {},
     "output_type": "execute_result"
    }
   ],
   "source": [
    "y_multilabel.shape"
   ]
  },
  {
   "cell_type": "code",
   "execution_count": 95,
   "id": "multiple-delaware",
   "metadata": {
    "ExecuteTime": {
     "end_time": "2021-02-22T10:57:51.072241Z",
     "start_time": "2021-02-22T10:57:51.062138Z"
    }
   },
   "outputs": [
    {
     "data": {
      "text/plain": [
       "array([[False,  True],\n",
       "       [False, False],\n",
       "       [False, False],\n",
       "       [False,  True],\n",
       "       [ True,  True]])"
      ]
     },
     "execution_count": 95,
     "metadata": {},
     "output_type": "execute_result"
    }
   ],
   "source": [
    "y_multilabel[:5,:]"
   ]
  },
  {
   "cell_type": "code",
   "execution_count": 96,
   "id": "contained-provincial",
   "metadata": {
    "ExecuteTime": {
     "end_time": "2021-02-22T10:57:51.166327Z",
     "start_time": "2021-02-22T10:57:51.082699Z"
    }
   },
   "outputs": [
    {
     "data": {
      "text/plain": [
       "KNeighborsClassifier()"
      ]
     },
     "execution_count": 96,
     "metadata": {},
     "output_type": "execute_result"
    }
   ],
   "source": [
    "knn_clf = KNeighborsClassifier()\n",
    "knn_clf.fit(X_train, y_multilabel)"
   ]
  },
  {
   "cell_type": "code",
   "execution_count": 97,
   "id": "hollywood-helmet",
   "metadata": {
    "ExecuteTime": {
     "end_time": "2021-02-22T10:57:51.324998Z",
     "start_time": "2021-02-22T10:57:51.171174Z"
    }
   },
   "outputs": [
    {
     "data": {
      "text/plain": [
       "array([[False,  True]])"
      ]
     },
     "execution_count": 97,
     "metadata": {},
     "output_type": "execute_result"
    }
   ],
   "source": [
    "knn_clf.predict([some_digit])"
   ]
  },
  {
   "cell_type": "markdown",
   "id": "solar-chemical",
   "metadata": {},
   "source": [
    "So our model correctly predicts that this 5 is not >=7, and is odd.\n",
    "\n",
    "Let's evaluate the performance of the classifier. There is not a best-way; it depends on the project/dataset.\n",
    "\n",
    "One way is to measure the F1 score for each label, then average it out:"
   ]
  },
  {
   "cell_type": "code",
   "execution_count": 98,
   "id": "worldwide-sharing",
   "metadata": {
    "ExecuteTime": {
     "end_time": "2021-02-22T11:01:43.303815Z",
     "start_time": "2021-02-22T10:57:51.328641Z"
    }
   },
   "outputs": [],
   "source": [
    "y_train_knn_pred = cross_val_predict(knn_clf, X_train, y_multilabel, cv=3)"
   ]
  },
  {
   "cell_type": "code",
   "execution_count": 99,
   "id": "second-landscape",
   "metadata": {
    "ExecuteTime": {
     "end_time": "2021-02-22T11:01:43.383882Z",
     "start_time": "2021-02-22T11:01:43.310810Z"
    }
   },
   "outputs": [
    {
     "data": {
      "text/plain": [
       "0.976410265560605"
      ]
     },
     "execution_count": 99,
     "metadata": {},
     "output_type": "execute_result"
    }
   ],
   "source": [
    "f1_score(y_multilabel, y_train_knn_pred, average='macro')"
   ]
  },
  {
   "cell_type": "markdown",
   "id": "arbitrary-tuition",
   "metadata": {},
   "source": [
    "But this method assumes similar number of each label. If we have imbalanced samples, we want to weight the individual label scores differently: we use `average='weighted'` instead."
   ]
  },
  {
   "cell_type": "markdown",
   "id": "naval-composite",
   "metadata": {},
   "source": [
    "## Multioutput classification"
   ]
  },
  {
   "cell_type": "markdown",
   "id": "little-chance",
   "metadata": {},
   "source": [
    "An even more generalised form of classification.\n",
    "\n",
    "**Multioutput-multiclass classification**: can have multiple labels, each of which can be multiclass.\n",
    "\n",
    "\n",
    "e.g. image data: for each of N pixels, we want to classify as one of M discrete intensity values.\n",
    "\n",
    "multilabel - one label per pixel, multiple pixels\n",
    "\n",
    "multiclass - each pixel can have multiple values, not just 0/1\n",
    "\n",
    "N.B. close to regression - not obvious where distinction lies\n",
    "\n",
    "Do an example of removing noise from number images: want to classify each pixel with a certain intensity value"
   ]
  },
  {
   "cell_type": "code",
   "execution_count": 100,
   "id": "southern-facing",
   "metadata": {
    "ExecuteTime": {
     "end_time": "2021-02-22T11:01:50.185076Z",
     "start_time": "2021-02-22T11:01:47.959962Z"
    }
   },
   "outputs": [],
   "source": [
    "# make noisy images\n",
    "noise = np.random.randint(0, 100, (len(X_train), 784))\n",
    "X_train_mod = X_train + noise\n",
    "noise = np.random.randint(0, 100, (len(X_test), 784))\n",
    "X_test_mod = X_test + noise\n",
    "y_train_mod = X_train\n",
    "y_test_mod = X_test"
   ]
  },
  {
   "cell_type": "code",
   "execution_count": 113,
   "id": "forty-consideration",
   "metadata": {
    "ExecuteTime": {
     "end_time": "2021-02-22T11:03:32.558527Z",
     "start_time": "2021-02-22T11:03:32.069458Z"
    }
   },
   "outputs": [
    {
     "data": {
      "text/plain": [
       "<matplotlib.image.AxesImage at 0x134dcab90>"
      ]
     },
     "execution_count": 113,
     "metadata": {},
     "output_type": "execute_result"
    },
    {
     "data": {
      "image/png": "[encoded data removed]",
      "text/plain": [
       "<Figure size 720x432 with 2 Axes>"
      ]
     },
     "metadata": {
      "needs_background": "light"
     },
     "output_type": "display_data"
    }
   ],
   "source": [
    "# an example of original & noisy images:\n",
    "fig, ax = plt.subplots(1, 2, figsize=(10, 6))\n",
    "some_digit = 4\n",
    "ax[0].matshow(X_test[some_digit].reshape(28, 28), cmap=plt.cm.gray)\n",
    "ax[1].matshow(X_test_mod[some_digit].reshape(28, 28), cmap=plt.cm.gray)"
   ]
  },
  {
   "cell_type": "code",
   "execution_count": 102,
   "id": "fifth-silver",
   "metadata": {
    "ExecuteTime": {
     "end_time": "2021-02-22T11:02:00.719695Z",
     "start_time": "2021-02-22T11:01:50.866834Z"
    }
   },
   "outputs": [
    {
     "data": {
      "text/plain": [
       "KNeighborsClassifier()"
      ]
     },
     "execution_count": 102,
     "metadata": {},
     "output_type": "execute_result"
    }
   ],
   "source": [
    "# train our classifier\n",
    "knn_clf.fit(X_train_mod, y_train_mod)"
   ]
  },
  {
   "cell_type": "code",
   "execution_count": 103,
   "id": "billion-moisture",
   "metadata": {
    "ExecuteTime": {
     "end_time": "2021-02-22T11:02:01.103777Z",
     "start_time": "2021-02-22T11:02:00.723124Z"
    }
   },
   "outputs": [],
   "source": [
    "clean_digit = knn_clf.predict([X_test_mod[some_digit]])"
   ]
  },
  {
   "cell_type": "code",
   "execution_count": 114,
   "id": "fatty-enclosure",
   "metadata": {
    "ExecuteTime": {
     "end_time": "2021-02-22T11:03:36.704983Z",
     "start_time": "2021-02-22T11:03:36.386667Z"
    }
   },
   "outputs": [
    {
     "data": {
      "text/plain": [
       "<matplotlib.image.AxesImage at 0x1415f5790>"
      ]
     },
     "execution_count": 114,
     "metadata": {},
     "output_type": "execute_result"
    },
    {
     "data": {
      "image/png": "[encoded data removed]",
      "text/plain": [
       "<Figure size 576x576 with 1 Axes>"
      ]
     },
     "metadata": {
      "needs_background": "light"
     },
     "output_type": "display_data"
    }
   ],
   "source": [
    "plt.matshow(clean_digit.reshape(28, 28), cmap=plt.cm.gray)"
   ]
  },
  {
   "cell_type": "code",
   "execution_count": 115,
   "id": "digital-crisis",
   "metadata": {
    "ExecuteTime": {
     "end_time": "2021-02-22T11:04:29.215123Z",
     "start_time": "2021-02-22T11:04:29.209342Z"
    }
   },
   "outputs": [],
   "source": [
    "# Check differences on per-pixel basis\n",
    "diff = X_test[some_digit] - clean_digit"
   ]
  },
  {
   "cell_type": "code",
   "execution_count": 138,
   "id": "theoretical-edward",
   "metadata": {
    "ExecuteTime": {
     "end_time": "2021-02-22T11:10:31.514661Z",
     "start_time": "2021-02-22T11:10:31.508812Z"
    }
   },
   "outputs": [
    {
     "data": {
      "text/plain": [
       "(1, 784)"
      ]
     },
     "execution_count": 138,
     "metadata": {},
     "output_type": "execute_result"
    }
   ],
   "source": [
    "diff.shape"
   ]
  },
  {
   "cell_type": "code",
   "execution_count": 170,
   "id": "strategic-empty",
   "metadata": {
    "ExecuteTime": {
     "end_time": "2021-02-22T11:19:20.180613Z",
     "start_time": "2021-02-22T11:19:19.822669Z"
    }
   },
   "outputs": [
    {
     "data": {
      "image/png": "[encoded data removed]",
      "text/plain": [
       "<Figure size 576x576 with 1 Axes>"
      ]
     },
     "metadata": {
      "needs_background": "light"
     },
     "output_type": "display_data"
    }
   ],
   "source": [
    "plt.matshow(diff.reshape(28, 28), cmap=plt.cm.gray)\n",
    "plt.title('Difference in true & predicted pixel values');"
   ]
  },
  {
   "cell_type": "code",
   "execution_count": 122,
   "id": "decreased-circus",
   "metadata": {
    "ExecuteTime": {
     "end_time": "2021-02-22T11:06:14.892660Z",
     "start_time": "2021-02-22T11:06:14.885317Z"
    }
   },
   "outputs": [
    {
     "data": {
      "text/plain": [
       "(784,)"
      ]
     },
     "execution_count": 122,
     "metadata": {},
     "output_type": "execute_result"
    }
   ],
   "source": [
    "diff.ravel().shape"
   ]
  },
  {
   "cell_type": "code",
   "execution_count": 174,
   "id": "simplified-concentration",
   "metadata": {
    "ExecuteTime": {
     "end_time": "2021-02-22T11:20:15.175161Z",
     "start_time": "2021-02-22T11:20:14.556121Z"
    }
   },
   "outputs": [
    {
     "data": {
      "image/png": "[encoded data removed]",
      "text/plain": [
       "<Figure size 720x576 with 1 Axes>"
      ]
     },
     "metadata": {
      "needs_background": "light"
     },
     "output_type": "display_data"
    }
   ],
   "source": [
    "plt.hist(diff.ravel(), bins=25);\n",
    "plt.yscale('log')\n",
    "plt.xlabel('True - predicted pixel value');\n",
    "plt.ylabel('N');\n",
    "plt.title(\"Considering all pixels\");"
   ]
  },
  {
   "cell_type": "markdown",
   "id": "alien-scratch",
   "metadata": {},
   "source": [
    "So that looks pretty close! Most values are identical (most are 0s). We can repeat it without the 0s:"
   ]
  },
  {
   "cell_type": "code",
   "execution_count": 143,
   "id": "english-monte",
   "metadata": {
    "ExecuteTime": {
     "end_time": "2021-02-22T11:12:39.111721Z",
     "start_time": "2021-02-22T11:12:39.105890Z"
    }
   },
   "outputs": [
    {
     "name": "stdout",
     "output_type": "stream",
     "text": [
      "(784,)\n"
     ]
    }
   ],
   "source": [
    "mask = X_test[some_digit] > 0\n",
    "print(mask.shape)\n",
    "diff_nonzero = X_test[some_digit].ravel()[mask] - clean_digit.ravel()[mask]"
   ]
  },
  {
   "cell_type": "code",
   "execution_count": 173,
   "id": "furnished-directory",
   "metadata": {
    "ExecuteTime": {
     "end_time": "2021-02-22T11:20:02.123940Z",
     "start_time": "2021-02-22T11:20:01.513205Z"
    }
   },
   "outputs": [
    {
     "data": {
      "image/png": "[encoded data removed]",
      "text/plain": [
       "<Figure size 720x576 with 1 Axes>"
      ]
     },
     "metadata": {
      "needs_background": "light"
     },
     "output_type": "display_data"
    }
   ],
   "source": [
    "plt.hist(diff_nonzero, bins=25);\n",
    "plt.xlabel('True - predicted pixel value');\n",
    "plt.ylabel('N');\n",
    "plt.title('Not considering true pixels = 0');"
   ]
  },
  {
   "cell_type": "code",
   "execution_count": 165,
   "id": "infrared-nigeria",
   "metadata": {
    "ExecuteTime": {
     "end_time": "2021-02-22T11:18:08.213794Z",
     "start_time": "2021-02-22T11:18:08.207451Z"
    }
   },
   "outputs": [
    {
     "name": "stdout",
     "output_type": "stream",
     "text": [
      "50% of points lie in range [-2.00, 123.50]\n",
      "95% of points lie in range [-140.70, 224.30]\n"
     ]
    }
   ],
   "source": [
    "quantiles = np.quantile(diff_nonzero, [0.05, 0.25, 0.5, 0.75, 0.95])\n",
    "print('50% of points lie in range [{:.2f}, {:.2f}]'.format(quantiles[1], quantiles[3]))\n",
    "print('95% of points lie in range [{:.2f}, {:.2f}]'.format(quantiles[0], quantiles[-1]))"
   ]
  },
  {
   "cell_type": "code",
   "execution_count": 156,
   "id": "incorporated-washington",
   "metadata": {
    "ExecuteTime": {
     "end_time": "2021-02-22T11:15:36.209553Z",
     "start_time": "2021-02-22T11:15:36.205626Z"
    }
   },
   "outputs": [],
   "source": [
    "diff_nonzero_rel = diff_nonzero / X_test[some_digit].ravel()[mask]"
   ]
  },
  {
   "cell_type": "code",
   "execution_count": 176,
   "id": "expected-matter",
   "metadata": {
    "ExecuteTime": {
     "end_time": "2021-02-22T11:20:47.290385Z",
     "start_time": "2021-02-22T11:20:46.824602Z"
    }
   },
   "outputs": [
    {
     "data": {
      "image/png": "[encoded data removed]",
      "text/plain": [
       "<Figure size 720x576 with 1 Axes>"
      ]
     },
     "metadata": {
      "needs_background": "light"
     },
     "output_type": "display_data"
    }
   ],
   "source": [
    "plt.hist(diff_nonzero_rel, bins=100);\n",
    "plt.xlabel('(True value - predicted pixel value) / (True value)');\n",
    "plt.ylabel('N');"
   ]
  },
  {
   "cell_type": "code",
   "execution_count": 169,
   "id": "affiliated-republican",
   "metadata": {
    "ExecuteTime": {
     "end_time": "2021-02-22T11:18:39.284165Z",
     "start_time": "2021-02-22T11:18:39.278565Z"
    }
   },
   "outputs": [
    {
     "name": "stdout",
     "output_type": "stream",
     "text": [
      "[-1.82058824 -0.00793651  0.49603175  1.          1.        ]\n"
     ]
    }
   ],
   "source": [
    "quantiles = np.quantile(diff_nonzero_rel, [0.05, 0.25, 0.5, 0.75, 0.95])\n",
    "print(quantiles)"
   ]
  },
  {
   "cell_type": "markdown",
   "id": "nearby-cemetery",
   "metadata": {},
   "source": [
    "So most pixels are v.close to the true value, with a small number very different (of those, predicted >> true)"
   ]
  },
  {
   "cell_type": "code",
   "execution_count": 181,
   "id": "committed-watershed",
   "metadata": {
    "ExecuteTime": {
     "end_time": "2021-02-22T11:22:31.813553Z",
     "start_time": "2021-02-22T11:22:31.559670Z"
    }
   },
   "outputs": [
    {
     "data": {
      "image/png": "[encoded data removed]",
      "text/plain": [
       "<Figure size 720x576 with 1 Axes>"
      ]
     },
     "metadata": {
      "needs_background": "light"
     },
     "output_type": "display_data"
    }
   ],
   "source": [
    "qs = np.arange(0, 1.01, 0.01)\n",
    "quantiles = np.quantile(diff_nonzero_rel, qs)\n",
    "plt.plot(qs, quantiles)\n",
    "plt.xlabel('Quantile (fractional)')\n",
    "plt.ylabel('| (True-predicted) / True |');"
   ]
  },
  {
   "cell_type": "markdown",
   "id": "celtic-diamond",
   "metadata": {},
   "source": [
    "## Exercises"
   ]
  },
  {
   "cell_type": "markdown",
   "id": "applied-prototype",
   "metadata": {},
   "source": [
    "### 1. Build classifier for MNIST with > 97% accuracy on test set."
   ]
  },
  {
   "cell_type": "markdown",
   "id": "ancient-complement",
   "metadata": {},
   "source": [
    "Hint: try KNeighborsClassifier, play with `weights`, `n_neighbors`"
   ]
  },
  {
   "cell_type": "code",
   "execution_count": 66,
   "id": "through-knock",
   "metadata": {
    "ExecuteTime": {
     "end_time": "2021-02-23T11:21:32.192088Z",
     "start_time": "2021-02-23T11:21:32.186580Z"
    },
    "init_cell": true
   },
   "outputs": [],
   "source": [
    "from sklearn.model_selection import GridSearchCV"
   ]
  },
  {
   "cell_type": "code",
   "execution_count": 189,
   "id": "relevant-disabled",
   "metadata": {
    "ExecuteTime": {
     "end_time": "2021-02-22T12:17:56.316843Z",
     "start_time": "2021-02-22T12:01:07.466735Z"
    }
   },
   "outputs": [
    {
     "name": "stdout",
     "output_type": "stream",
     "text": [
      "Fitting 3 folds for each of 6 candidates, totalling 18 fits\n",
      "[CV] END .....................n_neighbors=3, weights=uniform; total time=  57.1s\n",
      "[CV] END .....................n_neighbors=3, weights=uniform; total time= 1.0min\n",
      "[CV] END .....................n_neighbors=3, weights=uniform; total time=  53.6s\n",
      "[CV] END ....................n_neighbors=3, weights=distance; total time=  42.5s\n",
      "[CV] END ....................n_neighbors=3, weights=distance; total time=  43.0s\n",
      "[CV] END ....................n_neighbors=3, weights=distance; total time=  40.6s\n",
      "[CV] END .....................n_neighbors=8, weights=uniform; total time=  49.2s\n",
      "[CV] END .....................n_neighbors=8, weights=uniform; total time=  54.6s\n",
      "[CV] END .....................n_neighbors=8, weights=uniform; total time=  50.4s\n",
      "[CV] END ....................n_neighbors=8, weights=distance; total time=  46.1s\n",
      "[CV] END ....................n_neighbors=8, weights=distance; total time=  47.1s\n",
      "[CV] END ....................n_neighbors=8, weights=distance; total time= 1.5min\n",
      "[CV] END ....................n_neighbors=14, weights=uniform; total time= 1.1min\n",
      "[CV] END ....................n_neighbors=14, weights=uniform; total time= 1.0min\n",
      "[CV] END ....................n_neighbors=14, weights=uniform; total time=  58.6s\n",
      "[CV] END ...................n_neighbors=14, weights=distance; total time=  59.2s\n",
      "[CV] END ...................n_neighbors=14, weights=distance; total time= 1.1min\n",
      "[CV] END ...................n_neighbors=14, weights=distance; total time= 1.1min\n"
     ]
    },
    {
     "data": {
      "text/plain": [
       "GridSearchCV(cv=3, estimator=KNeighborsClassifier(),\n",
       "             param_grid=[{'n_neighbors': [3, 8, 14],\n",
       "                          'weights': ['uniform', 'distance']}],\n",
       "             scoring='accuracy', verbose=2)"
      ]
     },
     "execution_count": 189,
     "metadata": {},
     "output_type": "execute_result"
    }
   ],
   "source": [
    "# do a Grid search as only a few discrete values\n",
    "# KNN is slow\n",
    "param_grid = [\n",
    "    {'n_neighbors': [3, 8, 14], 'weights': ['uniform', 'distance']},\n",
    "]\n",
    "\n",
    "my_knn_clf = KNeighborsClassifier()\n",
    "\n",
    "grid_search = GridSearchCV(my_knn_clf, param_grid, cv=3,\n",
    "                           scoring='accuracy',\n",
    "                           return_train_score=False, verbose=2)\n",
    "grid_search.fit(X_train, y_train)"
   ]
  },
  {
   "cell_type": "code",
   "execution_count": 190,
   "id": "patent-monroe",
   "metadata": {
    "ExecuteTime": {
     "end_time": "2021-02-22T12:19:17.113601Z",
     "start_time": "2021-02-22T12:19:17.097349Z"
    }
   },
   "outputs": [
    {
     "data": {
      "text/plain": [
       "KNeighborsClassifier(n_neighbors=3, weights='distance')"
      ]
     },
     "execution_count": 190,
     "metadata": {},
     "output_type": "execute_result"
    }
   ],
   "source": [
    "grid_search.best_estimator_"
   ]
  },
  {
   "cell_type": "code",
   "execution_count": 197,
   "id": "blessed-couple",
   "metadata": {
    "ExecuteTime": {
     "end_time": "2021-02-22T12:40:06.211289Z",
     "start_time": "2021-02-22T12:40:06.201665Z"
    }
   },
   "outputs": [
    {
     "name": "stdout",
     "output_type": "stream",
     "text": [
      "Best params: {'n_neighbors': 3, 'weights': 'distance'}\n",
      "Best score: 0.9693333333333333\n",
      "All results:\n",
      "0.9681833333333333 {'n_neighbors': 3, 'weights': 'uniform'}\n",
      "0.9693333333333333 {'n_neighbors': 3, 'weights': 'distance'}\n",
      "0.96435 {'n_neighbors': 8, 'weights': 'uniform'}\n",
      "0.9672666666666666 {'n_neighbors': 8, 'weights': 'distance'}\n",
      "0.9606166666666667 {'n_neighbors': 14, 'weights': 'uniform'}\n",
      "0.9627 {'n_neighbors': 14, 'weights': 'distance'}\n"
     ]
    }
   ],
   "source": [
    "print('Best params:', grid_search.best_params_)\n",
    "print('Best score:', grid_search.best_score_)\n",
    "print(\"All results:\")\n",
    "cvres = grid_search.cv_results_\n",
    "for mean_score, params in zip(cvres['mean_test_score'], cvres['params']):\n",
    "    print(mean_score, params)"
   ]
  },
  {
   "cell_type": "markdown",
   "id": "broadband-story",
   "metadata": {},
   "source": [
    "We can see that there isn't a huge difference between the different parameter configs: `distance` fares slightly better than `uniform`, while a larger number of neighbors appears to slightly degrades performance. Overall, we achieve a high accuracy."
   ]
  },
  {
   "cell_type": "code",
   "execution_count": null,
   "id": "stylish-chosen",
   "metadata": {
    "ExecuteTime": {
     "end_time": "2021-02-22T12:46:17.622576Z",
     "start_time": "2021-02-22T12:46:17.582Z"
    }
   },
   "outputs": [],
   "source": [
    "k = KNeighborsClassifier(n_neighbors=2, weights='distance')\n",
    "cvp = cross_val_predict(k, X_train, y_train, cv=3)"
   ]
  },
  {
   "cell_type": "code",
   "execution_count": null,
   "id": "soviet-invalid",
   "metadata": {
    "ExecuteTime": {
     "end_time": "2021-02-22T12:46:17.617674Z",
     "start_time": "2021-02-22T12:46:10.864Z"
    }
   },
   "outputs": [],
   "source": [
    "cvp"
   ]
  },
  {
   "cell_type": "markdown",
   "id": "advance-energy",
   "metadata": {},
   "source": [
    "Let's evaluate our best estimator on the test set:"
   ]
  },
  {
   "cell_type": "code",
   "execution_count": 67,
   "id": "listed-equation",
   "metadata": {
    "ExecuteTime": {
     "end_time": "2021-02-23T11:21:36.469683Z",
     "start_time": "2021-02-23T11:21:36.466355Z"
    },
    "init_cell": true
   },
   "outputs": [],
   "source": [
    "from sklearn.metrics import accuracy_score"
   ]
  },
  {
   "cell_type": "code",
   "execution_count": 208,
   "id": "interim-affiliate",
   "metadata": {
    "ExecuteTime": {
     "end_time": "2021-02-22T12:52:45.869355Z",
     "start_time": "2021-02-22T12:52:10.800472Z"
    }
   },
   "outputs": [
    {
     "data": {
      "text/plain": [
       "0.9717"
      ]
     },
     "execution_count": 208,
     "metadata": {},
     "output_type": "execute_result"
    }
   ],
   "source": [
    "y_test_pred = grid_search.best_estimator_.predict(X_test)\n",
    "accuracy_score(y_test, y_test_pred)"
   ]
  },
  {
   "cell_type": "markdown",
   "id": "random-bishop",
   "metadata": {},
   "source": [
    "So we get a 97% accuracy! Excellent!"
   ]
  },
  {
   "cell_type": "code",
   "execution_count": 209,
   "id": "functional-trail",
   "metadata": {
    "ExecuteTime": {
     "end_time": "2021-02-22T12:52:45.900464Z",
     "start_time": "2021-02-22T12:52:45.877504Z"
    }
   },
   "outputs": [],
   "source": [
    "conf_mx_test = confusion_matrix(y_test, y_test_pred)"
   ]
  },
  {
   "cell_type": "code",
   "execution_count": 207,
   "id": "integral-college",
   "metadata": {
    "ExecuteTime": {
     "end_time": "2021-02-22T12:49:26.375107Z",
     "start_time": "2021-02-22T12:49:26.032491Z"
    }
   },
   "outputs": [
    {
     "data": {
      "text/plain": [
       "Text(0, 0.5, 'Actual class')"
      ]
     },
     "execution_count": 207,
     "metadata": {},
     "output_type": "execute_result"
    },
    {
     "data": {
      "image/png": "[encoded data removed]",
      "text/plain": [
       "<Figure size 576x576 with 1 Axes>"
      ]
     },
     "metadata": {
      "needs_background": "light"
     },
     "output_type": "display_data"
    }
   ],
   "source": [
    "# actual classes on rows, predicted classes as columns\n",
    "row_sums = conf_mx_test.sum(axis=1, keepdims=True)\n",
    "norm_conf_mx = conf_mx_test / row_sums\n",
    "np.fill_diagonal(norm_conf_mx, 0) # set diags to 0\n",
    "plt.matshow(norm_conf_mx, cmap='gray')\n",
    "plt.xlabel('Predicted class')\n",
    "plt.gca().xaxis.set_label_position('top') \n",
    "plt.ylabel('Actual class')"
   ]
  },
  {
   "cell_type": "markdown",
   "id": "pretty-vocabulary",
   "metadata": {},
   "source": [
    "There's no single number is gets wrong all the time:\n",
    "\n",
    "- 2s as 7s: understandable, if the 2 isn't much to the lower left bend\n",
    "- 4s as 9s: can be similar, especially if rather rounded 4\n",
    "- 5s as 3s: already discussed\n",
    "- 7s as 1s: again, understandable\n",
    "- 8s as 3s, 5s: similar loops"
   ]
  },
  {
   "cell_type": "code",
   "execution_count": 217,
   "id": "exciting-abortion",
   "metadata": {
    "ExecuteTime": {
     "end_time": "2021-02-22T12:54:33.948030Z",
     "start_time": "2021-02-22T12:54:33.939159Z"
    }
   },
   "outputs": [],
   "source": [
    "def show_confusion(cl_a, cl_b):\n",
    "    X_aa = X_test[(y_test == cl_a) & (y_test_pred == cl_a)]\n",
    "    X_ab = X_test[(y_test == cl_a) & (y_test_pred == cl_b)]\n",
    "    X_ba = X_test[(y_test == cl_b) & (y_test_pred == cl_a)]\n",
    "    X_bb = X_test[(y_test == cl_b) & (y_test_pred == cl_b)]\n",
    "\n",
    "    plt.figure(figsize=(8, 8))\n",
    "    plt.subplot(221)\n",
    "    if len(X_aa) > 1:\n",
    "        plot_digits(X_aa[:25], images_per_row=5)\n",
    "        plt.title(f'{cl_a}s classified as {cl_a}s')\n",
    "    plt.subplot(222)\n",
    "    if len(X_ab):\n",
    "        plot_digits(X_ab[:25], images_per_row=5)\n",
    "        plt.title(f'{cl_a}s classified as {cl_b}s')\n",
    "    plt.subplot(223)\n",
    "    if len(X_ba):\n",
    "        plot_digits(X_ba[:25], images_per_row=5)\n",
    "        plt.title(f'{cl_b}s classified as {cl_a}s')\n",
    "    plt.subplot(224)\n",
    "    if len(X_bb):\n",
    "        plot_digits(X_bb[:25], images_per_row=5)\n",
    "        plt.title(f'{cl_b}s classified as {cl_b}s')"
   ]
  },
  {
   "cell_type": "code",
   "execution_count": 218,
   "id": "ahead-cooper",
   "metadata": {
    "ExecuteTime": {
     "end_time": "2021-02-22T12:54:35.045198Z",
     "start_time": "2021-02-22T12:54:34.644115Z"
    }
   },
   "outputs": [
    {
     "data": {
      "image/png": "[encoded data removed]",
      "text/plain": [
       "<Figure size 576x576 with 4 Axes>"
      ]
     },
     "metadata": {
      "needs_background": "light"
     },
     "output_type": "display_data"
    }
   ],
   "source": [
    "show_confusion(2, 7)"
   ]
  },
  {
   "cell_type": "code",
   "execution_count": 219,
   "id": "incorrect-combination",
   "metadata": {
    "ExecuteTime": {
     "end_time": "2021-02-22T12:54:35.581926Z",
     "start_time": "2021-02-22T12:54:35.209255Z"
    }
   },
   "outputs": [
    {
     "data": {
      "image/png": "[encoded data removed]",
      "text/plain": [
       "<Figure size 576x576 with 4 Axes>"
      ]
     },
     "metadata": {
      "needs_background": "light"
     },
     "output_type": "display_data"
    }
   ],
   "source": [
    "show_confusion(4, 9)"
   ]
  },
  {
   "cell_type": "code",
   "execution_count": 220,
   "id": "initial-provincial",
   "metadata": {
    "ExecuteTime": {
     "end_time": "2021-02-22T12:54:36.224461Z",
     "start_time": "2021-02-22T12:54:35.701911Z"
    }
   },
   "outputs": [
    {
     "data": {
      "image/png": "[encoded data removed]",
      "text/plain": [
       "<Figure size 576x576 with 4 Axes>"
      ]
     },
     "metadata": {
      "needs_background": "light"
     },
     "output_type": "display_data"
    }
   ],
   "source": [
    "show_confusion(7, 1)"
   ]
  },
  {
   "cell_type": "markdown",
   "id": "ignored-centre",
   "metadata": {},
   "source": [
    "### 2. Data augmentation: write function to shift image ±1 pixel in both axes. Train on additional images, measure accuracy"
   ]
  },
  {
   "cell_type": "markdown",
   "id": "acting-stranger",
   "metadata": {},
   "source": [
    "Write function to shift an image by 1 pixel up/down/left/right, create 4 copies for each training image, add to training set, train classifier, measure accuracy."
   ]
  },
  {
   "cell_type": "code",
   "execution_count": 68,
   "id": "cosmetic-orleans",
   "metadata": {
    "ExecuteTime": {
     "end_time": "2021-02-23T11:21:42.211900Z",
     "start_time": "2021-02-23T11:21:42.206754Z"
    },
    "init_cell": true
   },
   "outputs": [],
   "source": [
    "from scipy.ndimage.interpolation import shift"
   ]
  },
  {
   "cell_type": "code",
   "execution_count": 236,
   "id": "elegant-lawrence",
   "metadata": {
    "ExecuteTime": {
     "end_time": "2021-02-22T13:17:37.902219Z",
     "start_time": "2021-02-22T13:17:37.178555Z"
    }
   },
   "outputs": [
    {
     "data": {
      "text/plain": [
       "<matplotlib.image.AxesImage at 0x13ae9bc10>"
      ]
     },
     "execution_count": 236,
     "metadata": {},
     "output_type": "execute_result"
    },
    {
     "data": {
      "image/png": "[encoded data removed]",
      "text/plain": [
       "<Figure size 576x1152 with 3 Axes>"
      ]
     },
     "metadata": {
      "needs_background": "light"
     },
     "output_type": "display_data"
    }
   ],
   "source": [
    "fig, ax = plt.subplots(1, 3, figsize=(8, 16))\n",
    "mat = X_train[some_digit].reshape(28, 28)\n",
    "ax[0].matshow(mat, cmap='gray')\n",
    "s = shift(mat, shift=[0, 1]) # shifts \"right\" by 1\n",
    "ax[1].matshow(s, cmap='gray')\n",
    "s2 = shift(mat, shift=[-1, 0]) # shifts \"down\" by 1\n",
    "ax[2].matshow(s2, cmap='gray')"
   ]
  },
  {
   "cell_type": "code",
   "execution_count": 248,
   "id": "polished-shell",
   "metadata": {
    "ExecuteTime": {
     "end_time": "2021-02-22T13:33:14.267613Z",
     "start_time": "2021-02-22T13:33:14.222168Z"
    }
   },
   "outputs": [
    {
     "data": {
      "text/plain": [
       "array([[ 0.00000000e+00, -2.67785991e-25,  1.46730832e-24,\n",
       "         6.80626191e-24, -5.68215121e-25,  8.70148838e-24,\n",
       "         1.51096198e-22, -4.98161460e-22,  1.77304454e-20,\n",
       "        -6.76724821e-20,  1.04555368e-19, -2.36499534e-19,\n",
       "         1.61269436e-18, -1.45327921e-18, -1.93958282e-17,\n",
       "        -2.88863534e-17, -4.03919080e-17, -4.11761977e-17,\n",
       "        -1.05536238e-17, -6.42996115e-18, -2.50688265e-17,\n",
       "        -3.33461508e-18,  1.66561927e-21, -2.41633772e-20,\n",
       "        -9.15589077e-23,  2.77145397e-21,  9.43613619e-22,\n",
       "         7.81538979e-23,  0.00000000e+00, -3.03519949e-25,\n",
       "         6.54685175e-25,  2.25001976e-23,  1.34337651e-22,\n",
       "        -1.89273887e-22,  3.18196253e-22,  1.07523729e-21,\n",
       "        -7.51356525e-20,  2.94857379e-19, -4.49651990e-19,\n",
       "         5.07168743e-22, -7.09210462e-18,  5.19002069e-18,\n",
       "         5.58657091e-17,  1.11742786e-16,  1.43129126e-16,\n",
       "         1.51768842e-16,  3.62895609e-17,  2.54749751e-17,\n",
       "         6.30079119e-17,  1.09284525e-17, -1.68459993e-19,\n",
       "        -6.11178468e-20, -4.20697652e-22,  2.13190258e-21,\n",
       "         8.92812401e-22, -1.18028687e-22,  0.00000000e+00,\n",
       "         6.54685175e-25, -2.43168779e-24, -8.35721626e-23,\n",
       "        -1.66205474e-22, -6.28034480e-22,  3.65831647e-21,\n",
       "        -1.56612489e-20,  2.45542715e-19, -1.24728231e-18,\n",
       "         1.16550403e-18, -1.55446273e-18,  2.53191562e-17,\n",
       "        -2.40772931e-17, -2.55241351e-16, -4.47575091e-16,\n",
       "        -4.69674550e-16, -5.96419461e-16, -1.63742553e-16,\n",
       "        -8.80973645e-17, -2.40081668e-16, -5.10721389e-17,\n",
       "        -5.74658144e-19,  8.22875161e-20, -1.53780677e-20,\n",
       "        -1.31519489e-20, -1.68259681e-21, -3.40575533e-22,\n",
       "         0.00000000e+00, -3.96958197e-24,  2.23069558e-23,\n",
       "        -5.88184054e-22,  1.05987984e-21, -6.19243414e-21,\n",
       "        -4.78706678e-21,  1.02227340e-19, -9.74797842e-19,\n",
       "         3.52875451e-18, -5.56761685e-18,  2.09737548e-18,\n",
       "        -8.84382488e-17,  6.77003848e-17,  1.04142753e-15,\n",
       "         1.49467689e-15,  2.20047497e-15,  1.83730785e-15,\n",
       "         4.87166928e-16,  3.26914483e-16,  8.86693577e-16,\n",
       "         1.71865795e-16,  1.43710051e-18,  4.55333920e-19,\n",
       "        -5.82966746e-21,  1.52181464e-20,  2.97883863e-21,\n",
       "        -2.40204857e-22,  0.00000000e+00, -1.83299704e-22,\n",
       "        -5.89721948e-22, -6.34186057e-22,  5.85367333e-22,\n",
       "        -2.03420081e-20, -2.51676308e-20, -1.22197568e-19,\n",
       "         4.73785083e-18, -1.95897892e-17,  1.02629417e-17,\n",
       "        -1.29065714e-17,  3.67898798e-16, -3.23052079e-16,\n",
       "        -3.87577429e-15, -4.82336528e-15, -6.90975207e-15,\n",
       "        -7.45710966e-15, -1.96707113e-15, -1.15711052e-15,\n",
       "        -3.62501440e-15, -6.35957360e-16,  5.07196665e-18,\n",
       "         1.11181410e-18,  2.92806622e-19,  4.79940862e-20,\n",
       "        -2.06089113e-20, -1.13382476e-21,  0.00000000e+00,\n",
       "        -1.03630683e-21, -6.28034480e-22, -6.19243414e-21,\n",
       "        -2.03420081e-20, -6.82935957e-20,  5.12033405e-19,\n",
       "         1.69722497e-19, -1.88439672e-17,  5.87842101e-17,\n",
       "        -8.31890454e-17,  7.03455917e-17, -1.51152648e-15,\n",
       "         1.05797448e-15,  1.28518462e-14,  1.96584078e-14,\n",
       "         2.91022693e-14,  2.71307080e-14,  6.39579464e-15,\n",
       "         5.16195045e-15,  1.39672476e-14,  2.82993064e-15,\n",
       "        -3.92890423e-17,  1.16894185e-18,  2.08720970e-18,\n",
       "        -2.47852073e-19, -7.93618710e-20, -2.42353745e-20,\n",
       "         0.00000000e+00,  1.15215349e-21, -6.21550255e-21,\n",
       "        -2.03358565e-20,  4.01250837e-20,  2.24658478e-20,\n",
       "         5.79119226e-19, -6.19454372e-18,  5.41581450e-17,\n",
       "        -1.57433815e-16,  2.79125153e-16, -1.36636811e-16,\n",
       "         5.58106261e-15,  2.32916183e-14,  2.22459064e-14,\n",
       "         2.44444717e-14,  2.66695289e-14,  1.20243707e-14,\n",
       "         2.06401579e-14,  2.50292520e-14,  1.97748038e-14,\n",
       "         1.71706896e-14, -1.13762170e-16, -1.84727469e-17,\n",
       "         6.37455467e-18,  4.55523227e-19,  2.05919256e-19,\n",
       "        -7.30253325e-20,  0.00000000e+00,  7.62922712e-21,\n",
       "        -4.76978824e-20,  3.40845036e-20, -1.42850241e-19,\n",
       "         2.27203994e-18, -4.03137135e-18,  3.84019894e-17,\n",
       "        -2.61517719e-16,  1.09743595e-15, -2.07285190e-15,\n",
       "         3.71930001e-15,  3.37220876e-14,  5.50000000e+01,\n",
       "         1.48000000e+02,  2.10000000e+02,  2.53000000e+02,\n",
       "         2.53000000e+02,  1.13000000e+02,  8.70000000e+01,\n",
       "         1.48000000e+02,  5.50000000e+01, -9.60548911e-16,\n",
       "        -2.30401904e-16,  8.49830080e-17,  2.57783037e-17,\n",
       "         4.89176376e-18,  4.07972908e-19,  0.00000000e+00,\n",
       "        -3.44665168e-20,  1.35762792e-19, -9.42265521e-19,\n",
       "         3.57908918e-18, -2.96575035e-18,  2.96608356e-17,\n",
       "        -1.23279993e-16,  1.10938072e-15, -5.08713783e-15,\n",
       "         1.13626981e-14,  4.86310403e-14,  8.70000000e+01,\n",
       "         2.32000000e+02,  2.52000000e+02,  2.53000000e+02,\n",
       "         1.89000000e+02,  2.10000000e+02,  2.52000000e+02,\n",
       "         2.52000000e+02,  2.53000000e+02,  1.68000000e+02,\n",
       "        -3.66797160e-15, -8.79603461e-16,  3.61983287e-16,\n",
       "         9.78041268e-17,  1.98363543e-17,  1.85223456e-18,\n",
       "         0.00000000e+00, -4.97133042e-20,  2.15626621e-19,\n",
       "        -1.02963361e-18, -1.95178390e-18, -1.02451890e-17,\n",
       "         2.90555819e-17, -1.69505017e-16, -3.58872920e-15,\n",
       "         9.90732906e-15,  4.00000000e+00,  5.70000000e+01,\n",
       "         2.42000000e+02,  2.52000000e+02,  1.90000000e+02,\n",
       "         6.50000000e+01,  5.00000000e+00,  1.20000000e+01,\n",
       "         1.82000000e+02,  2.52000000e+02,  2.53000000e+02,\n",
       "         1.16000000e+02, -1.96136475e-16, -4.16339188e-16,\n",
       "         1.85750347e-16, -2.26891172e-18, -1.90131022e-18,\n",
       "         9.83694795e-19,  0.00000000e+00, -1.47073014e-18,\n",
       "         1.24981208e-18, -1.22021356e-17,  2.84767720e-17,\n",
       "        -1.69359168e-16,  3.42217646e-16, -2.97436286e-15,\n",
       "         1.53562001e-14,  4.99625538e-14,  9.60000000e+01,\n",
       "         2.52000000e+02,  2.52000000e+02,  1.83000000e+02,\n",
       "         1.40000000e+01, -2.89758432e-15,  2.73339932e-14,\n",
       "         9.20000000e+01,  2.52000000e+02,  2.52000000e+02,\n",
       "         2.25000000e+02,  2.10000000e+01,  9.77682063e-16,\n",
       "         1.10343100e-16, -1.45116909e-16, -9.03861438e-18,\n",
       "         6.26080693e-18,  2.19304250e-18,  0.00000000e+00,\n",
       "         6.60653715e-19, -1.91195929e-17,  5.52178766e-17,\n",
       "        -2.32109574e-16,  6.92809180e-16, -3.14055750e-15,\n",
       "         1.22183607e-14,  5.04374650e-14,  1.32000000e+02,\n",
       "         2.53000000e+02,  2.52000000e+02,  1.46000000e+02,\n",
       "         1.40000000e+01, -7.29195860e-15,  4.56794030e-14,\n",
       "         5.13529958e-14,  2.15000000e+02,  2.52000000e+02,\n",
       "         2.52000000e+02,  7.90000000e+01, -7.94990179e-19,\n",
       "         1.13770370e-16,  8.06220820e-18, -3.49969003e-17,\n",
       "        -1.43147425e-18,  1.04099778e-18,  5.20089661e-19,\n",
       "         0.00000000e+00, -1.74438725e-17,  5.11615561e-17,\n",
       "        -2.00212778e-16,  7.42750663e-16, -2.96507890e-15,\n",
       "         1.08116098e-14,  2.41576004e-14,  1.26000000e+02,\n",
       "         2.53000000e+02,  2.47000000e+02,  1.76000000e+02,\n",
       "         9.00000000e+00,  1.82677446e-14,  2.91761592e-14,\n",
       "         8.00000000e+00,  7.80000000e+01,  2.45000000e+02,\n",
       "         2.53000000e+02,  1.29000000e+02, -6.66808788e-15,\n",
       "        -1.80416918e-15, -2.58150391e-16, -8.64204758e-17,\n",
       "        -2.23671993e-18,  8.24926066e-19, -1.19850961e-18,\n",
       "        -8.30932538e-20,  0.00000000e+00, -3.05028257e-17,\n",
       "         9.00013516e-17, -3.08685899e-16,  1.23841731e-15,\n",
       "        -4.58253330e-15,  2.38990927e-14,  1.60000000e+01,\n",
       "         2.32000000e+02,  2.52000000e+02,  1.76000000e+02,\n",
       "         4.11768396e-14,  3.00536455e-14,  4.47994447e-14,\n",
       "         3.60000000e+01,  2.01000000e+02,  2.52000000e+02,\n",
       "         2.52000000e+02,  1.69000000e+02,  1.10000000e+01,\n",
       "        -5.89776916e-15, -2.22920281e-16, -1.44625328e-16,\n",
       "        -6.82514898e-17, -1.99561096e-18, -1.66744103e-19,\n",
       "        -4.55340903e-19,  1.03035891e-19,  0.00000000e+00,\n",
       "        -2.06829005e-17,  7.76895637e-17, -2.63620821e-16,\n",
       "         1.20057305e-15, -3.94886539e-15,  2.55715748e-14,\n",
       "         2.20000000e+01,  2.52000000e+02,  2.52000000e+02,\n",
       "         3.00000000e+01,  2.20000000e+01,  1.19000000e+02,\n",
       "         1.97000000e+02,  2.41000000e+02,  2.53000000e+02,\n",
       "         2.52000000e+02,  2.51000000e+02,  7.70000000e+01,\n",
       "        -1.74752798e-15, -1.03476530e-15,  1.95988934e-17,\n",
       "        -3.52846324e-17, -1.15511955e-17,  8.24772662e-19,\n",
       "         1.21683075e-20, -1.14504371e-19,  3.92733618e-20,\n",
       "         0.00000000e+00, -2.26271092e-17,  8.43223434e-17,\n",
       "        -3.17589610e-16,  1.30573202e-15, -4.93309404e-15,\n",
       "         2.46287992e-14,  1.60000000e+01,  2.31000000e+02,\n",
       "         2.52000000e+02,  2.53000000e+02,  2.52000000e+02,\n",
       "         2.52000000e+02,  2.52000000e+02,  2.26000000e+02,\n",
       "         2.27000000e+02,  2.52000000e+02,  2.31000000e+02,\n",
       "        -8.42193159e-15, -4.86635211e-16, -2.34054980e-16,\n",
       "        -2.30731934e-16, -8.75006785e-19, -4.73937928e-18,\n",
       "         3.24423067e-18,  1.59456254e-20, -4.10070976e-20,\n",
       "         4.60152950e-20,  0.00000000e+00, -1.46480311e-18,\n",
       "         5.12318093e-18, -1.88923953e-17,  7.61926719e-17,\n",
       "        -4.11645744e-16,  4.84757211e-16,  2.28377344e-14,\n",
       "         5.50000000e+01,  2.35000000e+02,  2.53000000e+02,\n",
       "         2.17000000e+02,  1.38000000e+02,  4.20000000e+01,\n",
       "         2.40000000e+01,  1.92000000e+02,  2.52000000e+02,\n",
       "         1.43000000e+02, -3.72617990e-15, -7.64008426e-16,\n",
       "        -2.77754964e-17, -5.90350421e-17,  2.81888646e-18,\n",
       "        -1.35133014e-18,  6.61975251e-19, -2.46250007e-19,\n",
       "        -7.84688377e-20,  9.55394258e-21,  0.00000000e+00,\n",
       "        -7.63511047e-20, -6.20557351e-19, -1.50040137e-18,\n",
       "         2.82745524e-18,  6.67045344e-18, -3.29778862e-17,\n",
       "        -2.70463863e-16, -2.26281141e-15,  4.16755317e-16,\n",
       "        -6.71335752e-15,  5.67993127e-15,  1.55540033e-15,\n",
       "         2.40881098e-14,  6.20000000e+01,  2.55000000e+02,\n",
       "         2.53000000e+02,  1.09000000e+02, -1.37110015e-15,\n",
       "        -5.63429432e-16, -8.20189297e-18, -1.44362997e-17,\n",
       "         2.96832855e-18,  3.21256038e-18, -8.29475031e-19,\n",
       "        -3.21564860e-19, -1.04338882e-19,  2.00172544e-21,\n",
       "         0.00000000e+00, -1.62576187e-19, -2.36402274e-19,\n",
       "        -2.26738641e-19,  1.91585089e-18,  8.23005649e-18,\n",
       "         1.60311456e-17,  5.58406087e-17,  3.28126183e-16,\n",
       "         7.15936572e-16, -3.71314243e-15,  1.19857416e-15,\n",
       "         5.28058724e-15,  2.43828553e-14,  7.10000000e+01,\n",
       "         2.53000000e+02,  2.52000000e+02,  2.10000000e+01,\n",
       "        -3.12756804e-15,  3.31092713e-16,  2.24364095e-16,\n",
       "         5.96825085e-17,  2.68241953e-17,  6.12739334e-18,\n",
       "         2.47149729e-19,  2.61895570e-20, -4.06233493e-20,\n",
       "        -3.37380240e-20,  0.00000000e+00, -3.57726592e-20,\n",
       "         1.07761279e-20, -8.90705319e-20, -3.05766290e-20,\n",
       "         9.16108460e-19, -4.76434619e-18,  7.09597217e-17,\n",
       "         1.01208336e-16,  1.18837870e-15, -1.08793858e-15,\n",
       "         2.28661314e-15, -5.97831510e-15,  2.76943678e-14,\n",
       "         3.82107490e-14,  2.53000000e+02,  2.52000000e+02,\n",
       "         2.10000000e+01, -1.27775688e-15,  2.51871037e-16,\n",
       "         9.47786541e-17,  3.17990268e-17,  8.75220601e-18,\n",
       "         2.66233538e-18,  3.44484524e-19,  7.29185152e-20,\n",
       "        -2.20596975e-20, -1.07259884e-20,  0.00000000e+00,\n",
       "        -4.62528575e-21,  1.10083928e-20, -1.16064767e-19,\n",
       "        -1.95576562e-19, -1.13450806e-18,  8.89067443e-19,\n",
       "         5.00255417e-19, -4.08813678e-17,  1.80675088e-16,\n",
       "         2.39107301e-16, -7.16503501e-16,  3.43891986e-15,\n",
       "         2.49545534e-14,  7.10000000e+01,  2.53000000e+02,\n",
       "         2.52000000e+02,  2.10000000e+01, -3.24794699e-16,\n",
       "         5.16295757e-16, -7.75153917e-18,  1.53648116e-17,\n",
       "        -5.57147384e-18, -1.29172945e-18,  4.54477073e-20,\n",
       "         4.94533695e-20,  1.88955121e-20, -3.09816187e-22,\n",
       "         0.00000000e+00, -3.39033489e-21,  1.47858828e-20,\n",
       "        -6.39588278e-20,  2.20720638e-19, -7.41843725e-19,\n",
       "         3.37852307e-18, -8.85205284e-18,  3.10149124e-17,\n",
       "        -2.13728034e-16,  5.24696643e-16, -1.85133701e-15,\n",
       "         8.44445626e-15,  2.50325016e-14,  1.06000000e+02,\n",
       "         2.53000000e+02,  2.52000000e+02,  2.10000000e+01,\n",
       "        -7.52660421e-16,  4.03877881e-17,  4.73286662e-18,\n",
       "         3.34887435e-17,  6.16219753e-18,  7.88849572e-19,\n",
       "        -3.79704162e-19, -1.13677738e-19, -1.60640434e-21,\n",
       "         4.48335810e-21,  0.00000000e+00,  1.23494700e-21,\n",
       "        -1.38032126e-21,  5.76864568e-21, -3.90656958e-21,\n",
       "         1.29289278e-19, -1.99071434e-19,  1.97285886e-18,\n",
       "        -5.35088639e-18, -2.58173435e-18, -5.71255538e-17,\n",
       "         3.43357153e-16, -7.16057948e-16,  2.51826398e-14,\n",
       "         4.50000000e+01,  2.55000000e+02,  2.53000000e+02,\n",
       "         2.10000000e+01,  2.16092537e-15, -5.50479469e-16,\n",
       "         1.66404021e-16,  6.65504394e-17,  3.78542700e-18,\n",
       "        -3.70206913e-19, -6.55426202e-19,  8.65887132e-20,\n",
       "         2.03389936e-20, -2.19092756e-21,  0.00000000e+00,\n",
       "         3.07998399e-21, -1.09445775e-20,  4.12541914e-20,\n",
       "        -1.69345251e-19,  5.88057693e-19, -2.16945828e-18,\n",
       "         7.71630926e-18, -2.92203289e-17,  1.15540727e-16,\n",
       "        -4.39490202e-16,  1.69604187e-15, -5.71504746e-15,\n",
       "         2.19463439e-14,  1.77119231e-14,  2.18000000e+02,\n",
       "         2.52000000e+02,  5.60000000e+01,  1.31362306e-14,\n",
       "        -4.16669183e-16,  4.00652659e-17,  1.77674181e-17,\n",
       "         3.46527650e-18,  4.36754757e-19, -1.09769054e-19,\n",
       "         2.94265114e-20, -4.54886034e-21, -2.76074058e-21,\n",
       "         0.00000000e+00,  7.23834823e-22, -2.77550148e-21,\n",
       "         1.08149224e-20, -4.50369904e-20,  1.60015677e-19,\n",
       "        -5.49138182e-19,  2.05174463e-18, -8.06374790e-18,\n",
       "         2.86101394e-17, -1.17321036e-16,  4.60424681e-16,\n",
       "        -1.55410631e-15,  6.00018153e-15,  2.48461644e-14,\n",
       "         9.60000000e+01,  2.52000000e+02,  1.89000000e+02,\n",
       "         4.20000000e+01,  7.32390251e-15,  1.20545555e-17,\n",
       "         5.57505806e-17,  1.12738428e-17,  1.93641412e-18,\n",
       "        -4.79642180e-19, -7.20555104e-20, -3.17348806e-20,\n",
       "         2.95884433e-20,  0.00000000e+00, -2.29941866e-22,\n",
       "         1.62263875e-21, -5.16542599e-21,  2.23345528e-20,\n",
       "        -6.80262195e-20,  3.14526130e-19, -1.02143805e-18,\n",
       "         4.39474706e-18, -1.40129655e-17,  5.90472396e-17,\n",
       "        -2.03445851e-16,  6.67868264e-16, -2.76284043e-15,\n",
       "         1.83523145e-14,  1.40000000e+01,  1.84000000e+02,\n",
       "         2.52000000e+02,  1.70000000e+02,  1.10000000e+01,\n",
       "        -4.49331321e-16,  9.13611428e-17, -2.71355460e-17,\n",
       "        -1.33934600e-17, -2.55734081e-18,  1.43209389e-20,\n",
       "         8.43190889e-20,  8.20835747e-20,  0.00000000e+00,\n",
       "         1.00081682e-22, -1.36339993e-22,  5.97479524e-22,\n",
       "        -1.74403484e-21,  1.11432202e-20, -2.51259252e-20,\n",
       "         1.50910118e-19, -1.08651470e-19,  1.30042992e-18,\n",
       "        -3.67870543e-18,  2.80307304e-17, -1.32688750e-16,\n",
       "         4.37728136e-16, -1.05840097e-15,  1.09984561e-14,\n",
       "         1.40000000e+01,  1.47000000e+02,  2.52000000e+02,\n",
       "         4.20000000e+01, -1.91667984e-16, -4.22111244e-17,\n",
       "        -6.10253365e-17, -2.68051171e-17, -3.35629388e-18,\n",
       "         8.19543687e-19, -1.15004378e-19, -9.94870607e-20,\n",
       "         0.00000000e+00,  1.66870541e-24, -5.25269940e-24,\n",
       "         2.26508146e-23,  3.11696135e-22, -2.63583729e-22,\n",
       "        -5.70126484e-22, -2.33076548e-21, -2.80324876e-21,\n",
       "        -2.96052476e-19, -9.69691925e-20, -6.17414573e-19,\n",
       "        -5.27427948e-18, -1.50284075e-17, -1.88781845e-17,\n",
       "         6.54862420e-16,  1.85334313e-14,  2.49657644e-14,\n",
       "         4.70187851e-15,  5.62372073e-15,  1.05780231e-16,\n",
       "        -7.51723112e-17, -4.10133338e-17, -1.68629070e-17,\n",
       "         4.47444040e-20,  1.43209389e-20, -2.41011284e-20,\n",
       "        -2.63366426e-20]])"
      ]
     },
     "execution_count": 248,
     "metadata": {},
     "output_type": "execute_result"
    }
   ],
   "source": [
    "s.reshape(1, 784)"
   ]
  },
  {
   "cell_type": "code",
   "execution_count": 260,
   "id": "committed-whale",
   "metadata": {
    "ExecuteTime": {
     "end_time": "2021-02-22T14:05:23.361165Z",
     "start_time": "2021-02-22T14:05:23.318438Z"
    }
   },
   "outputs": [],
   "source": [
    "def generate_augment(mat, dx, dy):\n",
    "    return shift(mat.reshape((28, 28)), shift=[dx, dy]).reshape(-1)\n"
   ]
  },
  {
   "cell_type": "code",
   "execution_count": 252,
   "id": "elect-camera",
   "metadata": {
    "ExecuteTime": {
     "end_time": "2021-02-22T13:34:45.538780Z",
     "start_time": "2021-02-22T13:34:45.531120Z"
    }
   },
   "outputs": [
    {
     "data": {
      "text/plain": [
       "(4, 784)"
      ]
     },
     "execution_count": 252,
     "metadata": {},
     "output_type": "execute_result"
    }
   ],
   "source": [
    "X_train[:4].shape"
   ]
  },
  {
   "cell_type": "code",
   "execution_count": 262,
   "id": "unlikely-drill",
   "metadata": {
    "ExecuteTime": {
     "end_time": "2021-02-22T14:07:12.375421Z",
     "start_time": "2021-02-22T14:05:45.131717Z"
    }
   },
   "outputs": [],
   "source": [
    "# unpack images and labels, no easy numpy way to do it\n",
    "images_train = [x for x in X_train]\n",
    "labels_train = [y for y in y_train]\n",
    "\n",
    "images_aug = []\n",
    "labels_aug = []\n",
    "for img, lab in zip(images_train, labels_train):\n",
    "    for (dx, dy) in [(1, 0), (-1, 0), (0, 1), (0, -1)]:\n",
    "        images_aug.append(generate_augment(img, dy, dy))\n",
    "        labels_aug.append(lab)\n"
   ]
  },
  {
   "cell_type": "code",
   "execution_count": 263,
   "id": "technical-electronics",
   "metadata": {
    "ExecuteTime": {
     "end_time": "2021-02-22T14:07:12.436868Z",
     "start_time": "2021-02-22T14:07:12.390139Z"
    }
   },
   "outputs": [
    {
     "data": {
      "text/plain": [
       "240000"
      ]
     },
     "execution_count": 263,
     "metadata": {},
     "output_type": "execute_result"
    }
   ],
   "source": [
    "len(images_aug)"
   ]
  },
  {
   "cell_type": "code",
   "execution_count": 264,
   "id": "medium-gambling",
   "metadata": {
    "ExecuteTime": {
     "end_time": "2021-02-22T14:08:20.954848Z",
     "start_time": "2021-02-22T14:07:51.221396Z"
    }
   },
   "outputs": [],
   "source": [
    "# convert back to numpy arrays\n",
    "images_train_aug = np.array(images_aug)\n",
    "labels_train_aug = np.array(labels_aug)"
   ]
  },
  {
   "cell_type": "code",
   "execution_count": 265,
   "id": "banner-arrest",
   "metadata": {
    "ExecuteTime": {
     "end_time": "2021-02-22T14:08:21.099778Z",
     "start_time": "2021-02-22T14:08:20.996483Z"
    }
   },
   "outputs": [
    {
     "data": {
      "text/plain": [
       "(240000, 784)"
      ]
     },
     "execution_count": 265,
     "metadata": {},
     "output_type": "execute_result"
    }
   ],
   "source": [
    "images_train_aug.shape"
   ]
  },
  {
   "cell_type": "code",
   "execution_count": 266,
   "id": "elect-prediction",
   "metadata": {
    "ExecuteTime": {
     "end_time": "2021-02-22T14:11:00.536904Z",
     "start_time": "2021-02-22T14:11:00.400431Z"
    }
   },
   "outputs": [],
   "source": [
    "# shuffle new augments - need indices to get order same in labels & data\n",
    "shuffle_ind = np.random.permutation(len(images_aug))"
   ]
  },
  {
   "cell_type": "code",
   "execution_count": null,
   "id": "interracial-enclosure",
   "metadata": {
    "ExecuteTime": {
     "start_time": "2021-02-22T14:11:29.004Z"
    }
   },
   "outputs": [],
   "source": [
    "# this will consume mega memory\n",
    "images_train_aug = images_train_aug[shuffle_ind]\n",
    "labels_train_aug = labels_train_aug[shuffle_ind]"
   ]
  },
  {
   "cell_type": "code",
   "execution_count": null,
   "id": "environmental-concord",
   "metadata": {},
   "outputs": [],
   "source": []
  },
  {
   "cell_type": "markdown",
   "id": "fatal-rainbow",
   "metadata": {},
   "source": [
    "### 3. Tackle Titanic dataset from Kaggle"
   ]
  },
  {
   "cell_type": "code",
   "execution_count": 69,
   "id": "fundamental-anxiety",
   "metadata": {
    "ExecuteTime": {
     "end_time": "2021-02-23T11:24:55.446710Z",
     "start_time": "2021-02-23T11:24:55.433292Z"
    },
    "init_cell": true
   },
   "outputs": [],
   "source": [
    "import os\n",
    "from pathlib import Path"
   ]
  },
  {
   "cell_type": "code",
   "execution_count": 70,
   "id": "eastern-support",
   "metadata": {
    "ExecuteTime": {
     "end_time": "2021-02-23T11:25:18.520692Z",
     "start_time": "2021-02-23T11:25:18.506709Z"
    }
   },
   "outputs": [],
   "source": [
    "dataset_dir = Path('datasets/titanic/')"
   ]
  },
  {
   "cell_type": "code",
   "execution_count": 72,
   "id": "popular-small",
   "metadata": {
    "ExecuteTime": {
     "end_time": "2021-02-23T11:28:31.813357Z",
     "start_time": "2021-02-23T11:28:31.794190Z"
    }
   },
   "outputs": [
    {
     "data": {
      "text/plain": [
       "[PosixPath('datasets/titanic/gender_submission.csv'),\n",
       " PosixPath('datasets/titanic/test.csv'),\n",
       " PosixPath('datasets/titanic/train.csv')]"
      ]
     },
     "execution_count": 72,
     "metadata": {},
     "output_type": "execute_result"
    }
   ],
   "source": [
    "list(dataset_dir.glob('*'))"
   ]
  },
  {
   "cell_type": "code",
   "execution_count": 74,
   "id": "worthy-architect",
   "metadata": {
    "ExecuteTime": {
     "end_time": "2021-02-23T14:49:23.620436Z",
     "start_time": "2021-02-23T14:49:23.606891Z"
    },
    "init_cell": true
   },
   "outputs": [],
   "source": [
    "import pandas as pd"
   ]
  },
  {
   "cell_type": "code",
   "execution_count": 76,
   "id": "brazilian-distribution",
   "metadata": {
    "ExecuteTime": {
     "end_time": "2021-02-23T14:49:40.585169Z",
     "start_time": "2021-02-23T14:49:40.244826Z"
    }
   },
   "outputs": [],
   "source": [
    "df_train = pd.read_csv(dataset_dir / 'train.csv')"
   ]
  },
  {
   "cell_type": "code",
   "execution_count": 77,
   "id": "local-copying",
   "metadata": {
    "ExecuteTime": {
     "end_time": "2021-02-23T14:49:46.307675Z",
     "start_time": "2021-02-23T14:49:46.197894Z"
    }
   },
   "outputs": [
    {
     "data": {
      "text/html": [
       "<div>\n",
       "<style scoped>\n",
       "    .dataframe tbody tr th:only-of-type {\n",
       "        vertical-align: middle;\n",
       "    }\n",
       "\n",
       "    .dataframe tbody tr th {\n",
       "        vertical-align: top;\n",
       "    }\n",
       "\n",
       "    .dataframe thead th {\n",
       "        text-align: right;\n",
       "    }\n",
       "</style>\n",
       "<table border=\"1\" class=\"dataframe\">\n",
       "  <thead>\n",
       "    <tr style=\"text-align: right;\">\n",
       "      <th></th>\n",
       "      <th>PassengerId</th>\n",
       "      <th>Survived</th>\n",
       "      <th>Pclass</th>\n",
       "      <th>Name</th>\n",
       "      <th>Sex</th>\n",
       "      <th>Age</th>\n",
       "      <th>SibSp</th>\n",
       "      <th>Parch</th>\n",
       "      <th>Ticket</th>\n",
       "      <th>Fare</th>\n",
       "      <th>Cabin</th>\n",
       "      <th>Embarked</th>\n",
       "    </tr>\n",
       "  </thead>\n",
       "  <tbody>\n",
       "    <tr>\n",
       "      <th>0</th>\n",
       "      <td>1</td>\n",
       "      <td>0</td>\n",
       "      <td>3</td>\n",
       "      <td>Braund, Mr. Owen Harris</td>\n",
       "      <td>male</td>\n",
       "      <td>22.0</td>\n",
       "      <td>1</td>\n",
       "      <td>0</td>\n",
       "      <td>A/5 21171</td>\n",
       "      <td>7.2500</td>\n",
       "      <td>NaN</td>\n",
       "      <td>S</td>\n",
       "    </tr>\n",
       "    <tr>\n",
       "      <th>1</th>\n",
       "      <td>2</td>\n",
       "      <td>1</td>\n",
       "      <td>1</td>\n",
       "      <td>Cumings, Mrs. John Bradley (Florence Briggs Th...</td>\n",
       "      <td>female</td>\n",
       "      <td>38.0</td>\n",
       "      <td>1</td>\n",
       "      <td>0</td>\n",
       "      <td>PC 17599</td>\n",
       "      <td>71.2833</td>\n",
       "      <td>C85</td>\n",
       "      <td>C</td>\n",
       "    </tr>\n",
       "    <tr>\n",
       "      <th>2</th>\n",
       "      <td>3</td>\n",
       "      <td>1</td>\n",
       "      <td>3</td>\n",
       "      <td>Heikkinen, Miss. Laina</td>\n",
       "      <td>female</td>\n",
       "      <td>26.0</td>\n",
       "      <td>0</td>\n",
       "      <td>0</td>\n",
       "      <td>STON/O2. 3101282</td>\n",
       "      <td>7.9250</td>\n",
       "      <td>NaN</td>\n",
       "      <td>S</td>\n",
       "    </tr>\n",
       "    <tr>\n",
       "      <th>3</th>\n",
       "      <td>4</td>\n",
       "      <td>1</td>\n",
       "      <td>1</td>\n",
       "      <td>Futrelle, Mrs. Jacques Heath (Lily May Peel)</td>\n",
       "      <td>female</td>\n",
       "      <td>35.0</td>\n",
       "      <td>1</td>\n",
       "      <td>0</td>\n",
       "      <td>113803</td>\n",
       "      <td>53.1000</td>\n",
       "      <td>C123</td>\n",
       "      <td>S</td>\n",
       "    </tr>\n",
       "    <tr>\n",
       "      <th>4</th>\n",
       "      <td>5</td>\n",
       "      <td>0</td>\n",
       "      <td>3</td>\n",
       "      <td>Allen, Mr. William Henry</td>\n",
       "      <td>male</td>\n",
       "      <td>35.0</td>\n",
       "      <td>0</td>\n",
       "      <td>0</td>\n",
       "      <td>373450</td>\n",
       "      <td>8.0500</td>\n",
       "      <td>NaN</td>\n",
       "      <td>S</td>\n",
       "    </tr>\n",
       "    <tr>\n",
       "      <th>...</th>\n",
       "      <td>...</td>\n",
       "      <td>...</td>\n",
       "      <td>...</td>\n",
       "      <td>...</td>\n",
       "      <td>...</td>\n",
       "      <td>...</td>\n",
       "      <td>...</td>\n",
       "      <td>...</td>\n",
       "      <td>...</td>\n",
       "      <td>...</td>\n",
       "      <td>...</td>\n",
       "      <td>...</td>\n",
       "    </tr>\n",
       "    <tr>\n",
       "      <th>886</th>\n",
       "      <td>887</td>\n",
       "      <td>0</td>\n",
       "      <td>2</td>\n",
       "      <td>Montvila, Rev. Juozas</td>\n",
       "      <td>male</td>\n",
       "      <td>27.0</td>\n",
       "      <td>0</td>\n",
       "      <td>0</td>\n",
       "      <td>211536</td>\n",
       "      <td>13.0000</td>\n",
       "      <td>NaN</td>\n",
       "      <td>S</td>\n",
       "    </tr>\n",
       "    <tr>\n",
       "      <th>887</th>\n",
       "      <td>888</td>\n",
       "      <td>1</td>\n",
       "      <td>1</td>\n",
       "      <td>Graham, Miss. Margaret Edith</td>\n",
       "      <td>female</td>\n",
       "      <td>19.0</td>\n",
       "      <td>0</td>\n",
       "      <td>0</td>\n",
       "      <td>112053</td>\n",
       "      <td>30.0000</td>\n",
       "      <td>B42</td>\n",
       "      <td>S</td>\n",
       "    </tr>\n",
       "    <tr>\n",
       "      <th>888</th>\n",
       "      <td>889</td>\n",
       "      <td>0</td>\n",
       "      <td>3</td>\n",
       "      <td>Johnston, Miss. Catherine Helen \"Carrie\"</td>\n",
       "      <td>female</td>\n",
       "      <td>NaN</td>\n",
       "      <td>1</td>\n",
       "      <td>2</td>\n",
       "      <td>W./C. 6607</td>\n",
       "      <td>23.4500</td>\n",
       "      <td>NaN</td>\n",
       "      <td>S</td>\n",
       "    </tr>\n",
       "    <tr>\n",
       "      <th>889</th>\n",
       "      <td>890</td>\n",
       "      <td>1</td>\n",
       "      <td>1</td>\n",
       "      <td>Behr, Mr. Karl Howell</td>\n",
       "      <td>male</td>\n",
       "      <td>26.0</td>\n",
       "      <td>0</td>\n",
       "      <td>0</td>\n",
       "      <td>111369</td>\n",
       "      <td>30.0000</td>\n",
       "      <td>C148</td>\n",
       "      <td>C</td>\n",
       "    </tr>\n",
       "    <tr>\n",
       "      <th>890</th>\n",
       "      <td>891</td>\n",
       "      <td>0</td>\n",
       "      <td>3</td>\n",
       "      <td>Dooley, Mr. Patrick</td>\n",
       "      <td>male</td>\n",
       "      <td>32.0</td>\n",
       "      <td>0</td>\n",
       "      <td>0</td>\n",
       "      <td>370376</td>\n",
       "      <td>7.7500</td>\n",
       "      <td>NaN</td>\n",
       "      <td>Q</td>\n",
       "    </tr>\n",
       "  </tbody>\n",
       "</table>\n",
       "<p>891 rows × 12 columns</p>\n",
       "</div>"
      ],
      "text/plain": [
       "     PassengerId  Survived  Pclass  \\\n",
       "0              1         0       3   \n",
       "1              2         1       1   \n",
       "2              3         1       3   \n",
       "3              4         1       1   \n",
       "4              5         0       3   \n",
       "..           ...       ...     ...   \n",
       "886          887         0       2   \n",
       "887          888         1       1   \n",
       "888          889         0       3   \n",
       "889          890         1       1   \n",
       "890          891         0       3   \n",
       "\n",
       "                                                  Name     Sex   Age  SibSp  \\\n",
       "0                              Braund, Mr. Owen Harris    male  22.0      1   \n",
       "1    Cumings, Mrs. John Bradley (Florence Briggs Th...  female  38.0      1   \n",
       "2                               Heikkinen, Miss. Laina  female  26.0      0   \n",
       "3         Futrelle, Mrs. Jacques Heath (Lily May Peel)  female  35.0      1   \n",
       "4                             Allen, Mr. William Henry    male  35.0      0   \n",
       "..                                                 ...     ...   ...    ...   \n",
       "886                              Montvila, Rev. Juozas    male  27.0      0   \n",
       "887                       Graham, Miss. Margaret Edith  female  19.0      0   \n",
       "888           Johnston, Miss. Catherine Helen \"Carrie\"  female   NaN      1   \n",
       "889                              Behr, Mr. Karl Howell    male  26.0      0   \n",
       "890                                Dooley, Mr. Patrick    male  32.0      0   \n",
       "\n",
       "     Parch            Ticket     Fare Cabin Embarked  \n",
       "0        0         A/5 21171   7.2500   NaN        S  \n",
       "1        0          PC 17599  71.2833   C85        C  \n",
       "2        0  STON/O2. 3101282   7.9250   NaN        S  \n",
       "3        0            113803  53.1000  C123        S  \n",
       "4        0            373450   8.0500   NaN        S  \n",
       "..     ...               ...      ...   ...      ...  \n",
       "886      0            211536  13.0000   NaN        S  \n",
       "887      0            112053  30.0000   B42        S  \n",
       "888      2        W./C. 6607  23.4500   NaN        S  \n",
       "889      0            111369  30.0000  C148        C  \n",
       "890      0            370376   7.7500   NaN        Q  \n",
       "\n",
       "[891 rows x 12 columns]"
      ]
     },
     "execution_count": 77,
     "metadata": {},
     "output_type": "execute_result"
    }
   ],
   "source": [
    "df_train"
   ]
  },
  {
   "cell_type": "code",
   "execution_count": 78,
   "id": "indonesian-samuel",
   "metadata": {
    "ExecuteTime": {
     "end_time": "2021-02-23T14:49:55.985082Z",
     "start_time": "2021-02-23T14:49:55.973535Z"
    }
   },
   "outputs": [
    {
     "data": {
      "text/plain": [
       "PassengerId      int64\n",
       "Survived         int64\n",
       "Pclass           int64\n",
       "Name            object\n",
       "Sex             object\n",
       "Age            float64\n",
       "SibSp            int64\n",
       "Parch            int64\n",
       "Ticket          object\n",
       "Fare           float64\n",
       "Cabin           object\n",
       "Embarked        object\n",
       "dtype: object"
      ]
     },
     "execution_count": 78,
     "metadata": {},
     "output_type": "execute_result"
    }
   ],
   "source": [
    "df_train.dtypes"
   ]
  },
  {
   "cell_type": "markdown",
   "id": "mobile-minutes",
   "metadata": {},
   "source": [
    "### 4. Build spam classifier"
   ]
  },
  {
   "cell_type": "code",
   "execution_count": null,
   "id": "valid-spiritual",
   "metadata": {},
   "outputs": [],
   "source": []
  }
 ],
 "metadata": {
  "celltoolbar": "Initialization Cell",
  "kernelspec": {
   "display_name": "Python 3",
   "language": "python",
   "name": "python3"
  },
  "language_info": {
   "codemirror_mode": {
    "name": "ipython",
    "version": 3
   },
   "file_extension": ".py",
   "mimetype": "text/x-python",
   "name": "python",
   "nbconvert_exporter": "python",
   "pygments_lexer": "ipython3",
   "version": "3.7.5"
  },
  "toc": {
   "base_numbering": "3",
   "nav_menu": {},
   "number_sections": true,
   "sideBar": true,
   "skip_h1_title": false,
   "title_cell": "Table of Contents",
   "title_sidebar": "Contents",
   "toc_cell": false,
   "toc_position": {},
   "toc_section_display": true,
   "toc_window_display": false
  }
 },
 "nbformat": 4,
 "nbformat_minor": 5
}
